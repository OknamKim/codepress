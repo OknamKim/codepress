{
  "nbformat": 4,
  "nbformat_minor": 0,
  "metadata": {
    "kernelspec": {
      "display_name": "Python 3",
      "language": "python",
      "name": "python3"
    },
    "language_info": {
      "codemirror_mode": {
        "name": "ipython",
        "version": 3
      },
      "file_extension": ".py",
      "mimetype": "text/x-python",
      "name": "python",
      "nbconvert_exporter": "python",
      "pygments_lexer": "ipython3",
      "version": "3.7.4"
    },
    "colab": {
      "name": "3_Pandas_[Colab](Quiz포함).ipynb",
      "provenance": [],
      "collapsed_sections": [],
      "include_colab_link": true
    }
  },
  "cells": [
    {
      "cell_type": "markdown",
      "metadata": {
        "id": "view-in-github",
        "colab_type": "text"
      },
      "source": [
        "<a href=\"https://colab.research.google.com/github/OknamKim/codepress/blob/master/3_Pandas_%5BColab%5D(Quiz%ED%8F%AC%ED%95%A8).ipynb\" target=\"_parent\"><img src=\"https://colab.research.google.com/assets/colab-badge.svg\" alt=\"Open In Colab\"/></a>"
      ]
    },
    {
      "cell_type": "markdown",
      "metadata": {
        "id": "7K5KtoliO3mU",
        "colab_type": "text"
      },
      "source": [
        "## 3. Pandas"
      ]
    },
    {
      "cell_type": "code",
      "metadata": {
        "id": "tq_Rv8xHO3mW",
        "colab_type": "code",
        "colab": {}
      },
      "source": [
        "import pandas as pd"
      ],
      "execution_count": 0,
      "outputs": []
    },
    {
      "cell_type": "code",
      "metadata": {
        "id": "wfxVKBspO3ma",
        "colab_type": "code",
        "outputId": "301eb20c-1565-4820-d611-f0dd9a377d57",
        "colab": {
          "base_uri": "https://localhost:8080/",
          "height": 110
        }
      },
      "source": [
        "data = ['2016', '2017', '2018', '2019']\n",
        "result = pd.Series(data)\n",
        "result"
      ],
      "execution_count": 0,
      "outputs": [
        {
          "output_type": "execute_result",
          "data": {
            "text/plain": [
              "0    2016\n",
              "1    2017\n",
              "2    2018\n",
              "3    2019\n",
              "dtype: object"
            ]
          },
          "metadata": {
            "tags": []
          },
          "execution_count": 2
        }
      ]
    },
    {
      "cell_type": "code",
      "metadata": {
        "id": "TLxfM5YvO3me",
        "colab_type": "code",
        "outputId": "cd4e9910-589e-4f82-9596-f7c9331f2064",
        "colab": {
          "base_uri": "https://localhost:8080/",
          "height": 36
        }
      },
      "source": [
        "result.index"
      ],
      "execution_count": 0,
      "outputs": [
        {
          "output_type": "execute_result",
          "data": {
            "text/plain": [
              "RangeIndex(start=0, stop=4, step=1)"
            ]
          },
          "metadata": {
            "tags": []
          },
          "execution_count": 3
        }
      ]
    },
    {
      "cell_type": "code",
      "metadata": {
        "id": "N51oHUWJO3mg",
        "colab_type": "code",
        "outputId": "6dc6705b-0a39-4344-8bb5-73deb81ae66d",
        "colab": {
          "base_uri": "https://localhost:8080/",
          "height": 36
        }
      },
      "source": [
        "result.values"
      ],
      "execution_count": 0,
      "outputs": [
        {
          "output_type": "execute_result",
          "data": {
            "text/plain": [
              "array(['2016', '2017', '2018', '2019'], dtype=object)"
            ]
          },
          "metadata": {
            "tags": []
          },
          "execution_count": 4
        }
      ]
    },
    {
      "cell_type": "code",
      "metadata": {
        "id": "6TWhFhd0O3mi",
        "colab_type": "code",
        "outputId": "01918321-953d-4c42-8476-c28ed9ef1187",
        "colab": {
          "base_uri": "https://localhost:8080/",
          "height": 110
        }
      },
      "source": [
        "result.name = 'Year'\n",
        "result"
      ],
      "execution_count": 0,
      "outputs": [
        {
          "output_type": "execute_result",
          "data": {
            "text/plain": [
              "0    2016\n",
              "1    2017\n",
              "2    2018\n",
              "3    2019\n",
              "Name: Year, dtype: object"
            ]
          },
          "metadata": {
            "tags": []
          },
          "execution_count": 5
        }
      ]
    },
    {
      "cell_type": "code",
      "metadata": {
        "id": "EuRGhskdO3mk",
        "colab_type": "code",
        "outputId": "5ab02c11-7207-4f50-e06f-842a6d44c3a0",
        "colab": {
          "base_uri": "https://localhost:8080/",
          "height": 128
        }
      },
      "source": [
        "result.index.name = 'No'\n",
        "result"
      ],
      "execution_count": 0,
      "outputs": [
        {
          "output_type": "execute_result",
          "data": {
            "text/plain": [
              "No\n",
              "0    2016\n",
              "1    2017\n",
              "2    2018\n",
              "3    2019\n",
              "Name: Year, dtype: object"
            ]
          },
          "metadata": {
            "tags": []
          },
          "execution_count": 6
        }
      ]
    },
    {
      "cell_type": "code",
      "metadata": {
        "id": "8Ccn1cZeO3mm",
        "colab_type": "code",
        "outputId": "16560db2-6029-4055-82f4-1ecdabcc5a38",
        "colab": {
          "base_uri": "https://localhost:8080/",
          "height": 110
        }
      },
      "source": [
        "data = ['2016', '2017', '2018', '2019']\n",
        "result = pd.Series(data, index = ['a', 'b', 'c', 'd'])\n",
        "result"
      ],
      "execution_count": 0,
      "outputs": [
        {
          "output_type": "execute_result",
          "data": {
            "text/plain": [
              "a    2016\n",
              "b    2017\n",
              "c    2018\n",
              "d    2019\n",
              "dtype: object"
            ]
          },
          "metadata": {
            "tags": []
          },
          "execution_count": 7
        }
      ]
    },
    {
      "cell_type": "code",
      "metadata": {
        "id": "YeiZoIH4O3mo",
        "colab_type": "code",
        "outputId": "aafff53c-d9c7-4b14-9084-2f511ebc1c3d",
        "colab": {
          "base_uri": "https://localhost:8080/",
          "height": 36
        }
      },
      "source": [
        "result.index"
      ],
      "execution_count": 0,
      "outputs": [
        {
          "output_type": "execute_result",
          "data": {
            "text/plain": [
              "Index(['a', 'b', 'c', 'd'], dtype='object')"
            ]
          },
          "metadata": {
            "tags": []
          },
          "execution_count": 8
        }
      ]
    },
    {
      "cell_type": "markdown",
      "metadata": {
        "id": "n7jiVUWhO3mq",
        "colab_type": "text"
      },
      "source": [
        "### Quiz"
      ]
    },
    {
      "cell_type": "code",
      "metadata": {
        "id": "AK2btXmKO3ms",
        "colab_type": "code",
        "outputId": "63505cbc-9a27-43e4-d4e2-3213a32fca87",
        "colab": {
          "base_uri": "https://localhost:8080/",
          "height": 128
        }
      },
      "source": [
        "data = ['apple', 'kiwi', 'orange', 'banana', 'melon']\n",
        "fruit = pd.Series(data)\n",
        "fruit"
      ],
      "execution_count": 0,
      "outputs": [
        {
          "output_type": "execute_result",
          "data": {
            "text/plain": [
              "0     apple\n",
              "1      kiwi\n",
              "2    orange\n",
              "3    banana\n",
              "4     melon\n",
              "dtype: object"
            ]
          },
          "metadata": {
            "tags": []
          },
          "execution_count": 9
        }
      ]
    },
    {
      "cell_type": "code",
      "metadata": {
        "id": "Evwof1dCO3mu",
        "colab_type": "code",
        "outputId": "e43cc09f-64a3-4723-bc51-5e89298eccfc",
        "colab": {
          "base_uri": "https://localhost:8080/",
          "height": 36
        }
      },
      "source": [
        "fruit.index"
      ],
      "execution_count": 0,
      "outputs": [
        {
          "output_type": "execute_result",
          "data": {
            "text/plain": [
              "RangeIndex(start=0, stop=5, step=1)"
            ]
          },
          "metadata": {
            "tags": []
          },
          "execution_count": 10
        }
      ]
    },
    {
      "cell_type": "code",
      "metadata": {
        "id": "hhfXVIchO3mw",
        "colab_type": "code",
        "outputId": "e94fe857-227f-458d-9d0f-5e784f0860df",
        "colab": {
          "base_uri": "https://localhost:8080/",
          "height": 36
        }
      },
      "source": [
        "fruit.values"
      ],
      "execution_count": 0,
      "outputs": [
        {
          "output_type": "execute_result",
          "data": {
            "text/plain": [
              "array(['apple', 'kiwi', 'orange', 'banana', 'melon'], dtype=object)"
            ]
          },
          "metadata": {
            "tags": []
          },
          "execution_count": 11
        }
      ]
    },
    {
      "cell_type": "code",
      "metadata": {
        "id": "vF7bjLrfO3my",
        "colab_type": "code",
        "outputId": "9fb2bd27-2256-426c-9d02-d62c12949a40",
        "colab": {
          "base_uri": "https://localhost:8080/",
          "height": 147
        }
      },
      "source": [
        "fruit.index.name = 'Num'\n",
        "fruit"
      ],
      "execution_count": 0,
      "outputs": [
        {
          "output_type": "execute_result",
          "data": {
            "text/plain": [
              "Num\n",
              "0     apple\n",
              "1      kiwi\n",
              "2    orange\n",
              "3    banana\n",
              "4     melon\n",
              "dtype: object"
            ]
          },
          "metadata": {
            "tags": []
          },
          "execution_count": 12
        }
      ]
    },
    {
      "cell_type": "code",
      "metadata": {
        "id": "PhVHmRnaO3m1",
        "colab_type": "code",
        "outputId": "56aa3734-6148-4255-fcde-614e52f4e168",
        "colab": {
          "base_uri": "https://localhost:8080/",
          "height": 128
        }
      },
      "source": [
        "fruit.index = ['a', 'b', 'c', 'd', 'e']\n",
        "fruit"
      ],
      "execution_count": 0,
      "outputs": [
        {
          "output_type": "execute_result",
          "data": {
            "text/plain": [
              "a     apple\n",
              "b      kiwi\n",
              "c    orange\n",
              "d    banana\n",
              "e     melon\n",
              "dtype: object"
            ]
          },
          "metadata": {
            "tags": []
          },
          "execution_count": 13
        }
      ]
    },
    {
      "cell_type": "code",
      "metadata": {
        "id": "QEgxNx7kO3m2",
        "colab_type": "code",
        "outputId": "fe2e1c74-cbc7-4fbe-80d6-ed7588e43e65",
        "colab": {
          "base_uri": "https://localhost:8080/",
          "height": 128
        }
      },
      "source": [
        "fruit2 = pd.Series(data, index = [1, 2, 3, 4, 5])\n",
        "fruit2"
      ],
      "execution_count": 0,
      "outputs": [
        {
          "output_type": "execute_result",
          "data": {
            "text/plain": [
              "1     apple\n",
              "2      kiwi\n",
              "3    orange\n",
              "4    banana\n",
              "5     melon\n",
              "dtype: object"
            ]
          },
          "metadata": {
            "tags": []
          },
          "execution_count": 14
        }
      ]
    },
    {
      "cell_type": "code",
      "metadata": {
        "id": "6EprFENaO3m5",
        "colab_type": "code",
        "outputId": "2ec54a49-3f24-434c-895c-e571df8557c1",
        "colab": {
          "base_uri": "https://localhost:8080/",
          "height": 110
        }
      },
      "source": [
        "score = {'Kim':85, 'Hwang':100, 'Lee':99, 'Choi':80}\n",
        "result = pd.Series(score)\n",
        "result"
      ],
      "execution_count": 0,
      "outputs": [
        {
          "output_type": "execute_result",
          "data": {
            "text/plain": [
              "Kim       85\n",
              "Hwang    100\n",
              "Lee       99\n",
              "Choi      80\n",
              "dtype: int64"
            ]
          },
          "metadata": {
            "tags": []
          },
          "execution_count": 15
        }
      ]
    },
    {
      "cell_type": "code",
      "metadata": {
        "id": "XzMK0bFUO3m7",
        "colab_type": "code",
        "outputId": "81b3fb79-a02b-49d7-ee9b-f4c82f1e56c8",
        "colab": {
          "base_uri": "https://localhost:8080/",
          "height": 36
        }
      },
      "source": [
        "result.index"
      ],
      "execution_count": 0,
      "outputs": [
        {
          "output_type": "execute_result",
          "data": {
            "text/plain": [
              "Index(['Kim', 'Hwang', 'Lee', 'Choi'], dtype='object')"
            ]
          },
          "metadata": {
            "tags": []
          },
          "execution_count": 16
        }
      ]
    },
    {
      "cell_type": "code",
      "metadata": {
        "id": "m2Jfhg9sO3m-",
        "colab_type": "code",
        "outputId": "aa6cd033-95dc-47c2-e135-4547a8db8450",
        "colab": {
          "base_uri": "https://localhost:8080/",
          "height": 36
        }
      },
      "source": [
        "result.values"
      ],
      "execution_count": 0,
      "outputs": [
        {
          "output_type": "execute_result",
          "data": {
            "text/plain": [
              "array([ 85, 100,  99,  80])"
            ]
          },
          "metadata": {
            "tags": []
          },
          "execution_count": 17
        }
      ]
    },
    {
      "cell_type": "code",
      "metadata": {
        "id": "SR4TbZK0O3nA",
        "colab_type": "code",
        "colab": {}
      },
      "source": [
        "result['Lee'] = 100"
      ],
      "execution_count": 0,
      "outputs": []
    },
    {
      "cell_type": "code",
      "metadata": {
        "id": "oiTHOG0nO3nC",
        "colab_type": "code",
        "outputId": "ac5390e9-2b7f-4f4a-b487-0443814daeab",
        "colab": {
          "base_uri": "https://localhost:8080/",
          "height": 36
        }
      },
      "source": [
        "result['Lee']"
      ],
      "execution_count": 0,
      "outputs": [
        {
          "output_type": "execute_result",
          "data": {
            "text/plain": [
              "100"
            ]
          },
          "metadata": {
            "tags": []
          },
          "execution_count": 19
        }
      ]
    },
    {
      "cell_type": "code",
      "metadata": {
        "id": "BtcUKrklO3nE",
        "colab_type": "code",
        "outputId": "232eddf8-637f-4a36-d551-ac13e93a6272",
        "colab": {
          "base_uri": "https://localhost:8080/",
          "height": 36
        }
      },
      "source": [
        "result['Hwang']"
      ],
      "execution_count": 0,
      "outputs": [
        {
          "output_type": "execute_result",
          "data": {
            "text/plain": [
              "100"
            ]
          },
          "metadata": {
            "tags": []
          },
          "execution_count": 20
        }
      ]
    },
    {
      "cell_type": "code",
      "metadata": {
        "id": "S_QeVO44O3nH",
        "colab_type": "code",
        "outputId": "f833e75e-53f0-4c35-f19b-93dc8013fc7a",
        "colab": {
          "base_uri": "https://localhost:8080/",
          "height": 168
        }
      },
      "source": [
        "data = {'name':['Lee', 'Hwang', 'Kim', 'Choi'],\n",
        "             'score':[100, 95, 90, 85],\n",
        "             'grade':['A', 'A', 'B', 'B']}\n",
        "df = pd.DataFrame(data)\n",
        "df"
      ],
      "execution_count": 0,
      "outputs": [
        {
          "output_type": "execute_result",
          "data": {
            "text/html": [
              "<div>\n",
              "<style scoped>\n",
              "    .dataframe tbody tr th:only-of-type {\n",
              "        vertical-align: middle;\n",
              "    }\n",
              "\n",
              "    .dataframe tbody tr th {\n",
              "        vertical-align: top;\n",
              "    }\n",
              "\n",
              "    .dataframe thead th {\n",
              "        text-align: right;\n",
              "    }\n",
              "</style>\n",
              "<table border=\"1\" class=\"dataframe\">\n",
              "  <thead>\n",
              "    <tr style=\"text-align: right;\">\n",
              "      <th></th>\n",
              "      <th>name</th>\n",
              "      <th>score</th>\n",
              "      <th>grade</th>\n",
              "    </tr>\n",
              "  </thead>\n",
              "  <tbody>\n",
              "    <tr>\n",
              "      <th>0</th>\n",
              "      <td>Lee</td>\n",
              "      <td>100</td>\n",
              "      <td>A</td>\n",
              "    </tr>\n",
              "    <tr>\n",
              "      <th>1</th>\n",
              "      <td>Hwang</td>\n",
              "      <td>95</td>\n",
              "      <td>A</td>\n",
              "    </tr>\n",
              "    <tr>\n",
              "      <th>2</th>\n",
              "      <td>Kim</td>\n",
              "      <td>90</td>\n",
              "      <td>B</td>\n",
              "    </tr>\n",
              "    <tr>\n",
              "      <th>3</th>\n",
              "      <td>Choi</td>\n",
              "      <td>85</td>\n",
              "      <td>B</td>\n",
              "    </tr>\n",
              "  </tbody>\n",
              "</table>\n",
              "</div>"
            ],
            "text/plain": [
              "    name  score grade\n",
              "0    Lee    100     A\n",
              "1  Hwang     95     A\n",
              "2    Kim     90     B\n",
              "3   Choi     85     B"
            ]
          },
          "metadata": {
            "tags": []
          },
          "execution_count": 21
        }
      ]
    },
    {
      "cell_type": "code",
      "metadata": {
        "id": "W3IzXh3IO3nK",
        "colab_type": "code",
        "outputId": "8f83e50d-444a-443e-a8c7-01da19f8ceaa",
        "colab": {
          "base_uri": "https://localhost:8080/",
          "height": 36
        }
      },
      "source": [
        "df.index"
      ],
      "execution_count": 0,
      "outputs": [
        {
          "output_type": "execute_result",
          "data": {
            "text/plain": [
              "RangeIndex(start=0, stop=4, step=1)"
            ]
          },
          "metadata": {
            "tags": []
          },
          "execution_count": 22
        }
      ]
    },
    {
      "cell_type": "code",
      "metadata": {
        "id": "qSovfNroO3nM",
        "colab_type": "code",
        "outputId": "5d1c5730-7ee4-4e09-88e4-5d972f09208d",
        "colab": {
          "base_uri": "https://localhost:8080/",
          "height": 91
        }
      },
      "source": [
        "df.values"
      ],
      "execution_count": 0,
      "outputs": [
        {
          "output_type": "execute_result",
          "data": {
            "text/plain": [
              "array([['Lee', 100, 'A'],\n",
              "       ['Hwang', 95, 'A'],\n",
              "       ['Kim', 90, 'B'],\n",
              "       ['Choi', 85, 'B']], dtype=object)"
            ]
          },
          "metadata": {
            "tags": []
          },
          "execution_count": 23
        }
      ]
    },
    {
      "cell_type": "code",
      "metadata": {
        "id": "3CMArQq1O3nO",
        "colab_type": "code",
        "outputId": "d6d156ab-dfa7-481c-df7b-d046bde3ece8",
        "colab": {
          "base_uri": "https://localhost:8080/",
          "height": 36
        }
      },
      "source": [
        "df.columns"
      ],
      "execution_count": 0,
      "outputs": [
        {
          "output_type": "execute_result",
          "data": {
            "text/plain": [
              "Index(['name', 'score', 'grade'], dtype='object')"
            ]
          },
          "metadata": {
            "tags": []
          },
          "execution_count": 24
        }
      ]
    },
    {
      "cell_type": "code",
      "metadata": {
        "id": "-INH8EqHO3nP",
        "colab_type": "code",
        "outputId": "64ff1547-950c-4eb3-b697-19c1a0cf89e5",
        "colab": {
          "base_uri": "https://localhost:8080/",
          "height": 198
        }
      },
      "source": [
        "df.index.name = 'NO'\n",
        "df.columns.name = 'Info'\n",
        "df"
      ],
      "execution_count": 0,
      "outputs": [
        {
          "output_type": "execute_result",
          "data": {
            "text/html": [
              "<div>\n",
              "<style scoped>\n",
              "    .dataframe tbody tr th:only-of-type {\n",
              "        vertical-align: middle;\n",
              "    }\n",
              "\n",
              "    .dataframe tbody tr th {\n",
              "        vertical-align: top;\n",
              "    }\n",
              "\n",
              "    .dataframe thead th {\n",
              "        text-align: right;\n",
              "    }\n",
              "</style>\n",
              "<table border=\"1\" class=\"dataframe\">\n",
              "  <thead>\n",
              "    <tr style=\"text-align: right;\">\n",
              "      <th>Info</th>\n",
              "      <th>name</th>\n",
              "      <th>score</th>\n",
              "      <th>grade</th>\n",
              "    </tr>\n",
              "    <tr>\n",
              "      <th>NO</th>\n",
              "      <th></th>\n",
              "      <th></th>\n",
              "      <th></th>\n",
              "    </tr>\n",
              "  </thead>\n",
              "  <tbody>\n",
              "    <tr>\n",
              "      <th>0</th>\n",
              "      <td>Lee</td>\n",
              "      <td>100</td>\n",
              "      <td>A</td>\n",
              "    </tr>\n",
              "    <tr>\n",
              "      <th>1</th>\n",
              "      <td>Hwang</td>\n",
              "      <td>95</td>\n",
              "      <td>A</td>\n",
              "    </tr>\n",
              "    <tr>\n",
              "      <th>2</th>\n",
              "      <td>Kim</td>\n",
              "      <td>90</td>\n",
              "      <td>B</td>\n",
              "    </tr>\n",
              "    <tr>\n",
              "      <th>3</th>\n",
              "      <td>Choi</td>\n",
              "      <td>85</td>\n",
              "      <td>B</td>\n",
              "    </tr>\n",
              "  </tbody>\n",
              "</table>\n",
              "</div>"
            ],
            "text/plain": [
              "Info   name  score grade\n",
              "NO                      \n",
              "0       Lee    100     A\n",
              "1     Hwang     95     A\n",
              "2       Kim     90     B\n",
              "3      Choi     85     B"
            ]
          },
          "metadata": {
            "tags": []
          },
          "execution_count": 25
        }
      ]
    },
    {
      "cell_type": "code",
      "metadata": {
        "id": "L64gTSVpO3nS",
        "colab_type": "code",
        "outputId": "b559760f-da6c-489f-81e1-6ad55bd9b4de",
        "colab": {
          "base_uri": "https://localhost:8080/",
          "height": 168
        }
      },
      "source": [
        "data = {'name':['Lee', 'Hwang', 'Kim', 'Choi'],\n",
        "             'score':[100, 95, 90, 85],\n",
        "             'grade':['A', 'A', 'B', 'B']}\n",
        "c = ['name', 'grade', 'score', 'etc']\n",
        "df2 = pd.DataFrame(data, columns=c)\n",
        "df2"
      ],
      "execution_count": 0,
      "outputs": [
        {
          "output_type": "execute_result",
          "data": {
            "text/html": [
              "<div>\n",
              "<style scoped>\n",
              "    .dataframe tbody tr th:only-of-type {\n",
              "        vertical-align: middle;\n",
              "    }\n",
              "\n",
              "    .dataframe tbody tr th {\n",
              "        vertical-align: top;\n",
              "    }\n",
              "\n",
              "    .dataframe thead th {\n",
              "        text-align: right;\n",
              "    }\n",
              "</style>\n",
              "<table border=\"1\" class=\"dataframe\">\n",
              "  <thead>\n",
              "    <tr style=\"text-align: right;\">\n",
              "      <th></th>\n",
              "      <th>name</th>\n",
              "      <th>grade</th>\n",
              "      <th>score</th>\n",
              "      <th>etc</th>\n",
              "    </tr>\n",
              "  </thead>\n",
              "  <tbody>\n",
              "    <tr>\n",
              "      <th>0</th>\n",
              "      <td>Lee</td>\n",
              "      <td>A</td>\n",
              "      <td>100</td>\n",
              "      <td>NaN</td>\n",
              "    </tr>\n",
              "    <tr>\n",
              "      <th>1</th>\n",
              "      <td>Hwang</td>\n",
              "      <td>A</td>\n",
              "      <td>95</td>\n",
              "      <td>NaN</td>\n",
              "    </tr>\n",
              "    <tr>\n",
              "      <th>2</th>\n",
              "      <td>Kim</td>\n",
              "      <td>B</td>\n",
              "      <td>90</td>\n",
              "      <td>NaN</td>\n",
              "    </tr>\n",
              "    <tr>\n",
              "      <th>3</th>\n",
              "      <td>Choi</td>\n",
              "      <td>B</td>\n",
              "      <td>85</td>\n",
              "      <td>NaN</td>\n",
              "    </tr>\n",
              "  </tbody>\n",
              "</table>\n",
              "</div>"
            ],
            "text/plain": [
              "    name grade  score  etc\n",
              "0    Lee     A    100  NaN\n",
              "1  Hwang     A     95  NaN\n",
              "2    Kim     B     90  NaN\n",
              "3   Choi     B     85  NaN"
            ]
          },
          "metadata": {
            "tags": []
          },
          "execution_count": 26
        }
      ]
    },
    {
      "cell_type": "code",
      "metadata": {
        "id": "mfLa4R7tO3nU",
        "colab_type": "code",
        "outputId": "5e65bc18-6578-4d58-dd4d-77ac04e667e9",
        "colab": {
          "base_uri": "https://localhost:8080/",
          "height": 91
        }
      },
      "source": [
        "score = {'Kim':85, 'Hwang':100, 'Lee':99, 'Choi':80}\n",
        "students = ['Hwang', 'Lee', 'Woo']\n",
        "result = pd.Series(score, index=students)\n",
        "print(result)"
      ],
      "execution_count": 0,
      "outputs": [
        {
          "output_type": "stream",
          "text": [
            "Hwang    100.0\n",
            "Lee       99.0\n",
            "Woo        NaN\n",
            "dtype: float64\n"
          ],
          "name": "stdout"
        }
      ]
    },
    {
      "cell_type": "markdown",
      "metadata": {
        "id": "sthNDWccO3nW",
        "colab_type": "text"
      },
      "source": [
        "### Quiz"
      ]
    },
    {
      "cell_type": "code",
      "metadata": {
        "id": "kX7URYn2O3nY",
        "colab_type": "code",
        "outputId": "26fcdc42-3a14-40f3-9460-e5ca4f2cd0ea",
        "colab": {
          "base_uri": "https://localhost:8080/",
          "height": 168
        }
      },
      "source": [
        "dict = {'name': ['David', 'Roy', 'Tina', 'Kim'],\n",
        "       'score': [78, 64, 70, 62],\n",
        "       'grade': ['C', 'D', 'C', 'D']}\n",
        "df = pd.DataFrame(dict)\n",
        "df"
      ],
      "execution_count": 0,
      "outputs": [
        {
          "output_type": "execute_result",
          "data": {
            "text/html": [
              "<div>\n",
              "<style scoped>\n",
              "    .dataframe tbody tr th:only-of-type {\n",
              "        vertical-align: middle;\n",
              "    }\n",
              "\n",
              "    .dataframe tbody tr th {\n",
              "        vertical-align: top;\n",
              "    }\n",
              "\n",
              "    .dataframe thead th {\n",
              "        text-align: right;\n",
              "    }\n",
              "</style>\n",
              "<table border=\"1\" class=\"dataframe\">\n",
              "  <thead>\n",
              "    <tr style=\"text-align: right;\">\n",
              "      <th></th>\n",
              "      <th>name</th>\n",
              "      <th>score</th>\n",
              "      <th>grade</th>\n",
              "    </tr>\n",
              "  </thead>\n",
              "  <tbody>\n",
              "    <tr>\n",
              "      <th>0</th>\n",
              "      <td>David</td>\n",
              "      <td>78</td>\n",
              "      <td>C</td>\n",
              "    </tr>\n",
              "    <tr>\n",
              "      <th>1</th>\n",
              "      <td>Roy</td>\n",
              "      <td>64</td>\n",
              "      <td>D</td>\n",
              "    </tr>\n",
              "    <tr>\n",
              "      <th>2</th>\n",
              "      <td>Tina</td>\n",
              "      <td>70</td>\n",
              "      <td>C</td>\n",
              "    </tr>\n",
              "    <tr>\n",
              "      <th>3</th>\n",
              "      <td>Kim</td>\n",
              "      <td>62</td>\n",
              "      <td>D</td>\n",
              "    </tr>\n",
              "  </tbody>\n",
              "</table>\n",
              "</div>"
            ],
            "text/plain": [
              "    name  score grade\n",
              "0  David     78     C\n",
              "1    Roy     64     D\n",
              "2   Tina     70     C\n",
              "3    Kim     62     D"
            ]
          },
          "metadata": {
            "tags": []
          },
          "execution_count": 28
        }
      ]
    },
    {
      "cell_type": "code",
      "metadata": {
        "id": "F_-aekCiO3na",
        "colab_type": "code",
        "outputId": "fa0042f9-cd0c-4ef7-8c17-b68b0c7770cc",
        "colab": {
          "base_uri": "https://localhost:8080/",
          "height": 198
        }
      },
      "source": [
        "df.index.name = \"No\"\n",
        "df.columns.name = 'Info'\n",
        "df"
      ],
      "execution_count": 0,
      "outputs": [
        {
          "output_type": "execute_result",
          "data": {
            "text/html": [
              "<div>\n",
              "<style scoped>\n",
              "    .dataframe tbody tr th:only-of-type {\n",
              "        vertical-align: middle;\n",
              "    }\n",
              "\n",
              "    .dataframe tbody tr th {\n",
              "        vertical-align: top;\n",
              "    }\n",
              "\n",
              "    .dataframe thead th {\n",
              "        text-align: right;\n",
              "    }\n",
              "</style>\n",
              "<table border=\"1\" class=\"dataframe\">\n",
              "  <thead>\n",
              "    <tr style=\"text-align: right;\">\n",
              "      <th>Info</th>\n",
              "      <th>name</th>\n",
              "      <th>score</th>\n",
              "      <th>grade</th>\n",
              "    </tr>\n",
              "    <tr>\n",
              "      <th>No</th>\n",
              "      <th></th>\n",
              "      <th></th>\n",
              "      <th></th>\n",
              "    </tr>\n",
              "  </thead>\n",
              "  <tbody>\n",
              "    <tr>\n",
              "      <th>0</th>\n",
              "      <td>David</td>\n",
              "      <td>78</td>\n",
              "      <td>C</td>\n",
              "    </tr>\n",
              "    <tr>\n",
              "      <th>1</th>\n",
              "      <td>Roy</td>\n",
              "      <td>64</td>\n",
              "      <td>D</td>\n",
              "    </tr>\n",
              "    <tr>\n",
              "      <th>2</th>\n",
              "      <td>Tina</td>\n",
              "      <td>70</td>\n",
              "      <td>C</td>\n",
              "    </tr>\n",
              "    <tr>\n",
              "      <th>3</th>\n",
              "      <td>Kim</td>\n",
              "      <td>62</td>\n",
              "      <td>D</td>\n",
              "    </tr>\n",
              "  </tbody>\n",
              "</table>\n",
              "</div>"
            ],
            "text/plain": [
              "Info   name  score grade\n",
              "No                      \n",
              "0     David     78     C\n",
              "1       Roy     64     D\n",
              "2      Tina     70     C\n",
              "3       Kim     62     D"
            ]
          },
          "metadata": {
            "tags": []
          },
          "execution_count": 29
        }
      ]
    },
    {
      "cell_type": "code",
      "metadata": {
        "id": "Vjrhyy1iO3nd",
        "colab_type": "code",
        "outputId": "d933b4c7-f3d5-41d7-9e0a-63ba9e1e75a4",
        "colab": {
          "base_uri": "https://localhost:8080/",
          "height": 168
        }
      },
      "source": [
        "col = ['name', 'grade', 'score', 'etc']\n",
        "df2 = pd.DataFrame(dict, columns = col)\n",
        "df2"
      ],
      "execution_count": 0,
      "outputs": [
        {
          "output_type": "execute_result",
          "data": {
            "text/html": [
              "<div>\n",
              "<style scoped>\n",
              "    .dataframe tbody tr th:only-of-type {\n",
              "        vertical-align: middle;\n",
              "    }\n",
              "\n",
              "    .dataframe tbody tr th {\n",
              "        vertical-align: top;\n",
              "    }\n",
              "\n",
              "    .dataframe thead th {\n",
              "        text-align: right;\n",
              "    }\n",
              "</style>\n",
              "<table border=\"1\" class=\"dataframe\">\n",
              "  <thead>\n",
              "    <tr style=\"text-align: right;\">\n",
              "      <th></th>\n",
              "      <th>name</th>\n",
              "      <th>grade</th>\n",
              "      <th>score</th>\n",
              "      <th>etc</th>\n",
              "    </tr>\n",
              "  </thead>\n",
              "  <tbody>\n",
              "    <tr>\n",
              "      <th>0</th>\n",
              "      <td>David</td>\n",
              "      <td>C</td>\n",
              "      <td>78</td>\n",
              "      <td>NaN</td>\n",
              "    </tr>\n",
              "    <tr>\n",
              "      <th>1</th>\n",
              "      <td>Roy</td>\n",
              "      <td>D</td>\n",
              "      <td>64</td>\n",
              "      <td>NaN</td>\n",
              "    </tr>\n",
              "    <tr>\n",
              "      <th>2</th>\n",
              "      <td>Tina</td>\n",
              "      <td>C</td>\n",
              "      <td>70</td>\n",
              "      <td>NaN</td>\n",
              "    </tr>\n",
              "    <tr>\n",
              "      <th>3</th>\n",
              "      <td>Kim</td>\n",
              "      <td>D</td>\n",
              "      <td>62</td>\n",
              "      <td>NaN</td>\n",
              "    </tr>\n",
              "  </tbody>\n",
              "</table>\n",
              "</div>"
            ],
            "text/plain": [
              "    name grade  score  etc\n",
              "0  David     C     78  NaN\n",
              "1    Roy     D     64  NaN\n",
              "2   Tina     C     70  NaN\n",
              "3    Kim     D     62  NaN"
            ]
          },
          "metadata": {
            "tags": []
          },
          "execution_count": 30
        }
      ]
    },
    {
      "cell_type": "code",
      "metadata": {
        "id": "pKR4VtQIO3nf",
        "colab_type": "code",
        "outputId": "1161dff4-6163-41f4-eced-cdcbcc0fe980",
        "colab": {
          "base_uri": "https://localhost:8080/",
          "height": 36
        }
      },
      "source": [
        "df.index"
      ],
      "execution_count": 0,
      "outputs": [
        {
          "output_type": "execute_result",
          "data": {
            "text/plain": [
              "RangeIndex(start=0, stop=4, step=1, name='No')"
            ]
          },
          "metadata": {
            "tags": []
          },
          "execution_count": 31
        }
      ]
    },
    {
      "cell_type": "code",
      "metadata": {
        "id": "qxMk2Xo2O3ni",
        "colab_type": "code",
        "outputId": "8813c54f-e353-4941-e9f4-c3bc43472dc4",
        "colab": {
          "base_uri": "https://localhost:8080/",
          "height": 36
        }
      },
      "source": [
        "df.columns"
      ],
      "execution_count": 0,
      "outputs": [
        {
          "output_type": "execute_result",
          "data": {
            "text/plain": [
              "Index(['name', 'score', 'grade'], dtype='object', name='Info')"
            ]
          },
          "metadata": {
            "tags": []
          },
          "execution_count": 32
        }
      ]
    },
    {
      "cell_type": "code",
      "metadata": {
        "id": "6fTh1GtCO3nl",
        "colab_type": "code",
        "outputId": "23ed08e4-c9a1-471b-ce77-b596e5aa4af7",
        "colab": {
          "base_uri": "https://localhost:8080/",
          "height": 91
        }
      },
      "source": [
        "df.values"
      ],
      "execution_count": 0,
      "outputs": [
        {
          "output_type": "execute_result",
          "data": {
            "text/plain": [
              "array([['David', 78, 'C'],\n",
              "       ['Roy', 64, 'D'],\n",
              "       ['Tina', 70, 'C'],\n",
              "       ['Kim', 62, 'D']], dtype=object)"
            ]
          },
          "metadata": {
            "tags": []
          },
          "execution_count": 33
        }
      ]
    },
    {
      "cell_type": "code",
      "metadata": {
        "id": "8h7PSizgO3nn",
        "colab_type": "code",
        "outputId": "1a67f30d-cc0e-44d1-8038-e22c43f1476e",
        "colab": {
          "base_uri": "https://localhost:8080/",
          "height": 128
        }
      },
      "source": [
        "df.info"
      ],
      "execution_count": 0,
      "outputs": [
        {
          "output_type": "execute_result",
          "data": {
            "text/plain": [
              "<bound method DataFrame.info of Info   name  score grade\n",
              "No                      \n",
              "0     David     78     C\n",
              "1       Roy     64     D\n",
              "2      Tina     70     C\n",
              "3       Kim     62     D>"
            ]
          },
          "metadata": {
            "tags": []
          },
          "execution_count": 34
        }
      ]
    },
    {
      "cell_type": "code",
      "metadata": {
        "id": "GH9vrv1IO3no",
        "colab_type": "code",
        "outputId": "bf1211a0-02a0-4576-bd84-4acf121ae972",
        "colab": {
          "base_uri": "https://localhost:8080/",
          "height": 288
        }
      },
      "source": [
        "df.describe()"
      ],
      "execution_count": 0,
      "outputs": [
        {
          "output_type": "execute_result",
          "data": {
            "text/html": [
              "<div>\n",
              "<style scoped>\n",
              "    .dataframe tbody tr th:only-of-type {\n",
              "        vertical-align: middle;\n",
              "    }\n",
              "\n",
              "    .dataframe tbody tr th {\n",
              "        vertical-align: top;\n",
              "    }\n",
              "\n",
              "    .dataframe thead th {\n",
              "        text-align: right;\n",
              "    }\n",
              "</style>\n",
              "<table border=\"1\" class=\"dataframe\">\n",
              "  <thead>\n",
              "    <tr style=\"text-align: right;\">\n",
              "      <th>Info</th>\n",
              "      <th>score</th>\n",
              "    </tr>\n",
              "  </thead>\n",
              "  <tbody>\n",
              "    <tr>\n",
              "      <th>count</th>\n",
              "      <td>4.000000</td>\n",
              "    </tr>\n",
              "    <tr>\n",
              "      <th>mean</th>\n",
              "      <td>68.500000</td>\n",
              "    </tr>\n",
              "    <tr>\n",
              "      <th>std</th>\n",
              "      <td>7.187953</td>\n",
              "    </tr>\n",
              "    <tr>\n",
              "      <th>min</th>\n",
              "      <td>62.000000</td>\n",
              "    </tr>\n",
              "    <tr>\n",
              "      <th>25%</th>\n",
              "      <td>63.500000</td>\n",
              "    </tr>\n",
              "    <tr>\n",
              "      <th>50%</th>\n",
              "      <td>67.000000</td>\n",
              "    </tr>\n",
              "    <tr>\n",
              "      <th>75%</th>\n",
              "      <td>72.000000</td>\n",
              "    </tr>\n",
              "    <tr>\n",
              "      <th>max</th>\n",
              "      <td>78.000000</td>\n",
              "    </tr>\n",
              "  </tbody>\n",
              "</table>\n",
              "</div>"
            ],
            "text/plain": [
              "Info       score\n",
              "count   4.000000\n",
              "mean   68.500000\n",
              "std     7.187953\n",
              "min    62.000000\n",
              "25%    63.500000\n",
              "50%    67.000000\n",
              "75%    72.000000\n",
              "max    78.000000"
            ]
          },
          "metadata": {
            "tags": []
          },
          "execution_count": 35
        }
      ]
    },
    {
      "cell_type": "code",
      "metadata": {
        "id": "P1H3IV1cO3nq",
        "colab_type": "code",
        "outputId": "e5741457-ece9-4631-eeb4-8142b379c1ab",
        "colab": {
          "base_uri": "https://localhost:8080/",
          "height": 168
        }
      },
      "source": [
        "data = {'name':['Lee', 'Hwang', 'Kim', 'Choi'],\n",
        "             'score':[100, 95, 90, 85],\n",
        "             'grade':['A', 'A', 'B', 'B']}\n",
        "c = ['name', 'grade', 'score', 'etc']\n",
        "df2 = pd.DataFrame(data, columns=c)\n",
        "df2"
      ],
      "execution_count": 0,
      "outputs": [
        {
          "output_type": "execute_result",
          "data": {
            "text/html": [
              "<div>\n",
              "<style scoped>\n",
              "    .dataframe tbody tr th:only-of-type {\n",
              "        vertical-align: middle;\n",
              "    }\n",
              "\n",
              "    .dataframe tbody tr th {\n",
              "        vertical-align: top;\n",
              "    }\n",
              "\n",
              "    .dataframe thead th {\n",
              "        text-align: right;\n",
              "    }\n",
              "</style>\n",
              "<table border=\"1\" class=\"dataframe\">\n",
              "  <thead>\n",
              "    <tr style=\"text-align: right;\">\n",
              "      <th></th>\n",
              "      <th>name</th>\n",
              "      <th>grade</th>\n",
              "      <th>score</th>\n",
              "      <th>etc</th>\n",
              "    </tr>\n",
              "  </thead>\n",
              "  <tbody>\n",
              "    <tr>\n",
              "      <th>0</th>\n",
              "      <td>Lee</td>\n",
              "      <td>A</td>\n",
              "      <td>100</td>\n",
              "      <td>NaN</td>\n",
              "    </tr>\n",
              "    <tr>\n",
              "      <th>1</th>\n",
              "      <td>Hwang</td>\n",
              "      <td>A</td>\n",
              "      <td>95</td>\n",
              "      <td>NaN</td>\n",
              "    </tr>\n",
              "    <tr>\n",
              "      <th>2</th>\n",
              "      <td>Kim</td>\n",
              "      <td>B</td>\n",
              "      <td>90</td>\n",
              "      <td>NaN</td>\n",
              "    </tr>\n",
              "    <tr>\n",
              "      <th>3</th>\n",
              "      <td>Choi</td>\n",
              "      <td>B</td>\n",
              "      <td>85</td>\n",
              "      <td>NaN</td>\n",
              "    </tr>\n",
              "  </tbody>\n",
              "</table>\n",
              "</div>"
            ],
            "text/plain": [
              "    name grade  score  etc\n",
              "0    Lee     A    100  NaN\n",
              "1  Hwang     A     95  NaN\n",
              "2    Kim     B     90  NaN\n",
              "3   Choi     B     85  NaN"
            ]
          },
          "metadata": {
            "tags": []
          },
          "execution_count": 36
        }
      ]
    },
    {
      "cell_type": "code",
      "metadata": {
        "id": "7bcMB4WVO3ns",
        "colab_type": "code",
        "outputId": "8a4b82ab-8f08-4d75-9180-e875afc9a117",
        "colab": {
          "base_uri": "https://localhost:8080/",
          "height": 110
        }
      },
      "source": [
        "df2['name']"
      ],
      "execution_count": 0,
      "outputs": [
        {
          "output_type": "execute_result",
          "data": {
            "text/plain": [
              "0      Lee\n",
              "1    Hwang\n",
              "2      Kim\n",
              "3     Choi\n",
              "Name: name, dtype: object"
            ]
          },
          "metadata": {
            "tags": []
          },
          "execution_count": 37
        }
      ]
    },
    {
      "cell_type": "code",
      "metadata": {
        "id": "uSQGQoyxO3nv",
        "colab_type": "code",
        "outputId": "5bf5afde-4b6a-466f-b3b2-0de5d0e74852",
        "colab": {
          "base_uri": "https://localhost:8080/",
          "height": 110
        }
      },
      "source": [
        "df2.name"
      ],
      "execution_count": 0,
      "outputs": [
        {
          "output_type": "execute_result",
          "data": {
            "text/plain": [
              "0      Lee\n",
              "1    Hwang\n",
              "2      Kim\n",
              "3     Choi\n",
              "Name: name, dtype: object"
            ]
          },
          "metadata": {
            "tags": []
          },
          "execution_count": 38
        }
      ]
    },
    {
      "cell_type": "code",
      "metadata": {
        "id": "FwoQ73U1O3nx",
        "colab_type": "code",
        "outputId": "f28109ef-b149-4e0a-fea7-ae927e5612d3",
        "colab": {
          "base_uri": "https://localhost:8080/",
          "height": 168
        }
      },
      "source": [
        "df2[['name', 'grade']]"
      ],
      "execution_count": 0,
      "outputs": [
        {
          "output_type": "execute_result",
          "data": {
            "text/html": [
              "<div>\n",
              "<style scoped>\n",
              "    .dataframe tbody tr th:only-of-type {\n",
              "        vertical-align: middle;\n",
              "    }\n",
              "\n",
              "    .dataframe tbody tr th {\n",
              "        vertical-align: top;\n",
              "    }\n",
              "\n",
              "    .dataframe thead th {\n",
              "        text-align: right;\n",
              "    }\n",
              "</style>\n",
              "<table border=\"1\" class=\"dataframe\">\n",
              "  <thead>\n",
              "    <tr style=\"text-align: right;\">\n",
              "      <th></th>\n",
              "      <th>name</th>\n",
              "      <th>grade</th>\n",
              "    </tr>\n",
              "  </thead>\n",
              "  <tbody>\n",
              "    <tr>\n",
              "      <th>0</th>\n",
              "      <td>Lee</td>\n",
              "      <td>A</td>\n",
              "    </tr>\n",
              "    <tr>\n",
              "      <th>1</th>\n",
              "      <td>Hwang</td>\n",
              "      <td>A</td>\n",
              "    </tr>\n",
              "    <tr>\n",
              "      <th>2</th>\n",
              "      <td>Kim</td>\n",
              "      <td>B</td>\n",
              "    </tr>\n",
              "    <tr>\n",
              "      <th>3</th>\n",
              "      <td>Choi</td>\n",
              "      <td>B</td>\n",
              "    </tr>\n",
              "  </tbody>\n",
              "</table>\n",
              "</div>"
            ],
            "text/plain": [
              "    name grade\n",
              "0    Lee     A\n",
              "1  Hwang     A\n",
              "2    Kim     B\n",
              "3   Choi     B"
            ]
          },
          "metadata": {
            "tags": []
          },
          "execution_count": 39
        }
      ]
    },
    {
      "cell_type": "code",
      "metadata": {
        "id": "uxnUEV_dO3n0",
        "colab_type": "code",
        "outputId": "b19e96c4-2442-48e7-91c0-2bb2bde5c6e7",
        "colab": {
          "base_uri": "https://localhost:8080/",
          "height": 168
        }
      },
      "source": [
        "df2[['etc', 'name']]"
      ],
      "execution_count": 0,
      "outputs": [
        {
          "output_type": "execute_result",
          "data": {
            "text/html": [
              "<div>\n",
              "<style scoped>\n",
              "    .dataframe tbody tr th:only-of-type {\n",
              "        vertical-align: middle;\n",
              "    }\n",
              "\n",
              "    .dataframe tbody tr th {\n",
              "        vertical-align: top;\n",
              "    }\n",
              "\n",
              "    .dataframe thead th {\n",
              "        text-align: right;\n",
              "    }\n",
              "</style>\n",
              "<table border=\"1\" class=\"dataframe\">\n",
              "  <thead>\n",
              "    <tr style=\"text-align: right;\">\n",
              "      <th></th>\n",
              "      <th>etc</th>\n",
              "      <th>name</th>\n",
              "    </tr>\n",
              "  </thead>\n",
              "  <tbody>\n",
              "    <tr>\n",
              "      <th>0</th>\n",
              "      <td>NaN</td>\n",
              "      <td>Lee</td>\n",
              "    </tr>\n",
              "    <tr>\n",
              "      <th>1</th>\n",
              "      <td>NaN</td>\n",
              "      <td>Hwang</td>\n",
              "    </tr>\n",
              "    <tr>\n",
              "      <th>2</th>\n",
              "      <td>NaN</td>\n",
              "      <td>Kim</td>\n",
              "    </tr>\n",
              "    <tr>\n",
              "      <th>3</th>\n",
              "      <td>NaN</td>\n",
              "      <td>Choi</td>\n",
              "    </tr>\n",
              "  </tbody>\n",
              "</table>\n",
              "</div>"
            ],
            "text/plain": [
              "   etc   name\n",
              "0  NaN    Lee\n",
              "1  NaN  Hwang\n",
              "2  NaN    Kim\n",
              "3  NaN   Choi"
            ]
          },
          "metadata": {
            "tags": []
          },
          "execution_count": 40
        }
      ]
    },
    {
      "cell_type": "markdown",
      "metadata": {
        "id": "2RUHhDICO3n2",
        "colab_type": "text"
      },
      "source": [
        "### Quiz"
      ]
    },
    {
      "cell_type": "code",
      "metadata": {
        "id": "GoZa1KIrO3n2",
        "colab_type": "code",
        "outputId": "3d46ddb1-89ca-4b0b-d27d-86c03c5fe8a6",
        "colab": {
          "base_uri": "https://localhost:8080/",
          "height": 168
        }
      },
      "source": [
        "dict = {'name': ['David', 'Roy', 'Tina', 'Kim'],\n",
        "       'score': [78, 64, 70, 62],\n",
        "       'grade': ['C', 'D', 'C', 'D']}\n",
        "col = ['name', 'grade', 'score', 'etc']\n",
        "df2 = pd.DataFrame(dict, columns = col)\n",
        "df2"
      ],
      "execution_count": 0,
      "outputs": [
        {
          "output_type": "execute_result",
          "data": {
            "text/html": [
              "<div>\n",
              "<style scoped>\n",
              "    .dataframe tbody tr th:only-of-type {\n",
              "        vertical-align: middle;\n",
              "    }\n",
              "\n",
              "    .dataframe tbody tr th {\n",
              "        vertical-align: top;\n",
              "    }\n",
              "\n",
              "    .dataframe thead th {\n",
              "        text-align: right;\n",
              "    }\n",
              "</style>\n",
              "<table border=\"1\" class=\"dataframe\">\n",
              "  <thead>\n",
              "    <tr style=\"text-align: right;\">\n",
              "      <th></th>\n",
              "      <th>name</th>\n",
              "      <th>grade</th>\n",
              "      <th>score</th>\n",
              "      <th>etc</th>\n",
              "    </tr>\n",
              "  </thead>\n",
              "  <tbody>\n",
              "    <tr>\n",
              "      <th>0</th>\n",
              "      <td>David</td>\n",
              "      <td>C</td>\n",
              "      <td>78</td>\n",
              "      <td>NaN</td>\n",
              "    </tr>\n",
              "    <tr>\n",
              "      <th>1</th>\n",
              "      <td>Roy</td>\n",
              "      <td>D</td>\n",
              "      <td>64</td>\n",
              "      <td>NaN</td>\n",
              "    </tr>\n",
              "    <tr>\n",
              "      <th>2</th>\n",
              "      <td>Tina</td>\n",
              "      <td>C</td>\n",
              "      <td>70</td>\n",
              "      <td>NaN</td>\n",
              "    </tr>\n",
              "    <tr>\n",
              "      <th>3</th>\n",
              "      <td>Kim</td>\n",
              "      <td>D</td>\n",
              "      <td>62</td>\n",
              "      <td>NaN</td>\n",
              "    </tr>\n",
              "  </tbody>\n",
              "</table>\n",
              "</div>"
            ],
            "text/plain": [
              "    name grade  score  etc\n",
              "0  David     C     78  NaN\n",
              "1    Roy     D     64  NaN\n",
              "2   Tina     C     70  NaN\n",
              "3    Kim     D     62  NaN"
            ]
          },
          "metadata": {
            "tags": []
          },
          "execution_count": 41
        }
      ]
    },
    {
      "cell_type": "code",
      "metadata": {
        "id": "vlz-yk-LO3n4",
        "colab_type": "code",
        "outputId": "9458ab05-8243-4db5-fc04-10bec0bb62e3",
        "colab": {
          "base_uri": "https://localhost:8080/",
          "height": 110
        }
      },
      "source": [
        "df2['name']"
      ],
      "execution_count": 0,
      "outputs": [
        {
          "output_type": "execute_result",
          "data": {
            "text/plain": [
              "0    David\n",
              "1      Roy\n",
              "2     Tina\n",
              "3      Kim\n",
              "Name: name, dtype: object"
            ]
          },
          "metadata": {
            "tags": []
          },
          "execution_count": 42
        }
      ]
    },
    {
      "cell_type": "code",
      "metadata": {
        "id": "nRe8DQNyO3n8",
        "colab_type": "code",
        "outputId": "68894328-1770-49dc-a8d4-76f06ab3638b",
        "colab": {
          "base_uri": "https://localhost:8080/",
          "height": 198
        }
      },
      "source": [
        "df[['name', 'grade', 'score']]"
      ],
      "execution_count": 0,
      "outputs": [
        {
          "output_type": "execute_result",
          "data": {
            "text/html": [
              "<div>\n",
              "<style scoped>\n",
              "    .dataframe tbody tr th:only-of-type {\n",
              "        vertical-align: middle;\n",
              "    }\n",
              "\n",
              "    .dataframe tbody tr th {\n",
              "        vertical-align: top;\n",
              "    }\n",
              "\n",
              "    .dataframe thead th {\n",
              "        text-align: right;\n",
              "    }\n",
              "</style>\n",
              "<table border=\"1\" class=\"dataframe\">\n",
              "  <thead>\n",
              "    <tr style=\"text-align: right;\">\n",
              "      <th>Info</th>\n",
              "      <th>name</th>\n",
              "      <th>grade</th>\n",
              "      <th>score</th>\n",
              "    </tr>\n",
              "    <tr>\n",
              "      <th>No</th>\n",
              "      <th></th>\n",
              "      <th></th>\n",
              "      <th></th>\n",
              "    </tr>\n",
              "  </thead>\n",
              "  <tbody>\n",
              "    <tr>\n",
              "      <th>0</th>\n",
              "      <td>David</td>\n",
              "      <td>C</td>\n",
              "      <td>78</td>\n",
              "    </tr>\n",
              "    <tr>\n",
              "      <th>1</th>\n",
              "      <td>Roy</td>\n",
              "      <td>D</td>\n",
              "      <td>64</td>\n",
              "    </tr>\n",
              "    <tr>\n",
              "      <th>2</th>\n",
              "      <td>Tina</td>\n",
              "      <td>C</td>\n",
              "      <td>70</td>\n",
              "    </tr>\n",
              "    <tr>\n",
              "      <th>3</th>\n",
              "      <td>Kim</td>\n",
              "      <td>D</td>\n",
              "      <td>62</td>\n",
              "    </tr>\n",
              "  </tbody>\n",
              "</table>\n",
              "</div>"
            ],
            "text/plain": [
              "Info   name grade  score\n",
              "No                      \n",
              "0     David     C     78\n",
              "1       Roy     D     64\n",
              "2      Tina     C     70\n",
              "3       Kim     D     62"
            ]
          },
          "metadata": {
            "tags": []
          },
          "execution_count": 43
        }
      ]
    },
    {
      "cell_type": "code",
      "metadata": {
        "id": "-rvGz-f9O3oA",
        "colab_type": "code",
        "colab": {}
      },
      "source": [
        "data = {'name':['Lee', 'Hwang', 'Kim', 'Choi'],\n",
        "             'score':[100, 95, 90, 85],\n",
        "             'grade':['A', 'A', 'B', 'B']}\n",
        "c = ['name', 'grade', 'score', 'etc']\n",
        "df2 = pd.DataFrame(data, columns=c)\n",
        "df2"
      ],
      "execution_count": 0,
      "outputs": []
    },
    {
      "cell_type": "code",
      "metadata": {
        "id": "JjR4-yKSO3oC",
        "colab_type": "code",
        "outputId": "937c6582-9622-4a8e-ee3e-bb9d04a659fb",
        "colab": {
          "base_uri": "https://localhost:8080/",
          "height": 168
        }
      },
      "source": [
        "df2['etc'] = [11, 22, 33, 44]\n",
        "df2"
      ],
      "execution_count": 0,
      "outputs": [
        {
          "output_type": "execute_result",
          "data": {
            "text/html": [
              "<div>\n",
              "<style scoped>\n",
              "    .dataframe tbody tr th:only-of-type {\n",
              "        vertical-align: middle;\n",
              "    }\n",
              "\n",
              "    .dataframe tbody tr th {\n",
              "        vertical-align: top;\n",
              "    }\n",
              "\n",
              "    .dataframe thead th {\n",
              "        text-align: right;\n",
              "    }\n",
              "</style>\n",
              "<table border=\"1\" class=\"dataframe\">\n",
              "  <thead>\n",
              "    <tr style=\"text-align: right;\">\n",
              "      <th></th>\n",
              "      <th>name</th>\n",
              "      <th>grade</th>\n",
              "      <th>score</th>\n",
              "      <th>etc</th>\n",
              "    </tr>\n",
              "  </thead>\n",
              "  <tbody>\n",
              "    <tr>\n",
              "      <th>0</th>\n",
              "      <td>Lee</td>\n",
              "      <td>A</td>\n",
              "      <td>100</td>\n",
              "      <td>11</td>\n",
              "    </tr>\n",
              "    <tr>\n",
              "      <th>1</th>\n",
              "      <td>Hwang</td>\n",
              "      <td>A</td>\n",
              "      <td>95</td>\n",
              "      <td>22</td>\n",
              "    </tr>\n",
              "    <tr>\n",
              "      <th>2</th>\n",
              "      <td>Kim</td>\n",
              "      <td>B</td>\n",
              "      <td>90</td>\n",
              "      <td>33</td>\n",
              "    </tr>\n",
              "    <tr>\n",
              "      <th>3</th>\n",
              "      <td>Choi</td>\n",
              "      <td>B</td>\n",
              "      <td>85</td>\n",
              "      <td>44</td>\n",
              "    </tr>\n",
              "  </tbody>\n",
              "</table>\n",
              "</div>"
            ],
            "text/plain": [
              "    name grade  score  etc\n",
              "0    Lee     A    100   11\n",
              "1  Hwang     A     95   22\n",
              "2    Kim     B     90   33\n",
              "3   Choi     B     85   44"
            ]
          },
          "metadata": {
            "tags": []
          },
          "execution_count": 45
        }
      ]
    },
    {
      "cell_type": "code",
      "metadata": {
        "id": "impRH2DjO3oF",
        "colab_type": "code",
        "outputId": "72651658-4595-46f9-c2ed-cab40faf4dfd",
        "colab": {
          "base_uri": "https://localhost:8080/",
          "height": 168
        }
      },
      "source": [
        "df2['etc'] = 0\n",
        "df2"
      ],
      "execution_count": 0,
      "outputs": [
        {
          "output_type": "execute_result",
          "data": {
            "text/html": [
              "<div>\n",
              "<style scoped>\n",
              "    .dataframe tbody tr th:only-of-type {\n",
              "        vertical-align: middle;\n",
              "    }\n",
              "\n",
              "    .dataframe tbody tr th {\n",
              "        vertical-align: top;\n",
              "    }\n",
              "\n",
              "    .dataframe thead th {\n",
              "        text-align: right;\n",
              "    }\n",
              "</style>\n",
              "<table border=\"1\" class=\"dataframe\">\n",
              "  <thead>\n",
              "    <tr style=\"text-align: right;\">\n",
              "      <th></th>\n",
              "      <th>name</th>\n",
              "      <th>grade</th>\n",
              "      <th>score</th>\n",
              "      <th>etc</th>\n",
              "    </tr>\n",
              "  </thead>\n",
              "  <tbody>\n",
              "    <tr>\n",
              "      <th>0</th>\n",
              "      <td>Lee</td>\n",
              "      <td>A</td>\n",
              "      <td>100</td>\n",
              "      <td>0</td>\n",
              "    </tr>\n",
              "    <tr>\n",
              "      <th>1</th>\n",
              "      <td>Hwang</td>\n",
              "      <td>A</td>\n",
              "      <td>95</td>\n",
              "      <td>0</td>\n",
              "    </tr>\n",
              "    <tr>\n",
              "      <th>2</th>\n",
              "      <td>Kim</td>\n",
              "      <td>B</td>\n",
              "      <td>90</td>\n",
              "      <td>0</td>\n",
              "    </tr>\n",
              "    <tr>\n",
              "      <th>3</th>\n",
              "      <td>Choi</td>\n",
              "      <td>B</td>\n",
              "      <td>85</td>\n",
              "      <td>0</td>\n",
              "    </tr>\n",
              "  </tbody>\n",
              "</table>\n",
              "</div>"
            ],
            "text/plain": [
              "    name grade  score  etc\n",
              "0    Lee     A    100    0\n",
              "1  Hwang     A     95    0\n",
              "2    Kim     B     90    0\n",
              "3   Choi     B     85    0"
            ]
          },
          "metadata": {
            "tags": []
          },
          "execution_count": 46
        }
      ]
    },
    {
      "cell_type": "code",
      "metadata": {
        "id": "_IbXxLmsO3oI",
        "colab_type": "code",
        "outputId": "945090c0-9809-4280-b090-52eae90dc78c",
        "colab": {
          "base_uri": "https://localhost:8080/",
          "height": 168
        }
      },
      "source": [
        "import numpy as np\n",
        "df2['etc'] = np.empty(4)\n",
        "df2"
      ],
      "execution_count": 0,
      "outputs": [
        {
          "output_type": "execute_result",
          "data": {
            "text/html": [
              "<div>\n",
              "<style scoped>\n",
              "    .dataframe tbody tr th:only-of-type {\n",
              "        vertical-align: middle;\n",
              "    }\n",
              "\n",
              "    .dataframe tbody tr th {\n",
              "        vertical-align: top;\n",
              "    }\n",
              "\n",
              "    .dataframe thead th {\n",
              "        text-align: right;\n",
              "    }\n",
              "</style>\n",
              "<table border=\"1\" class=\"dataframe\">\n",
              "  <thead>\n",
              "    <tr style=\"text-align: right;\">\n",
              "      <th></th>\n",
              "      <th>name</th>\n",
              "      <th>grade</th>\n",
              "      <th>score</th>\n",
              "      <th>etc</th>\n",
              "    </tr>\n",
              "  </thead>\n",
              "  <tbody>\n",
              "    <tr>\n",
              "      <th>0</th>\n",
              "      <td>Lee</td>\n",
              "      <td>A</td>\n",
              "      <td>100</td>\n",
              "      <td>5.089003e-317</td>\n",
              "    </tr>\n",
              "    <tr>\n",
              "      <th>1</th>\n",
              "      <td>Hwang</td>\n",
              "      <td>A</td>\n",
              "      <td>95</td>\n",
              "      <td>5.089003e-317</td>\n",
              "    </tr>\n",
              "    <tr>\n",
              "      <th>2</th>\n",
              "      <td>Kim</td>\n",
              "      <td>B</td>\n",
              "      <td>90</td>\n",
              "      <td>5.089003e-317</td>\n",
              "    </tr>\n",
              "    <tr>\n",
              "      <th>3</th>\n",
              "      <td>Choi</td>\n",
              "      <td>B</td>\n",
              "      <td>85</td>\n",
              "      <td>5.089003e-317</td>\n",
              "    </tr>\n",
              "  </tbody>\n",
              "</table>\n",
              "</div>"
            ],
            "text/plain": [
              "    name grade  score            etc\n",
              "0    Lee     A    100  5.089003e-317\n",
              "1  Hwang     A     95  5.089003e-317\n",
              "2    Kim     B     90  5.089003e-317\n",
              "3   Choi     B     85  5.089003e-317"
            ]
          },
          "metadata": {
            "tags": []
          },
          "execution_count": 47
        }
      ]
    },
    {
      "cell_type": "markdown",
      "metadata": {
        "id": "yQC2sN1oO3oK",
        "colab_type": "text"
      },
      "source": [
        "### Quiz"
      ]
    },
    {
      "cell_type": "code",
      "metadata": {
        "id": "wHFzTkhgO3oL",
        "colab_type": "code",
        "outputId": "821d202a-4659-49b2-e6ab-7987935c394a",
        "colab": {
          "base_uri": "https://localhost:8080/",
          "height": 168
        }
      },
      "source": [
        "dict = {'name': ['David', 'Roy', 'Tina', 'Kim'],\n",
        "       'score': [78, 64, 70, 62],\n",
        "       'grade': ['C', 'D', 'C', 'D']}\n",
        "col = ['name', 'grade', 'score', 'etc']\n",
        "df2 = pd.DataFrame(dict, columns = col)\n",
        "df2"
      ],
      "execution_count": 0,
      "outputs": [
        {
          "output_type": "execute_result",
          "data": {
            "text/html": [
              "<div>\n",
              "<style scoped>\n",
              "    .dataframe tbody tr th:only-of-type {\n",
              "        vertical-align: middle;\n",
              "    }\n",
              "\n",
              "    .dataframe tbody tr th {\n",
              "        vertical-align: top;\n",
              "    }\n",
              "\n",
              "    .dataframe thead th {\n",
              "        text-align: right;\n",
              "    }\n",
              "</style>\n",
              "<table border=\"1\" class=\"dataframe\">\n",
              "  <thead>\n",
              "    <tr style=\"text-align: right;\">\n",
              "      <th></th>\n",
              "      <th>name</th>\n",
              "      <th>grade</th>\n",
              "      <th>score</th>\n",
              "      <th>etc</th>\n",
              "    </tr>\n",
              "  </thead>\n",
              "  <tbody>\n",
              "    <tr>\n",
              "      <th>0</th>\n",
              "      <td>David</td>\n",
              "      <td>C</td>\n",
              "      <td>78</td>\n",
              "      <td>NaN</td>\n",
              "    </tr>\n",
              "    <tr>\n",
              "      <th>1</th>\n",
              "      <td>Roy</td>\n",
              "      <td>D</td>\n",
              "      <td>64</td>\n",
              "      <td>NaN</td>\n",
              "    </tr>\n",
              "    <tr>\n",
              "      <th>2</th>\n",
              "      <td>Tina</td>\n",
              "      <td>C</td>\n",
              "      <td>70</td>\n",
              "      <td>NaN</td>\n",
              "    </tr>\n",
              "    <tr>\n",
              "      <th>3</th>\n",
              "      <td>Kim</td>\n",
              "      <td>D</td>\n",
              "      <td>62</td>\n",
              "      <td>NaN</td>\n",
              "    </tr>\n",
              "  </tbody>\n",
              "</table>\n",
              "</div>"
            ],
            "text/plain": [
              "    name grade  score  etc\n",
              "0  David     C     78  NaN\n",
              "1    Roy     D     64  NaN\n",
              "2   Tina     C     70  NaN\n",
              "3    Kim     D     62  NaN"
            ]
          },
          "metadata": {
            "tags": []
          },
          "execution_count": 48
        }
      ]
    },
    {
      "cell_type": "code",
      "metadata": {
        "id": "bwNjMcgZO3oM",
        "colab_type": "code",
        "outputId": "d7a7b069-abcd-4730-d341-689b4fcf2897",
        "colab": {
          "base_uri": "https://localhost:8080/",
          "height": 168
        }
      },
      "source": [
        "df2['etc'] = [99, 88, 77, 66]\n",
        "df2"
      ],
      "execution_count": 0,
      "outputs": [
        {
          "output_type": "execute_result",
          "data": {
            "text/html": [
              "<div>\n",
              "<style scoped>\n",
              "    .dataframe tbody tr th:only-of-type {\n",
              "        vertical-align: middle;\n",
              "    }\n",
              "\n",
              "    .dataframe tbody tr th {\n",
              "        vertical-align: top;\n",
              "    }\n",
              "\n",
              "    .dataframe thead th {\n",
              "        text-align: right;\n",
              "    }\n",
              "</style>\n",
              "<table border=\"1\" class=\"dataframe\">\n",
              "  <thead>\n",
              "    <tr style=\"text-align: right;\">\n",
              "      <th></th>\n",
              "      <th>name</th>\n",
              "      <th>grade</th>\n",
              "      <th>score</th>\n",
              "      <th>etc</th>\n",
              "    </tr>\n",
              "  </thead>\n",
              "  <tbody>\n",
              "    <tr>\n",
              "      <th>0</th>\n",
              "      <td>David</td>\n",
              "      <td>C</td>\n",
              "      <td>78</td>\n",
              "      <td>99</td>\n",
              "    </tr>\n",
              "    <tr>\n",
              "      <th>1</th>\n",
              "      <td>Roy</td>\n",
              "      <td>D</td>\n",
              "      <td>64</td>\n",
              "      <td>88</td>\n",
              "    </tr>\n",
              "    <tr>\n",
              "      <th>2</th>\n",
              "      <td>Tina</td>\n",
              "      <td>C</td>\n",
              "      <td>70</td>\n",
              "      <td>77</td>\n",
              "    </tr>\n",
              "    <tr>\n",
              "      <th>3</th>\n",
              "      <td>Kim</td>\n",
              "      <td>D</td>\n",
              "      <td>62</td>\n",
              "      <td>66</td>\n",
              "    </tr>\n",
              "  </tbody>\n",
              "</table>\n",
              "</div>"
            ],
            "text/plain": [
              "    name grade  score  etc\n",
              "0  David     C     78   99\n",
              "1    Roy     D     64   88\n",
              "2   Tina     C     70   77\n",
              "3    Kim     D     62   66"
            ]
          },
          "metadata": {
            "tags": []
          },
          "execution_count": 49
        }
      ]
    },
    {
      "cell_type": "code",
      "metadata": {
        "id": "b71QmbZrO3oO",
        "colab_type": "code",
        "outputId": "f9fefffc-2b3f-4f07-8df0-5cfd65a44911",
        "colab": {
          "base_uri": "https://localhost:8080/",
          "height": 168
        }
      },
      "source": [
        "df2['etc'] = np.ones(4, dtype=np.int)\n",
        "df2"
      ],
      "execution_count": 0,
      "outputs": [
        {
          "output_type": "execute_result",
          "data": {
            "text/html": [
              "<div>\n",
              "<style scoped>\n",
              "    .dataframe tbody tr th:only-of-type {\n",
              "        vertical-align: middle;\n",
              "    }\n",
              "\n",
              "    .dataframe tbody tr th {\n",
              "        vertical-align: top;\n",
              "    }\n",
              "\n",
              "    .dataframe thead th {\n",
              "        text-align: right;\n",
              "    }\n",
              "</style>\n",
              "<table border=\"1\" class=\"dataframe\">\n",
              "  <thead>\n",
              "    <tr style=\"text-align: right;\">\n",
              "      <th></th>\n",
              "      <th>name</th>\n",
              "      <th>grade</th>\n",
              "      <th>score</th>\n",
              "      <th>etc</th>\n",
              "    </tr>\n",
              "  </thead>\n",
              "  <tbody>\n",
              "    <tr>\n",
              "      <th>0</th>\n",
              "      <td>David</td>\n",
              "      <td>C</td>\n",
              "      <td>78</td>\n",
              "      <td>1</td>\n",
              "    </tr>\n",
              "    <tr>\n",
              "      <th>1</th>\n",
              "      <td>Roy</td>\n",
              "      <td>D</td>\n",
              "      <td>64</td>\n",
              "      <td>1</td>\n",
              "    </tr>\n",
              "    <tr>\n",
              "      <th>2</th>\n",
              "      <td>Tina</td>\n",
              "      <td>C</td>\n",
              "      <td>70</td>\n",
              "      <td>1</td>\n",
              "    </tr>\n",
              "    <tr>\n",
              "      <th>3</th>\n",
              "      <td>Kim</td>\n",
              "      <td>D</td>\n",
              "      <td>62</td>\n",
              "      <td>1</td>\n",
              "    </tr>\n",
              "  </tbody>\n",
              "</table>\n",
              "</div>"
            ],
            "text/plain": [
              "    name grade  score  etc\n",
              "0  David     C     78    1\n",
              "1    Roy     D     64    1\n",
              "2   Tina     C     70    1\n",
              "3    Kim     D     62    1"
            ]
          },
          "metadata": {
            "tags": []
          },
          "execution_count": 50
        }
      ]
    },
    {
      "cell_type": "markdown",
      "metadata": {
        "id": "_hUELF_IO3oQ",
        "colab_type": "text"
      },
      "source": [
        "### 예제 "
      ]
    },
    {
      "cell_type": "code",
      "metadata": {
        "id": "woEMgeS_O3oR",
        "colab_type": "code",
        "outputId": "df4f4a3e-a003-4269-b15b-696403f171df",
        "colab": {
          "base_uri": "https://localhost:8080/",
          "height": 168
        }
      },
      "source": [
        "data = {'name':['Lee', 'Hwang', 'Kim', 'Choi'],\n",
        "     'score':[100, 95, 90, 85],\n",
        "      'grade':['A', 'A', 'B', 'B']}\n",
        "df2 = pd.DataFrame(data)\n",
        "df2['etc'] = np.zeros(4)\n",
        "df2\n"
      ],
      "execution_count": 0,
      "outputs": [
        {
          "output_type": "execute_result",
          "data": {
            "text/html": [
              "<div>\n",
              "<style scoped>\n",
              "    .dataframe tbody tr th:only-of-type {\n",
              "        vertical-align: middle;\n",
              "    }\n",
              "\n",
              "    .dataframe tbody tr th {\n",
              "        vertical-align: top;\n",
              "    }\n",
              "\n",
              "    .dataframe thead th {\n",
              "        text-align: right;\n",
              "    }\n",
              "</style>\n",
              "<table border=\"1\" class=\"dataframe\">\n",
              "  <thead>\n",
              "    <tr style=\"text-align: right;\">\n",
              "      <th></th>\n",
              "      <th>name</th>\n",
              "      <th>score</th>\n",
              "      <th>grade</th>\n",
              "      <th>etc</th>\n",
              "    </tr>\n",
              "  </thead>\n",
              "  <tbody>\n",
              "    <tr>\n",
              "      <th>0</th>\n",
              "      <td>Lee</td>\n",
              "      <td>100</td>\n",
              "      <td>A</td>\n",
              "      <td>0.0</td>\n",
              "    </tr>\n",
              "    <tr>\n",
              "      <th>1</th>\n",
              "      <td>Hwang</td>\n",
              "      <td>95</td>\n",
              "      <td>A</td>\n",
              "      <td>0.0</td>\n",
              "    </tr>\n",
              "    <tr>\n",
              "      <th>2</th>\n",
              "      <td>Kim</td>\n",
              "      <td>90</td>\n",
              "      <td>B</td>\n",
              "      <td>0.0</td>\n",
              "    </tr>\n",
              "    <tr>\n",
              "      <th>3</th>\n",
              "      <td>Choi</td>\n",
              "      <td>85</td>\n",
              "      <td>B</td>\n",
              "      <td>0.0</td>\n",
              "    </tr>\n",
              "  </tbody>\n",
              "</table>\n",
              "</div>"
            ],
            "text/plain": [
              "    name  score grade  etc\n",
              "0    Lee    100     A  0.0\n",
              "1  Hwang     95     A  0.0\n",
              "2    Kim     90     B  0.0\n",
              "3   Choi     85     B  0.0"
            ]
          },
          "metadata": {
            "tags": []
          },
          "execution_count": 51
        }
      ]
    },
    {
      "cell_type": "code",
      "metadata": {
        "id": "amiM8QXVO3oU",
        "colab_type": "code",
        "outputId": "480dc9e1-9625-4a97-85a5-74b02e1c68a9",
        "colab": {
          "base_uri": "https://localhost:8080/",
          "height": 91
        }
      },
      "source": [
        "points = pd.Series([1.5, 1.7, 2.4], index=[0, 1, 2])\n",
        "points"
      ],
      "execution_count": 0,
      "outputs": [
        {
          "output_type": "execute_result",
          "data": {
            "text/plain": [
              "0    1.5\n",
              "1    1.7\n",
              "2    2.4\n",
              "dtype: float64"
            ]
          },
          "metadata": {
            "tags": []
          },
          "execution_count": 52
        }
      ]
    },
    {
      "cell_type": "code",
      "metadata": {
        "id": "Zx1V8RF6O3oV",
        "colab_type": "code",
        "outputId": "906440bf-0b3f-4e0d-dd49-b6d9076ceee6",
        "colab": {
          "base_uri": "https://localhost:8080/",
          "height": 36
        }
      },
      "source": [
        "type(points)"
      ],
      "execution_count": 0,
      "outputs": [
        {
          "output_type": "execute_result",
          "data": {
            "text/plain": [
              "pandas.core.series.Series"
            ]
          },
          "metadata": {
            "tags": []
          },
          "execution_count": 53
        }
      ]
    },
    {
      "cell_type": "code",
      "metadata": {
        "id": "iU6KTDLYO3oX",
        "colab_type": "code",
        "outputId": "34e2faad-32fa-40db-ae47-66d5c1c59889",
        "colab": {
          "base_uri": "https://localhost:8080/",
          "height": 168
        }
      },
      "source": [
        "df2['points'] = points\n",
        "df2"
      ],
      "execution_count": 0,
      "outputs": [
        {
          "output_type": "execute_result",
          "data": {
            "text/html": [
              "<div>\n",
              "<style scoped>\n",
              "    .dataframe tbody tr th:only-of-type {\n",
              "        vertical-align: middle;\n",
              "    }\n",
              "\n",
              "    .dataframe tbody tr th {\n",
              "        vertical-align: top;\n",
              "    }\n",
              "\n",
              "    .dataframe thead th {\n",
              "        text-align: right;\n",
              "    }\n",
              "</style>\n",
              "<table border=\"1\" class=\"dataframe\">\n",
              "  <thead>\n",
              "    <tr style=\"text-align: right;\">\n",
              "      <th></th>\n",
              "      <th>name</th>\n",
              "      <th>score</th>\n",
              "      <th>grade</th>\n",
              "      <th>etc</th>\n",
              "      <th>points</th>\n",
              "    </tr>\n",
              "  </thead>\n",
              "  <tbody>\n",
              "    <tr>\n",
              "      <th>0</th>\n",
              "      <td>Lee</td>\n",
              "      <td>100</td>\n",
              "      <td>A</td>\n",
              "      <td>0.0</td>\n",
              "      <td>1.5</td>\n",
              "    </tr>\n",
              "    <tr>\n",
              "      <th>1</th>\n",
              "      <td>Hwang</td>\n",
              "      <td>95</td>\n",
              "      <td>A</td>\n",
              "      <td>0.0</td>\n",
              "      <td>1.7</td>\n",
              "    </tr>\n",
              "    <tr>\n",
              "      <th>2</th>\n",
              "      <td>Kim</td>\n",
              "      <td>90</td>\n",
              "      <td>B</td>\n",
              "      <td>0.0</td>\n",
              "      <td>2.4</td>\n",
              "    </tr>\n",
              "    <tr>\n",
              "      <th>3</th>\n",
              "      <td>Choi</td>\n",
              "      <td>85</td>\n",
              "      <td>B</td>\n",
              "      <td>0.0</td>\n",
              "      <td>NaN</td>\n",
              "    </tr>\n",
              "  </tbody>\n",
              "</table>\n",
              "</div>"
            ],
            "text/plain": [
              "    name  score grade  etc  points\n",
              "0    Lee    100     A  0.0     1.5\n",
              "1  Hwang     95     A  0.0     1.7\n",
              "2    Kim     90     B  0.0     2.4\n",
              "3   Choi     85     B  0.0     NaN"
            ]
          },
          "metadata": {
            "tags": []
          },
          "execution_count": 54
        }
      ]
    },
    {
      "cell_type": "code",
      "metadata": {
        "id": "3V4OnzIlO3oZ",
        "colab_type": "code",
        "outputId": "e01a8c10-6fca-40e9-e42c-1804198d7ea0",
        "colab": {
          "base_uri": "https://localhost:8080/",
          "height": 168
        }
      },
      "source": [
        "df2['high_score'] = df2['score'] > 90\n",
        "df2"
      ],
      "execution_count": 0,
      "outputs": [
        {
          "output_type": "execute_result",
          "data": {
            "text/html": [
              "<div>\n",
              "<style scoped>\n",
              "    .dataframe tbody tr th:only-of-type {\n",
              "        vertical-align: middle;\n",
              "    }\n",
              "\n",
              "    .dataframe tbody tr th {\n",
              "        vertical-align: top;\n",
              "    }\n",
              "\n",
              "    .dataframe thead th {\n",
              "        text-align: right;\n",
              "    }\n",
              "</style>\n",
              "<table border=\"1\" class=\"dataframe\">\n",
              "  <thead>\n",
              "    <tr style=\"text-align: right;\">\n",
              "      <th></th>\n",
              "      <th>name</th>\n",
              "      <th>score</th>\n",
              "      <th>grade</th>\n",
              "      <th>etc</th>\n",
              "      <th>points</th>\n",
              "      <th>high_score</th>\n",
              "    </tr>\n",
              "  </thead>\n",
              "  <tbody>\n",
              "    <tr>\n",
              "      <th>0</th>\n",
              "      <td>Lee</td>\n",
              "      <td>100</td>\n",
              "      <td>A</td>\n",
              "      <td>0.0</td>\n",
              "      <td>1.5</td>\n",
              "      <td>True</td>\n",
              "    </tr>\n",
              "    <tr>\n",
              "      <th>1</th>\n",
              "      <td>Hwang</td>\n",
              "      <td>95</td>\n",
              "      <td>A</td>\n",
              "      <td>0.0</td>\n",
              "      <td>1.7</td>\n",
              "      <td>True</td>\n",
              "    </tr>\n",
              "    <tr>\n",
              "      <th>2</th>\n",
              "      <td>Kim</td>\n",
              "      <td>90</td>\n",
              "      <td>B</td>\n",
              "      <td>0.0</td>\n",
              "      <td>2.4</td>\n",
              "      <td>False</td>\n",
              "    </tr>\n",
              "    <tr>\n",
              "      <th>3</th>\n",
              "      <td>Choi</td>\n",
              "      <td>85</td>\n",
              "      <td>B</td>\n",
              "      <td>0.0</td>\n",
              "      <td>NaN</td>\n",
              "      <td>False</td>\n",
              "    </tr>\n",
              "  </tbody>\n",
              "</table>\n",
              "</div>"
            ],
            "text/plain": [
              "    name  score grade  etc  points  high_score\n",
              "0    Lee    100     A  0.0     1.5        True\n",
              "1  Hwang     95     A  0.0     1.7        True\n",
              "2    Kim     90     B  0.0     2.4       False\n",
              "3   Choi     85     B  0.0     NaN       False"
            ]
          },
          "metadata": {
            "tags": []
          },
          "execution_count": 55
        }
      ]
    },
    {
      "cell_type": "code",
      "metadata": {
        "id": "9x9eel6XO3ob",
        "colab_type": "code",
        "outputId": "f43f5888-2e4d-497e-ed10-225e96ce0302",
        "colab": {
          "base_uri": "https://localhost:8080/",
          "height": 198
        }
      },
      "source": [
        "df2.loc[5, :] = ['Su', 'C', 7.0, 0.0, 1.1, False]\n",
        "df2"
      ],
      "execution_count": 0,
      "outputs": [
        {
          "output_type": "execute_result",
          "data": {
            "text/html": [
              "<div>\n",
              "<style scoped>\n",
              "    .dataframe tbody tr th:only-of-type {\n",
              "        vertical-align: middle;\n",
              "    }\n",
              "\n",
              "    .dataframe tbody tr th {\n",
              "        vertical-align: top;\n",
              "    }\n",
              "\n",
              "    .dataframe thead th {\n",
              "        text-align: right;\n",
              "    }\n",
              "</style>\n",
              "<table border=\"1\" class=\"dataframe\">\n",
              "  <thead>\n",
              "    <tr style=\"text-align: right;\">\n",
              "      <th></th>\n",
              "      <th>name</th>\n",
              "      <th>score</th>\n",
              "      <th>grade</th>\n",
              "      <th>etc</th>\n",
              "      <th>points</th>\n",
              "      <th>high_score</th>\n",
              "    </tr>\n",
              "  </thead>\n",
              "  <tbody>\n",
              "    <tr>\n",
              "      <th>0</th>\n",
              "      <td>Lee</td>\n",
              "      <td>100</td>\n",
              "      <td>A</td>\n",
              "      <td>0.0</td>\n",
              "      <td>1.5</td>\n",
              "      <td>True</td>\n",
              "    </tr>\n",
              "    <tr>\n",
              "      <th>1</th>\n",
              "      <td>Hwang</td>\n",
              "      <td>95</td>\n",
              "      <td>A</td>\n",
              "      <td>0.0</td>\n",
              "      <td>1.7</td>\n",
              "      <td>True</td>\n",
              "    </tr>\n",
              "    <tr>\n",
              "      <th>2</th>\n",
              "      <td>Kim</td>\n",
              "      <td>90</td>\n",
              "      <td>B</td>\n",
              "      <td>0.0</td>\n",
              "      <td>2.4</td>\n",
              "      <td>False</td>\n",
              "    </tr>\n",
              "    <tr>\n",
              "      <th>3</th>\n",
              "      <td>Choi</td>\n",
              "      <td>85</td>\n",
              "      <td>B</td>\n",
              "      <td>0.0</td>\n",
              "      <td>NaN</td>\n",
              "      <td>False</td>\n",
              "    </tr>\n",
              "    <tr>\n",
              "      <th>5</th>\n",
              "      <td>Su</td>\n",
              "      <td>C</td>\n",
              "      <td>7</td>\n",
              "      <td>0.0</td>\n",
              "      <td>1.1</td>\n",
              "      <td>False</td>\n",
              "    </tr>\n",
              "  </tbody>\n",
              "</table>\n",
              "</div>"
            ],
            "text/plain": [
              "    name score grade  etc  points  high_score\n",
              "0    Lee   100     A  0.0     1.5        True\n",
              "1  Hwang    95     A  0.0     1.7        True\n",
              "2    Kim    90     B  0.0     2.4       False\n",
              "3   Choi    85     B  0.0     NaN       False\n",
              "5     Su     C     7  0.0     1.1       False"
            ]
          },
          "metadata": {
            "tags": []
          },
          "execution_count": 56
        }
      ]
    },
    {
      "cell_type": "code",
      "metadata": {
        "id": "hZHTynxHO3oc",
        "colab_type": "code",
        "outputId": "4e4ea450-bd43-423d-fa5e-e8acaab16abb",
        "colab": {
          "base_uri": "https://localhost:8080/",
          "height": 198
        }
      },
      "source": [
        "del df2['etc']\n",
        "df2"
      ],
      "execution_count": 0,
      "outputs": [
        {
          "output_type": "execute_result",
          "data": {
            "text/html": [
              "<div>\n",
              "<style scoped>\n",
              "    .dataframe tbody tr th:only-of-type {\n",
              "        vertical-align: middle;\n",
              "    }\n",
              "\n",
              "    .dataframe tbody tr th {\n",
              "        vertical-align: top;\n",
              "    }\n",
              "\n",
              "    .dataframe thead th {\n",
              "        text-align: right;\n",
              "    }\n",
              "</style>\n",
              "<table border=\"1\" class=\"dataframe\">\n",
              "  <thead>\n",
              "    <tr style=\"text-align: right;\">\n",
              "      <th></th>\n",
              "      <th>name</th>\n",
              "      <th>score</th>\n",
              "      <th>grade</th>\n",
              "      <th>points</th>\n",
              "      <th>high_score</th>\n",
              "    </tr>\n",
              "  </thead>\n",
              "  <tbody>\n",
              "    <tr>\n",
              "      <th>0</th>\n",
              "      <td>Lee</td>\n",
              "      <td>100</td>\n",
              "      <td>A</td>\n",
              "      <td>1.5</td>\n",
              "      <td>True</td>\n",
              "    </tr>\n",
              "    <tr>\n",
              "      <th>1</th>\n",
              "      <td>Hwang</td>\n",
              "      <td>95</td>\n",
              "      <td>A</td>\n",
              "      <td>1.7</td>\n",
              "      <td>True</td>\n",
              "    </tr>\n",
              "    <tr>\n",
              "      <th>2</th>\n",
              "      <td>Kim</td>\n",
              "      <td>90</td>\n",
              "      <td>B</td>\n",
              "      <td>2.4</td>\n",
              "      <td>False</td>\n",
              "    </tr>\n",
              "    <tr>\n",
              "      <th>3</th>\n",
              "      <td>Choi</td>\n",
              "      <td>85</td>\n",
              "      <td>B</td>\n",
              "      <td>NaN</td>\n",
              "      <td>False</td>\n",
              "    </tr>\n",
              "    <tr>\n",
              "      <th>5</th>\n",
              "      <td>Su</td>\n",
              "      <td>C</td>\n",
              "      <td>7</td>\n",
              "      <td>1.1</td>\n",
              "      <td>False</td>\n",
              "    </tr>\n",
              "  </tbody>\n",
              "</table>\n",
              "</div>"
            ],
            "text/plain": [
              "    name score grade  points  high_score\n",
              "0    Lee   100     A     1.5        True\n",
              "1  Hwang    95     A     1.7        True\n",
              "2    Kim    90     B     2.4       False\n",
              "3   Choi    85     B     NaN       False\n",
              "5     Su     C     7     1.1       False"
            ]
          },
          "metadata": {
            "tags": []
          },
          "execution_count": 57
        }
      ]
    },
    {
      "cell_type": "code",
      "metadata": {
        "id": "ta2eqlUmO3oe",
        "colab_type": "code",
        "outputId": "c6481924-25a7-460b-df90-887fb650889b",
        "colab": {
          "base_uri": "https://localhost:8080/",
          "height": 168
        }
      },
      "source": [
        "df2.drop(5)"
      ],
      "execution_count": 0,
      "outputs": [
        {
          "output_type": "execute_result",
          "data": {
            "text/html": [
              "<div>\n",
              "<style scoped>\n",
              "    .dataframe tbody tr th:only-of-type {\n",
              "        vertical-align: middle;\n",
              "    }\n",
              "\n",
              "    .dataframe tbody tr th {\n",
              "        vertical-align: top;\n",
              "    }\n",
              "\n",
              "    .dataframe thead th {\n",
              "        text-align: right;\n",
              "    }\n",
              "</style>\n",
              "<table border=\"1\" class=\"dataframe\">\n",
              "  <thead>\n",
              "    <tr style=\"text-align: right;\">\n",
              "      <th></th>\n",
              "      <th>name</th>\n",
              "      <th>score</th>\n",
              "      <th>grade</th>\n",
              "      <th>points</th>\n",
              "      <th>high_score</th>\n",
              "    </tr>\n",
              "  </thead>\n",
              "  <tbody>\n",
              "    <tr>\n",
              "      <th>0</th>\n",
              "      <td>Lee</td>\n",
              "      <td>100</td>\n",
              "      <td>A</td>\n",
              "      <td>1.5</td>\n",
              "      <td>True</td>\n",
              "    </tr>\n",
              "    <tr>\n",
              "      <th>1</th>\n",
              "      <td>Hwang</td>\n",
              "      <td>95</td>\n",
              "      <td>A</td>\n",
              "      <td>1.7</td>\n",
              "      <td>True</td>\n",
              "    </tr>\n",
              "    <tr>\n",
              "      <th>2</th>\n",
              "      <td>Kim</td>\n",
              "      <td>90</td>\n",
              "      <td>B</td>\n",
              "      <td>2.4</td>\n",
              "      <td>False</td>\n",
              "    </tr>\n",
              "    <tr>\n",
              "      <th>3</th>\n",
              "      <td>Choi</td>\n",
              "      <td>85</td>\n",
              "      <td>B</td>\n",
              "      <td>NaN</td>\n",
              "      <td>False</td>\n",
              "    </tr>\n",
              "  </tbody>\n",
              "</table>\n",
              "</div>"
            ],
            "text/plain": [
              "    name score grade  points  high_score\n",
              "0    Lee   100     A     1.5        True\n",
              "1  Hwang    95     A     1.7        True\n",
              "2    Kim    90     B     2.4       False\n",
              "3   Choi    85     B     NaN       False"
            ]
          },
          "metadata": {
            "tags": []
          },
          "execution_count": 58
        }
      ]
    },
    {
      "cell_type": "code",
      "metadata": {
        "id": "cGAFsrtBO3of",
        "colab_type": "code",
        "outputId": "03a1c692-4390-456c-fdd3-109769a809ff",
        "colab": {
          "base_uri": "https://localhost:8080/",
          "height": 198
        }
      },
      "source": [
        "df2\n"
      ],
      "execution_count": 0,
      "outputs": [
        {
          "output_type": "execute_result",
          "data": {
            "text/html": [
              "<div>\n",
              "<style scoped>\n",
              "    .dataframe tbody tr th:only-of-type {\n",
              "        vertical-align: middle;\n",
              "    }\n",
              "\n",
              "    .dataframe tbody tr th {\n",
              "        vertical-align: top;\n",
              "    }\n",
              "\n",
              "    .dataframe thead th {\n",
              "        text-align: right;\n",
              "    }\n",
              "</style>\n",
              "<table border=\"1\" class=\"dataframe\">\n",
              "  <thead>\n",
              "    <tr style=\"text-align: right;\">\n",
              "      <th></th>\n",
              "      <th>name</th>\n",
              "      <th>score</th>\n",
              "      <th>grade</th>\n",
              "      <th>points</th>\n",
              "      <th>high_score</th>\n",
              "    </tr>\n",
              "  </thead>\n",
              "  <tbody>\n",
              "    <tr>\n",
              "      <th>0</th>\n",
              "      <td>Lee</td>\n",
              "      <td>100</td>\n",
              "      <td>A</td>\n",
              "      <td>1.5</td>\n",
              "      <td>True</td>\n",
              "    </tr>\n",
              "    <tr>\n",
              "      <th>1</th>\n",
              "      <td>Hwang</td>\n",
              "      <td>95</td>\n",
              "      <td>A</td>\n",
              "      <td>1.7</td>\n",
              "      <td>True</td>\n",
              "    </tr>\n",
              "    <tr>\n",
              "      <th>2</th>\n",
              "      <td>Kim</td>\n",
              "      <td>90</td>\n",
              "      <td>B</td>\n",
              "      <td>2.4</td>\n",
              "      <td>False</td>\n",
              "    </tr>\n",
              "    <tr>\n",
              "      <th>3</th>\n",
              "      <td>Choi</td>\n",
              "      <td>85</td>\n",
              "      <td>B</td>\n",
              "      <td>NaN</td>\n",
              "      <td>False</td>\n",
              "    </tr>\n",
              "    <tr>\n",
              "      <th>5</th>\n",
              "      <td>Su</td>\n",
              "      <td>C</td>\n",
              "      <td>7</td>\n",
              "      <td>1.1</td>\n",
              "      <td>False</td>\n",
              "    </tr>\n",
              "  </tbody>\n",
              "</table>\n",
              "</div>"
            ],
            "text/plain": [
              "    name score grade  points  high_score\n",
              "0    Lee   100     A     1.5        True\n",
              "1  Hwang    95     A     1.7        True\n",
              "2    Kim    90     B     2.4       False\n",
              "3   Choi    85     B     NaN       False\n",
              "5     Su     C     7     1.1       False"
            ]
          },
          "metadata": {
            "tags": []
          },
          "execution_count": 59
        }
      ]
    },
    {
      "cell_type": "code",
      "metadata": {
        "id": "MJLqUcVAO3oj",
        "colab_type": "code",
        "outputId": "9eff5902-a027-4729-9e05-b8a4e82a0b9d",
        "colab": {
          "base_uri": "https://localhost:8080/",
          "height": 228
        }
      },
      "source": [
        "df2.set_index('name', inplace=True)\n",
        "df2"
      ],
      "execution_count": 0,
      "outputs": [
        {
          "output_type": "execute_result",
          "data": {
            "text/html": [
              "<div>\n",
              "<style scoped>\n",
              "    .dataframe tbody tr th:only-of-type {\n",
              "        vertical-align: middle;\n",
              "    }\n",
              "\n",
              "    .dataframe tbody tr th {\n",
              "        vertical-align: top;\n",
              "    }\n",
              "\n",
              "    .dataframe thead th {\n",
              "        text-align: right;\n",
              "    }\n",
              "</style>\n",
              "<table border=\"1\" class=\"dataframe\">\n",
              "  <thead>\n",
              "    <tr style=\"text-align: right;\">\n",
              "      <th></th>\n",
              "      <th>score</th>\n",
              "      <th>grade</th>\n",
              "      <th>points</th>\n",
              "      <th>high_score</th>\n",
              "    </tr>\n",
              "    <tr>\n",
              "      <th>name</th>\n",
              "      <th></th>\n",
              "      <th></th>\n",
              "      <th></th>\n",
              "      <th></th>\n",
              "    </tr>\n",
              "  </thead>\n",
              "  <tbody>\n",
              "    <tr>\n",
              "      <th>Lee</th>\n",
              "      <td>100</td>\n",
              "      <td>A</td>\n",
              "      <td>1.5</td>\n",
              "      <td>True</td>\n",
              "    </tr>\n",
              "    <tr>\n",
              "      <th>Hwang</th>\n",
              "      <td>95</td>\n",
              "      <td>A</td>\n",
              "      <td>1.7</td>\n",
              "      <td>True</td>\n",
              "    </tr>\n",
              "    <tr>\n",
              "      <th>Kim</th>\n",
              "      <td>90</td>\n",
              "      <td>B</td>\n",
              "      <td>2.4</td>\n",
              "      <td>False</td>\n",
              "    </tr>\n",
              "    <tr>\n",
              "      <th>Choi</th>\n",
              "      <td>85</td>\n",
              "      <td>B</td>\n",
              "      <td>NaN</td>\n",
              "      <td>False</td>\n",
              "    </tr>\n",
              "    <tr>\n",
              "      <th>Su</th>\n",
              "      <td>C</td>\n",
              "      <td>7</td>\n",
              "      <td>1.1</td>\n",
              "      <td>False</td>\n",
              "    </tr>\n",
              "  </tbody>\n",
              "</table>\n",
              "</div>"
            ],
            "text/plain": [
              "      score grade  points  high_score\n",
              "name                                 \n",
              "Lee     100     A     1.5        True\n",
              "Hwang    95     A     1.7        True\n",
              "Kim      90     B     2.4       False\n",
              "Choi     85     B     NaN       False\n",
              "Su        C     7     1.1       False"
            ]
          },
          "metadata": {
            "tags": []
          },
          "execution_count": 60
        }
      ]
    },
    {
      "cell_type": "code",
      "metadata": {
        "id": "ViuC8n4gO3ol",
        "colab_type": "code",
        "outputId": "9f6f7d4e-9c1a-4855-cc01-fbd119e7e65c",
        "colab": {
          "base_uri": "https://localhost:8080/",
          "height": 138
        }
      },
      "source": [
        "df2[1:3]"
      ],
      "execution_count": 0,
      "outputs": [
        {
          "output_type": "execute_result",
          "data": {
            "text/html": [
              "<div>\n",
              "<style scoped>\n",
              "    .dataframe tbody tr th:only-of-type {\n",
              "        vertical-align: middle;\n",
              "    }\n",
              "\n",
              "    .dataframe tbody tr th {\n",
              "        vertical-align: top;\n",
              "    }\n",
              "\n",
              "    .dataframe thead th {\n",
              "        text-align: right;\n",
              "    }\n",
              "</style>\n",
              "<table border=\"1\" class=\"dataframe\">\n",
              "  <thead>\n",
              "    <tr style=\"text-align: right;\">\n",
              "      <th></th>\n",
              "      <th>score</th>\n",
              "      <th>grade</th>\n",
              "      <th>points</th>\n",
              "      <th>high_score</th>\n",
              "    </tr>\n",
              "    <tr>\n",
              "      <th>name</th>\n",
              "      <th></th>\n",
              "      <th></th>\n",
              "      <th></th>\n",
              "      <th></th>\n",
              "    </tr>\n",
              "  </thead>\n",
              "  <tbody>\n",
              "    <tr>\n",
              "      <th>Hwang</th>\n",
              "      <td>95</td>\n",
              "      <td>A</td>\n",
              "      <td>1.7</td>\n",
              "      <td>True</td>\n",
              "    </tr>\n",
              "    <tr>\n",
              "      <th>Kim</th>\n",
              "      <td>90</td>\n",
              "      <td>B</td>\n",
              "      <td>2.4</td>\n",
              "      <td>False</td>\n",
              "    </tr>\n",
              "  </tbody>\n",
              "</table>\n",
              "</div>"
            ],
            "text/plain": [
              "      score grade  points  high_score\n",
              "name                                 \n",
              "Hwang    95     A     1.7        True\n",
              "Kim      90     B     2.4       False"
            ]
          },
          "metadata": {
            "tags": []
          },
          "execution_count": 61
        }
      ]
    },
    {
      "cell_type": "code",
      "metadata": {
        "id": "FqZenY7_O3on",
        "colab_type": "code",
        "outputId": "c25649d9-1729-4b8a-f882-cccf4b5c3136",
        "colab": {
          "base_uri": "https://localhost:8080/",
          "height": 138
        }
      },
      "source": [
        "df2[:2]"
      ],
      "execution_count": 0,
      "outputs": [
        {
          "output_type": "execute_result",
          "data": {
            "text/html": [
              "<div>\n",
              "<style scoped>\n",
              "    .dataframe tbody tr th:only-of-type {\n",
              "        vertical-align: middle;\n",
              "    }\n",
              "\n",
              "    .dataframe tbody tr th {\n",
              "        vertical-align: top;\n",
              "    }\n",
              "\n",
              "    .dataframe thead th {\n",
              "        text-align: right;\n",
              "    }\n",
              "</style>\n",
              "<table border=\"1\" class=\"dataframe\">\n",
              "  <thead>\n",
              "    <tr style=\"text-align: right;\">\n",
              "      <th></th>\n",
              "      <th>score</th>\n",
              "      <th>grade</th>\n",
              "      <th>points</th>\n",
              "      <th>high_score</th>\n",
              "    </tr>\n",
              "    <tr>\n",
              "      <th>name</th>\n",
              "      <th></th>\n",
              "      <th></th>\n",
              "      <th></th>\n",
              "      <th></th>\n",
              "    </tr>\n",
              "  </thead>\n",
              "  <tbody>\n",
              "    <tr>\n",
              "      <th>Lee</th>\n",
              "      <td>100</td>\n",
              "      <td>A</td>\n",
              "      <td>1.5</td>\n",
              "      <td>True</td>\n",
              "    </tr>\n",
              "    <tr>\n",
              "      <th>Hwang</th>\n",
              "      <td>95</td>\n",
              "      <td>A</td>\n",
              "      <td>1.7</td>\n",
              "      <td>True</td>\n",
              "    </tr>\n",
              "  </tbody>\n",
              "</table>\n",
              "</div>"
            ],
            "text/plain": [
              "      score grade  points  high_score\n",
              "name                                 \n",
              "Lee     100     A     1.5        True\n",
              "Hwang    95     A     1.7        True"
            ]
          },
          "metadata": {
            "tags": []
          },
          "execution_count": 62
        }
      ]
    },
    {
      "cell_type": "code",
      "metadata": {
        "id": "kBgDD31WO3op",
        "colab_type": "code",
        "outputId": "73ae4e20-3f97-4553-f4e4-712d0067ff99",
        "colab": {
          "base_uri": "https://localhost:8080/",
          "height": 110
        }
      },
      "source": [
        "df2.loc['Lee']"
      ],
      "execution_count": 0,
      "outputs": [
        {
          "output_type": "execute_result",
          "data": {
            "text/plain": [
              "score          100\n",
              "grade            A\n",
              "points         1.5\n",
              "high_score    True\n",
              "Name: Lee, dtype: object"
            ]
          },
          "metadata": {
            "tags": []
          },
          "execution_count": 63
        }
      ]
    },
    {
      "cell_type": "code",
      "metadata": {
        "id": "LiModrMtO3os",
        "colab_type": "code",
        "outputId": "c03f41ca-768f-47ff-da4b-771f624dbcef",
        "colab": {
          "base_uri": "https://localhost:8080/",
          "height": 168
        }
      },
      "source": [
        "df2.iloc[0:3]"
      ],
      "execution_count": 0,
      "outputs": [
        {
          "output_type": "execute_result",
          "data": {
            "text/html": [
              "<div>\n",
              "<style scoped>\n",
              "    .dataframe tbody tr th:only-of-type {\n",
              "        vertical-align: middle;\n",
              "    }\n",
              "\n",
              "    .dataframe tbody tr th {\n",
              "        vertical-align: top;\n",
              "    }\n",
              "\n",
              "    .dataframe thead th {\n",
              "        text-align: right;\n",
              "    }\n",
              "</style>\n",
              "<table border=\"1\" class=\"dataframe\">\n",
              "  <thead>\n",
              "    <tr style=\"text-align: right;\">\n",
              "      <th></th>\n",
              "      <th>score</th>\n",
              "      <th>grade</th>\n",
              "      <th>points</th>\n",
              "      <th>high_score</th>\n",
              "    </tr>\n",
              "    <tr>\n",
              "      <th>name</th>\n",
              "      <th></th>\n",
              "      <th></th>\n",
              "      <th></th>\n",
              "      <th></th>\n",
              "    </tr>\n",
              "  </thead>\n",
              "  <tbody>\n",
              "    <tr>\n",
              "      <th>Lee</th>\n",
              "      <td>100</td>\n",
              "      <td>A</td>\n",
              "      <td>1.5</td>\n",
              "      <td>True</td>\n",
              "    </tr>\n",
              "    <tr>\n",
              "      <th>Hwang</th>\n",
              "      <td>95</td>\n",
              "      <td>A</td>\n",
              "      <td>1.7</td>\n",
              "      <td>True</td>\n",
              "    </tr>\n",
              "    <tr>\n",
              "      <th>Kim</th>\n",
              "      <td>90</td>\n",
              "      <td>B</td>\n",
              "      <td>2.4</td>\n",
              "      <td>False</td>\n",
              "    </tr>\n",
              "  </tbody>\n",
              "</table>\n",
              "</div>"
            ],
            "text/plain": [
              "      score grade  points  high_score\n",
              "name                                 \n",
              "Lee     100     A     1.5        True\n",
              "Hwang    95     A     1.7        True\n",
              "Kim      90     B     2.4       False"
            ]
          },
          "metadata": {
            "tags": []
          },
          "execution_count": 64
        }
      ]
    },
    {
      "cell_type": "code",
      "metadata": {
        "id": "eIeGvazCO3ot",
        "colab_type": "code",
        "outputId": "e4388e76-0633-4c0a-ce09-8933c9328f59",
        "colab": {
          "base_uri": "https://localhost:8080/",
          "height": 138
        }
      },
      "source": [
        "df2.loc[['Lee', 'Choi']]"
      ],
      "execution_count": 0,
      "outputs": [
        {
          "output_type": "execute_result",
          "data": {
            "text/html": [
              "<div>\n",
              "<style scoped>\n",
              "    .dataframe tbody tr th:only-of-type {\n",
              "        vertical-align: middle;\n",
              "    }\n",
              "\n",
              "    .dataframe tbody tr th {\n",
              "        vertical-align: top;\n",
              "    }\n",
              "\n",
              "    .dataframe thead th {\n",
              "        text-align: right;\n",
              "    }\n",
              "</style>\n",
              "<table border=\"1\" class=\"dataframe\">\n",
              "  <thead>\n",
              "    <tr style=\"text-align: right;\">\n",
              "      <th></th>\n",
              "      <th>score</th>\n",
              "      <th>grade</th>\n",
              "      <th>points</th>\n",
              "      <th>high_score</th>\n",
              "    </tr>\n",
              "    <tr>\n",
              "      <th>name</th>\n",
              "      <th></th>\n",
              "      <th></th>\n",
              "      <th></th>\n",
              "      <th></th>\n",
              "    </tr>\n",
              "  </thead>\n",
              "  <tbody>\n",
              "    <tr>\n",
              "      <th>Lee</th>\n",
              "      <td>100</td>\n",
              "      <td>A</td>\n",
              "      <td>1.5</td>\n",
              "      <td>True</td>\n",
              "    </tr>\n",
              "    <tr>\n",
              "      <th>Choi</th>\n",
              "      <td>85</td>\n",
              "      <td>B</td>\n",
              "      <td>NaN</td>\n",
              "      <td>False</td>\n",
              "    </tr>\n",
              "  </tbody>\n",
              "</table>\n",
              "</div>"
            ],
            "text/plain": [
              "     score grade  points  high_score\n",
              "name                                \n",
              "Lee    100     A     1.5        True\n",
              "Choi    85     B     NaN       False"
            ]
          },
          "metadata": {
            "tags": []
          },
          "execution_count": 65
        }
      ]
    },
    {
      "cell_type": "code",
      "metadata": {
        "id": "aEv3zYcxO3ov",
        "colab_type": "code",
        "outputId": "a424d607-5ed1-4365-98b3-5d6cebde9945",
        "colab": {
          "base_uri": "https://localhost:8080/",
          "height": 168
        }
      },
      "source": [
        "df2.loc[:'Kim']"
      ],
      "execution_count": 0,
      "outputs": [
        {
          "output_type": "execute_result",
          "data": {
            "text/html": [
              "<div>\n",
              "<style scoped>\n",
              "    .dataframe tbody tr th:only-of-type {\n",
              "        vertical-align: middle;\n",
              "    }\n",
              "\n",
              "    .dataframe tbody tr th {\n",
              "        vertical-align: top;\n",
              "    }\n",
              "\n",
              "    .dataframe thead th {\n",
              "        text-align: right;\n",
              "    }\n",
              "</style>\n",
              "<table border=\"1\" class=\"dataframe\">\n",
              "  <thead>\n",
              "    <tr style=\"text-align: right;\">\n",
              "      <th></th>\n",
              "      <th>score</th>\n",
              "      <th>grade</th>\n",
              "      <th>points</th>\n",
              "      <th>high_score</th>\n",
              "    </tr>\n",
              "    <tr>\n",
              "      <th>name</th>\n",
              "      <th></th>\n",
              "      <th></th>\n",
              "      <th></th>\n",
              "      <th></th>\n",
              "    </tr>\n",
              "  </thead>\n",
              "  <tbody>\n",
              "    <tr>\n",
              "      <th>Lee</th>\n",
              "      <td>100</td>\n",
              "      <td>A</td>\n",
              "      <td>1.5</td>\n",
              "      <td>True</td>\n",
              "    </tr>\n",
              "    <tr>\n",
              "      <th>Hwang</th>\n",
              "      <td>95</td>\n",
              "      <td>A</td>\n",
              "      <td>1.7</td>\n",
              "      <td>True</td>\n",
              "    </tr>\n",
              "    <tr>\n",
              "      <th>Kim</th>\n",
              "      <td>90</td>\n",
              "      <td>B</td>\n",
              "      <td>2.4</td>\n",
              "      <td>False</td>\n",
              "    </tr>\n",
              "  </tbody>\n",
              "</table>\n",
              "</div>"
            ],
            "text/plain": [
              "      score grade  points  high_score\n",
              "name                                 \n",
              "Lee     100     A     1.5        True\n",
              "Hwang    95     A     1.7        True\n",
              "Kim      90     B     2.4       False"
            ]
          },
          "metadata": {
            "tags": []
          },
          "execution_count": 66
        }
      ]
    },
    {
      "cell_type": "code",
      "metadata": {
        "id": "KlAcPJEeO3ox",
        "colab_type": "code",
        "outputId": "407bfde3-ba03-4f3e-cc93-3ab811754a15",
        "colab": {
          "base_uri": "https://localhost:8080/",
          "height": 138
        }
      },
      "source": [
        "df2.loc['Kim':'Choi', ['grade', 'high_score']]"
      ],
      "execution_count": 0,
      "outputs": [
        {
          "output_type": "execute_result",
          "data": {
            "text/html": [
              "<div>\n",
              "<style scoped>\n",
              "    .dataframe tbody tr th:only-of-type {\n",
              "        vertical-align: middle;\n",
              "    }\n",
              "\n",
              "    .dataframe tbody tr th {\n",
              "        vertical-align: top;\n",
              "    }\n",
              "\n",
              "    .dataframe thead th {\n",
              "        text-align: right;\n",
              "    }\n",
              "</style>\n",
              "<table border=\"1\" class=\"dataframe\">\n",
              "  <thead>\n",
              "    <tr style=\"text-align: right;\">\n",
              "      <th></th>\n",
              "      <th>grade</th>\n",
              "      <th>high_score</th>\n",
              "    </tr>\n",
              "    <tr>\n",
              "      <th>name</th>\n",
              "      <th></th>\n",
              "      <th></th>\n",
              "    </tr>\n",
              "  </thead>\n",
              "  <tbody>\n",
              "    <tr>\n",
              "      <th>Kim</th>\n",
              "      <td>B</td>\n",
              "      <td>False</td>\n",
              "    </tr>\n",
              "    <tr>\n",
              "      <th>Choi</th>\n",
              "      <td>B</td>\n",
              "      <td>False</td>\n",
              "    </tr>\n",
              "  </tbody>\n",
              "</table>\n",
              "</div>"
            ],
            "text/plain": [
              "     grade  high_score\n",
              "name                  \n",
              "Kim      B       False\n",
              "Choi     B       False"
            ]
          },
          "metadata": {
            "tags": []
          },
          "execution_count": 67
        }
      ]
    },
    {
      "cell_type": "code",
      "metadata": {
        "id": "zEmjAXlRO3oz",
        "colab_type": "code",
        "outputId": "4dcc2059-5bac-44dc-a5b8-d738b576b296",
        "colab": {
          "base_uri": "https://localhost:8080/",
          "height": 228
        }
      },
      "source": [
        "df2.iloc[:, 1:3]"
      ],
      "execution_count": 0,
      "outputs": [
        {
          "output_type": "execute_result",
          "data": {
            "text/html": [
              "<div>\n",
              "<style scoped>\n",
              "    .dataframe tbody tr th:only-of-type {\n",
              "        vertical-align: middle;\n",
              "    }\n",
              "\n",
              "    .dataframe tbody tr th {\n",
              "        vertical-align: top;\n",
              "    }\n",
              "\n",
              "    .dataframe thead th {\n",
              "        text-align: right;\n",
              "    }\n",
              "</style>\n",
              "<table border=\"1\" class=\"dataframe\">\n",
              "  <thead>\n",
              "    <tr style=\"text-align: right;\">\n",
              "      <th></th>\n",
              "      <th>grade</th>\n",
              "      <th>points</th>\n",
              "    </tr>\n",
              "    <tr>\n",
              "      <th>name</th>\n",
              "      <th></th>\n",
              "      <th></th>\n",
              "    </tr>\n",
              "  </thead>\n",
              "  <tbody>\n",
              "    <tr>\n",
              "      <th>Lee</th>\n",
              "      <td>A</td>\n",
              "      <td>1.5</td>\n",
              "    </tr>\n",
              "    <tr>\n",
              "      <th>Hwang</th>\n",
              "      <td>A</td>\n",
              "      <td>1.7</td>\n",
              "    </tr>\n",
              "    <tr>\n",
              "      <th>Kim</th>\n",
              "      <td>B</td>\n",
              "      <td>2.4</td>\n",
              "    </tr>\n",
              "    <tr>\n",
              "      <th>Choi</th>\n",
              "      <td>B</td>\n",
              "      <td>NaN</td>\n",
              "    </tr>\n",
              "    <tr>\n",
              "      <th>Su</th>\n",
              "      <td>7</td>\n",
              "      <td>1.1</td>\n",
              "    </tr>\n",
              "  </tbody>\n",
              "</table>\n",
              "</div>"
            ],
            "text/plain": [
              "      grade  points\n",
              "name               \n",
              "Lee       A     1.5\n",
              "Hwang     A     1.7\n",
              "Kim       B     2.4\n",
              "Choi      B     NaN\n",
              "Su        7     1.1"
            ]
          },
          "metadata": {
            "tags": []
          },
          "execution_count": 68
        }
      ]
    },
    {
      "cell_type": "code",
      "metadata": {
        "id": "CvLJQorHO3o3",
        "colab_type": "code",
        "outputId": "ee939e13-a431-4776-a65b-e5af074d2e7a",
        "colab": {
          "base_uri": "https://localhost:8080/",
          "height": 138
        }
      },
      "source": [
        "df2[df2['points'] > 1.5]"
      ],
      "execution_count": 0,
      "outputs": [
        {
          "output_type": "execute_result",
          "data": {
            "text/html": [
              "<div>\n",
              "<style scoped>\n",
              "    .dataframe tbody tr th:only-of-type {\n",
              "        vertical-align: middle;\n",
              "    }\n",
              "\n",
              "    .dataframe tbody tr th {\n",
              "        vertical-align: top;\n",
              "    }\n",
              "\n",
              "    .dataframe thead th {\n",
              "        text-align: right;\n",
              "    }\n",
              "</style>\n",
              "<table border=\"1\" class=\"dataframe\">\n",
              "  <thead>\n",
              "    <tr style=\"text-align: right;\">\n",
              "      <th></th>\n",
              "      <th>score</th>\n",
              "      <th>grade</th>\n",
              "      <th>points</th>\n",
              "      <th>high_score</th>\n",
              "    </tr>\n",
              "    <tr>\n",
              "      <th>name</th>\n",
              "      <th></th>\n",
              "      <th></th>\n",
              "      <th></th>\n",
              "      <th></th>\n",
              "    </tr>\n",
              "  </thead>\n",
              "  <tbody>\n",
              "    <tr>\n",
              "      <th>Hwang</th>\n",
              "      <td>95</td>\n",
              "      <td>A</td>\n",
              "      <td>1.7</td>\n",
              "      <td>True</td>\n",
              "    </tr>\n",
              "    <tr>\n",
              "      <th>Kim</th>\n",
              "      <td>90</td>\n",
              "      <td>B</td>\n",
              "      <td>2.4</td>\n",
              "      <td>False</td>\n",
              "    </tr>\n",
              "  </tbody>\n",
              "</table>\n",
              "</div>"
            ],
            "text/plain": [
              "      score grade  points  high_score\n",
              "name                                 \n",
              "Hwang    95     A     1.7        True\n",
              "Kim      90     B     2.4       False"
            ]
          },
          "metadata": {
            "tags": []
          },
          "execution_count": 69
        }
      ]
    },
    {
      "cell_type": "code",
      "metadata": {
        "id": "I9hpraLwO3o4",
        "colab_type": "code",
        "outputId": "00ef0dda-4579-4acb-c78a-dcaf9a61e9bd",
        "colab": {
          "base_uri": "https://localhost:8080/",
          "height": 138
        }
      },
      "source": [
        "df2.loc[df2['points'] > 1.5, :]"
      ],
      "execution_count": 0,
      "outputs": [
        {
          "output_type": "execute_result",
          "data": {
            "text/html": [
              "<div>\n",
              "<style scoped>\n",
              "    .dataframe tbody tr th:only-of-type {\n",
              "        vertical-align: middle;\n",
              "    }\n",
              "\n",
              "    .dataframe tbody tr th {\n",
              "        vertical-align: top;\n",
              "    }\n",
              "\n",
              "    .dataframe thead th {\n",
              "        text-align: right;\n",
              "    }\n",
              "</style>\n",
              "<table border=\"1\" class=\"dataframe\">\n",
              "  <thead>\n",
              "    <tr style=\"text-align: right;\">\n",
              "      <th></th>\n",
              "      <th>score</th>\n",
              "      <th>grade</th>\n",
              "      <th>points</th>\n",
              "      <th>high_score</th>\n",
              "    </tr>\n",
              "    <tr>\n",
              "      <th>name</th>\n",
              "      <th></th>\n",
              "      <th></th>\n",
              "      <th></th>\n",
              "      <th></th>\n",
              "    </tr>\n",
              "  </thead>\n",
              "  <tbody>\n",
              "    <tr>\n",
              "      <th>Hwang</th>\n",
              "      <td>95</td>\n",
              "      <td>A</td>\n",
              "      <td>1.7</td>\n",
              "      <td>True</td>\n",
              "    </tr>\n",
              "    <tr>\n",
              "      <th>Kim</th>\n",
              "      <td>90</td>\n",
              "      <td>B</td>\n",
              "      <td>2.4</td>\n",
              "      <td>False</td>\n",
              "    </tr>\n",
              "  </tbody>\n",
              "</table>\n",
              "</div>"
            ],
            "text/plain": [
              "      score grade  points  high_score\n",
              "name                                 \n",
              "Hwang    95     A     1.7        True\n",
              "Kim      90     B     2.4       False"
            ]
          },
          "metadata": {
            "tags": []
          },
          "execution_count": 70
        }
      ]
    },
    {
      "cell_type": "code",
      "metadata": {
        "id": "zzlBIe44O3o6",
        "colab_type": "code",
        "outputId": "ad9bd1a1-3263-4df4-c0ac-a5773a2fa5e7",
        "colab": {
          "base_uri": "https://localhost:8080/",
          "height": 138
        }
      },
      "source": [
        "df2[df2['grade'] == 'A']"
      ],
      "execution_count": 0,
      "outputs": [
        {
          "output_type": "execute_result",
          "data": {
            "text/html": [
              "<div>\n",
              "<style scoped>\n",
              "    .dataframe tbody tr th:only-of-type {\n",
              "        vertical-align: middle;\n",
              "    }\n",
              "\n",
              "    .dataframe tbody tr th {\n",
              "        vertical-align: top;\n",
              "    }\n",
              "\n",
              "    .dataframe thead th {\n",
              "        text-align: right;\n",
              "    }\n",
              "</style>\n",
              "<table border=\"1\" class=\"dataframe\">\n",
              "  <thead>\n",
              "    <tr style=\"text-align: right;\">\n",
              "      <th></th>\n",
              "      <th>score</th>\n",
              "      <th>grade</th>\n",
              "      <th>points</th>\n",
              "      <th>high_score</th>\n",
              "    </tr>\n",
              "    <tr>\n",
              "      <th>name</th>\n",
              "      <th></th>\n",
              "      <th></th>\n",
              "      <th></th>\n",
              "      <th></th>\n",
              "    </tr>\n",
              "  </thead>\n",
              "  <tbody>\n",
              "    <tr>\n",
              "      <th>Lee</th>\n",
              "      <td>100</td>\n",
              "      <td>A</td>\n",
              "      <td>1.5</td>\n",
              "      <td>True</td>\n",
              "    </tr>\n",
              "    <tr>\n",
              "      <th>Hwang</th>\n",
              "      <td>95</td>\n",
              "      <td>A</td>\n",
              "      <td>1.7</td>\n",
              "      <td>True</td>\n",
              "    </tr>\n",
              "  </tbody>\n",
              "</table>\n",
              "</div>"
            ],
            "text/plain": [
              "      score grade  points  high_score\n",
              "name                                 \n",
              "Lee     100     A     1.5        True\n",
              "Hwang    95     A     1.7        True"
            ]
          },
          "metadata": {
            "tags": []
          },
          "execution_count": 71
        }
      ]
    },
    {
      "cell_type": "code",
      "metadata": {
        "id": "1DOO8Iv4O3o7",
        "colab_type": "code",
        "outputId": "726e435e-cab6-4934-cfad-2f7559fa043c",
        "colab": {
          "base_uri": "https://localhost:8080/",
          "height": 138
        }
      },
      "source": [
        "df2.loc[df2['grade'] == 'A', :]"
      ],
      "execution_count": 0,
      "outputs": [
        {
          "output_type": "execute_result",
          "data": {
            "text/html": [
              "<div>\n",
              "<style scoped>\n",
              "    .dataframe tbody tr th:only-of-type {\n",
              "        vertical-align: middle;\n",
              "    }\n",
              "\n",
              "    .dataframe tbody tr th {\n",
              "        vertical-align: top;\n",
              "    }\n",
              "\n",
              "    .dataframe thead th {\n",
              "        text-align: right;\n",
              "    }\n",
              "</style>\n",
              "<table border=\"1\" class=\"dataframe\">\n",
              "  <thead>\n",
              "    <tr style=\"text-align: right;\">\n",
              "      <th></th>\n",
              "      <th>score</th>\n",
              "      <th>grade</th>\n",
              "      <th>points</th>\n",
              "      <th>high_score</th>\n",
              "    </tr>\n",
              "    <tr>\n",
              "      <th>name</th>\n",
              "      <th></th>\n",
              "      <th></th>\n",
              "      <th></th>\n",
              "      <th></th>\n",
              "    </tr>\n",
              "  </thead>\n",
              "  <tbody>\n",
              "    <tr>\n",
              "      <th>Lee</th>\n",
              "      <td>100</td>\n",
              "      <td>A</td>\n",
              "      <td>1.5</td>\n",
              "      <td>True</td>\n",
              "    </tr>\n",
              "    <tr>\n",
              "      <th>Hwang</th>\n",
              "      <td>95</td>\n",
              "      <td>A</td>\n",
              "      <td>1.7</td>\n",
              "      <td>True</td>\n",
              "    </tr>\n",
              "  </tbody>\n",
              "</table>\n",
              "</div>"
            ],
            "text/plain": [
              "      score grade  points  high_score\n",
              "name                                 \n",
              "Lee     100     A     1.5        True\n",
              "Hwang    95     A     1.7        True"
            ]
          },
          "metadata": {
            "tags": []
          },
          "execution_count": 72
        }
      ]
    },
    {
      "cell_type": "markdown",
      "metadata": {
        "id": "Zrq6xLAmO3o9",
        "colab_type": "text"
      },
      "source": [
        "### 예제2"
      ]
    },
    {
      "cell_type": "code",
      "metadata": {
        "id": "sy015UkEO3o9",
        "colab_type": "code",
        "colab": {}
      },
      "source": [
        "import numpy as np\n",
        "import pandas as pd"
      ],
      "execution_count": 0,
      "outputs": []
    },
    {
      "cell_type": "code",
      "metadata": {
        "id": "0jWb2aWzO3o_",
        "colab_type": "code",
        "colab": {}
      },
      "source": [
        "df = pd.DataFrame(np.arange(18).reshape(6,3),\n",
        "                 index = ['a', 'b', 'c', 'd', 'e', 'f'], \n",
        "                 columns = ['x', 'y', 'z'])"
      ],
      "execution_count": 0,
      "outputs": []
    },
    {
      "cell_type": "code",
      "metadata": {
        "id": "NXBDg3YcO3pB",
        "colab_type": "code",
        "outputId": "9556b353-3ca2-4a22-e11c-117d7d91052f",
        "colab": {
          "base_uri": "https://localhost:8080/",
          "height": 228
        }
      },
      "source": [
        "df['data1'] = pd.Series([1.7, 1.2, 2.4], index=['a', 'e', 'c'])\n",
        "df"
      ],
      "execution_count": 0,
      "outputs": [
        {
          "output_type": "execute_result",
          "data": {
            "text/html": [
              "<div>\n",
              "<style scoped>\n",
              "    .dataframe tbody tr th:only-of-type {\n",
              "        vertical-align: middle;\n",
              "    }\n",
              "\n",
              "    .dataframe tbody tr th {\n",
              "        vertical-align: top;\n",
              "    }\n",
              "\n",
              "    .dataframe thead th {\n",
              "        text-align: right;\n",
              "    }\n",
              "</style>\n",
              "<table border=\"1\" class=\"dataframe\">\n",
              "  <thead>\n",
              "    <tr style=\"text-align: right;\">\n",
              "      <th></th>\n",
              "      <th>x</th>\n",
              "      <th>y</th>\n",
              "      <th>z</th>\n",
              "      <th>data1</th>\n",
              "    </tr>\n",
              "  </thead>\n",
              "  <tbody>\n",
              "    <tr>\n",
              "      <th>a</th>\n",
              "      <td>0</td>\n",
              "      <td>1</td>\n",
              "      <td>2</td>\n",
              "      <td>1.7</td>\n",
              "    </tr>\n",
              "    <tr>\n",
              "      <th>b</th>\n",
              "      <td>3</td>\n",
              "      <td>4</td>\n",
              "      <td>5</td>\n",
              "      <td>NaN</td>\n",
              "    </tr>\n",
              "    <tr>\n",
              "      <th>c</th>\n",
              "      <td>6</td>\n",
              "      <td>7</td>\n",
              "      <td>8</td>\n",
              "      <td>2.4</td>\n",
              "    </tr>\n",
              "    <tr>\n",
              "      <th>d</th>\n",
              "      <td>9</td>\n",
              "      <td>10</td>\n",
              "      <td>11</td>\n",
              "      <td>NaN</td>\n",
              "    </tr>\n",
              "    <tr>\n",
              "      <th>e</th>\n",
              "      <td>12</td>\n",
              "      <td>13</td>\n",
              "      <td>14</td>\n",
              "      <td>1.2</td>\n",
              "    </tr>\n",
              "    <tr>\n",
              "      <th>f</th>\n",
              "      <td>15</td>\n",
              "      <td>16</td>\n",
              "      <td>17</td>\n",
              "      <td>NaN</td>\n",
              "    </tr>\n",
              "  </tbody>\n",
              "</table>\n",
              "</div>"
            ],
            "text/plain": [
              "    x   y   z  data1\n",
              "a   0   1   2    1.7\n",
              "b   3   4   5    NaN\n",
              "c   6   7   8    2.4\n",
              "d   9  10  11    NaN\n",
              "e  12  13  14    1.2\n",
              "f  15  16  17    NaN"
            ]
          },
          "metadata": {
            "tags": []
          },
          "execution_count": 75
        }
      ]
    },
    {
      "cell_type": "code",
      "metadata": {
        "id": "1lD9vsXOO3pC",
        "colab_type": "code",
        "outputId": "78c731fd-1e2b-4a79-e73f-8ccbefcdb3c5",
        "colab": {
          "base_uri": "https://localhost:8080/",
          "height": 228
        }
      },
      "source": [
        "df['date'] = pd.date_range('20200110', periods=6)\n",
        "df"
      ],
      "execution_count": 0,
      "outputs": [
        {
          "output_type": "execute_result",
          "data": {
            "text/html": [
              "<div>\n",
              "<style scoped>\n",
              "    .dataframe tbody tr th:only-of-type {\n",
              "        vertical-align: middle;\n",
              "    }\n",
              "\n",
              "    .dataframe tbody tr th {\n",
              "        vertical-align: top;\n",
              "    }\n",
              "\n",
              "    .dataframe thead th {\n",
              "        text-align: right;\n",
              "    }\n",
              "</style>\n",
              "<table border=\"1\" class=\"dataframe\">\n",
              "  <thead>\n",
              "    <tr style=\"text-align: right;\">\n",
              "      <th></th>\n",
              "      <th>x</th>\n",
              "      <th>y</th>\n",
              "      <th>z</th>\n",
              "      <th>data1</th>\n",
              "      <th>date</th>\n",
              "    </tr>\n",
              "  </thead>\n",
              "  <tbody>\n",
              "    <tr>\n",
              "      <th>a</th>\n",
              "      <td>0</td>\n",
              "      <td>1</td>\n",
              "      <td>2</td>\n",
              "      <td>1.7</td>\n",
              "      <td>2020-01-10</td>\n",
              "    </tr>\n",
              "    <tr>\n",
              "      <th>b</th>\n",
              "      <td>3</td>\n",
              "      <td>4</td>\n",
              "      <td>5</td>\n",
              "      <td>NaN</td>\n",
              "      <td>2020-01-11</td>\n",
              "    </tr>\n",
              "    <tr>\n",
              "      <th>c</th>\n",
              "      <td>6</td>\n",
              "      <td>7</td>\n",
              "      <td>8</td>\n",
              "      <td>2.4</td>\n",
              "      <td>2020-01-12</td>\n",
              "    </tr>\n",
              "    <tr>\n",
              "      <th>d</th>\n",
              "      <td>9</td>\n",
              "      <td>10</td>\n",
              "      <td>11</td>\n",
              "      <td>NaN</td>\n",
              "      <td>2020-01-13</td>\n",
              "    </tr>\n",
              "    <tr>\n",
              "      <th>e</th>\n",
              "      <td>12</td>\n",
              "      <td>13</td>\n",
              "      <td>14</td>\n",
              "      <td>1.2</td>\n",
              "      <td>2020-01-14</td>\n",
              "    </tr>\n",
              "    <tr>\n",
              "      <th>f</th>\n",
              "      <td>15</td>\n",
              "      <td>16</td>\n",
              "      <td>17</td>\n",
              "      <td>NaN</td>\n",
              "      <td>2020-01-15</td>\n",
              "    </tr>\n",
              "  </tbody>\n",
              "</table>\n",
              "</div>"
            ],
            "text/plain": [
              "    x   y   z  data1       date\n",
              "a   0   1   2    1.7 2020-01-10\n",
              "b   3   4   5    NaN 2020-01-11\n",
              "c   6   7   8    2.4 2020-01-12\n",
              "d   9  10  11    NaN 2020-01-13\n",
              "e  12  13  14    1.2 2020-01-14\n",
              "f  15  16  17    NaN 2020-01-15"
            ]
          },
          "metadata": {
            "tags": []
          },
          "execution_count": 76
        }
      ]
    },
    {
      "cell_type": "markdown",
      "metadata": {
        "id": "41174eQ7O3pE",
        "colab_type": "text"
      },
      "source": [
        "### NaN 다루기"
      ]
    },
    {
      "cell_type": "code",
      "metadata": {
        "id": "GGzW_LzAO3pE",
        "colab_type": "code",
        "outputId": "86ac1e18-b416-4174-d12e-0cd694e94537",
        "colab": {
          "base_uri": "https://localhost:8080/",
          "height": 228
        }
      },
      "source": [
        "df.dropna(how='all')"
      ],
      "execution_count": 0,
      "outputs": [
        {
          "output_type": "execute_result",
          "data": {
            "text/html": [
              "<div>\n",
              "<style scoped>\n",
              "    .dataframe tbody tr th:only-of-type {\n",
              "        vertical-align: middle;\n",
              "    }\n",
              "\n",
              "    .dataframe tbody tr th {\n",
              "        vertical-align: top;\n",
              "    }\n",
              "\n",
              "    .dataframe thead th {\n",
              "        text-align: right;\n",
              "    }\n",
              "</style>\n",
              "<table border=\"1\" class=\"dataframe\">\n",
              "  <thead>\n",
              "    <tr style=\"text-align: right;\">\n",
              "      <th></th>\n",
              "      <th>x</th>\n",
              "      <th>y</th>\n",
              "      <th>z</th>\n",
              "      <th>data1</th>\n",
              "      <th>date</th>\n",
              "    </tr>\n",
              "  </thead>\n",
              "  <tbody>\n",
              "    <tr>\n",
              "      <th>a</th>\n",
              "      <td>0</td>\n",
              "      <td>1</td>\n",
              "      <td>2</td>\n",
              "      <td>1.7</td>\n",
              "      <td>2020-01-10</td>\n",
              "    </tr>\n",
              "    <tr>\n",
              "      <th>b</th>\n",
              "      <td>3</td>\n",
              "      <td>4</td>\n",
              "      <td>5</td>\n",
              "      <td>NaN</td>\n",
              "      <td>2020-01-11</td>\n",
              "    </tr>\n",
              "    <tr>\n",
              "      <th>c</th>\n",
              "      <td>6</td>\n",
              "      <td>7</td>\n",
              "      <td>8</td>\n",
              "      <td>2.4</td>\n",
              "      <td>2020-01-12</td>\n",
              "    </tr>\n",
              "    <tr>\n",
              "      <th>d</th>\n",
              "      <td>9</td>\n",
              "      <td>10</td>\n",
              "      <td>11</td>\n",
              "      <td>NaN</td>\n",
              "      <td>2020-01-13</td>\n",
              "    </tr>\n",
              "    <tr>\n",
              "      <th>e</th>\n",
              "      <td>12</td>\n",
              "      <td>13</td>\n",
              "      <td>14</td>\n",
              "      <td>1.2</td>\n",
              "      <td>2020-01-14</td>\n",
              "    </tr>\n",
              "    <tr>\n",
              "      <th>f</th>\n",
              "      <td>15</td>\n",
              "      <td>16</td>\n",
              "      <td>17</td>\n",
              "      <td>NaN</td>\n",
              "      <td>2020-01-15</td>\n",
              "    </tr>\n",
              "  </tbody>\n",
              "</table>\n",
              "</div>"
            ],
            "text/plain": [
              "    x   y   z  data1       date\n",
              "a   0   1   2    1.7 2020-01-10\n",
              "b   3   4   5    NaN 2020-01-11\n",
              "c   6   7   8    2.4 2020-01-12\n",
              "d   9  10  11    NaN 2020-01-13\n",
              "e  12  13  14    1.2 2020-01-14\n",
              "f  15  16  17    NaN 2020-01-15"
            ]
          },
          "metadata": {
            "tags": []
          },
          "execution_count": 77
        }
      ]
    },
    {
      "cell_type": "code",
      "metadata": {
        "id": "YLcNthAnO3pG",
        "colab_type": "code",
        "outputId": "7a41032e-35e0-463e-856c-3257ea9fd974",
        "colab": {
          "base_uri": "https://localhost:8080/",
          "height": 138
        }
      },
      "source": [
        "df.dropna(how=\"any\")"
      ],
      "execution_count": 0,
      "outputs": [
        {
          "output_type": "execute_result",
          "data": {
            "text/html": [
              "<div>\n",
              "<style scoped>\n",
              "    .dataframe tbody tr th:only-of-type {\n",
              "        vertical-align: middle;\n",
              "    }\n",
              "\n",
              "    .dataframe tbody tr th {\n",
              "        vertical-align: top;\n",
              "    }\n",
              "\n",
              "    .dataframe thead th {\n",
              "        text-align: right;\n",
              "    }\n",
              "</style>\n",
              "<table border=\"1\" class=\"dataframe\">\n",
              "  <thead>\n",
              "    <tr style=\"text-align: right;\">\n",
              "      <th></th>\n",
              "      <th>x</th>\n",
              "      <th>y</th>\n",
              "      <th>z</th>\n",
              "      <th>data1</th>\n",
              "      <th>date</th>\n",
              "    </tr>\n",
              "  </thead>\n",
              "  <tbody>\n",
              "    <tr>\n",
              "      <th>a</th>\n",
              "      <td>0</td>\n",
              "      <td>1</td>\n",
              "      <td>2</td>\n",
              "      <td>1.7</td>\n",
              "      <td>2020-01-10</td>\n",
              "    </tr>\n",
              "    <tr>\n",
              "      <th>c</th>\n",
              "      <td>6</td>\n",
              "      <td>7</td>\n",
              "      <td>8</td>\n",
              "      <td>2.4</td>\n",
              "      <td>2020-01-12</td>\n",
              "    </tr>\n",
              "    <tr>\n",
              "      <th>e</th>\n",
              "      <td>12</td>\n",
              "      <td>13</td>\n",
              "      <td>14</td>\n",
              "      <td>1.2</td>\n",
              "      <td>2020-01-14</td>\n",
              "    </tr>\n",
              "  </tbody>\n",
              "</table>\n",
              "</div>"
            ],
            "text/plain": [
              "    x   y   z  data1       date\n",
              "a   0   1   2    1.7 2020-01-10\n",
              "c   6   7   8    2.4 2020-01-12\n",
              "e  12  13  14    1.2 2020-01-14"
            ]
          },
          "metadata": {
            "tags": []
          },
          "execution_count": 78
        }
      ]
    },
    {
      "cell_type": "code",
      "metadata": {
        "id": "-iCGWbMPO3pH",
        "colab_type": "code",
        "outputId": "d76cf6a4-2898-4849-d22c-cac8033a7e27",
        "colab": {
          "base_uri": "https://localhost:8080/",
          "height": 228
        }
      },
      "source": [
        "df['data2'] = np.nan\n",
        "df"
      ],
      "execution_count": 0,
      "outputs": [
        {
          "output_type": "execute_result",
          "data": {
            "text/html": [
              "<div>\n",
              "<style scoped>\n",
              "    .dataframe tbody tr th:only-of-type {\n",
              "        vertical-align: middle;\n",
              "    }\n",
              "\n",
              "    .dataframe tbody tr th {\n",
              "        vertical-align: top;\n",
              "    }\n",
              "\n",
              "    .dataframe thead th {\n",
              "        text-align: right;\n",
              "    }\n",
              "</style>\n",
              "<table border=\"1\" class=\"dataframe\">\n",
              "  <thead>\n",
              "    <tr style=\"text-align: right;\">\n",
              "      <th></th>\n",
              "      <th>x</th>\n",
              "      <th>y</th>\n",
              "      <th>z</th>\n",
              "      <th>data1</th>\n",
              "      <th>date</th>\n",
              "      <th>data2</th>\n",
              "    </tr>\n",
              "  </thead>\n",
              "  <tbody>\n",
              "    <tr>\n",
              "      <th>a</th>\n",
              "      <td>0</td>\n",
              "      <td>1</td>\n",
              "      <td>2</td>\n",
              "      <td>1.7</td>\n",
              "      <td>2020-01-10</td>\n",
              "      <td>NaN</td>\n",
              "    </tr>\n",
              "    <tr>\n",
              "      <th>b</th>\n",
              "      <td>3</td>\n",
              "      <td>4</td>\n",
              "      <td>5</td>\n",
              "      <td>NaN</td>\n",
              "      <td>2020-01-11</td>\n",
              "      <td>NaN</td>\n",
              "    </tr>\n",
              "    <tr>\n",
              "      <th>c</th>\n",
              "      <td>6</td>\n",
              "      <td>7</td>\n",
              "      <td>8</td>\n",
              "      <td>2.4</td>\n",
              "      <td>2020-01-12</td>\n",
              "      <td>NaN</td>\n",
              "    </tr>\n",
              "    <tr>\n",
              "      <th>d</th>\n",
              "      <td>9</td>\n",
              "      <td>10</td>\n",
              "      <td>11</td>\n",
              "      <td>NaN</td>\n",
              "      <td>2020-01-13</td>\n",
              "      <td>NaN</td>\n",
              "    </tr>\n",
              "    <tr>\n",
              "      <th>e</th>\n",
              "      <td>12</td>\n",
              "      <td>13</td>\n",
              "      <td>14</td>\n",
              "      <td>1.2</td>\n",
              "      <td>2020-01-14</td>\n",
              "      <td>NaN</td>\n",
              "    </tr>\n",
              "    <tr>\n",
              "      <th>f</th>\n",
              "      <td>15</td>\n",
              "      <td>16</td>\n",
              "      <td>17</td>\n",
              "      <td>NaN</td>\n",
              "      <td>2020-01-15</td>\n",
              "      <td>NaN</td>\n",
              "    </tr>\n",
              "  </tbody>\n",
              "</table>\n",
              "</div>"
            ],
            "text/plain": [
              "    x   y   z  data1       date  data2\n",
              "a   0   1   2    1.7 2020-01-10    NaN\n",
              "b   3   4   5    NaN 2020-01-11    NaN\n",
              "c   6   7   8    2.4 2020-01-12    NaN\n",
              "d   9  10  11    NaN 2020-01-13    NaN\n",
              "e  12  13  14    1.2 2020-01-14    NaN\n",
              "f  15  16  17    NaN 2020-01-15    NaN"
            ]
          },
          "metadata": {
            "tags": []
          },
          "execution_count": 79
        }
      ]
    },
    {
      "cell_type": "code",
      "metadata": {
        "id": "LKcLXJCfO3pI",
        "colab_type": "code",
        "outputId": "19474f19-1b68-41e6-bd5c-60c9ec690f8d",
        "colab": {
          "base_uri": "https://localhost:8080/",
          "height": 228
        }
      },
      "source": [
        "df.isnull()"
      ],
      "execution_count": 0,
      "outputs": [
        {
          "output_type": "execute_result",
          "data": {
            "text/html": [
              "<div>\n",
              "<style scoped>\n",
              "    .dataframe tbody tr th:only-of-type {\n",
              "        vertical-align: middle;\n",
              "    }\n",
              "\n",
              "    .dataframe tbody tr th {\n",
              "        vertical-align: top;\n",
              "    }\n",
              "\n",
              "    .dataframe thead th {\n",
              "        text-align: right;\n",
              "    }\n",
              "</style>\n",
              "<table border=\"1\" class=\"dataframe\">\n",
              "  <thead>\n",
              "    <tr style=\"text-align: right;\">\n",
              "      <th></th>\n",
              "      <th>x</th>\n",
              "      <th>y</th>\n",
              "      <th>z</th>\n",
              "      <th>data1</th>\n",
              "      <th>date</th>\n",
              "      <th>data2</th>\n",
              "    </tr>\n",
              "  </thead>\n",
              "  <tbody>\n",
              "    <tr>\n",
              "      <th>a</th>\n",
              "      <td>False</td>\n",
              "      <td>False</td>\n",
              "      <td>False</td>\n",
              "      <td>False</td>\n",
              "      <td>False</td>\n",
              "      <td>True</td>\n",
              "    </tr>\n",
              "    <tr>\n",
              "      <th>b</th>\n",
              "      <td>False</td>\n",
              "      <td>False</td>\n",
              "      <td>False</td>\n",
              "      <td>True</td>\n",
              "      <td>False</td>\n",
              "      <td>True</td>\n",
              "    </tr>\n",
              "    <tr>\n",
              "      <th>c</th>\n",
              "      <td>False</td>\n",
              "      <td>False</td>\n",
              "      <td>False</td>\n",
              "      <td>False</td>\n",
              "      <td>False</td>\n",
              "      <td>True</td>\n",
              "    </tr>\n",
              "    <tr>\n",
              "      <th>d</th>\n",
              "      <td>False</td>\n",
              "      <td>False</td>\n",
              "      <td>False</td>\n",
              "      <td>True</td>\n",
              "      <td>False</td>\n",
              "      <td>True</td>\n",
              "    </tr>\n",
              "    <tr>\n",
              "      <th>e</th>\n",
              "      <td>False</td>\n",
              "      <td>False</td>\n",
              "      <td>False</td>\n",
              "      <td>False</td>\n",
              "      <td>False</td>\n",
              "      <td>True</td>\n",
              "    </tr>\n",
              "    <tr>\n",
              "      <th>f</th>\n",
              "      <td>False</td>\n",
              "      <td>False</td>\n",
              "      <td>False</td>\n",
              "      <td>True</td>\n",
              "      <td>False</td>\n",
              "      <td>True</td>\n",
              "    </tr>\n",
              "  </tbody>\n",
              "</table>\n",
              "</div>"
            ],
            "text/plain": [
              "       x      y      z  data1   date  data2\n",
              "a  False  False  False  False  False   True\n",
              "b  False  False  False   True  False   True\n",
              "c  False  False  False  False  False   True\n",
              "d  False  False  False   True  False   True\n",
              "e  False  False  False  False  False   True\n",
              "f  False  False  False   True  False   True"
            ]
          },
          "metadata": {
            "tags": []
          },
          "execution_count": 80
        }
      ]
    },
    {
      "cell_type": "code",
      "metadata": {
        "id": "91du78oGO3pK",
        "colab_type": "code",
        "outputId": "0b0cb7b7-e56b-4706-af21-351b0c092e8f",
        "colab": {
          "base_uri": "https://localhost:8080/",
          "height": 221
        }
      },
      "source": [
        "df.info()"
      ],
      "execution_count": 0,
      "outputs": [
        {
          "output_type": "stream",
          "text": [
            "<class 'pandas.core.frame.DataFrame'>\n",
            "Index: 6 entries, a to f\n",
            "Data columns (total 6 columns):\n",
            "x        6 non-null int64\n",
            "y        6 non-null int64\n",
            "z        6 non-null int64\n",
            "data1    3 non-null float64\n",
            "date     6 non-null datetime64[ns]\n",
            "data2    0 non-null float64\n",
            "dtypes: datetime64[ns](1), float64(2), int64(3)\n",
            "memory usage: 496.0+ bytes\n"
          ],
          "name": "stdout"
        }
      ]
    },
    {
      "cell_type": "code",
      "metadata": {
        "id": "7yrqSC0jO3pN",
        "colab_type": "code",
        "outputId": "94035730-3b12-43f1-dd52-94c19883c7df",
        "colab": {
          "base_uri": "https://localhost:8080/",
          "height": 221
        }
      },
      "source": [
        "df['data2'] = df['data2'].astype('float')\n",
        "df.info()"
      ],
      "execution_count": 0,
      "outputs": [
        {
          "output_type": "stream",
          "text": [
            "<class 'pandas.core.frame.DataFrame'>\n",
            "Index: 6 entries, a to f\n",
            "Data columns (total 6 columns):\n",
            "x        6 non-null int64\n",
            "y        6 non-null int64\n",
            "z        6 non-null int64\n",
            "data1    3 non-null float64\n",
            "date     6 non-null datetime64[ns]\n",
            "data2    0 non-null float64\n",
            "dtypes: datetime64[ns](1), float64(2), int64(3)\n",
            "memory usage: 496.0+ bytes\n"
          ],
          "name": "stdout"
        }
      ]
    },
    {
      "cell_type": "code",
      "metadata": {
        "id": "HEDoxey8O3pO",
        "colab_type": "code",
        "outputId": "b14b316d-6aa7-412f-8f3d-5e916a162fea",
        "colab": {
          "base_uri": "https://localhost:8080/",
          "height": 228
        }
      },
      "source": [
        "df.fillna(value='not null', inplace=True)\n",
        "df"
      ],
      "execution_count": 0,
      "outputs": [
        {
          "output_type": "execute_result",
          "data": {
            "text/html": [
              "<div>\n",
              "<style scoped>\n",
              "    .dataframe tbody tr th:only-of-type {\n",
              "        vertical-align: middle;\n",
              "    }\n",
              "\n",
              "    .dataframe tbody tr th {\n",
              "        vertical-align: top;\n",
              "    }\n",
              "\n",
              "    .dataframe thead th {\n",
              "        text-align: right;\n",
              "    }\n",
              "</style>\n",
              "<table border=\"1\" class=\"dataframe\">\n",
              "  <thead>\n",
              "    <tr style=\"text-align: right;\">\n",
              "      <th></th>\n",
              "      <th>x</th>\n",
              "      <th>y</th>\n",
              "      <th>z</th>\n",
              "      <th>data1</th>\n",
              "      <th>date</th>\n",
              "      <th>data2</th>\n",
              "    </tr>\n",
              "  </thead>\n",
              "  <tbody>\n",
              "    <tr>\n",
              "      <th>a</th>\n",
              "      <td>0</td>\n",
              "      <td>1</td>\n",
              "      <td>2</td>\n",
              "      <td>1.7</td>\n",
              "      <td>2020-01-10</td>\n",
              "      <td>not null</td>\n",
              "    </tr>\n",
              "    <tr>\n",
              "      <th>b</th>\n",
              "      <td>3</td>\n",
              "      <td>4</td>\n",
              "      <td>5</td>\n",
              "      <td>not null</td>\n",
              "      <td>2020-01-11</td>\n",
              "      <td>not null</td>\n",
              "    </tr>\n",
              "    <tr>\n",
              "      <th>c</th>\n",
              "      <td>6</td>\n",
              "      <td>7</td>\n",
              "      <td>8</td>\n",
              "      <td>2.4</td>\n",
              "      <td>2020-01-12</td>\n",
              "      <td>not null</td>\n",
              "    </tr>\n",
              "    <tr>\n",
              "      <th>d</th>\n",
              "      <td>9</td>\n",
              "      <td>10</td>\n",
              "      <td>11</td>\n",
              "      <td>not null</td>\n",
              "      <td>2020-01-13</td>\n",
              "      <td>not null</td>\n",
              "    </tr>\n",
              "    <tr>\n",
              "      <th>e</th>\n",
              "      <td>12</td>\n",
              "      <td>13</td>\n",
              "      <td>14</td>\n",
              "      <td>1.2</td>\n",
              "      <td>2020-01-14</td>\n",
              "      <td>not null</td>\n",
              "    </tr>\n",
              "    <tr>\n",
              "      <th>f</th>\n",
              "      <td>15</td>\n",
              "      <td>16</td>\n",
              "      <td>17</td>\n",
              "      <td>not null</td>\n",
              "      <td>2020-01-15</td>\n",
              "      <td>not null</td>\n",
              "    </tr>\n",
              "  </tbody>\n",
              "</table>\n",
              "</div>"
            ],
            "text/plain": [
              "    x   y   z     data1       date     data2\n",
              "a   0   1   2       1.7 2020-01-10  not null\n",
              "b   3   4   5  not null 2020-01-11  not null\n",
              "c   6   7   8       2.4 2020-01-12  not null\n",
              "d   9  10  11  not null 2020-01-13  not null\n",
              "e  12  13  14       1.2 2020-01-14  not null\n",
              "f  15  16  17  not null 2020-01-15  not null"
            ]
          },
          "metadata": {
            "tags": []
          },
          "execution_count": 83
        }
      ]
    },
    {
      "cell_type": "markdown",
      "metadata": {
        "id": "hWevqe3cO3pQ",
        "colab_type": "text"
      },
      "source": [
        "### 예제 3"
      ]
    },
    {
      "cell_type": "code",
      "metadata": {
        "id": "ziCAmOsNO3pQ",
        "colab_type": "code",
        "colab": {}
      },
      "source": [
        "df['data2'] = [55,np.nan, np.nan, 77, np.nan, 33]\n",
        "df.index = ['f','a','y','i','b','e']\n",
        "df"
      ],
      "execution_count": 0,
      "outputs": []
    },
    {
      "cell_type": "code",
      "metadata": {
        "id": "bvedChwyO3pS",
        "colab_type": "code",
        "outputId": "d8ab855c-ccc4-49f3-8edf-e1ba0aa998d4",
        "colab": {
          "base_uri": "https://localhost:8080/",
          "height": 228
        }
      },
      "source": [
        "df.sort_index()"
      ],
      "execution_count": 0,
      "outputs": [
        {
          "output_type": "execute_result",
          "data": {
            "text/html": [
              "<div>\n",
              "<style scoped>\n",
              "    .dataframe tbody tr th:only-of-type {\n",
              "        vertical-align: middle;\n",
              "    }\n",
              "\n",
              "    .dataframe tbody tr th {\n",
              "        vertical-align: top;\n",
              "    }\n",
              "\n",
              "    .dataframe thead th {\n",
              "        text-align: right;\n",
              "    }\n",
              "</style>\n",
              "<table border=\"1\" class=\"dataframe\">\n",
              "  <thead>\n",
              "    <tr style=\"text-align: right;\">\n",
              "      <th></th>\n",
              "      <th>x</th>\n",
              "      <th>y</th>\n",
              "      <th>z</th>\n",
              "      <th>data1</th>\n",
              "      <th>date</th>\n",
              "      <th>data2</th>\n",
              "    </tr>\n",
              "  </thead>\n",
              "  <tbody>\n",
              "    <tr>\n",
              "      <th>a</th>\n",
              "      <td>3</td>\n",
              "      <td>4</td>\n",
              "      <td>5</td>\n",
              "      <td>not null</td>\n",
              "      <td>2020-01-11</td>\n",
              "      <td>NaN</td>\n",
              "    </tr>\n",
              "    <tr>\n",
              "      <th>b</th>\n",
              "      <td>12</td>\n",
              "      <td>13</td>\n",
              "      <td>14</td>\n",
              "      <td>1.2</td>\n",
              "      <td>2020-01-14</td>\n",
              "      <td>NaN</td>\n",
              "    </tr>\n",
              "    <tr>\n",
              "      <th>e</th>\n",
              "      <td>15</td>\n",
              "      <td>16</td>\n",
              "      <td>17</td>\n",
              "      <td>not null</td>\n",
              "      <td>2020-01-15</td>\n",
              "      <td>33.0</td>\n",
              "    </tr>\n",
              "    <tr>\n",
              "      <th>f</th>\n",
              "      <td>0</td>\n",
              "      <td>1</td>\n",
              "      <td>2</td>\n",
              "      <td>1.7</td>\n",
              "      <td>2020-01-10</td>\n",
              "      <td>55.0</td>\n",
              "    </tr>\n",
              "    <tr>\n",
              "      <th>i</th>\n",
              "      <td>9</td>\n",
              "      <td>10</td>\n",
              "      <td>11</td>\n",
              "      <td>not null</td>\n",
              "      <td>2020-01-13</td>\n",
              "      <td>77.0</td>\n",
              "    </tr>\n",
              "    <tr>\n",
              "      <th>y</th>\n",
              "      <td>6</td>\n",
              "      <td>7</td>\n",
              "      <td>8</td>\n",
              "      <td>2.4</td>\n",
              "      <td>2020-01-12</td>\n",
              "      <td>NaN</td>\n",
              "    </tr>\n",
              "  </tbody>\n",
              "</table>\n",
              "</div>"
            ],
            "text/plain": [
              "    x   y   z     data1       date  data2\n",
              "a   3   4   5  not null 2020-01-11    NaN\n",
              "b  12  13  14       1.2 2020-01-14    NaN\n",
              "e  15  16  17  not null 2020-01-15   33.0\n",
              "f   0   1   2       1.7 2020-01-10   55.0\n",
              "i   9  10  11  not null 2020-01-13   77.0\n",
              "y   6   7   8       2.4 2020-01-12    NaN"
            ]
          },
          "metadata": {
            "tags": []
          },
          "execution_count": 85
        }
      ]
    },
    {
      "cell_type": "code",
      "metadata": {
        "id": "TZ611oqwO3pU",
        "colab_type": "code",
        "outputId": "f053dcca-d150-472f-8ada-fd7db4e2be2d",
        "colab": {
          "base_uri": "https://localhost:8080/",
          "height": 228
        }
      },
      "source": [
        "df.sort_index(ascending=False)"
      ],
      "execution_count": 0,
      "outputs": [
        {
          "output_type": "execute_result",
          "data": {
            "text/html": [
              "<div>\n",
              "<style scoped>\n",
              "    .dataframe tbody tr th:only-of-type {\n",
              "        vertical-align: middle;\n",
              "    }\n",
              "\n",
              "    .dataframe tbody tr th {\n",
              "        vertical-align: top;\n",
              "    }\n",
              "\n",
              "    .dataframe thead th {\n",
              "        text-align: right;\n",
              "    }\n",
              "</style>\n",
              "<table border=\"1\" class=\"dataframe\">\n",
              "  <thead>\n",
              "    <tr style=\"text-align: right;\">\n",
              "      <th></th>\n",
              "      <th>x</th>\n",
              "      <th>y</th>\n",
              "      <th>z</th>\n",
              "      <th>data1</th>\n",
              "      <th>date</th>\n",
              "      <th>data2</th>\n",
              "    </tr>\n",
              "  </thead>\n",
              "  <tbody>\n",
              "    <tr>\n",
              "      <th>y</th>\n",
              "      <td>6</td>\n",
              "      <td>7</td>\n",
              "      <td>8</td>\n",
              "      <td>2.4</td>\n",
              "      <td>2020-01-12</td>\n",
              "      <td>NaN</td>\n",
              "    </tr>\n",
              "    <tr>\n",
              "      <th>i</th>\n",
              "      <td>9</td>\n",
              "      <td>10</td>\n",
              "      <td>11</td>\n",
              "      <td>not null</td>\n",
              "      <td>2020-01-13</td>\n",
              "      <td>77.0</td>\n",
              "    </tr>\n",
              "    <tr>\n",
              "      <th>f</th>\n",
              "      <td>0</td>\n",
              "      <td>1</td>\n",
              "      <td>2</td>\n",
              "      <td>1.7</td>\n",
              "      <td>2020-01-10</td>\n",
              "      <td>55.0</td>\n",
              "    </tr>\n",
              "    <tr>\n",
              "      <th>e</th>\n",
              "      <td>15</td>\n",
              "      <td>16</td>\n",
              "      <td>17</td>\n",
              "      <td>not null</td>\n",
              "      <td>2020-01-15</td>\n",
              "      <td>33.0</td>\n",
              "    </tr>\n",
              "    <tr>\n",
              "      <th>b</th>\n",
              "      <td>12</td>\n",
              "      <td>13</td>\n",
              "      <td>14</td>\n",
              "      <td>1.2</td>\n",
              "      <td>2020-01-14</td>\n",
              "      <td>NaN</td>\n",
              "    </tr>\n",
              "    <tr>\n",
              "      <th>a</th>\n",
              "      <td>3</td>\n",
              "      <td>4</td>\n",
              "      <td>5</td>\n",
              "      <td>not null</td>\n",
              "      <td>2020-01-11</td>\n",
              "      <td>NaN</td>\n",
              "    </tr>\n",
              "  </tbody>\n",
              "</table>\n",
              "</div>"
            ],
            "text/plain": [
              "    x   y   z     data1       date  data2\n",
              "y   6   7   8       2.4 2020-01-12    NaN\n",
              "i   9  10  11  not null 2020-01-13   77.0\n",
              "f   0   1   2       1.7 2020-01-10   55.0\n",
              "e  15  16  17  not null 2020-01-15   33.0\n",
              "b  12  13  14       1.2 2020-01-14    NaN\n",
              "a   3   4   5  not null 2020-01-11    NaN"
            ]
          },
          "metadata": {
            "tags": []
          },
          "execution_count": 86
        }
      ]
    },
    {
      "cell_type": "code",
      "metadata": {
        "id": "lmYzYMzjO3pV",
        "colab_type": "code",
        "outputId": "839eb7f5-b413-431e-d61d-70003fcd6b69",
        "colab": {
          "base_uri": "https://localhost:8080/",
          "height": 228
        }
      },
      "source": [
        "df.sort_index(axis=1)"
      ],
      "execution_count": 0,
      "outputs": [
        {
          "output_type": "execute_result",
          "data": {
            "text/html": [
              "<div>\n",
              "<style scoped>\n",
              "    .dataframe tbody tr th:only-of-type {\n",
              "        vertical-align: middle;\n",
              "    }\n",
              "\n",
              "    .dataframe tbody tr th {\n",
              "        vertical-align: top;\n",
              "    }\n",
              "\n",
              "    .dataframe thead th {\n",
              "        text-align: right;\n",
              "    }\n",
              "</style>\n",
              "<table border=\"1\" class=\"dataframe\">\n",
              "  <thead>\n",
              "    <tr style=\"text-align: right;\">\n",
              "      <th></th>\n",
              "      <th>data1</th>\n",
              "      <th>data2</th>\n",
              "      <th>date</th>\n",
              "      <th>x</th>\n",
              "      <th>y</th>\n",
              "      <th>z</th>\n",
              "    </tr>\n",
              "  </thead>\n",
              "  <tbody>\n",
              "    <tr>\n",
              "      <th>f</th>\n",
              "      <td>1.7</td>\n",
              "      <td>55.0</td>\n",
              "      <td>2020-01-10</td>\n",
              "      <td>0</td>\n",
              "      <td>1</td>\n",
              "      <td>2</td>\n",
              "    </tr>\n",
              "    <tr>\n",
              "      <th>a</th>\n",
              "      <td>not null</td>\n",
              "      <td>NaN</td>\n",
              "      <td>2020-01-11</td>\n",
              "      <td>3</td>\n",
              "      <td>4</td>\n",
              "      <td>5</td>\n",
              "    </tr>\n",
              "    <tr>\n",
              "      <th>y</th>\n",
              "      <td>2.4</td>\n",
              "      <td>NaN</td>\n",
              "      <td>2020-01-12</td>\n",
              "      <td>6</td>\n",
              "      <td>7</td>\n",
              "      <td>8</td>\n",
              "    </tr>\n",
              "    <tr>\n",
              "      <th>i</th>\n",
              "      <td>not null</td>\n",
              "      <td>77.0</td>\n",
              "      <td>2020-01-13</td>\n",
              "      <td>9</td>\n",
              "      <td>10</td>\n",
              "      <td>11</td>\n",
              "    </tr>\n",
              "    <tr>\n",
              "      <th>b</th>\n",
              "      <td>1.2</td>\n",
              "      <td>NaN</td>\n",
              "      <td>2020-01-14</td>\n",
              "      <td>12</td>\n",
              "      <td>13</td>\n",
              "      <td>14</td>\n",
              "    </tr>\n",
              "    <tr>\n",
              "      <th>e</th>\n",
              "      <td>not null</td>\n",
              "      <td>33.0</td>\n",
              "      <td>2020-01-15</td>\n",
              "      <td>15</td>\n",
              "      <td>16</td>\n",
              "      <td>17</td>\n",
              "    </tr>\n",
              "  </tbody>\n",
              "</table>\n",
              "</div>"
            ],
            "text/plain": [
              "      data1  data2       date   x   y   z\n",
              "f       1.7   55.0 2020-01-10   0   1   2\n",
              "a  not null    NaN 2020-01-11   3   4   5\n",
              "y       2.4    NaN 2020-01-12   6   7   8\n",
              "i  not null   77.0 2020-01-13   9  10  11\n",
              "b       1.2    NaN 2020-01-14  12  13  14\n",
              "e  not null   33.0 2020-01-15  15  16  17"
            ]
          },
          "metadata": {
            "tags": []
          },
          "execution_count": 87
        }
      ]
    },
    {
      "cell_type": "code",
      "metadata": {
        "id": "2_ap5BLtO3pY",
        "colab_type": "code",
        "outputId": "5e04aeb6-2e5c-4b06-ca6b-dd67ea9a2cd6",
        "colab": {
          "base_uri": "https://localhost:8080/",
          "height": 228
        }
      },
      "source": [
        "df.sort_index(axis=1, ascending=False)"
      ],
      "execution_count": 0,
      "outputs": [
        {
          "output_type": "execute_result",
          "data": {
            "text/html": [
              "<div>\n",
              "<style scoped>\n",
              "    .dataframe tbody tr th:only-of-type {\n",
              "        vertical-align: middle;\n",
              "    }\n",
              "\n",
              "    .dataframe tbody tr th {\n",
              "        vertical-align: top;\n",
              "    }\n",
              "\n",
              "    .dataframe thead th {\n",
              "        text-align: right;\n",
              "    }\n",
              "</style>\n",
              "<table border=\"1\" class=\"dataframe\">\n",
              "  <thead>\n",
              "    <tr style=\"text-align: right;\">\n",
              "      <th></th>\n",
              "      <th>z</th>\n",
              "      <th>y</th>\n",
              "      <th>x</th>\n",
              "      <th>date</th>\n",
              "      <th>data2</th>\n",
              "      <th>data1</th>\n",
              "    </tr>\n",
              "  </thead>\n",
              "  <tbody>\n",
              "    <tr>\n",
              "      <th>f</th>\n",
              "      <td>2</td>\n",
              "      <td>1</td>\n",
              "      <td>0</td>\n",
              "      <td>2020-01-10</td>\n",
              "      <td>55.0</td>\n",
              "      <td>1.7</td>\n",
              "    </tr>\n",
              "    <tr>\n",
              "      <th>a</th>\n",
              "      <td>5</td>\n",
              "      <td>4</td>\n",
              "      <td>3</td>\n",
              "      <td>2020-01-11</td>\n",
              "      <td>NaN</td>\n",
              "      <td>not null</td>\n",
              "    </tr>\n",
              "    <tr>\n",
              "      <th>y</th>\n",
              "      <td>8</td>\n",
              "      <td>7</td>\n",
              "      <td>6</td>\n",
              "      <td>2020-01-12</td>\n",
              "      <td>NaN</td>\n",
              "      <td>2.4</td>\n",
              "    </tr>\n",
              "    <tr>\n",
              "      <th>i</th>\n",
              "      <td>11</td>\n",
              "      <td>10</td>\n",
              "      <td>9</td>\n",
              "      <td>2020-01-13</td>\n",
              "      <td>77.0</td>\n",
              "      <td>not null</td>\n",
              "    </tr>\n",
              "    <tr>\n",
              "      <th>b</th>\n",
              "      <td>14</td>\n",
              "      <td>13</td>\n",
              "      <td>12</td>\n",
              "      <td>2020-01-14</td>\n",
              "      <td>NaN</td>\n",
              "      <td>1.2</td>\n",
              "    </tr>\n",
              "    <tr>\n",
              "      <th>e</th>\n",
              "      <td>17</td>\n",
              "      <td>16</td>\n",
              "      <td>15</td>\n",
              "      <td>2020-01-15</td>\n",
              "      <td>33.0</td>\n",
              "      <td>not null</td>\n",
              "    </tr>\n",
              "  </tbody>\n",
              "</table>\n",
              "</div>"
            ],
            "text/plain": [
              "    z   y   x       date  data2     data1\n",
              "f   2   1   0 2020-01-10   55.0       1.7\n",
              "a   5   4   3 2020-01-11    NaN  not null\n",
              "y   8   7   6 2020-01-12    NaN       2.4\n",
              "i  11  10   9 2020-01-13   77.0  not null\n",
              "b  14  13  12 2020-01-14    NaN       1.2\n",
              "e  17  16  15 2020-01-15   33.0  not null"
            ]
          },
          "metadata": {
            "tags": []
          },
          "execution_count": 88
        }
      ]
    },
    {
      "cell_type": "code",
      "metadata": {
        "id": "JUXpqiANO3pZ",
        "colab_type": "code",
        "outputId": "61cdf3bc-84e1-4836-e00b-8baf067bc13a",
        "colab": {
          "base_uri": "https://localhost:8080/",
          "height": 228
        }
      },
      "source": [
        "df.sort_values(by='data2', ascending=False)"
      ],
      "execution_count": 0,
      "outputs": [
        {
          "output_type": "execute_result",
          "data": {
            "text/html": [
              "<div>\n",
              "<style scoped>\n",
              "    .dataframe tbody tr th:only-of-type {\n",
              "        vertical-align: middle;\n",
              "    }\n",
              "\n",
              "    .dataframe tbody tr th {\n",
              "        vertical-align: top;\n",
              "    }\n",
              "\n",
              "    .dataframe thead th {\n",
              "        text-align: right;\n",
              "    }\n",
              "</style>\n",
              "<table border=\"1\" class=\"dataframe\">\n",
              "  <thead>\n",
              "    <tr style=\"text-align: right;\">\n",
              "      <th></th>\n",
              "      <th>x</th>\n",
              "      <th>y</th>\n",
              "      <th>z</th>\n",
              "      <th>data1</th>\n",
              "      <th>date</th>\n",
              "      <th>data2</th>\n",
              "    </tr>\n",
              "  </thead>\n",
              "  <tbody>\n",
              "    <tr>\n",
              "      <th>i</th>\n",
              "      <td>9</td>\n",
              "      <td>10</td>\n",
              "      <td>11</td>\n",
              "      <td>not null</td>\n",
              "      <td>2020-01-13</td>\n",
              "      <td>77.0</td>\n",
              "    </tr>\n",
              "    <tr>\n",
              "      <th>f</th>\n",
              "      <td>0</td>\n",
              "      <td>1</td>\n",
              "      <td>2</td>\n",
              "      <td>1.7</td>\n",
              "      <td>2020-01-10</td>\n",
              "      <td>55.0</td>\n",
              "    </tr>\n",
              "    <tr>\n",
              "      <th>e</th>\n",
              "      <td>15</td>\n",
              "      <td>16</td>\n",
              "      <td>17</td>\n",
              "      <td>not null</td>\n",
              "      <td>2020-01-15</td>\n",
              "      <td>33.0</td>\n",
              "    </tr>\n",
              "    <tr>\n",
              "      <th>a</th>\n",
              "      <td>3</td>\n",
              "      <td>4</td>\n",
              "      <td>5</td>\n",
              "      <td>not null</td>\n",
              "      <td>2020-01-11</td>\n",
              "      <td>NaN</td>\n",
              "    </tr>\n",
              "    <tr>\n",
              "      <th>y</th>\n",
              "      <td>6</td>\n",
              "      <td>7</td>\n",
              "      <td>8</td>\n",
              "      <td>2.4</td>\n",
              "      <td>2020-01-12</td>\n",
              "      <td>NaN</td>\n",
              "    </tr>\n",
              "    <tr>\n",
              "      <th>b</th>\n",
              "      <td>12</td>\n",
              "      <td>13</td>\n",
              "      <td>14</td>\n",
              "      <td>1.2</td>\n",
              "      <td>2020-01-14</td>\n",
              "      <td>NaN</td>\n",
              "    </tr>\n",
              "  </tbody>\n",
              "</table>\n",
              "</div>"
            ],
            "text/plain": [
              "    x   y   z     data1       date  data2\n",
              "i   9  10  11  not null 2020-01-13   77.0\n",
              "f   0   1   2       1.7 2020-01-10   55.0\n",
              "e  15  16  17  not null 2020-01-15   33.0\n",
              "a   3   4   5  not null 2020-01-11    NaN\n",
              "y   6   7   8       2.4 2020-01-12    NaN\n",
              "b  12  13  14       1.2 2020-01-14    NaN"
            ]
          },
          "metadata": {
            "tags": []
          },
          "execution_count": 89
        }
      ]
    },
    {
      "cell_type": "markdown",
      "metadata": {
        "id": "dCOQsdJRO3pf",
        "colab_type": "text"
      },
      "source": [
        "### 웹크롤링 데이타 수집 후 데이타 분석 "
      ]
    },
    {
      "cell_type": "markdown",
      "metadata": {
        "id": "m6bCoH0bUj4Q",
        "colab_type": "text"
      },
      "source": [
        "###\n",
        " 사이트 주소 : http://kind.krx.co.kr/corpgeneral/corpList.do?method=loadInitPage"
      ]
    },
    {
      "cell_type": "code",
      "metadata": {
        "id": "QFUpRTOIO3pq",
        "colab_type": "code",
        "outputId": "3fb6a2f3-555e-429d-c31a-8d1856fddefc",
        "colab": {
          "base_uri": "https://localhost:8080/",
          "height": 561
        }
      },
      "source": [
        "import pandas as pd\n",
        "\n",
        "# KRX에서 상장사 정보 조회\n",
        "df = pd.read_html('http://kind.krx.co.kr/corpgeneral/corpList.do?method=download&searchType=13')[0]\n",
        "df.head()"
      ],
      "execution_count": 0,
      "outputs": [
        {
          "output_type": "execute_result",
          "data": {
            "text/html": [
              "<div>\n",
              "<style scoped>\n",
              "    .dataframe tbody tr th:only-of-type {\n",
              "        vertical-align: middle;\n",
              "    }\n",
              "\n",
              "    .dataframe tbody tr th {\n",
              "        vertical-align: top;\n",
              "    }\n",
              "\n",
              "    .dataframe thead th {\n",
              "        text-align: right;\n",
              "    }\n",
              "</style>\n",
              "<table border=\"1\" class=\"dataframe\">\n",
              "  <thead>\n",
              "    <tr style=\"text-align: right;\">\n",
              "      <th></th>\n",
              "      <th>회사명</th>\n",
              "      <th>종목코드</th>\n",
              "      <th>업종</th>\n",
              "      <th>주요제품</th>\n",
              "      <th>상장일</th>\n",
              "      <th>결산월</th>\n",
              "      <th>대표자명</th>\n",
              "      <th>홈페이지</th>\n",
              "      <th>지역</th>\n",
              "    </tr>\n",
              "  </thead>\n",
              "  <tbody>\n",
              "    <tr>\n",
              "      <th>0</th>\n",
              "      <td>DSR</td>\n",
              "      <td>155660</td>\n",
              "      <td>1차 비철금속 제조업</td>\n",
              "      <td>합섬섬유로프</td>\n",
              "      <td>2013-05-15</td>\n",
              "      <td>12월</td>\n",
              "      <td>홍석빈</td>\n",
              "      <td>http://www.dsr.com</td>\n",
              "      <td>부산광역시</td>\n",
              "    </tr>\n",
              "    <tr>\n",
              "      <th>1</th>\n",
              "      <td>GS글로벌</td>\n",
              "      <td>1250</td>\n",
              "      <td>상품 종합 도매업</td>\n",
              "      <td>수출입업(시멘트,철강금속,전기전자,섬유,기계화학),상품중개,광업,채석업/하수처리 서...</td>\n",
              "      <td>1976-06-26</td>\n",
              "      <td>12월</td>\n",
              "      <td>김태형</td>\n",
              "      <td>http://www.gsgcorp.com</td>\n",
              "      <td>서울특별시</td>\n",
              "    </tr>\n",
              "    <tr>\n",
              "      <th>2</th>\n",
              "      <td>HSD엔진</td>\n",
              "      <td>82740</td>\n",
              "      <td>일반 목적용 기계 제조업</td>\n",
              "      <td>대형선박용엔진,내연발전엔진</td>\n",
              "      <td>2011-01-04</td>\n",
              "      <td>12월</td>\n",
              "      <td>고영열</td>\n",
              "      <td>http://www.doosanengine.com</td>\n",
              "      <td>경상남도</td>\n",
              "    </tr>\n",
              "    <tr>\n",
              "      <th>3</th>\n",
              "      <td>LG이노텍</td>\n",
              "      <td>11070</td>\n",
              "      <td>전자부품 제조업</td>\n",
              "      <td>기타 전자부품 제조업</td>\n",
              "      <td>2008-07-24</td>\n",
              "      <td>12월</td>\n",
              "      <td>정철동</td>\n",
              "      <td>http://www.lginnotek.co.kr</td>\n",
              "      <td>서울특별시</td>\n",
              "    </tr>\n",
              "    <tr>\n",
              "      <th>4</th>\n",
              "      <td>OCI</td>\n",
              "      <td>10060</td>\n",
              "      <td>기초 화학물질 제조업</td>\n",
              "      <td>타르제품,카본블랙,무수프탈산,농약원제,석탄화학제품,정밀화학제품,플라스틱창호재 제조,판매</td>\n",
              "      <td>1985-07-09</td>\n",
              "      <td>12월</td>\n",
              "      <td>백우석, 이우현, 김택중(3인, 각자 대표이사)</td>\n",
              "      <td>http://www.oci.co.kr</td>\n",
              "      <td>서울특별시</td>\n",
              "    </tr>\n",
              "  </tbody>\n",
              "</table>\n",
              "</div>"
            ],
            "text/plain": [
              "     회사명    종목코드  ...                         홈페이지     지역\n",
              "0    DSR  155660  ...           http://www.dsr.com  부산광역시\n",
              "1  GS글로벌    1250  ...       http://www.gsgcorp.com  서울특별시\n",
              "2  HSD엔진   82740  ...  http://www.doosanengine.com   경상남도\n",
              "3  LG이노텍   11070  ...   http://www.lginnotek.co.kr  서울특별시\n",
              "4    OCI   10060  ...         http://www.oci.co.kr  서울특별시\n",
              "\n",
              "[5 rows x 9 columns]"
            ]
          },
          "metadata": {
            "tags": []
          },
          "execution_count": 104
        }
      ]
    },
    {
      "cell_type": "code",
      "metadata": {
        "id": "863jEw8LO3pu",
        "colab_type": "code",
        "colab": {}
      },
      "source": [
        "import pandas as pd\n",
        "\n",
        "# KRX에서 상장사 정보 조회\n",
        "code_df = pd.read_html('http://kind.krx.co.kr/corpgeneral/corpList.do?method=download&searchType=13', header=0)[0]\n",
        "\n",
        "code_df.종목코드 = code_df.종목코드.map('{:06d}'.format)\n",
        "code_df = code_df[['회사명', '종목코드']]\n",
        "\n",
        "code_df = code_df.rename(columns={'회사명' : 'name', '종목코드' : 'code'})\n",
        "\n",
        "# 상장사코드 정보를 이용해 naver 주가 정보 화면 접속을 위한 url 생성 함수\n",
        "def get_url(item_name, code_df):\n",
        "  code = code_df.query(\"name=='{}'\".format(item_name))['code'].values[0]\n",
        "  url = 'https://finance.naver.com/item/sise_day.nhn?code={code}'.format(code=code)\n",
        "  \n",
        "  print(\"request URL = {}\".format(url))\n",
        "  return url"
      ],
      "execution_count": 0,
      "outputs": []
    },
    {
      "cell_type": "code",
      "metadata": {
        "id": "-wn6EgGcO3px",
        "colab_type": "code",
        "outputId": "827cc88b-c824-4ea6-a85a-1ecc3502d79e",
        "colab": {
          "base_uri": "https://localhost:8080/",
          "height": 36
        }
      },
      "source": [
        "code_df.shape"
      ],
      "execution_count": 0,
      "outputs": [
        {
          "output_type": "execute_result",
          "data": {
            "text/plain": [
              "(2354, 2)"
            ]
          },
          "metadata": {
            "tags": []
          },
          "execution_count": 92
        }
      ]
    },
    {
      "cell_type": "code",
      "metadata": {
        "id": "6mQ4mLWkO3p0",
        "colab_type": "code",
        "outputId": "30d33538-2a2d-4a7a-f2a6-3ec03699a0bb",
        "colab": {
          "base_uri": "https://localhost:8080/",
          "height": 198
        }
      },
      "source": [
        "code_df.head()"
      ],
      "execution_count": 0,
      "outputs": [
        {
          "output_type": "execute_result",
          "data": {
            "text/html": [
              "<div>\n",
              "<style scoped>\n",
              "    .dataframe tbody tr th:only-of-type {\n",
              "        vertical-align: middle;\n",
              "    }\n",
              "\n",
              "    .dataframe tbody tr th {\n",
              "        vertical-align: top;\n",
              "    }\n",
              "\n",
              "    .dataframe thead th {\n",
              "        text-align: right;\n",
              "    }\n",
              "</style>\n",
              "<table border=\"1\" class=\"dataframe\">\n",
              "  <thead>\n",
              "    <tr style=\"text-align: right;\">\n",
              "      <th></th>\n",
              "      <th>name</th>\n",
              "      <th>code</th>\n",
              "    </tr>\n",
              "  </thead>\n",
              "  <tbody>\n",
              "    <tr>\n",
              "      <th>0</th>\n",
              "      <td>DSR</td>\n",
              "      <td>155660</td>\n",
              "    </tr>\n",
              "    <tr>\n",
              "      <th>1</th>\n",
              "      <td>GS글로벌</td>\n",
              "      <td>001250</td>\n",
              "    </tr>\n",
              "    <tr>\n",
              "      <th>2</th>\n",
              "      <td>HSD엔진</td>\n",
              "      <td>082740</td>\n",
              "    </tr>\n",
              "    <tr>\n",
              "      <th>3</th>\n",
              "      <td>LG이노텍</td>\n",
              "      <td>011070</td>\n",
              "    </tr>\n",
              "    <tr>\n",
              "      <th>4</th>\n",
              "      <td>OCI</td>\n",
              "      <td>010060</td>\n",
              "    </tr>\n",
              "  </tbody>\n",
              "</table>\n",
              "</div>"
            ],
            "text/plain": [
              "    name    code\n",
              "0    DSR  155660\n",
              "1  GS글로벌  001250\n",
              "2  HSD엔진  082740\n",
              "3  LG이노텍  011070\n",
              "4    OCI  010060"
            ]
          },
          "metadata": {
            "tags": []
          },
          "execution_count": 93
        }
      ]
    },
    {
      "cell_type": "code",
      "metadata": {
        "id": "gbbQSTu_O3p4",
        "colab_type": "code",
        "outputId": "00bcf1a2-350d-4d2a-8e1a-ebdd94ec4bb0",
        "colab": {
          "base_uri": "https://localhost:8080/",
          "height": 36
        }
      },
      "source": [
        "item_name='삼성전자'\n",
        "url = get_url(item_name, code_df)\n",
        "\n",
        "df = pd.DataFrame()\n",
        "\n",
        "import requests\n",
        "from bs4 import BeautifulSoup\n",
        "\n",
        "priceList = []\n",
        "\n",
        "for page in range(1, 21):\n",
        "  # 페이징 처리 되어 있는 주가정보의 url 생성\n",
        "  pg_url = '{url}&page={page}'.format(url=url, page=page)\n",
        "  \n",
        "  # 해당 페이지의 html 정보 받아아 soup 객체 생성\n",
        "  response= requests.get(pg_url)\n",
        "  soup = BeautifulSoup(response.content, 'lxml')\n"
      ],
      "execution_count": 0,
      "outputs": [
        {
          "output_type": "stream",
          "text": [
            "request URL = https://finance.naver.com/item/sise_day.nhn?code=005930\n"
          ],
          "name": "stdout"
        }
      ]
    },
    {
      "cell_type": "code",
      "metadata": {
        "id": "QI60E-yEO3p7",
        "colab_type": "code",
        "outputId": "72c007df-59f9-4c32-84fe-68097124c5ad",
        "colab": {
          "base_uri": "https://localhost:8080/",
          "height": 36
        }
      },
      "source": [
        "item_name='삼성전자'\n",
        "url = get_url(item_name, code_df)\n",
        "\n",
        "df = pd.DataFrame()\n",
        "\n",
        "import requests\n",
        "from bs4 import BeautifulSoup\n",
        "\n",
        "priceList = []\n",
        "\n",
        "for page in range(1, 21):\n",
        "    # 페이징 처리 되어 있는 주가정보의 url 생성\n",
        "    pg_url = '{url}&page={page}'.format(url=url, page=page)\n",
        "  \n",
        "    # 해당 페이지의 html 정보 받아아 soup 객체 생성\n",
        "    response= requests.get(pg_url)\n",
        "    soup = BeautifulSoup(response.content, 'lxml')\n",
        "\n",
        "    # 주가 데이터가 담겨있는 tr 태그 객체 조회\n",
        "    trList = soup.body.find_all(name='tr', attrs={'onmouseover':'mouseOver(this)'})\n",
        "  \n",
        "    # td.tag 객체의 string 값 추출\n",
        "    for row in trList:\n",
        "        priceList.append([td.span.string.strip() for td in row.find_all(name='td')])\n",
        "\n",
        "# 데이터 분석을 위해 Dataframe 객체로 변환\n",
        "df = pd.DataFrame(priceList, columns=['date', 'close', 'diff', 'open', 'high', 'low', 'volume'])\n",
        "df = df.dropna()\n",
        "\n",
        "# 날짜 정보 데이터 타입 변환\n",
        "df['date'] = pd.to_datetime(df['date'])\n",
        "df = df.sort_values(by=['date'], ascending=True)\n"
      ],
      "execution_count": 0,
      "outputs": [
        {
          "output_type": "stream",
          "text": [
            "request URL = https://finance.naver.com/item/sise_day.nhn?code=005930\n"
          ],
          "name": "stdout"
        }
      ]
    },
    {
      "cell_type": "code",
      "metadata": {
        "id": "yB1ghNZKO3p-",
        "colab_type": "code",
        "outputId": "6dc299de-21f8-45ca-9d3c-60e7e77ef517",
        "colab": {
          "base_uri": "https://localhost:8080/",
          "height": 198
        }
      },
      "source": [
        "df.head()"
      ],
      "execution_count": 0,
      "outputs": [
        {
          "output_type": "execute_result",
          "data": {
            "text/html": [
              "<div>\n",
              "<style scoped>\n",
              "    .dataframe tbody tr th:only-of-type {\n",
              "        vertical-align: middle;\n",
              "    }\n",
              "\n",
              "    .dataframe tbody tr th {\n",
              "        vertical-align: top;\n",
              "    }\n",
              "\n",
              "    .dataframe thead th {\n",
              "        text-align: right;\n",
              "    }\n",
              "</style>\n",
              "<table border=\"1\" class=\"dataframe\">\n",
              "  <thead>\n",
              "    <tr style=\"text-align: right;\">\n",
              "      <th></th>\n",
              "      <th>date</th>\n",
              "      <th>close</th>\n",
              "      <th>diff</th>\n",
              "      <th>open</th>\n",
              "      <th>high</th>\n",
              "      <th>low</th>\n",
              "      <th>volume</th>\n",
              "    </tr>\n",
              "  </thead>\n",
              "  <tbody>\n",
              "    <tr>\n",
              "      <th>199</th>\n",
              "      <td>2019-03-22</td>\n",
              "      <td>46,550</td>\n",
              "      <td>700</td>\n",
              "      <td>46,850</td>\n",
              "      <td>47,000</td>\n",
              "      <td>46,250</td>\n",
              "      <td>12,535,911</td>\n",
              "    </tr>\n",
              "    <tr>\n",
              "      <th>198</th>\n",
              "      <td>2019-03-25</td>\n",
              "      <td>45,500</td>\n",
              "      <td>1,050</td>\n",
              "      <td>45,300</td>\n",
              "      <td>45,650</td>\n",
              "      <td>44,800</td>\n",
              "      <td>8,699,728</td>\n",
              "    </tr>\n",
              "    <tr>\n",
              "      <th>197</th>\n",
              "      <td>2019-03-26</td>\n",
              "      <td>45,250</td>\n",
              "      <td>250</td>\n",
              "      <td>45,500</td>\n",
              "      <td>45,700</td>\n",
              "      <td>44,900</td>\n",
              "      <td>9,729,811</td>\n",
              "    </tr>\n",
              "    <tr>\n",
              "      <th>196</th>\n",
              "      <td>2019-03-27</td>\n",
              "      <td>45,350</td>\n",
              "      <td>100</td>\n",
              "      <td>44,750</td>\n",
              "      <td>45,600</td>\n",
              "      <td>44,250</td>\n",
              "      <td>9,568,081</td>\n",
              "    </tr>\n",
              "    <tr>\n",
              "      <th>195</th>\n",
              "      <td>2019-03-28</td>\n",
              "      <td>44,850</td>\n",
              "      <td>500</td>\n",
              "      <td>44,950</td>\n",
              "      <td>45,200</td>\n",
              "      <td>44,300</td>\n",
              "      <td>6,821,306</td>\n",
              "    </tr>\n",
              "  </tbody>\n",
              "</table>\n",
              "</div>"
            ],
            "text/plain": [
              "          date   close   diff    open    high     low      volume\n",
              "199 2019-03-22  46,550    700  46,850  47,000  46,250  12,535,911\n",
              "198 2019-03-25  45,500  1,050  45,300  45,650  44,800   8,699,728\n",
              "197 2019-03-26  45,250    250  45,500  45,700  44,900   9,729,811\n",
              "196 2019-03-27  45,350    100  44,750  45,600  44,250   9,568,081\n",
              "195 2019-03-28  44,850    500  44,950  45,200  44,300   6,821,306"
            ]
          },
          "metadata": {
            "tags": []
          },
          "execution_count": 99
        }
      ]
    },
    {
      "cell_type": "code",
      "metadata": {
        "id": "njteI3OXVXDE",
        "colab_type": "code",
        "outputId": "45a77170-8c99-496a-8716-c4e03640019d",
        "colab": {
          "base_uri": "https://localhost:8080/",
          "height": 240
        }
      },
      "source": [
        "df.info()"
      ],
      "execution_count": 0,
      "outputs": [
        {
          "output_type": "stream",
          "text": [
            "<class 'pandas.core.frame.DataFrame'>\n",
            "Int64Index: 200 entries, 199 to 0\n",
            "Data columns (total 7 columns):\n",
            "date      200 non-null datetime64[ns]\n",
            "close     200 non-null object\n",
            "diff      200 non-null object\n",
            "open      200 non-null object\n",
            "high      200 non-null object\n",
            "low       200 non-null object\n",
            "volume    200 non-null object\n",
            "dtypes: datetime64[ns](1), object(6)\n",
            "memory usage: 12.5+ KB\n"
          ],
          "name": "stdout"
        }
      ]
    },
    {
      "cell_type": "code",
      "metadata": {
        "id": "KokwwrzEO3qA",
        "colab_type": "code",
        "colab": {}
      },
      "source": [
        "import locale\n",
        "from locale import atof\n",
        "\n",
        "locale.setlocale(locale.LC_NUMERIC,'')\n",
        "\n",
        "# close(종가) 데이터 타입 변환 \n",
        "df['close'] = df.close.str.replace(',', '').astype('float')\n",
        "\n",
        "\n",
        "# 주가데이터 타입 변환 \n",
        "# df[['close', 'diff', 'open', 'high', 'low', 'volume']] = df[['close', 'diff', 'open', 'high', 'low', 'volume']].applymap(float)\n",
        "\n",
        "import plotly.graph_objects as go\n",
        "\n",
        "# 데이터를 이용해 차트를 그리기 위한 Scatter 객체 생성\n",
        "trace = go.Scatter(x = df.date, y=df.close, name=item_name)\n",
        "data = [trace]\n"
      ],
      "execution_count": 0,
      "outputs": []
    },
    {
      "cell_type": "code",
      "metadata": {
        "id": "JdwkmfDBO3qT",
        "colab_type": "code",
        "outputId": "b52747f6-9a98-459a-b959-0ff4fba060c1",
        "colab": {
          "base_uri": "https://localhost:8080/",
          "height": 166
        }
      },
      "source": [
        "df.dtypes"
      ],
      "execution_count": 0,
      "outputs": [
        {
          "output_type": "execute_result",
          "data": {
            "text/plain": [
              "date      datetime64[ns]\n",
              "close            float64\n",
              "diff              object\n",
              "open              object\n",
              "high              object\n",
              "low               object\n",
              "volume            object\n",
              "dtype: object"
            ]
          },
          "metadata": {
            "tags": []
          },
          "execution_count": 110
        }
      ]
    },
    {
      "cell_type": "code",
      "metadata": {
        "id": "65g1-LjRO3qU",
        "colab_type": "code",
        "outputId": "ebb9142e-e33b-43a4-bf0b-ddd9485fef66",
        "colab": {
          "base_uri": "https://localhost:8080/",
          "height": 785
        }
      },
      "source": [
        "# 차트를 그리기 위한 축 정보 설정\n",
        "# layout = dict(\n",
        "#     title='{} close Time Series'.format(item_name),\n",
        "#     xaxis = dict(\n",
        "#         rangeslider=dict(),\n",
        "#         type='date'\n",
        "#         )\n",
        "# )\n",
        "\n",
        "# 차트 객체 생성 및 렌더링\n",
        "fig = go.Figure(data=data)\n",
        "# fig = go.Figure(data=data, layout=layout)\n",
        "fig.show()\n",
        "\n",
        "import pandas_profiling\n",
        "\n",
        "# 판다스 프로파일링 라이브러리를 이용한 분석\n",
        "profile = pandas_profiling.ProfileReport(df)\n"
      ],
      "execution_count": 0,
      "outputs": [
        {
          "output_type": "display_data",
          "data": {
            "text/html": [
              "<html>\n",
              "<head><meta charset=\"utf-8\" /></head>\n",
              "<body>\n",
              "    <div>\n",
              "            <script src=\"https://cdnjs.cloudflare.com/ajax/libs/mathjax/2.7.5/MathJax.js?config=TeX-AMS-MML_SVG\"></script><script type=\"text/javascript\">if (window.MathJax) {MathJax.Hub.Config({SVG: {font: \"STIX-Web\"}});}</script>\n",
              "                <script type=\"text/javascript\">window.PlotlyConfig = {MathJaxConfig: 'local'};</script>\n",
              "        <script src=\"https://cdn.plot.ly/plotly-latest.min.js\"></script>    \n",
              "            <div id=\"8d682d73-277b-4b73-883b-57619d652e49\" class=\"plotly-graph-div\" style=\"height:525px; width:100%;\"></div>\n",
              "            <script type=\"text/javascript\">\n",
              "                \n",
              "                    window.PLOTLYENV=window.PLOTLYENV || {};\n",
              "                    \n",
              "                if (document.getElementById(\"8d682d73-277b-4b73-883b-57619d652e49\")) {\n",
              "                    Plotly.newPlot(\n",
              "                        '8d682d73-277b-4b73-883b-57619d652e49',\n",
              "                        [{\"name\": \"\\uc0bc\\uc131\\uc804\\uc790\", \"type\": \"scatter\", \"x\": [\"2019-03-22T00:00:00\", \"2019-03-25T00:00:00\", \"2019-03-26T00:00:00\", \"2019-03-27T00:00:00\", \"2019-03-28T00:00:00\", \"2019-03-29T00:00:00\", \"2019-04-01T00:00:00\", \"2019-04-02T00:00:00\", \"2019-04-03T00:00:00\", \"2019-04-04T00:00:00\", \"2019-04-05T00:00:00\", \"2019-04-08T00:00:00\", \"2019-04-09T00:00:00\", \"2019-04-10T00:00:00\", \"2019-04-11T00:00:00\", \"2019-04-12T00:00:00\", \"2019-04-15T00:00:00\", \"2019-04-16T00:00:00\", \"2019-04-17T00:00:00\", \"2019-04-18T00:00:00\", \"2019-04-19T00:00:00\", \"2019-04-22T00:00:00\", \"2019-04-23T00:00:00\", \"2019-04-24T00:00:00\", \"2019-04-25T00:00:00\", \"2019-04-26T00:00:00\", \"2019-04-29T00:00:00\", \"2019-04-30T00:00:00\", \"2019-05-02T00:00:00\", \"2019-05-03T00:00:00\", \"2019-05-07T00:00:00\", \"2019-05-08T00:00:00\", \"2019-05-09T00:00:00\", \"2019-05-10T00:00:00\", \"2019-05-13T00:00:00\", \"2019-05-14T00:00:00\", \"2019-05-15T00:00:00\", \"2019-05-16T00:00:00\", \"2019-05-17T00:00:00\", \"2019-05-20T00:00:00\", \"2019-05-21T00:00:00\", \"2019-05-22T00:00:00\", \"2019-05-23T00:00:00\", \"2019-05-24T00:00:00\", \"2019-05-27T00:00:00\", \"2019-05-28T00:00:00\", \"2019-05-29T00:00:00\", \"2019-05-30T00:00:00\", \"2019-05-31T00:00:00\", \"2019-06-03T00:00:00\", \"2019-06-04T00:00:00\", \"2019-06-05T00:00:00\", \"2019-06-07T00:00:00\", \"2019-06-10T00:00:00\", \"2019-06-11T00:00:00\", \"2019-06-12T00:00:00\", \"2019-06-13T00:00:00\", \"2019-06-14T00:00:00\", \"2019-06-17T00:00:00\", \"2019-06-18T00:00:00\", \"2019-06-19T00:00:00\", \"2019-06-20T00:00:00\", \"2019-06-21T00:00:00\", \"2019-06-24T00:00:00\", \"2019-06-25T00:00:00\", \"2019-06-26T00:00:00\", \"2019-06-27T00:00:00\", \"2019-06-28T00:00:00\", \"2019-07-01T00:00:00\", \"2019-07-02T00:00:00\", \"2019-07-03T00:00:00\", \"2019-07-04T00:00:00\", \"2019-07-05T00:00:00\", \"2019-07-08T00:00:00\", \"2019-07-09T00:00:00\", \"2019-07-10T00:00:00\", \"2019-07-11T00:00:00\", \"2019-07-12T00:00:00\", \"2019-07-15T00:00:00\", \"2019-07-16T00:00:00\", \"2019-07-17T00:00:00\", \"2019-07-18T00:00:00\", \"2019-07-19T00:00:00\", \"2019-07-22T00:00:00\", \"2019-07-23T00:00:00\", \"2019-07-24T00:00:00\", \"2019-07-25T00:00:00\", \"2019-07-26T00:00:00\", \"2019-07-29T00:00:00\", \"2019-07-30T00:00:00\", \"2019-07-31T00:00:00\", \"2019-08-01T00:00:00\", \"2019-08-02T00:00:00\", \"2019-08-05T00:00:00\", \"2019-08-06T00:00:00\", \"2019-08-07T00:00:00\", \"2019-08-08T00:00:00\", \"2019-08-09T00:00:00\", \"2019-08-12T00:00:00\", \"2019-08-13T00:00:00\", \"2019-08-14T00:00:00\", \"2019-08-16T00:00:00\", \"2019-08-19T00:00:00\", \"2019-08-20T00:00:00\", \"2019-08-21T00:00:00\", \"2019-08-22T00:00:00\", \"2019-08-23T00:00:00\", \"2019-08-26T00:00:00\", \"2019-08-27T00:00:00\", \"2019-08-28T00:00:00\", \"2019-08-29T00:00:00\", \"2019-08-30T00:00:00\", \"2019-09-02T00:00:00\", \"2019-09-03T00:00:00\", \"2019-09-04T00:00:00\", \"2019-09-05T00:00:00\", \"2019-09-06T00:00:00\", \"2019-09-09T00:00:00\", \"2019-09-10T00:00:00\", \"2019-09-11T00:00:00\", \"2019-09-16T00:00:00\", \"2019-09-17T00:00:00\", \"2019-09-18T00:00:00\", \"2019-09-19T00:00:00\", \"2019-09-20T00:00:00\", \"2019-09-23T00:00:00\", \"2019-09-24T00:00:00\", \"2019-09-25T00:00:00\", \"2019-09-26T00:00:00\", \"2019-09-27T00:00:00\", \"2019-09-30T00:00:00\", \"2019-10-01T00:00:00\", \"2019-10-02T00:00:00\", \"2019-10-04T00:00:00\", \"2019-10-07T00:00:00\", \"2019-10-08T00:00:00\", \"2019-10-10T00:00:00\", \"2019-10-11T00:00:00\", \"2019-10-14T00:00:00\", \"2019-10-15T00:00:00\", \"2019-10-16T00:00:00\", \"2019-10-17T00:00:00\", \"2019-10-18T00:00:00\", \"2019-10-21T00:00:00\", \"2019-10-22T00:00:00\", \"2019-10-23T00:00:00\", \"2019-10-24T00:00:00\", \"2019-10-25T00:00:00\", \"2019-10-28T00:00:00\", \"2019-10-29T00:00:00\", \"2019-10-30T00:00:00\", \"2019-10-31T00:00:00\", \"2019-11-01T00:00:00\", \"2019-11-04T00:00:00\", \"2019-11-05T00:00:00\", \"2019-11-06T00:00:00\", \"2019-11-07T00:00:00\", \"2019-11-08T00:00:00\", \"2019-11-11T00:00:00\", \"2019-11-12T00:00:00\", \"2019-11-13T00:00:00\", \"2019-11-14T00:00:00\", \"2019-11-15T00:00:00\", \"2019-11-18T00:00:00\", \"2019-11-19T00:00:00\", \"2019-11-20T00:00:00\", \"2019-11-21T00:00:00\", \"2019-11-22T00:00:00\", \"2019-11-25T00:00:00\", \"2019-11-26T00:00:00\", \"2019-11-27T00:00:00\", \"2019-11-28T00:00:00\", \"2019-11-29T00:00:00\", \"2019-12-02T00:00:00\", \"2019-12-03T00:00:00\", \"2019-12-04T00:00:00\", \"2019-12-05T00:00:00\", \"2019-12-06T00:00:00\", \"2019-12-09T00:00:00\", \"2019-12-10T00:00:00\", \"2019-12-11T00:00:00\", \"2019-12-12T00:00:00\", \"2019-12-13T00:00:00\", \"2019-12-16T00:00:00\", \"2019-12-17T00:00:00\", \"2019-12-18T00:00:00\", \"2019-12-19T00:00:00\", \"2019-12-20T00:00:00\", \"2019-12-23T00:00:00\", \"2019-12-24T00:00:00\", \"2019-12-26T00:00:00\", \"2019-12-27T00:00:00\", \"2019-12-30T00:00:00\", \"2020-01-02T00:00:00\", \"2020-01-03T00:00:00\", \"2020-01-06T00:00:00\", \"2020-01-07T00:00:00\", \"2020-01-08T00:00:00\", \"2020-01-09T00:00:00\", \"2020-01-10T00:00:00\"], \"y\": [46550.0, 45500.0, 45250.0, 45350.0, 44850.0, 44650.0, 45050.0, 45750.0, 46600.0, 46950.0, 46850.0, 46650.0, 46650.0, 46700.0, 46250.0, 46850.0, 47050.0, 47250.0, 47050.0, 45600.0, 45300.0, 45350.0, 45200.0, 44750.0, 44650.0, 44850.0, 46150.0, 45850.0, 45900.0, 45300.0, 44850.0, 44250.0, 42450.0, 42900.0, 42650.0, 42650.0, 42550.0, 41550.0, 41200.0, 42000.0, 43150.0, 43500.0, 43850.0, 42700.0, 42650.0, 42550.0, 41800.0, 42550.0, 42500.0, 43800.0, 43450.0, 43900.0, 44200.0, 44800.0, 44850.0, 44600.0, 43750.0, 44000.0, 43900.0, 44350.0, 45350.0, 45500.0, 45700.0, 45500.0, 45600.0, 45700.0, 46500.0, 47000.0, 46600.0, 46250.0, 45400.0, 46000.0, 45650.0, 44400.0, 45100.0, 45550.0, 46200.0, 46300.0, 46450.0, 46850.0, 46050.0, 46100.0, 46800.0, 47200.0, 47300.0, 46400.0, 47200.0, 47150.0, 46100.0, 46550.0, 45350.0, 45200.0, 44950.0, 43950.0, 43500.0, 43200.0, 42650.0, 43150.0, 43700.0, 43000.0, 43700.0, 43900.0, 43600.0, 44450.0, 44500.0, 44050.0, 43950.0, 43600.0, 44050.0, 44150.0, 43400.0, 44000.0, 43800.0, 43250.0, 44100.0, 45700.0, 46300.0, 46900.0, 47000.0, 47150.0, 47100.0, 46900.0, 47700.0, 49150.0, 49200.0, 49300.0, 49500.0, 48900.0, 49200.0, 48400.0, 49050.0, 48850.0, 47600.0, 48000.0, 47750.0, 48900.0, 48550.0, 49150.0, 50000.0, 50100.0, 50700.0, 50500.0, 49900.0, 50300.0, 51200.0, 51200.0, 50700.0, 50900.0, 51300.0, 51100.0, 50400.0, 50400.0, 51200.0, 52300.0, 52700.0, 53300.0, 52900.0, 52100.0, 51600.0, 52600.0, 52500.0, 52800.0, 53700.0, 53500.0, 53500.0, 52000.0, 51000.0, 51600.0, 51800.0, 51800.0, 52200.0, 51300.0, 50300.0, 50400.0, 49900.0, 49450.0, 49500.0, 50400.0, 51200.0, 51500.0, 51900.0, 53300.0, 54700.0, 54700.0, 56700.0, 56300.0, 56000.0, 56000.0, 55500.0, 55000.0, 55400.0, 56500.0, 55800.0, 55200.0, 55500.0, 55500.0, 55800.0, 56800.0, 58600.0, 59500.0]}],\n",
              "                        {\"template\": {\"data\": {\"bar\": [{\"error_x\": {\"color\": \"#2a3f5f\"}, \"error_y\": {\"color\": \"#2a3f5f\"}, \"marker\": {\"line\": {\"color\": \"#E5ECF6\", \"width\": 0.5}}, \"type\": \"bar\"}], \"barpolar\": [{\"marker\": {\"line\": {\"color\": \"#E5ECF6\", \"width\": 0.5}}, \"type\": \"barpolar\"}], \"carpet\": [{\"aaxis\": {\"endlinecolor\": \"#2a3f5f\", \"gridcolor\": \"white\", \"linecolor\": \"white\", \"minorgridcolor\": \"white\", \"startlinecolor\": \"#2a3f5f\"}, \"baxis\": {\"endlinecolor\": \"#2a3f5f\", \"gridcolor\": \"white\", \"linecolor\": \"white\", \"minorgridcolor\": \"white\", \"startlinecolor\": \"#2a3f5f\"}, \"type\": \"carpet\"}], \"choropleth\": [{\"colorbar\": {\"outlinewidth\": 0, \"ticks\": \"\"}, \"type\": \"choropleth\"}], \"contour\": [{\"colorbar\": {\"outlinewidth\": 0, \"ticks\": \"\"}, \"colorscale\": [[0.0, \"#0d0887\"], [0.1111111111111111, \"#46039f\"], [0.2222222222222222, \"#7201a8\"], [0.3333333333333333, \"#9c179e\"], [0.4444444444444444, \"#bd3786\"], [0.5555555555555556, \"#d8576b\"], [0.6666666666666666, \"#ed7953\"], [0.7777777777777778, \"#fb9f3a\"], [0.8888888888888888, \"#fdca26\"], [1.0, \"#f0f921\"]], \"type\": \"contour\"}], \"contourcarpet\": [{\"colorbar\": {\"outlinewidth\": 0, \"ticks\": \"\"}, \"type\": \"contourcarpet\"}], \"heatmap\": [{\"colorbar\": {\"outlinewidth\": 0, \"ticks\": \"\"}, \"colorscale\": [[0.0, \"#0d0887\"], [0.1111111111111111, \"#46039f\"], [0.2222222222222222, \"#7201a8\"], [0.3333333333333333, \"#9c179e\"], [0.4444444444444444, \"#bd3786\"], [0.5555555555555556, \"#d8576b\"], [0.6666666666666666, \"#ed7953\"], [0.7777777777777778, \"#fb9f3a\"], [0.8888888888888888, \"#fdca26\"], [1.0, \"#f0f921\"]], \"type\": \"heatmap\"}], \"heatmapgl\": [{\"colorbar\": {\"outlinewidth\": 0, \"ticks\": \"\"}, \"colorscale\": [[0.0, \"#0d0887\"], [0.1111111111111111, \"#46039f\"], [0.2222222222222222, \"#7201a8\"], [0.3333333333333333, \"#9c179e\"], [0.4444444444444444, \"#bd3786\"], [0.5555555555555556, \"#d8576b\"], [0.6666666666666666, \"#ed7953\"], [0.7777777777777778, \"#fb9f3a\"], [0.8888888888888888, \"#fdca26\"], [1.0, \"#f0f921\"]], \"type\": \"heatmapgl\"}], \"histogram\": [{\"marker\": {\"colorbar\": {\"outlinewidth\": 0, \"ticks\": \"\"}}, \"type\": \"histogram\"}], \"histogram2d\": [{\"colorbar\": {\"outlinewidth\": 0, \"ticks\": \"\"}, \"colorscale\": [[0.0, \"#0d0887\"], [0.1111111111111111, \"#46039f\"], [0.2222222222222222, \"#7201a8\"], [0.3333333333333333, \"#9c179e\"], [0.4444444444444444, \"#bd3786\"], [0.5555555555555556, \"#d8576b\"], [0.6666666666666666, \"#ed7953\"], [0.7777777777777778, \"#fb9f3a\"], [0.8888888888888888, \"#fdca26\"], [1.0, \"#f0f921\"]], \"type\": \"histogram2d\"}], \"histogram2dcontour\": [{\"colorbar\": {\"outlinewidth\": 0, \"ticks\": \"\"}, \"colorscale\": [[0.0, \"#0d0887\"], [0.1111111111111111, \"#46039f\"], [0.2222222222222222, \"#7201a8\"], [0.3333333333333333, \"#9c179e\"], [0.4444444444444444, \"#bd3786\"], [0.5555555555555556, \"#d8576b\"], [0.6666666666666666, \"#ed7953\"], [0.7777777777777778, \"#fb9f3a\"], [0.8888888888888888, \"#fdca26\"], [1.0, \"#f0f921\"]], \"type\": \"histogram2dcontour\"}], \"mesh3d\": [{\"colorbar\": {\"outlinewidth\": 0, \"ticks\": \"\"}, \"type\": \"mesh3d\"}], \"parcoords\": [{\"line\": {\"colorbar\": {\"outlinewidth\": 0, \"ticks\": \"\"}}, \"type\": \"parcoords\"}], \"pie\": [{\"automargin\": true, \"type\": \"pie\"}], \"scatter\": [{\"marker\": {\"colorbar\": {\"outlinewidth\": 0, \"ticks\": \"\"}}, \"type\": \"scatter\"}], \"scatter3d\": [{\"line\": {\"colorbar\": {\"outlinewidth\": 0, \"ticks\": \"\"}}, \"marker\": {\"colorbar\": {\"outlinewidth\": 0, \"ticks\": \"\"}}, \"type\": \"scatter3d\"}], \"scattercarpet\": [{\"marker\": {\"colorbar\": {\"outlinewidth\": 0, \"ticks\": \"\"}}, \"type\": \"scattercarpet\"}], \"scattergeo\": [{\"marker\": {\"colorbar\": {\"outlinewidth\": 0, \"ticks\": \"\"}}, \"type\": \"scattergeo\"}], \"scattergl\": [{\"marker\": {\"colorbar\": {\"outlinewidth\": 0, \"ticks\": \"\"}}, \"type\": \"scattergl\"}], \"scattermapbox\": [{\"marker\": {\"colorbar\": {\"outlinewidth\": 0, \"ticks\": \"\"}}, \"type\": \"scattermapbox\"}], \"scatterpolar\": [{\"marker\": {\"colorbar\": {\"outlinewidth\": 0, \"ticks\": \"\"}}, \"type\": \"scatterpolar\"}], \"scatterpolargl\": [{\"marker\": {\"colorbar\": {\"outlinewidth\": 0, \"ticks\": \"\"}}, \"type\": \"scatterpolargl\"}], \"scatterternary\": [{\"marker\": {\"colorbar\": {\"outlinewidth\": 0, \"ticks\": \"\"}}, \"type\": \"scatterternary\"}], \"surface\": [{\"colorbar\": {\"outlinewidth\": 0, \"ticks\": \"\"}, \"colorscale\": [[0.0, \"#0d0887\"], [0.1111111111111111, \"#46039f\"], [0.2222222222222222, \"#7201a8\"], [0.3333333333333333, \"#9c179e\"], [0.4444444444444444, \"#bd3786\"], [0.5555555555555556, \"#d8576b\"], [0.6666666666666666, \"#ed7953\"], [0.7777777777777778, \"#fb9f3a\"], [0.8888888888888888, \"#fdca26\"], [1.0, \"#f0f921\"]], \"type\": \"surface\"}], \"table\": [{\"cells\": {\"fill\": {\"color\": \"#EBF0F8\"}, \"line\": {\"color\": \"white\"}}, \"header\": {\"fill\": {\"color\": \"#C8D4E3\"}, \"line\": {\"color\": \"white\"}}, \"type\": \"table\"}]}, \"layout\": {\"annotationdefaults\": {\"arrowcolor\": \"#2a3f5f\", \"arrowhead\": 0, \"arrowwidth\": 1}, \"coloraxis\": {\"colorbar\": {\"outlinewidth\": 0, \"ticks\": \"\"}}, \"colorscale\": {\"diverging\": [[0, \"#8e0152\"], [0.1, \"#c51b7d\"], [0.2, \"#de77ae\"], [0.3, \"#f1b6da\"], [0.4, \"#fde0ef\"], [0.5, \"#f7f7f7\"], [0.6, \"#e6f5d0\"], [0.7, \"#b8e186\"], [0.8, \"#7fbc41\"], [0.9, \"#4d9221\"], [1, \"#276419\"]], \"sequential\": [[0.0, \"#0d0887\"], [0.1111111111111111, \"#46039f\"], [0.2222222222222222, \"#7201a8\"], [0.3333333333333333, \"#9c179e\"], [0.4444444444444444, \"#bd3786\"], [0.5555555555555556, \"#d8576b\"], [0.6666666666666666, \"#ed7953\"], [0.7777777777777778, \"#fb9f3a\"], [0.8888888888888888, \"#fdca26\"], [1.0, \"#f0f921\"]], \"sequentialminus\": [[0.0, \"#0d0887\"], [0.1111111111111111, \"#46039f\"], [0.2222222222222222, \"#7201a8\"], [0.3333333333333333, \"#9c179e\"], [0.4444444444444444, \"#bd3786\"], [0.5555555555555556, \"#d8576b\"], [0.6666666666666666, \"#ed7953\"], [0.7777777777777778, \"#fb9f3a\"], [0.8888888888888888, \"#fdca26\"], [1.0, \"#f0f921\"]]}, \"colorway\": [\"#636efa\", \"#EF553B\", \"#00cc96\", \"#ab63fa\", \"#FFA15A\", \"#19d3f3\", \"#FF6692\", \"#B6E880\", \"#FF97FF\", \"#FECB52\"], \"font\": {\"color\": \"#2a3f5f\"}, \"geo\": {\"bgcolor\": \"white\", \"lakecolor\": \"white\", \"landcolor\": \"#E5ECF6\", \"showlakes\": true, \"showland\": true, \"subunitcolor\": \"white\"}, \"hoverlabel\": {\"align\": \"left\"}, \"hovermode\": \"closest\", \"mapbox\": {\"style\": \"light\"}, \"paper_bgcolor\": \"white\", \"plot_bgcolor\": \"#E5ECF6\", \"polar\": {\"angularaxis\": {\"gridcolor\": \"white\", \"linecolor\": \"white\", \"ticks\": \"\"}, \"bgcolor\": \"#E5ECF6\", \"radialaxis\": {\"gridcolor\": \"white\", \"linecolor\": \"white\", \"ticks\": \"\"}}, \"scene\": {\"xaxis\": {\"backgroundcolor\": \"#E5ECF6\", \"gridcolor\": \"white\", \"gridwidth\": 2, \"linecolor\": \"white\", \"showbackground\": true, \"ticks\": \"\", \"zerolinecolor\": \"white\"}, \"yaxis\": {\"backgroundcolor\": \"#E5ECF6\", \"gridcolor\": \"white\", \"gridwidth\": 2, \"linecolor\": \"white\", \"showbackground\": true, \"ticks\": \"\", \"zerolinecolor\": \"white\"}, \"zaxis\": {\"backgroundcolor\": \"#E5ECF6\", \"gridcolor\": \"white\", \"gridwidth\": 2, \"linecolor\": \"white\", \"showbackground\": true, \"ticks\": \"\", \"zerolinecolor\": \"white\"}}, \"shapedefaults\": {\"line\": {\"color\": \"#2a3f5f\"}}, \"ternary\": {\"aaxis\": {\"gridcolor\": \"white\", \"linecolor\": \"white\", \"ticks\": \"\"}, \"baxis\": {\"gridcolor\": \"white\", \"linecolor\": \"white\", \"ticks\": \"\"}, \"bgcolor\": \"#E5ECF6\", \"caxis\": {\"gridcolor\": \"white\", \"linecolor\": \"white\", \"ticks\": \"\"}}, \"title\": {\"x\": 0.05}, \"xaxis\": {\"automargin\": true, \"gridcolor\": \"white\", \"linecolor\": \"white\", \"ticks\": \"\", \"title\": {\"standoff\": 15}, \"zerolinecolor\": \"white\", \"zerolinewidth\": 2}, \"yaxis\": {\"automargin\": true, \"gridcolor\": \"white\", \"linecolor\": \"white\", \"ticks\": \"\", \"title\": {\"standoff\": 15}, \"zerolinecolor\": \"white\", \"zerolinewidth\": 2}}}},\n",
              "                        {\"responsive\": true}\n",
              "                    ).then(function(){\n",
              "                            \n",
              "var gd = document.getElementById('8d682d73-277b-4b73-883b-57619d652e49');\n",
              "var x = new MutationObserver(function (mutations, observer) {{\n",
              "        var display = window.getComputedStyle(gd).display;\n",
              "        if (!display || display === 'none') {{\n",
              "            console.log([gd, 'removed!']);\n",
              "            Plotly.purge(gd);\n",
              "            observer.disconnect();\n",
              "        }}\n",
              "}});\n",
              "\n",
              "// Listen for the removal of the full notebook cells\n",
              "var notebookContainer = gd.closest('#notebook-container');\n",
              "if (notebookContainer) {{\n",
              "    x.observe(notebookContainer, {childList: true});\n",
              "}}\n",
              "\n",
              "// Listen for the clearing of the current output cell\n",
              "var outputEl = gd.closest('.output');\n",
              "if (outputEl) {{\n",
              "    x.observe(outputEl, {childList: true});\n",
              "}}\n",
              "\n",
              "                        })\n",
              "                };\n",
              "                \n",
              "            </script>\n",
              "        </div>\n",
              "</body>\n",
              "</html>"
            ]
          },
          "metadata": {
            "tags": []
          }
        },
        {
          "output_type": "stream",
          "text": [
            "/usr/local/lib/python3.6/dist-packages/pandas/plotting/_matplotlib/converter.py:103: FutureWarning:\n",
            "\n",
            "Using an implicitly registered datetime converter for a matplotlib plotting method. The converter was registered by pandas on import. Future versions of pandas will require you to explicitly register matplotlib converters.\n",
            "\n",
            "To register the converters:\n",
            "\t>>> from pandas.plotting import register_matplotlib_converters\n",
            "\t>>> register_matplotlib_converters()\n",
            "\n",
            "/usr/local/lib/python3.6/dist-packages/pandas_profiling/describe.py:392: FutureWarning:\n",
            "\n",
            "The join_axes-keyword is deprecated. Use .reindex or .reindex_like on the result to achieve the same functionality.\n",
            "\n"
          ],
          "name": "stderr"
        }
      ]
    },
    {
      "cell_type": "code",
      "metadata": {
        "id": "6JZ7IE53O3qW",
        "colab_type": "code",
        "outputId": "ac12f17f-9236-4735-9a9d-6b980b165d89",
        "colab": {
          "base_uri": "https://localhost:8080/",
          "height": 1000
        }
      },
      "source": [
        "profile"
      ],
      "execution_count": 0,
      "outputs": [
        {
          "output_type": "execute_result",
          "data": {
            "text/html": [
              "<meta charset=\"UTF-8\">\n",
              "\n",
              "<style>\n",
              "\n",
              "        .variablerow {\n",
              "            border: 1px solid #e1e1e8;\n",
              "            border-top: hidden;\n",
              "            padding-top: 2em;\n",
              "            padding-bottom: 2em;\n",
              "            padding-left: 1em;\n",
              "            padding-right: 1em;\n",
              "        }\n",
              "\n",
              "        .headerrow {\n",
              "            border: 1px solid #e1e1e8;\n",
              "            background-color: #f5f5f5;\n",
              "            padding: 2em;\n",
              "        }\n",
              "        .namecol {\n",
              "            margin-top: -1em;\n",
              "            overflow-x: auto;\n",
              "        }\n",
              "\n",
              "        .dl-horizontal dt {\n",
              "            text-align: left;\n",
              "            padding-right: 1em;\n",
              "            white-space: normal;\n",
              "        }\n",
              "\n",
              "        .dl-horizontal dd {\n",
              "            margin-left: 0;\n",
              "        }\n",
              "\n",
              "        .ignore {\n",
              "            opacity: 0.4;\n",
              "        }\n",
              "\n",
              "        .container.pandas-profiling {\n",
              "            max-width:975px;\n",
              "        }\n",
              "\n",
              "        .col-md-12 {\n",
              "            padding-left: 2em;\n",
              "        }\n",
              "\n",
              "        .indent {\n",
              "            margin-left: 1em;\n",
              "        }\n",
              "\n",
              "        .center-img {\n",
              "            margin-left: auto !important;\n",
              "            margin-right: auto !important;\n",
              "            display: block;\n",
              "        }\n",
              "\n",
              "        /* Table example_values */\n",
              "            table.example_values {\n",
              "                border: 0;\n",
              "            }\n",
              "\n",
              "            .example_values th {\n",
              "                border: 0;\n",
              "                padding: 0 ;\n",
              "                color: #555;\n",
              "                font-weight: 600;\n",
              "            }\n",
              "\n",
              "            .example_values tr, .example_values td{\n",
              "                border: 0;\n",
              "                padding: 0;\n",
              "                color: #555;\n",
              "            }\n",
              "\n",
              "        /* STATS */\n",
              "            table.stats {\n",
              "                border: 0;\n",
              "            }\n",
              "\n",
              "            .stats th {\n",
              "                border: 0;\n",
              "                padding: 0 2em 0 0;\n",
              "                color: #555;\n",
              "                font-weight: 600;\n",
              "            }\n",
              "\n",
              "            .stats tr {\n",
              "                border: 0;\n",
              "            }\n",
              "\n",
              "            .stats td{\n",
              "                color: #555;\n",
              "                padding: 1px;\n",
              "                border: 0;\n",
              "            }\n",
              "\n",
              "\n",
              "        /* Sample table */\n",
              "            table.sample {\n",
              "                border: 0;\n",
              "                margin-bottom: 2em;\n",
              "                margin-left:1em;\n",
              "            }\n",
              "            .sample tr {\n",
              "                border:0;\n",
              "            }\n",
              "            .sample td, .sample th{\n",
              "                padding: 0.5em;\n",
              "                white-space: nowrap;\n",
              "                border: none;\n",
              "\n",
              "            }\n",
              "\n",
              "            .sample thead {\n",
              "                border-top: 0;\n",
              "                border-bottom: 2px solid #ddd;\n",
              "            }\n",
              "\n",
              "            .sample td {\n",
              "                width:100%;\n",
              "            }\n",
              "\n",
              "\n",
              "        /* There is no good solution available to make the divs equal height and then center ... */\n",
              "            .histogram {\n",
              "                margin-top: 3em;\n",
              "            }\n",
              "        /* Freq table */\n",
              "\n",
              "            table.freq {\n",
              "                margin-bottom: 2em;\n",
              "                border: 0;\n",
              "            }\n",
              "            table.freq th, table.freq tr, table.freq td {\n",
              "                border: 0;\n",
              "                padding: 0;\n",
              "            }\n",
              "\n",
              "            .freq thead {\n",
              "                font-weight: 600;\n",
              "                white-space: nowrap;\n",
              "                overflow: hidden;\n",
              "                text-overflow: ellipsis;\n",
              "\n",
              "            }\n",
              "\n",
              "            td.fillremaining{\n",
              "                width:auto;\n",
              "                max-width: none;\n",
              "            }\n",
              "\n",
              "            td.number, th.number {\n",
              "                text-align:right ;\n",
              "            }\n",
              "\n",
              "        /* Freq mini */\n",
              "            .freq.mini td{\n",
              "                width: 50%;\n",
              "                padding: 1px;\n",
              "                font-size: 12px;\n",
              "\n",
              "            }\n",
              "            table.freq.mini {\n",
              "                 width:100%;\n",
              "            }\n",
              "            .freq.mini th {\n",
              "                overflow: hidden;\n",
              "                text-overflow: ellipsis;\n",
              "                white-space: nowrap;\n",
              "                max-width: 5em;\n",
              "                font-weight: 400;\n",
              "                text-align:right;\n",
              "                padding-right: 0.5em;\n",
              "            }\n",
              "\n",
              "            .missing {\n",
              "                color: #a94442;\n",
              "            }\n",
              "            .alert, .alert > th, .alert > td {\n",
              "                color: #a94442;\n",
              "            }\n",
              "\n",
              "\n",
              "        /* Bars in tables */\n",
              "            .freq .bar{\n",
              "                float: left;\n",
              "                width: 0;\n",
              "                height: 100%;\n",
              "                line-height: 20px;\n",
              "                color: #fff;\n",
              "                text-align: center;\n",
              "                background-color: #337ab7;\n",
              "                border-radius: 3px;\n",
              "                margin-right: 4px;\n",
              "            }\n",
              "            .other .bar {\n",
              "                background-color: #999;\n",
              "            }\n",
              "            .missing .bar{\n",
              "                background-color: #a94442;\n",
              "            }\n",
              "            .tooltip-inner {\n",
              "                width: 100%;\n",
              "                white-space: nowrap;\n",
              "                text-align:left;\n",
              "            }\n",
              "\n",
              "            .extrapadding{\n",
              "                padding: 2em;\n",
              "            }\n",
              "\n",
              "            .pp-anchor{\n",
              "\n",
              "            }\n",
              "\n",
              "</style>\n",
              "\n",
              "<div class=\"container pandas-profiling\">\n",
              "    <div class=\"row headerrow highlight\">\n",
              "        <h1>Overview</h1>\n",
              "    </div>\n",
              "    <div class=\"row variablerow\">\n",
              "    <div class=\"col-md-6 namecol\">\n",
              "        <p class=\"h4\">Dataset info</p>\n",
              "        <table class=\"stats\" style=\"margin-left: 1em;\">\n",
              "            <tbody>\n",
              "            <tr>\n",
              "                <th>Number of variables</th>\n",
              "                <td>8 </td>\n",
              "            </tr>\n",
              "            <tr>\n",
              "                <th>Number of observations</th>\n",
              "                <td>200 </td>\n",
              "            </tr>\n",
              "            <tr>\n",
              "                <th>Total Missing (%)</th>\n",
              "                <td>0.0% </td>\n",
              "            </tr>\n",
              "            <tr>\n",
              "                <th>Total size in memory</th>\n",
              "                <td>12.6 KiB </td>\n",
              "            </tr>\n",
              "            <tr>\n",
              "                <th>Average record size in memory</th>\n",
              "                <td>64.6 B </td>\n",
              "            </tr>\n",
              "            </tbody>\n",
              "        </table>\n",
              "    </div>\n",
              "    <div class=\"col-md-6 namecol\">\n",
              "        <p class=\"h4\">Variables types</p>\n",
              "        <table class=\"stats\" style=\"margin-left: 1em;\">\n",
              "            <tbody>\n",
              "            <tr>\n",
              "                <th>Numeric</th>\n",
              "                <td>2 </td>\n",
              "            </tr>\n",
              "            <tr>\n",
              "                <th>Categorical</th>\n",
              "                <td>4 </td>\n",
              "            </tr>\n",
              "            <tr>\n",
              "                <th>Boolean</th>\n",
              "                <td>0 </td>\n",
              "            </tr>\n",
              "            <tr>\n",
              "                <th>Date</th>\n",
              "                <td>1 </td>\n",
              "            </tr>\n",
              "            <tr>\n",
              "                <th>Text (Unique)</th>\n",
              "                <td>1 </td>\n",
              "            </tr>\n",
              "            <tr>\n",
              "                <th>Rejected</th>\n",
              "                <td>0 </td>\n",
              "            </tr>\n",
              "            <tr>\n",
              "                <th>Unsupported</th>\n",
              "                <td>0 </td>\n",
              "            </tr>\n",
              "            </tbody>\n",
              "        </table>\n",
              "    </div>\n",
              "    <div class=\"col-md-12\" style=\"padding-left: 1em;\">\n",
              "        \n",
              "        <p class=\"h4\">Warnings</p>\n",
              "        <ul class=\"list-unstyled\"><li><a href=\"#pp_var_open\"><code>open</code></a> has a high cardinality: 128 distinct values  <span class=\"label label-warning\">Warning</span></li><li><a href=\"#pp_var_high\"><code>high</code></a> has a high cardinality: 130 distinct values  <span class=\"label label-warning\">Warning</span></li><li><a href=\"#pp_var_low\"><code>low</code></a> has a high cardinality: 124 distinct values  <span class=\"label label-warning\">Warning</span></li> </ul>\n",
              "    </div>\n",
              "</div>\n",
              "    <div class=\"row headerrow highlight\">\n",
              "        <h1>Variables</h1>\n",
              "    </div>\n",
              "    <div class=\"row variablerow\">\n",
              "    <div class=\"col-md-3 namecol\">\n",
              "        <p class=\"h4 pp-anchor\" id=\"pp_var_index\">index<br/>\n",
              "            <small>Numeric</small>\n",
              "        </p>\n",
              "    </div><div class=\"col-md-6\">\n",
              "    <div class=\"row\">\n",
              "        <div class=\"col-sm-6\">\n",
              "            <table class=\"stats \">\n",
              "                <tr>\n",
              "                    <th>Distinct count</th>\n",
              "                    <td>200</td>\n",
              "                </tr>\n",
              "                <tr>\n",
              "                    <th>Unique (%)</th>\n",
              "                    <td>100.0%</td>\n",
              "                </tr>\n",
              "                <tr class=\"ignore\">\n",
              "                    <th>Missing (%)</th>\n",
              "                    <td>0.0%</td>\n",
              "                </tr>\n",
              "                <tr class=\"ignore\">\n",
              "                    <th>Missing (n)</th>\n",
              "                    <td>0</td>\n",
              "                </tr>\n",
              "                <tr class=\"ignore\">\n",
              "                    <th>Infinite (%)</th>\n",
              "                    <td>0.0%</td>\n",
              "                </tr>\n",
              "                <tr class=\"ignore\">\n",
              "                    <th>Infinite (n)</th>\n",
              "                    <td>0</td>\n",
              "                </tr>\n",
              "            </table>\n",
              "\n",
              "        </div>\n",
              "        <div class=\"col-sm-6\">\n",
              "            <table class=\"stats \">\n",
              "\n",
              "                <tr>\n",
              "                    <th>Mean</th>\n",
              "                    <td>99.5</td>\n",
              "                </tr>\n",
              "                <tr>\n",
              "                    <th>Minimum</th>\n",
              "                    <td>0</td>\n",
              "                </tr>\n",
              "                <tr>\n",
              "                    <th>Maximum</th>\n",
              "                    <td>199</td>\n",
              "                </tr>\n",
              "                <tr class=\"ignore\">\n",
              "                    <th>Zeros (%)</th>\n",
              "                    <td>0.5%</td>\n",
              "                </tr>\n",
              "            </table>\n",
              "        </div>\n",
              "    </div>\n",
              "</div>\n",
              "<div class=\"col-md-3 collapse in\" id=\"minihistogram5427769135345745374\">\n",
              "    <img src=\"data:image/png;base64,iVBORw0KGgoAAAANSUhEUgAAAMgAAABLCAYAAAA1fMjoAAAABHNCSVQICAgIfAhkiAAAAAlwSFlzAAAPYQAAD2EBqD%2BnaQAAADh0RVh0U29mdHdhcmUAbWF0cGxvdGxpYiB2ZXJzaW9uMy4xLjIsIGh0dHA6Ly9tYXRwbG90bGliLm9yZy8li6FKAAAA%2BklEQVR4nO3VMQ1CARBEQT5BEiLwRI0nRODpqCHktUcxo2Cblz1mZk7AT%2BftAfDPLtsDvl3vz%2B0JLHo9btsTPngQCAKBIBAIAoEgEAgCgSAQCAKBIBAIAoEgEAgCgSAQCAKBIBAIAoEgEAgCgSAQCAKBIBAIAoEgEAgCgSAQCAKBIBAIAoEgEAgCgSAQCAKBIBAIAoEgEAgCgSAQCAKBIBAIAoEgEAgCgSAQCAKBIBAIAoFwzMxsj4B/5UEgCASCQCAIBIJAIAgEgkAgCASCQCAIBIJAIAgEgkAgCASCQCAIBIJAIAgEgkAgCASCQCAIBIJAIAgEgkAgvAH7AguP0bZxNQAAAABJRU5ErkJggg%3D%3D\">\n",
              "\n",
              "</div>\n",
              "<div class=\"col-md-12 text-right\">\n",
              "    <a role=\"button\" data-toggle=\"collapse\" data-target=\"#descriptives5427769135345745374,#minihistogram5427769135345745374\"\n",
              "       aria-expanded=\"false\" aria-controls=\"collapseExample\">\n",
              "        Toggle details\n",
              "    </a>\n",
              "</div>\n",
              "<div class=\"row collapse col-md-12\" id=\"descriptives5427769135345745374\">\n",
              "    <ul class=\"nav nav-tabs\" role=\"tablist\">\n",
              "        <li role=\"presentation\" class=\"active\"><a href=\"#quantiles5427769135345745374\"\n",
              "                                                  aria-controls=\"quantiles5427769135345745374\" role=\"tab\"\n",
              "                                                  data-toggle=\"tab\">Statistics</a></li>\n",
              "        <li role=\"presentation\"><a href=\"#histogram5427769135345745374\" aria-controls=\"histogram5427769135345745374\"\n",
              "                                   role=\"tab\" data-toggle=\"tab\">Histogram</a></li>\n",
              "        <li role=\"presentation\"><a href=\"#common5427769135345745374\" aria-controls=\"common5427769135345745374\"\n",
              "                                   role=\"tab\" data-toggle=\"tab\">Common Values</a></li>\n",
              "        <li role=\"presentation\"><a href=\"#extreme5427769135345745374\" aria-controls=\"extreme5427769135345745374\"\n",
              "                                   role=\"tab\" data-toggle=\"tab\">Extreme Values</a></li>\n",
              "\n",
              "    </ul>\n",
              "\n",
              "    <div class=\"tab-content\">\n",
              "        <div role=\"tabpanel\" class=\"tab-pane active row\" id=\"quantiles5427769135345745374\">\n",
              "            <div class=\"col-md-4 col-md-offset-1\">\n",
              "                <p class=\"h4\">Quantile statistics</p>\n",
              "                <table class=\"stats indent\">\n",
              "                    <tr>\n",
              "                        <th>Minimum</th>\n",
              "                        <td>0</td>\n",
              "                    </tr>\n",
              "                    <tr>\n",
              "                        <th>5-th percentile</th>\n",
              "                        <td>9.95</td>\n",
              "                    </tr>\n",
              "                    <tr>\n",
              "                        <th>Q1</th>\n",
              "                        <td>49.75</td>\n",
              "                    </tr>\n",
              "                    <tr>\n",
              "                        <th>Median</th>\n",
              "                        <td>99.5</td>\n",
              "                    </tr>\n",
              "                    <tr>\n",
              "                        <th>Q3</th>\n",
              "                        <td>149.25</td>\n",
              "                    </tr>\n",
              "                    <tr>\n",
              "                        <th>95-th percentile</th>\n",
              "                        <td>189.05</td>\n",
              "                    </tr>\n",
              "                    <tr>\n",
              "                        <th>Maximum</th>\n",
              "                        <td>199</td>\n",
              "                    </tr>\n",
              "                    <tr>\n",
              "                        <th>Range</th>\n",
              "                        <td>199</td>\n",
              "                    </tr>\n",
              "                    <tr>\n",
              "                        <th>Interquartile range</th>\n",
              "                        <td>99.5</td>\n",
              "                    </tr>\n",
              "                </table>\n",
              "            </div>\n",
              "            <div class=\"col-md-4 col-md-offset-2\">\n",
              "                <p class=\"h4\">Descriptive statistics</p>\n",
              "                <table class=\"stats indent\">\n",
              "                    <tr>\n",
              "                        <th>Standard deviation</th>\n",
              "                        <td>57.879</td>\n",
              "                    </tr>\n",
              "                    <tr>\n",
              "                        <th>Coef of variation</th>\n",
              "                        <td>0.5817</td>\n",
              "                    </tr>\n",
              "                    <tr>\n",
              "                        <th>Kurtosis</th>\n",
              "                        <td>-1.2</td>\n",
              "                    </tr>\n",
              "                    <tr>\n",
              "                        <th>Mean</th>\n",
              "                        <td>99.5</td>\n",
              "                    </tr>\n",
              "                    <tr>\n",
              "                        <th>MAD</th>\n",
              "                        <td>50</td>\n",
              "                    </tr>\n",
              "                    <tr class=\"\">\n",
              "                        <th>Skewness</th>\n",
              "                        <td>0</td>\n",
              "                    </tr>\n",
              "                    <tr>\n",
              "                        <th>Sum</th>\n",
              "                        <td>19900</td>\n",
              "                    </tr>\n",
              "                    <tr>\n",
              "                        <th>Variance</th>\n",
              "                        <td>3350</td>\n",
              "                    </tr>\n",
              "                    <tr>\n",
              "                        <th>Memory size</th>\n",
              "                        <td>1.7 KiB</td>\n",
              "                    </tr>\n",
              "                </table>\n",
              "            </div>\n",
              "        </div>\n",
              "        <div role=\"tabpanel\" class=\"tab-pane col-md-8 col-md-offset-2\" id=\"histogram5427769135345745374\">\n",
              "            <img src=\"data:image/png;base64,iVBORw0KGgoAAAANSUhEUgAAAlgAAAGQCAYAAAByNR6YAAAABHNCSVQICAgIfAhkiAAAAAlwSFlzAAAPYQAAD2EBqD%2BnaQAAADh0RVh0U29mdHdhcmUAbWF0cGxvdGxpYiB2ZXJzaW9uMy4xLjIsIGh0dHA6Ly9tYXRwbG90bGliLm9yZy8li6FKAAAgAElEQVR4nO3de1yUdd7/8TcwQgqioKKbulp5SEXNkki0VDyulmlpaHeZbW3psnlIC/PwMNNSC27XxCwq3czW2MxNY9XUzLTT3lp3Oh7yV2iruRbTOhOCKKfr90cP53YCFfAblzO8no8Hj%2BBzfec7n28XM9fb6xpmgizLsgQAAABjgu1uAAAAINAQsAAAAAwjYAEAABhGwAIAADCMgAUAAGAYAQsAAMAwAhYAAIBhBCwAAADDCFgAAACGEbAAAAAMI2ABAAAYRsACAAAwjIAFAABgGAELAADAMAIWAACAYQQsAAAAwwhYAAAAhhGwAAAADCNgAQAAGEbAAgAAMIyABQAAYBgBCwAAwDACFgAAgGEELAAAAMMIWAAAAIYRsAAAAAwjYAEAABhGwAIAADCMgAUAAGAYAQsAAMAwAhYAAIBhBCwAAADDCFgAAACGEbAAAAAMI2ABAAAYRsACAAAwjIAFAABgGAELAADAMAIWAACAYQ67G6gpXK6TxucMDg5SdHS4TpzIV2mpZXx%2BOwXq2gJ1XRJr81eszT8F6tp%2BjXU1alTXyDyVxRksPxYcHKSgoCAFBwfZ3Ypxgbq2QF2XxNr8FWvzT4G6tkBaFwELAADAMAIWAACAYQQsAAAAwwhYAAAAhhGwAAAADCNgAQAAGEbAAgAAMIyABQAAYBgBCwAAwLCACVjHjh1TcnKy4uPjlZCQoKlTpyo3N1eSdODAAd1zzz264YYb1L9/fy1btuy885SWlmrhwoXq06eP4uLi9MADD%2Bjo0aPVtQwAABAAAiZgjR07VpGRkdq6davWrFmjr7/%2BWgsWLNDp06f18MMP66abbtKOHTu0cOFCvfTSS9q0aVO587zxxht69913lZGRoQ8%2B%2BEAtW7ZUcnKyLCtwPusJAAD8ugIiYOXm5io2NlaTJ09WeHi4mjRpomHDhmnXrl3atm2bioqKNG7cONWpU0cdOnTQiBEjlJmZWe5cmZmZGjNmjK655hpFRERo0qRJys7O1u7du6t5VQAAwF857G7AhMjISM2bN8%2Bndvz4ccXExGjfvn1q27atQkJCvNvat2%2Bvt956q8w8p0%2Bf1jfffKP27dt7axEREWrRooWcTqeuu%2B66CvWTk5Mjl8vlU3M46igmJqYyy7qokJBgn/8GkkBdW6CuS2Jt/oq1%2BadAXVsgrSsgAtYvOZ1OrVy5UkuXLtWGDRsUGRnps71%2B/fryeDwqLS1VcPD/7cSffvpJlmWpXr16PuPr1asnt9td4fvPzMxUenq6Ty05OVnjx4%2BvwmourOv0jcbnBACguu16eqD3%2B8jI2jZ2YkbABazPP/9c48aN0%2BTJk5WQkKANGzaUOy4oKOi8c1zq662SkpKUmJjoU3M46sjtzr%2BkeX8pEBI%2BAACS5HbnKyQkWJGRtZWbW6CSklIj80ZFhRuZp7ICKmBt3bpVjz32mGbOnKmhQ4dKkqKjo/Xtt9/6jPN4PKpfv77P2StJ3prH4ykzvkGDBhXuIyYmpszlQJfrpIqLzfyyAAAQaM49RpaUlPr9MTNgToF88cUXSklJ0aJFi7zhSpJiY2N18OBBFRcXe2tOp1OdO3cuM0dYWJhat26tffv2eWu5ubk6cuSIOnXq9OsuAAAABIyACFjFxcWaMWOGpkyZoh49evhs69mzpyIiIrR06VIVFBRo9%2B7dWr16tUaNGiVJ%2BuGHHzRw4EDve12NGjVKK1asUHZ2tvLy8pSamqp27dqpY8eO1b4uAADgnwLiEuGXX36p7OxszZ07V3PnzvXZtnHjRr344ouaNWuWMjIy1LBhQ02aNEm9evWSJBUVFenw4cMqLCyUJI0cOVIul0v33nuv8vPzFR8fX%2BYF6wAAABcSZPEOmtXC5TppfE6HI1j9UncYnxcAgOq2YWJ3ORzBiooKl9udb%2Bw1WI0a1TUyT2UFxCVCAACAywkBCwAAwDACFgAAgGEELAAAAMMIWAAAAIYRsAAAAAwjYAEAABhGwAIAADCMgAUAAGAYAQsAAMAwAhYAAIBhBCwAAADDCFgAAACGEbAAAAAMI2ABAAAYRsACAAAwjIAFAABgGAELAADAMAIWAACAYQQsAAAAwwhYAAAAhhGwAAAADCNgAQAAGEbAAgAAMIyABQAAYBgBCwAAwDACFgAAgGEOuxswaceOHUpJSVF8fLwWLlzorc%2BYMUNr1671GVtSUqLbb79d8%2BbNKzNPYmKicnJyFBQU5K11795dL7744q/XPAAACBgBE7BefvllrV69Wi1atCizbe7cuZo7d6735%2BLiYg0dOlQDBw4873yvvvqq4uPjf5VeAQBAYAuYS4RhYWHnDVi/9Nprr%2BnKK69Uz549q6EzAABQ0wTMGazRo0dXaFxubq5efPFF/fWvf73guBUrVmj69On6z3/%2Bo5tvvlmzZs1SgwYNKnQfOTk5crlcPjWHo45iYmIqdPuKCgkJmHwMAKjhHI5g73EtEI5vAROwKmrlypWKi4tT69atzzumXbt26tSpk5599lnl5uYqJSVFEyZM0MqVKyt0H5mZmUpPT/epJScna/z48ZfUOwAAgSoqKtz7fWRkbRs7MaNGBaySkhK98cYbSktLu%2BC4JUuWeL8PDw/XrFmzNGjQIB05ckS//e1vL3o/SUlJSkxM9Kk5HHXkdudXrfHzCISEDwCAJLnd%2BQoJCVZkZG3l5haopKTUyLznBrfqVKMC1s6dO1VYWKiuXbtW6nZNmzaV9POlv4oErJiYmDKXA12ukyouNvPLAgBAoDn3GFlSUur3x8wadQrk/fff10033SSH4/y58tixY5o1a5YKCwu9tezsbElS8%2BbNf/UeAQCA/6tRAevAgQNq1qxZmfrmzZt19913S5IaNGigrVu3av78%2BTp16pR%2B%2BOEHzZs3T71791bjxo2ru2UAAOCHAuYSYceOHSX9/B5XkrRlyxZJktPp9I5xuVxq2LBhmduePHlS//rXvyRJV1xxhV555RXNnz9ft9xyiySpX79%2BeuKJJ37V/gEAQOAIsizLsruJmsDlOml8TocjWP1SdxifFwCA6rZhYnc5HMGKigqX251v7DVYjRrVNTJPZdWoS4QAAADVgYAFAABgGAELAADAMAIWAACAYQQsAAAAwwhYAAAAhhGwAAAADCNgAQAAGEbAAgAAMIyABQAAYBgBCwAAwDACFgAAgGEELAAAAMMIWAAAAIYRsAAAAAwjYAEAABhGwAIAADCMgAUAAGAYAQsAAMAwAhYAAIBhBCwAAADDCFgAAACGEbAAAAAMI2ABAAAYRsACAAAwjIAFAABgGAELAADAsIAKWDt27FBCQoImTZrkU1%2BzZo2uvfZadezY0edrz5495c7j8Xg0ceJEJSQkqEePHpo%2BfbpOnz5dHUsAAAABwGF3A6a8/PLLWr16tVq0aFHu9ri4OL3%2B%2BusVmmvmzJkqLCxUVlaWioqKNGHCBKWmpmrGjBkmWwYAAAEqYM5ghYWFXTBgVdSPP/6oLVu2aNKkSYqOjlbjxo31xz/%2BUW%2B//baKiooMdQsAAAJZwJzBGj169AW3Hz9%2BXPfff7/27t2ryMhIjR8/XrfffnuZcQcOHFBISIjatm3rrXXo0EGnTp3SoUOHfOrnk5OTI5fL5VNzOOooJiamgqupmJCQgMnHAIAazuEI9h7XAuH4FjAB60Kio6PVsmVLPfroo2rVqpU2b96sxx9/XDExMerWrZvPWI/Ho4iICAUFBXlr9erVkyS53e4K3V9mZqbS09N9asnJyRo/fvwlrgQAgMAUFRXu/T4ysraNnZhRIwJWr1691KtXL%2B/PgwcP1ubNm7VmzZoyAUuSLMu6pPtLSkpSYmKiT83hqCO3O/%2BS5v2lQEj4AABIktudr5CQYEVG1lZuboFKSkqNzHtucKtONSJgladp06bau3dvmXp0dLTy8vJUUlKikJAQST%2Bf1ZKkBg0aVGjumJiYMpcDXa6TKi4288sCAECgOfcYWVJS6vfHzBpxCmTVqlVav369Ty07O1vNmzcvM7Zdu3ayLEtfffWVt%2BZ0OhUZGamrrrrqV%2B8VAAD4vxoRsAoLCzVnzhw5nU4VFRUpKytL27dv18iRIyVJmzdv1t133y3p5zNYAwYM0J///GedOHFC33//vZYsWaLhw4fL4aixJ/wAAEAlBExi6NixoySpuLhYkrRlyxZJP599Gj16tPLz8zVhwgS5XC41a9ZMS5YsUWxsrCTp5MmT%2Bte//uWd66mnntKsWbPUp08f1apVS7feemuZNy8FAAA4nyDrUl/RjQpxuU4an9PhCFa/1B3G5wUAoLptmNhdDkewoqLC5XbnG3sNVqNGdY3MU1k14hIhAABAdSJgAQAAGEbAAgAAMIyABQAAYBgBCwAAwDACFgAAgGEELAAAAMMIWAAAAIYRsAAAAAwjYAEAABhGwAIAADCMgAUAAGAYAQsAAMAwAhYAAIBhBCwAAADDCFgAAACGEbAAAAAMI2ABAAAYRsACAAAwjIAFAABgGAELAADAMAIWAACAYQQsAAAAwwhYAAAAhhGwAAAADCNgAQAAGEbAAgAAMCxgAtaOHTuUkJCgSZMmldm2adMmDRkyRF26dNGAAQP0t7/97bzz3HvvverQoYM6duzo/RoyZMiv2ToAAAgwDrsbMOHll1/W6tWr1aJFizLb9uzZoylTpui///u/1atXL3388cdKTk7W1Vdfra5du5Y735w5c3THHXf82m0DAIAAZfsZrMTERKWnp%2Bv48eNVniMsLOy8Acvj8ejhhx9W37595XA41LNnT7Vp00a7du26lLYBAADOy/aAdeedd2r9%2BvXq27evHnzwQW3atEnFxcWVmmP06NGqW7duudtuueUWJScne38uLi6Wy%2BVS48aNzzvf%2BvXrNWjQIHXp0kVjxozRkSNHKtUPAACo2Wy/RJicnKzk5GTt27dPWVlZeuaZZzR79mwNHTpUw4cP11VXXWX0/lJTU1WnTh0NGjSo3O3XXHONateurdTUVJWWlmru3Ll68MEHlZWVpdDQ0ArdR05Ojlwul0/N4aijmJiYS%2B7/XCEhtudjAACMcDiCvce1QDi%2BBVmWZdndxLksy9L69ev15JNPKi8vTwkJCZowYYI6dep00dtOnTpVZ86c0cKFC8udNzU1VWvXrtWKFSt09dVXV6ifvLw8xcfH65VXXlG3bt0qdJvFixcrPT3dp5acnKzx48dX6PaV0XX6RuNzAgBQ3XY9PdDuFoyy/QzWWUVFRdq8ebPWrFmjzz77TC1bttQjjzyinJwcjRkzRrNnz9Ztt91WpblLS0v1xBNPaM%2BePVq1apWaN29e4dtGRESoXr16%2BuGHHyp8m6SkJCUmJvrUHI46crvzKzxHRQRCwgcAQJLc7nyFhAQrMrK2cnMLVFJSamTeqKhwI/NUlu0BKzs7W6tXr9Y777yj/Px8DRgwQK%2B99ppuuOEG75i4uDg9%2BeSTVQ5YzzzzjL7%2B%2BmutWrVK9evXP%2B%2B4vLw8paamaty4cd7XaJ04cUInTpyoVCiLiYkpcznQ5Tqp4mIzvywAAASac4%2BRJSWlfn/MtP0UyODBg7Vt2zY9/PDD2r59u5577jmfcCVJPXv21IkTJ6o0/%2Beff65169YpIyOj3HC1Z88eDRw4UIWFhYqIiNDu3bs1d%2B5ceTwe/fTTT5o9e7batm2rLl26VOn%2BAQBAzWP7GawVK1boxhtvvOi43bt3n3dbx44dJcn714dbtmyRJDmdTr399ts6efKkevfu7XObuLg4LVu2TAUFBTp8%2BLDOvhRtyZIleuaZZzRgwAAVFhaqW7duysjIUHCw7VkUAAD4Cdtf5P7TTz8pJSVFw4cPV9%2B%2BfSVJf/nLX/Txxx/rueeeu%2BAlPX/icp00PqfDEax%2BqTuMzwsAQHXbMLG7HI5gRUWFy%2B3ON3aJsFGj8t/G6ddm%2B2mZefPm6eTJk2rVqpW31qtXL5WWlmr%2B/Pk2dgYAAFA1tl8i/Oijj/Tuu%2B8qKirKW2vZsqVSU1N166232tgZAABA1dh%2BBuv06dMKCwsrUw8ODlZBQYENHQEAAFwa2wNWXFyc5s%2Bfr59%2B%2Bslb%2B%2BGHHzR79uwyf00IAADgD2y/RDht2jT9/ve/V7du3RQREaHS0lLl5%2BerefPmev311%2B1uDwAAoNJsD1jNmzfXP/7xD23fvl1HjhxRcHCwrrrqKvXo0UMhISF2twcAAFBptgcsSQoNDfW%2BRQMAAIC/sz1gHT16VGlpafr66691%2BvTpMtvff/99G7oCAACoOtsD1rRp05STk6MePXqoTp06drcDAABwyWwPWHv37tX777%2Bv6Ohou1sBAAAwwva3aWjQoAFnrgAAQECxPWA9/PDDSk9Pl80fiQgAAGCM7ZcIt2/fri%2B%2B%2BEJr1qxRs2bNFBzsm/nefPNNmzoDAACoGtsDVkREhG655Ra72wAAADDG9oA1b948u1sAAAAwyvbXYEnSoUOHtHjxYj3xxBPe2v/%2B7//a2BEAAEDV2R6wPv30Uw0ZMkSbNm1SVlaWpJ/ffHT06NG8ySgAAPBLtgeshQsX6rHHHtO7776roKAgST9/PuH8%2BfO1ZMkSm7sDAACoPNsD1v/7f/9Po0aNkiRvwJKkgQMHKjs72662AAAAqsz2gFW3bt1yP4MwJydHoaGhNnQEAABwaWwPWNdff72eeeYZ5eXleWuHDx9WSkqKunXrZmNnAAAAVWP72zQ88cQTuu%2B%2B%2BxQfH6%2BSkhJdf/31KigoUOvWrTV//ny72wMAAKg02wNWkyZNlJWVpQ8//FCHDx/WFVdcoauuukrdu3f3eU0WAACAv7A9YElSrVq11LdvX7vbAAAAMML2gJWYmHjBM1W8FxYAAPA3tgesQYMG%2BQSskpISHT58WE6nU/fdd5%2BNnQEAAFSN7QFrypQp5dbfe%2B89/fOf/6zmbgAAAC6d7W/TcD59%2B/bVP/7xj0rdZseOHUpISNCkSZPKbFu/fr1uu%2B02denSRXfccYc%2B%2Buij887j8Xg0ceJEJSQkqEePHpo%2BfXq579UFAABQnss2YO3fv1%2BWZVV4/Msvv6y5c%2BeqRYsWZbYdOHBAKSkpmjJlij777DONGTNGf/rTn/T999%2BXO9fMmTNVUFCgrKwsvf3228rOzlZqamqV1wIAAGoW2y8Rjhw5skytoKBA2dnZ6t%2B/f4XnCQsL0%2BrVq/X000/rzJkzPtveeust9ezZUz179pQkDRkyRCtXrtS6dev00EMP%2BYz98ccftWXLFv39739XdHS0JOmPf/yjJkyYoJSUFNWqVauySwQAADWM7QGrZcuWZf6KMCwsTMOHD9eIESMqPM/o0aPPu23fvn3ecHVW%2B/bt5XQ6y4w9cOCAQkJC1LZtW2%2BtQ4cOOnXqlA4dOuRTBwAAKI/tAas63q3d4/GoXr16PrV69erpm2%2B%2BKXdsRESET%2Bg7e1u3212h%2B8vJyZHL5fKpORx1FBMTU9nWLygk5LK9wgsAQKU4HMHe41ogHN9sD1jvvPNOhccOHTq0yvdTmddzVWZseTIzM5Wenu5TS05O1vjx4y9pXgAAAlVUVLj3%2B8jI2jZ2YobtAWv69OkqLS0tE2qCgoJ8akFBQVUOWFFRUfJ4PD41j8fjfY3VuaKjo5WXl6eSkhKFhIR4x0pSgwYNKnR/SUlJSkxM9Kk5HHXkdudXpf3zCoSEDwCAJLnd%2BQoJCVZkZG3l5haopKTUyLznBrfqZHvAeuWVV7Rs2TKNHTtWbdu2lWVZOnjwoF5%2B%2BWXdc889io%2BPv%2BT7iI2N1d69e31qTqdTgwcPLjO2Xbt2sixLX331lTp06OAdGxkZqauuuqpC9xcTE1PmcqDLdVLFxWZ%2BWQAACDTnHiNLSkr9/php%2BymQ%2BfPna%2B7cubrhhhsUERGhunXrqmvXrnrqqae0YMEChYaGer%2Bq6q677tInn3yibdu26cyZM1q9erW%2B/fZbDRkyRJK0efNm3X333ZJ%2BPoM1YMAA/fnPf9aJEyf0/fffa8mSJRo%2BfLgcDtvzKAAA8AO2J4Zvv/22zAvQJSkyMlLHjh2r8DwdO3aUJBUXF0uStmzZIunns09t2rRRamqq5s2bp2PHjqlVq1Z66aWX1KhRI0nSyZMn9a9//cs711NPPaVZs2apT58%2BqlWrlm699dZy37wUAACgPEHWpb6i%2BxINGjRIN954oyZMmKCoqChJUm5urp5//nnt3LlTa9eutbM9Y1yuk8bndDiC1S91h/F5AQCobhsmdpfDEayoqHC53fnGLhE2alTXyDyVZfsZrGnTpmny5MnKzMxUeHi4goODlZeXpyuuuEJLliyxuz0AAIBKsz1g9ejRQ9u2bdOHH36o77//XpZlqXHjxrr55ptVt649qRMAAOBS2B6wJKl27drq06ePvv/%2BezVv3tzudgAAAC6J7X9FePr0aaWkpKhLly763e9%2BJ%2Bnn12A9%2BOCDys3Ntbk7AACAyrM9YD333HM6cOCAUlNTFRz8f%2B2UlJQoNTXVxs4AAACqxvaA9d577%2Bn555/XwIEDvZ//FxkZqXnz5mnTpk02dwcAAFB5tges/Px8tWzZskw9Ojpap06dqv6GAAAALpHtAeu3v/2t/vnPf0ry/ZDljRs36sorr7SrLQAAgCqz/a8I7777bj3yyCO68847VVpaquXLl2vv3r167733NH36dLvbAwAAqDTbA1ZSUpIcDodWrlypkJAQvfjii7rqqquUmpqqgQMH2t0eAABApdkesE6cOKE777xTd955p92tAAAAGGH7a7D69Okjmz8OEQAAwCjbA1Z8fLw2bNhgdxsAAADG2H6J8De/%2BY2efvppZWRk6Le//a1q1arlsz0tLc2mzgAAAKrG9oD1zTff6Oqrr5Ykud1um7sBAAC4dLYFrEmTJmnhwoV6/fXXvbUlS5YoOTnZrpYAAACMsO01WFu3bi1Ty8jIsKETAAAAs2wLWOX95SB/TQgAAAKBbQHr7Ac7X6wGAADgb2x/mwYAAIBAQ8ACAAAwzLa/IiwqKtLkyZMvWuN9sAAAgL%2BxLWDdcMMNysnJuWgNAADA39gWsM59/ysAAIBAwmuwAAAADCNgAQAAGEbAAgAAMMz2D3uuDjt37tTvf/97n5plWSoqKtLBgwd96osXL9YLL7wgh8P3f80HH3yghg0b/uq9AgAA/1cjAlZcXJycTqdP7cUXX9RXX31V7vjbb79d8%2BfPr47WAABAAKoRAeuX/v3vf2v58uX6%2B9//bncrAAAgANXI12AtWrRId955p6688spytx88eFAjR47U9ddfr8GDB%2Bujjz6q5g4BAIA/q3FnsL777jtt2rRJmzZtKnd7kyZN1Lx5c02ePFkxMTHKzMzU2LFjtW7dOl199dUVuo%2BcnBy5XC6fmsNRRzExMZfc/7lCQmpkPgYABCCHI9h7XAuE41uQZVmW3U1UpwULFujEiRNasGBBhW8zYsQIde/eXRMnTqzQ%2BMWLFys9Pd2nlpycrPHjx1eq14roOn2j8TkBAKhuu54eaHcLRtW4M1jvvfeeUlJSKnWbpk2bVuojfJKSkpSYmOhTczjqyO3Or9T9XkwgJHwAACTJ7c5XSEiwIiNrKze3QCUlpUbmjYoKNzJPZdWogHXgwAEdO3ZM3bt3P%2B%2BYF154QV26dFG3bt28tezsbA0aNKjC9xMTE1PmcqDLdVLFxWZ%2BWQAACDTnHiNLSkr9/phZo06B7N%2B/X/Xr11dERIRPfeDAgdq1a5ckyePxaPbs2Tp06JDOnDmjZcuW6ciRIxo2bJgdLQMAAD9Uo85g/fjjj2rUqFGZ%2BuHDh3Xq1ClJ0uTJkyVJY8aMkcfjUatWrfSXv/xFTZo0qdZeAQCA/6pxL3K3i8t10vicDkew%2BqXuMD4vAADVbcPE7nI4ghUVFS63O9/YJcJGjeoamaeyatQlQgAAgOpAwAIAADCMgAUAAGAYAQsAAMAwAhYAAIBhBCwAAADDCFgAAACGEbAAAAAMI2ABAAAYRsACAAAwjIAFAABgGAELAADAMAIWAACAYQQsAAAAwwhYAAAAhhGwAAAADCNgAQAAGEbAAgAAMIyABQAAYBgBCwAAwDACFgAAgGEELAAAAMMIWAAAAIYRsAAAAAwjYAEAABhGwAIAADCMgAUAAGCYw%2B4Gqkvbtm1Vq1YtBQUFeWt33XWXZs6cWWbsihUr9MYbb8jlcqlt27aaPn26YmNjq7NdAADgx2pMwJKkjRs3qlmzZhccs3XrVi1evFivvPKK2rZtqxUrVmjs2LHatGmT6tSpU02dAgAAf8Ylwl/IzMzUHXfcoc6dO%2BuKK67Qgw8%2BKEn64IMPbO4MAAD4ixoVsNLS0tSrVy917dpVM2fOVH5%2Bfpkx%2B/btU/v27b0/BwcHq127dnI6ndXZKgAA8GM15hLhddddp4SEBC1YsEBHjx7VxIkTNXv2bD377LM%2B4zwej%2BrVq%2BdTq1evntxud4XvKycnRy6Xy6fmcNRRTExM1RdQjpCQGpWPAQABzOEI9h7XAuH4VmMCVmZmpvf7a665RlOmTNG4ceM0d%2B5chYaG%2Boy1LOuS7ys9Pd2nlpycrPHjx1/SvAAABKqoqHDv95GRtW3sxIwaE7B%2BqVmzZiopKdF//vMf/eY3v/HWo6Ki5PF4fMZ6PB61bt26wnMnJSUpMTHRp%2BZw1JHbXfaS5KUIhIQPAIAkud35CgkJVmRkbeXmFqikpNTIvOcGt%2BpUIwLW/v37tW7dOk2dOtVby87OVmhoaJnLdrGxsdq3b5%2BGDRsmSSopKdH%2B/fs1fPjwCt9fTExMmXldrpMqLjbzywIAQKA59xhZUlLq98fMGnEKpEGDBsrMzFRGRoYKCwt1%2BPBhLVq0SElJSQoJCdHAgQO1a9cuSdKoUaP0zjvv6Msvv1RBQYGWLl2q0NBQ9erVy95FAAAAv1EjzmA1btxYGRkZSktL8wamYcOGadKkSZKkw4cP69SpU5KkW265RY8%2B%2BqgmTpyo//znP%2BrYsaMyMjJ0xRVX2OqJY8IAABNYSURBVLkEAADgR4KsS31FNyrE5TppfE6HI1j9UncYnxcAgOq2YWJ3ORzBiooKl9udb%2BwSYaNGdY3MU1k14hIhAABAdSJgAQAAGEbAAgAAMIyABQAAYBgBCwAAwDACFgAAgGEELAAAAMMIWAAAAIYRsAAAAAwjYAEAABhGwAIAADCMgAUAAGAYAQsAAMAwAhYAAIBhBCwAAADDCFgAAACGEbAAAAAMI2ABAAAYRsACAAAwjIAFAABgGAELAADAMAIWAACAYQQsAAAAwwhYAAAAhhGwAAAADCNgAQAAGEbAAgAAMKzGBKxjx44pOTlZ8fHxSkhI0NSpU5Wbm1tm3Jo1a3TttdeqY8eOPl979uyxoWsAAOCPakzAGjt2rCIjI7V161atWbNGX3/9tRYsWFDu2Li4ODmdTp%2BvTp06VXPHAADAX9WIgJWbm6vY2FhNnjxZ4eHhatKkiYYNG6Zdu3bZ3RoAAAhANSJgRUZGat68eWrYsKG3dvz4ccXExJQ7/vjx47r//vsVFxenPn36aO3atdXVKgAACAAOuxuwg9Pp1MqVK7V06dIy26Kjo9WyZUs9%2BuijatWqlTZv3qzHH39cMTEx6tatW4Xmz8nJkcvl8qk5HHXOG%2BiqKiSkRuRjAEAN4HAEe49rgXB8q3EB6/PPP9e4ceM0efJkJSQklNneq1cv9erVy/vz4MGDtXnzZq1Zs6bCASszM1Pp6ek%2BteTkZI0fP/6SegcAIFBFRYV7v4%2BMrG1jJ2bUqIC1detWPfbYY5o5c6aGDh1a4ds1bdpUe/furfD4pKQkJSYm%2BtQcjjpyu/MrPEdFBELCBwBAktzufIWEBCsysrZycwtUUlJqZN5zg1t1qjEB64svvlBKSooWLVqkHj16nHfcqlWrVK9ePQ0aNMhby87OVvPmzSt8XzExMWUuB7pcJ1VcbOaXBQCAQHPuMbKkpNTvj5k14hRIcXGxZsyYoSlTppQbru677z6tX79eklRYWKg5c%2BbI6XSqqKhIWVlZ2r59u0aOHFndbQMAAD9VI85gffnll8rOztbcuXM1d%2B5cn20bN27U0aNH9dNPP0mSRo8erfz8fE2YMEEul0vNmjXTkiVLFBsba0frAADADwVZlmXZ3URN4HKdND6nwxGsfqk7jM8LAEB12zCxuxyOYEVFhcvtzjd2ibBRo7pG5qmsGnGJEAAAoDoRsAAAAAwjYAEAABhGwAIAADCMgAUAAGAYAQsAAMAwAhYAAIBhBCwAAADDCFgAAACGEbAAAAAMI2ABAAAYRsACAAAwjIAFAABgGAELAADAMAIWAACAYQQsAAAAwwhYAAAAhhGwAAAADCNgAQAAGEbAAgAAMIyABQAAYBgBCwAAwDACFgAAgGEELAAAAMMIWAAAAIYRsAAAAAwjYAEAABhGwAIAADCsxgSsY8eO6aGHHlJ8fLx69%2B6t5557TqWlpeWOXbFihQYMGKDrr79eo0aN0t69e6u5WwAA4M9qTMB65JFH1LhxY23ZskXLly/Xli1b9Nprr5UZt3XrVi1evFjPPvusPvnkE/Xu3Vtjx47VqVOnbOgaAAD4oxoRsJxOp7766itNmTJFdevWVcuWLTVmzBhlZmaWGZuZmak77rhDnTt31hVXXKEHH3xQkvTBBx9Ud9sAAMBPOexuoDrs27dPTZs2Vb169by1Dh066PDhw8rLy1NERITP2EGDBnl/Dg4OVrt27eR0OjV48OAK3V9OTo5cLpdPzeGoo5iYmEtcia%2BQkBqRjwEANYDDEew9rgXC8a1GBCyPx6PIyEif2tmw5Xa7fQKWx%2BPxCWJnx7rd7grfX2ZmptLT031qf/rTn/TII49UtvULysnJ0X1NvlZSUpLx8Ga3nJwcZWZmBtzaAnVdEmvzV6zNPwXq2nJycvTaa68ExLr8PyJWkGVZv8rY8iQlJWnNmjU%2BX0lJSZc0Z3lcLpfS09PLnC0LBIG6tkBdl8Ta/BVr80%2BBurZAWleNOIMVHR0tj8fjU/N4PAoKClJ0dLRPPSoqqtyxrVu3rvD9xcTE%2BH3yBgAAVVcjzmDFxsbq%2BPHjOnHihLfmdDrVqlUrhYeHlxm7b98%2B788lJSXav3%2B/OnfuXG39AgAA/1YjAlb79u3VsWNHpaWlKS8vT9nZ2Vq%2BfLlGjRolSRo4cKB27dolSRo1apTeeecdffnllyooKNDSpUsVGhqqXr162bgCAADgT0KefPLJJ%2B1uojrcfPPNysrK0pw5c/SPf/xDw4cP1wMPPKCgoCDNmTNHv/vd79SiRQu1aNFCERERevrpp/X888%2BrsLBQaWlpaty4sd1LKFd4eLhuvPHGMmfiAkGgri1Q1yWxNn/F2vxToK4tUNYVZF3qK7oBAADgo0ZcIgQAAKhOBCwAAADDCFgAAACGEbAAAAAMI2ABAAAYRsACAAAwjIAFAABgGAELAADAMAIWAACAYQQsP3Ts2DE99NBDio%2BPV%2B/evfXcc8%2BptLTU7raq7NixY0pOTlZ8fLwSEhI0depU5ebm6rvvvlPbtm3VsWNHn69XX33V7pYrpG3btoqNjfXpfc6cOZKkTz/9VMOHD9f111%2BvwYMHa926dTZ3W3E7d%2B4ss09iY2PVtm1b/fOf/yx3n23YsMHuti9ox44dSkhI0KRJk8psW79%2BvW677TZ16dJFd9xxhz766CPvttLSUi1cuFB9%2BvRRXFycHnjgAR09erQ6W7%2BgC61r06ZNGjJkiLp06aIBAwbob3/7m3fb4sWL1a5duzL78ccff6zO9i/ofGtbs2aNrr322jK979mzR9Llv8%2Bk869txowZZdbVvn17PfHEE5KkqVOnej979%2BxX165d7VhCuc73XC9JBw4c0D333KMbbrhB/fv317Jly3xue6HH4WXLgt8ZNmyYNWPGDCs3N9c6fPiw1b9/f2vZsmV2t1Vlt956qzV16lQrLy/POn78uHXHHXdY06ZNs44ePWq1adPG7vaqrE2bNtbRo0fL1H/44Qfruuuus9566y3r9OnT1scff2x16tTJ2rNnjw1dmrF06VJrwoQJ1meffWb17t3b7nYqJSMjw%2Brfv781cuRIa%2BLEiT7b9u/fb8XGxlrbtm2zTp8%2Bba1du9bq3Lmzdfz4ccuyLGvFihVW7969rW%2B%2B%2BcY6efKk9dRTT1m33XabVVpaasdSfFxoXbt377Y6duxobd682SoqKrK2bdtmdejQwdq5c6dlWZb1/PPPWykpKXa0XSEXWtvbb79t3XPPPee97eW8zyzrwmv7paKiImvw4MHWtm3bLMuyrJSUFOv555%2Bvjjar5HzP9QUFBdbNN99sLV682MrPz7f27t1r3XjjjdZ7771nWdbFH4eXK85g%2BRmn06mvvvpKU6ZMUd26ddWyZUuNGTNGmZmZdrdWJbm5uYqNjdXkyZMVHh6uJk2aaNiwYdq1a5fdrf1q3n33XbVs2VLDhw9XWFiYEhISlJiYqLfeesvu1qrk3//%2Bt5YvX67HH3/c7laqJCwsTKtXr1aLFi3KbHvrrbfUs2dP9ezZU2FhYRoyZIjatGnjPeOYmZmpMWPG6JprrlFERIQmTZqk7Oxs7d69u7qXUcaF1uXxePTwww%2Brb9%2B%2Bcjgc6tmzp9q0aeM3j7sLre1iLud9JlVuba%2B99pquvPJK9ezZsxo6uzQXeq7ftm2bioqKNG7cONWpU0cdOnTQiBEjvMe1iz0OL1cELD%2Bzb98%2BNW3aVPXq1fPWOnTooMOHDysvL8/GzqomMjJS8%2BbNU8OGDb2148ePKyYmxvvz448/rh49euimm25SWlqaioqK7Gi1StLS0tSrVy917dpVM2fOVH5%2Bvvbt26f27dv7jGvfvr327t1rU5eXZtGiRbrzzjt15ZVXSpLy8/O9lwFuvvlmLV%2B%2BXNZl/Jnyo0ePVt26dcvddr595XQ6dfr0aX3zzTc%2B2yMiItSiRQs5nc5fteeKuNC6brnlFiUnJ3t/Li4ulsvlUuPGjb21gwcPauTIkd7L2JfTJZkLrU36%2BTnk/vvvV1xcnPr06aO1a9dK0mW/z6SLr%2B2s3Nxcvfjii3rsscd86p999pmGDh2qLl26aPjw4ZfN88qFnuv37duntm3bKiQkxLvt3OfECz0OL2cELD/j8XgUGRnpUzsbttxutx0tGeV0OrVy5UqNGzdOoaGh6tKli/r166cPPvhAGRkZWrdunV544QW726yQ6667TgkJCdq0aZMyMzP15Zdfavbs2eXuw/r16/vl/vvuu%2B%2B0adMm3X///ZJ%2BPli1adNG9913n3bs2KF58%2BYpPT1db7/9ts2dVo3H4/H5x4z08%2BPN7Xbrp59%2BkmVZ593uT1JTU1WnTh0NGjRIktSkSRM1b95cCxYs0Mcff6wRI0Zo7NixOnTokM2dXlx0dLRatmypxx57TB9//LEeffRRTZs2TZ9%2B%2BmlA7bOVK1cqLi5OrVu39taaN2%2BuFi1a6KWXXtKOHTvUtWtX/f73v78s13buc/35nhM9Ho9KS0sv%2BDi8nBGw/NDlfDbgUnz%2B%2Bed64IEHNHnyZCUkJCgmJkZvvvmm%2BvXrp1q1aqlTp056%2BOGHtWbNGrtbrZDMzEyNGDFCoaGhuuaaazRlyhRlZWX51Rm4i3njjTfUv39/NWrUSNLPZ1Nff/113XjjjQoNDVWPHj00cuRIv9ln5bnY482fH4%2BWZem5555TVlaWli5dqrCwMEnSiBEj9Pzzz6tFixaqXbu2xowZo3bt2l32l2QkqVevXnrllVfUvn17hYaGavDgwerXr5/P76A/7zNJKikp0RtvvKHRo0f71JOTk/XMM8%2BocePGioiI0GOPPabQ0FBt2bLFpk7L98vn%2BvMJCgryfu%2BP%2B4yA5Weio6Pl8Xh8ah6PR0FBQYqOjrapq0u3detWPfTQQ5o2bVqZJ41zNW3aVD/%2B%2BKNfPtiaNWumkpISBQcHl9mHbrfbL/ffe%2B%2B9p8TExAuOadq0qXJycqqpI7OioqLKfbxFR0erfv365e5Lj8ejBg0aVGebVVJaWqqpU6dq69atWrVqla6%2B%2BuoLjvfn/Xi2d3/fZ2ft3LlThYWFF/0LwZCQEP3mN7%2B5rPZbec/10dHRZc5GeTwe7/660OPwckbA8jOxsbE6fvy4Tpw44a05nU61atVK4eHhNnZWdV988YVSUlK0aNEiDR061Fv/9NNPtXTpUp%2Bxhw4dUtOmTX3%2BZXM52r9/v%2BbPn%2B9Ty87OVmhoqHr27FnmdRF79%2B5V586dq7PFS3bgwAEdO3ZM3bt399Y2bNigv/71rz7jDh06pObNm1d3e0bExsaW2VdOp1OdO3dWWFiYWrdurX379nm35ebm6siRI%2BrUqVN1t1ppzzzzjL7%2B%2BmutWrWqzP554YUX9Omnn/rUsrOz/WI/rlq1SuvXr/epne3d3/fZWe%2B//75uuukmORwOb82yLM2bN09fffWVt1ZYWKgjR45cNvvtfM/1sbGxOnjwoIqLi721s4%2Bzs9vP9zi8nBGw/MzZ9zhJS0tTXl6esrOztXz5co0aNcru1qqkuLhYM2bM0JQpU9SjRw%2BfbXXr1tWSJUu0du1aFRUVyel06tVXX/WLtTZo0ECZmZnKyMhQYWGhDh8%2BrEWLFikpKUm33367jh07prfeektnzpzRhx9%2BqA8//FB33XWX3W1Xyv79%2B1W/fn1FRER4a7Vq1dKCBQv00UcfqaioSB9//LHefvttv9hn5bnrrrv0ySefaNu2bTpz5oxWr16tb7/9VkOGDJEkjRo1SitWrFB2drby8vKUmprqff%2Boy9nnn3%2BudevWKSMjQ/Xr1y%2Bz3ePxaPbs2Tp06JDOnDmjZcuW6ciRIxo2bJgN3VZOYWGh5syZI6fTqaKiImVlZWn79u0aOXKkJP/dZ%2Bc6cOCAmjVr5lMLCgrSd999p9mzZ%2BuHH35Qfn6%2BUlNTVatWLfXt29emTv/PhZ7re/bsqYiICC1dulQFBQXavXu3Vq9e7X3euNjj8HIVZPnjtZYa7vvvv9fMmTP1P//zP4qIiNDIkSP1pz/96bI/q1OeXbt26b/%2B678UGhpaZtvGjRu1f/9%2Bpaen69tvv1XdunV177336g9/%2BIOCgy//fxvs3LlTaWlpOnjwoEJDQzVs2DBNmjRJYWFh2rlzp%2BbOnavs7Gw1bdpUkydPVv/%2B/e1uuVJeeuklvfvuu8rKyvKpZ2ZmatmyZTp%2B/LgaNmyocePGacSIETZ1eXFnD6xn//V89qzA2b9Q2rRpk9LS0nTs2DG1atVK06dPV1xcnKSfzxosXrxYb775pvLz8xUfH6%2BnnnpKTZo0sWElvi60rmnTpunvf/%2B7zxkQSYqLi9OyZct05swZpaWlaePGjfJ4PGrVqpVmzpypLl26VO8izuNCa7MsS0uXLtXq1avlcrnUrFkzPf744%2Brdu7eky3ufSRf/fZSkAQMG6K677tIDDzzgc1uPx6MFCxZo%2B/btysvLU6dOnfTkk0/qmmuuqabuz%2B9iz/X5%2BfmaNWuW9u7dq4YNG%2BoPf/iD7r77bu%2BYCz0OL1cELAAAAMMu/9MAAAAAfoaABQAAYBgBCwAAwDACFgAAgGEELAAAAMMIWAAAAIYRsAAAAAwjYAEAABhGwAIAADCMgAUAAGAYAQsAAMAwAhYAAIBhBCwAAADD/j/NyHRyp5udrwAAAABJRU5ErkJggg%3D%3D\"/>\n",
              "        </div>\n",
              "        <div role=\"tabpanel\" class=\"tab-pane col-md-12\" id=\"common5427769135345745374\">\n",
              "            \n",
              "<table class=\"freq table table-hover\">\n",
              "    <thead>\n",
              "    <tr>\n",
              "        <td class=\"fillremaining\">Value</td>\n",
              "        <td class=\"number\">Count</td>\n",
              "        <td class=\"number\">Frequency (%)</td>\n",
              "        <td style=\"min-width:200px\">&nbsp;</td>\n",
              "    </tr>\n",
              "    </thead>\n",
              "    <tr class=\"\">\n",
              "        <td class=\"fillremaining\">199</td>\n",
              "        <td class=\"number\">1</td>\n",
              "        <td class=\"number\">0.5%</td>\n",
              "        <td>\n",
              "            <div class=\"bar\" style=\"width:1%\">&nbsp;</div>\n",
              "        </td>\n",
              "</tr><tr class=\"\">\n",
              "        <td class=\"fillremaining\">62</td>\n",
              "        <td class=\"number\">1</td>\n",
              "        <td class=\"number\">0.5%</td>\n",
              "        <td>\n",
              "            <div class=\"bar\" style=\"width:1%\">&nbsp;</div>\n",
              "        </td>\n",
              "</tr><tr class=\"\">\n",
              "        <td class=\"fillremaining\">72</td>\n",
              "        <td class=\"number\">1</td>\n",
              "        <td class=\"number\">0.5%</td>\n",
              "        <td>\n",
              "            <div class=\"bar\" style=\"width:1%\">&nbsp;</div>\n",
              "        </td>\n",
              "</tr><tr class=\"\">\n",
              "        <td class=\"fillremaining\">71</td>\n",
              "        <td class=\"number\">1</td>\n",
              "        <td class=\"number\">0.5%</td>\n",
              "        <td>\n",
              "            <div class=\"bar\" style=\"width:1%\">&nbsp;</div>\n",
              "        </td>\n",
              "</tr><tr class=\"\">\n",
              "        <td class=\"fillremaining\">70</td>\n",
              "        <td class=\"number\">1</td>\n",
              "        <td class=\"number\">0.5%</td>\n",
              "        <td>\n",
              "            <div class=\"bar\" style=\"width:1%\">&nbsp;</div>\n",
              "        </td>\n",
              "</tr><tr class=\"\">\n",
              "        <td class=\"fillremaining\">69</td>\n",
              "        <td class=\"number\">1</td>\n",
              "        <td class=\"number\">0.5%</td>\n",
              "        <td>\n",
              "            <div class=\"bar\" style=\"width:1%\">&nbsp;</div>\n",
              "        </td>\n",
              "</tr><tr class=\"\">\n",
              "        <td class=\"fillremaining\">68</td>\n",
              "        <td class=\"number\">1</td>\n",
              "        <td class=\"number\">0.5%</td>\n",
              "        <td>\n",
              "            <div class=\"bar\" style=\"width:1%\">&nbsp;</div>\n",
              "        </td>\n",
              "</tr><tr class=\"\">\n",
              "        <td class=\"fillremaining\">67</td>\n",
              "        <td class=\"number\">1</td>\n",
              "        <td class=\"number\">0.5%</td>\n",
              "        <td>\n",
              "            <div class=\"bar\" style=\"width:1%\">&nbsp;</div>\n",
              "        </td>\n",
              "</tr><tr class=\"\">\n",
              "        <td class=\"fillremaining\">66</td>\n",
              "        <td class=\"number\">1</td>\n",
              "        <td class=\"number\">0.5%</td>\n",
              "        <td>\n",
              "            <div class=\"bar\" style=\"width:1%\">&nbsp;</div>\n",
              "        </td>\n",
              "</tr><tr class=\"\">\n",
              "        <td class=\"fillremaining\">65</td>\n",
              "        <td class=\"number\">1</td>\n",
              "        <td class=\"number\">0.5%</td>\n",
              "        <td>\n",
              "            <div class=\"bar\" style=\"width:1%\">&nbsp;</div>\n",
              "        </td>\n",
              "</tr><tr class=\"other\">\n",
              "        <td class=\"fillremaining\">Other values (190)</td>\n",
              "        <td class=\"number\">190</td>\n",
              "        <td class=\"number\">95.0%</td>\n",
              "        <td>\n",
              "            <div class=\"bar\" style=\"width:100%\">&nbsp;</div>\n",
              "        </td>\n",
              "</tr>\n",
              "</table>\n",
              "        </div>\n",
              "        <div role=\"tabpanel\" class=\"tab-pane col-md-12\"  id=\"extreme5427769135345745374\">\n",
              "            <p class=\"h4\">Minimum 5 values</p>\n",
              "            \n",
              "<table class=\"freq table table-hover\">\n",
              "    <thead>\n",
              "    <tr>\n",
              "        <td class=\"fillremaining\">Value</td>\n",
              "        <td class=\"number\">Count</td>\n",
              "        <td class=\"number\">Frequency (%)</td>\n",
              "        <td style=\"min-width:200px\">&nbsp;</td>\n",
              "    </tr>\n",
              "    </thead>\n",
              "    <tr class=\"\">\n",
              "        <td class=\"fillremaining\">0</td>\n",
              "        <td class=\"number\">1</td>\n",
              "        <td class=\"number\">0.5%</td>\n",
              "        <td>\n",
              "            <div class=\"bar\" style=\"width:100%\">&nbsp;</div>\n",
              "        </td>\n",
              "</tr><tr class=\"\">\n",
              "        <td class=\"fillremaining\">1</td>\n",
              "        <td class=\"number\">1</td>\n",
              "        <td class=\"number\">0.5%</td>\n",
              "        <td>\n",
              "            <div class=\"bar\" style=\"width:100%\">&nbsp;</div>\n",
              "        </td>\n",
              "</tr><tr class=\"\">\n",
              "        <td class=\"fillremaining\">2</td>\n",
              "        <td class=\"number\">1</td>\n",
              "        <td class=\"number\">0.5%</td>\n",
              "        <td>\n",
              "            <div class=\"bar\" style=\"width:100%\">&nbsp;</div>\n",
              "        </td>\n",
              "</tr><tr class=\"\">\n",
              "        <td class=\"fillremaining\">3</td>\n",
              "        <td class=\"number\">1</td>\n",
              "        <td class=\"number\">0.5%</td>\n",
              "        <td>\n",
              "            <div class=\"bar\" style=\"width:100%\">&nbsp;</div>\n",
              "        </td>\n",
              "</tr><tr class=\"\">\n",
              "        <td class=\"fillremaining\">4</td>\n",
              "        <td class=\"number\">1</td>\n",
              "        <td class=\"number\">0.5%</td>\n",
              "        <td>\n",
              "            <div class=\"bar\" style=\"width:100%\">&nbsp;</div>\n",
              "        </td>\n",
              "</tr>\n",
              "</table>\n",
              "            <p class=\"h4\">Maximum 5 values</p>\n",
              "            \n",
              "<table class=\"freq table table-hover\">\n",
              "    <thead>\n",
              "    <tr>\n",
              "        <td class=\"fillremaining\">Value</td>\n",
              "        <td class=\"number\">Count</td>\n",
              "        <td class=\"number\">Frequency (%)</td>\n",
              "        <td style=\"min-width:200px\">&nbsp;</td>\n",
              "    </tr>\n",
              "    </thead>\n",
              "    <tr class=\"\">\n",
              "        <td class=\"fillremaining\">195</td>\n",
              "        <td class=\"number\">1</td>\n",
              "        <td class=\"number\">0.5%</td>\n",
              "        <td>\n",
              "            <div class=\"bar\" style=\"width:100%\">&nbsp;</div>\n",
              "        </td>\n",
              "</tr><tr class=\"\">\n",
              "        <td class=\"fillremaining\">196</td>\n",
              "        <td class=\"number\">1</td>\n",
              "        <td class=\"number\">0.5%</td>\n",
              "        <td>\n",
              "            <div class=\"bar\" style=\"width:100%\">&nbsp;</div>\n",
              "        </td>\n",
              "</tr><tr class=\"\">\n",
              "        <td class=\"fillremaining\">197</td>\n",
              "        <td class=\"number\">1</td>\n",
              "        <td class=\"number\">0.5%</td>\n",
              "        <td>\n",
              "            <div class=\"bar\" style=\"width:100%\">&nbsp;</div>\n",
              "        </td>\n",
              "</tr><tr class=\"\">\n",
              "        <td class=\"fillremaining\">198</td>\n",
              "        <td class=\"number\">1</td>\n",
              "        <td class=\"number\">0.5%</td>\n",
              "        <td>\n",
              "            <div class=\"bar\" style=\"width:100%\">&nbsp;</div>\n",
              "        </td>\n",
              "</tr><tr class=\"\">\n",
              "        <td class=\"fillremaining\">199</td>\n",
              "        <td class=\"number\">1</td>\n",
              "        <td class=\"number\">0.5%</td>\n",
              "        <td>\n",
              "            <div class=\"bar\" style=\"width:100%\">&nbsp;</div>\n",
              "        </td>\n",
              "</tr>\n",
              "</table>\n",
              "        </div>\n",
              "    </div>\n",
              "</div>\n",
              "</div><div class=\"row variablerow\">\n",
              "    <div class=\"col-md-3 namecol\">\n",
              "        <p class=\"h4 pp-anchor\" id=\"pp_var_date\">date<br/>\n",
              "            <small>Date</small>\n",
              "        </p>\n",
              "    </div><div class=\"col-md-6\">\n",
              "    <div class=\"row\">\n",
              "        <div class=\"col-sm-6\">\n",
              "            <table class=\"stats \">\n",
              "                <tr>\n",
              "                    <th>Distinct count</th>\n",
              "                    <td>200</td>\n",
              "                </tr>\n",
              "                <tr>\n",
              "                    <th>Unique (%)</th>\n",
              "                    <td>100.0%</td>\n",
              "                </tr>\n",
              "                <tr class=\"ignore\">\n",
              "                    <th>Missing (%)</th>\n",
              "                    <td>0.0%</td>\n",
              "                </tr>\n",
              "                <tr class=\"ignore\">\n",
              "                    <th>Missing (n)</th>\n",
              "                    <td>0</td>\n",
              "                </tr>\n",
              "                <tr class=\"ignore\">\n",
              "                    <th>Infinite (%)</th>\n",
              "                    <td>0.0%</td>\n",
              "                </tr>\n",
              "                <tr class=\"ignore\">\n",
              "                    <th>Infinite (n)</th>\n",
              "                    <td>0</td>\n",
              "                </tr>\n",
              "            </table>\n",
              "        </div>\n",
              "        <div class=\"col-sm-6\">\n",
              "            <table class=\"stats \">\n",
              "                <tr>\n",
              "                    <th>Minimum</th>\n",
              "                    <td>2019-03-22 00:00:00</td>\n",
              "                </tr>\n",
              "                <tr>\n",
              "                    <th>Maximum</th>\n",
              "                    <td>2020-01-10 00:00:00</td>\n",
              "                </tr>\n",
              "            </table>\n",
              "        </div>\n",
              "    </div>\n",
              "</div>\n",
              "<div class=\"col-md-3 collapse in\" id=\"minihistogram-1685431806340085572\">\n",
              "    <img src=\"data:image/png;base64,iVBORw0KGgoAAAANSUhEUgAAAMgAAABLCAYAAAA1fMjoAAAABHNCSVQICAgIfAhkiAAAAAlwSFlzAAAPYQAAD2EBqD%2BnaQAAADh0RVh0U29mdHdhcmUAbWF0cGxvdGxpYiB2ZXJzaW9uMy4xLjIsIGh0dHA6Ly9tYXRwbG90bGliLm9yZy8li6FKAAAGaklEQVR4nO3bXUjTaxwH8K/OLYLZCzprkxlGGEGNEXmjhL0QnGgRaLa57KYJdqEwYUQWvUC0i1yIrCB3FSRF9kJRwSkkfLkqpMDKlJCUXjZmpQVJW7DfuTg0ztAezs5xbun3c%2Bf%2Bz56X/f7f/7P93bJEREBEM8pO9wSIMllOuidAc2/TsT%2BTfk7/mT9SMJPMxx2ESCHjdpC5urr9l3GSNZ%2Buugt11%2BEOQqTAgBApZNxbrPlkob4tmU%2B4gxApcAfJMPNp15kPa%2BEOQqQwL3aQubhlm8kW%2BvpTiTsIkQIDQqTAgBApMCBECgwIkQIDQqTAgBApMCBECgwIkQIDQqTAgBApMCBECgwIkQIDQqTAgBApMCBECgwIkQIDQqTAgBApMCBECgwIkQIDQqTAgBApMCBECgwIkQIDQqTAgBApMCBECgwIkQIDQqTAgBApMCBECgwIkQIDQqTAgBApMCBECgwIkUKWiEi6J6ESDodx7do12O12FBQUpHs6NIt%2Bh9pm/A4yPj6O8%2BfPY3x8PN1ToVn2O9Q24wNClE4MCJECA0KkkPEBMRgMaGhogMFgSPdUaJb9DrXN%2BLtYROmU8TsIUToxIEQKDAiRAgNCpMCAECkwIEQKDAiRQsoCEggEUFVVhX379sHj8SAajaKnpwfV1dVwOp2or6/Hly9f4u2vX78Oq9WK3t7e%2BGMfPnyAy%2BXC/v37UVtbi%2BHh4RnHevv2LQ4cOACn0wmHw4GXL18mHP/69SsqKipw69at1Cx2gUmmtgMDA3A4HKitrYXdbseLFy8AABMTE6ivr4fT6UR1dTX6%2BvpmHEtV26dPn2Lbtm3w%2BXypW6ykQH9/v9hsNolGoyIi0tDQIB0dHVJeXi5jY2MiIuL3%2B%2BX06dMiInL58mXxer1it9ulp6cn3k9jY6N0dHSIiMjIyIhUVVXNOF5dXZ3cvn1bRESePHkiNpst4bjH4xGHwyE3b96c3YUuQMnWdseOHfLs2TMREenq6pKamhoRETl58qRcuHBBRERGR0dl8%2BbNEolEpo33q9oODg6Ky%2BWSEydOSEtLS8rWm5IdxGq14urVq9BqtQCA5cuX49u3bzCbzSgqKgIA2Gw2dHd3AwD27NmD5ubmePufRkZGsHHjRgDA6tWrEYlEEAqFEtr8%2BPEDjx8/xs6dOwEApaWlmJycRDAYBAA8ePAAOTk5KCsrS8VSF5xka3vjxg1YrVYAQF5eHiYmJgAAvb292LVrFwBg1apVMJlMGBgYSBhLVVuz2YxAIID8/PyUrjclAdFoNNDr9QCAsbExdHd3IxaLJXznxmAwxE/23NzcGftZt24dHj58CODvsLx79w7hcDihzefPn7F48WLodLppfX/8%2BBEXL17E0aNHZ3V9C1mytV2yZAkAIBaLob29HXv37gXw94%2Bl/nlyFxQUTLv4qWqr1%2BuRnZ36j9ApHWFoaAh1dXXwer0oLCxMOCYiyMrKUj7/yJEjGB0dRU1NDa5cuYKSkpKEF0slKysLx48fh8fj%2BWUA6b9LprbRaBRutxt5eXk4ePDgjP39m/Php3/bbjbkpKrjwcFBuN1utLS0wGq1or%2B/P%2BHqHwqFYDKZlH3k5%2BejtbU1/ndFRQWMRiPOnDmDoaEhaLVaBAIBfP/%2BHZFIBIsWLYr3bTQaMTw8jLa2NrS1tSEUCkGn00Gr1WL37t2pWfQCkUxto9EoDh06hA0bNqCpqSneZuXKlQiHwyguLgYABIPBpGo7V1ISkKmpKTQ1NcHv92Pt2rUAAIvFgmAwiDdv3qC4uBh37tzB9u3blf20t7cjNzcXTqcTXV1dKCoqwtKlS3Hs2LGEduXl5bh//z4qKyvR19cHk8mEFStW4NGjR/E2fr8fhYWFDMf/lGxtfT4fLBYL3G53Qj9bt27FvXv30NjYiNevX%2BPTp0%2BwWCzxz5w//aq2cyUlX3fv7OzEuXPnUFJSEn%2BsrKwMVqsVra2t0Gg0MBgM8Hq90Ov1OHv2LJ4/f45Xr17BaDRi2bJl8Pl8iMVi8RdWp9PB6/XCbDZPGy8YDKK5uRnRaBTZ2dk4deoU1qxZk9DmZ0AqKytne7kLSjK11Wg0KC0txfr16xNuwFy6dAlTU1M4fPgwJicnISLweDzYtGnTtPF%2BVdu7d%2B%2Bis7MT79%2B/RywWg9lshsvlwpYtW2Z1vfw9CJEC/5NOpMCAECkwIEQKfwHp9hgi%2BPDT3QAAAABJRU5ErkJggg%3D%3D\">\n",
              "</div>\n",
              "<div class=\"col-md-12 text-right\">\n",
              "    <a role=\"button\" data-toggle=\"collapse\" data-target=\"#descriptives-1685431806340085572,#minihistogram-1685431806340085572\"\n",
              "       aria-expanded=\"false\" aria-controls=\"collapseExample\">\n",
              "        Toggle details\n",
              "    </a>\n",
              "</div>\n",
              "<div class=\"row collapse col-md-12\" id=\"descriptives-1685431806340085572\">\n",
              "    <img src=\"data:image/png;base64,iVBORw0KGgoAAAANSUhEUgAAAlgAAAGQCAYAAAByNR6YAAAABHNCSVQICAgIfAhkiAAAAAlwSFlzAAAPYQAAD2EBqD%2BnaQAAADh0RVh0U29mdHdhcmUAbWF0cGxvdGxpYiB2ZXJzaW9uMy4xLjIsIGh0dHA6Ly9tYXRwbG90bGliLm9yZy8li6FKAAAgAElEQVR4nO3deXRU5eH/8c8kA1TAACkENxRaJAhJWUM0AVlFEBesYKBFyiKbQYQCBvBLhWoFCxylhFLRo221YlpKrbILSLS22iIuCVDFCEdKQzMmGSALkGSe3x/8MjKEJcgDd27yfp3D8fDcm2c%2Bebwz8%2BHeWTzGGCMAAABYE%2BF0AAAAgJqGggUAAGAZBQsAAMAyChYAAIBlFCwAAADLKFgAAACWUbAAAAAso2ABAABYRsECAACwjIIFAABgGQULAADAMgoWAACAZRQsAAAAyyhYAAAAllGwAAAALKNgAQAAWEbBAgAAsIyCBQAAYBkFCwAAwDIKFgAAgGUULAAAAMsoWAAAAJZRsAAAACyjYAEAAFhGwQIAALCMggUAAGAZBQsAAMAyChYAAIBlFCwAAADLKFgAAACWUbAAAAAso2ABAABYRsECAACwjIIFAABgGQULAADAMgoWAACAZRQsAAAAyyhYAAAAllGwAAAALPM6HaC28PmOOh0hRESER9HRDVRQUKxAwDgd57zclreSG3O7MbNE7svFbXkruTG3GzNL4Ze7WbMrHbldzmDVUhERHnk8HkVEeJyOUi1uy1vJjbndmFki9%2BXitryV3JjbjZkl9%2Ba2jYIFAABgGQULAADAMgoWAACAZRQsAAAAyyhYAAAAllGwAAAALKNgAQAAWEbBAgAAsIyCBQAAYBkFCwAAwDIKFgAAgGUULAAAAMsoWAAAAJZ5nQ4AAKi9Bj77ntMRLsiGqclOR4BLcAYLAADAMgoWAACAZRQsAAAAyyhYAAAAllGwAAAALKNgAQAAWEbBAgAAsIyCBQAAYBkFCwAAwDIKFgAAgGUULAAAAMsoWAAAAJZRsAAAACzzOh0AF8dN30Tvtm%2Bhd9Pauo3bjgWgktseF7ivOYczWAAAAJZRsAAAACyjYAEAAFhGwQIAALCMggUAAGAZBQsAAMAyChYAAIBlFCwAAADLam3BOnjwoFJTU5WYmKikpCTNmjVLR44ckSTt2bNHI0aMUJcuXdS/f3%2B9%2BOKLDqcFAABuUmsL1sSJExUVFaVt27ZpzZo12rt3r55%2B%2BmkdO3ZMEyZM0M0336x3331XzzzzjJ577jlt3rzZ6cgAAMAlamXBOnLkiOLi4jR9%2BnQ1aNBAV111le69917t2LFD27dvV1lZmSZNmqT69eurffv2Gjp0qDIyMpyODQAAXKJWFqyoqCgtWLBATZs2DY7l5uYqJiZGu3btUmxsrCIjI4Pb2rVrp%2BzsbCeiAgAAF%2BLLniVlZWXplVde0YoVK7RhwwZFRUWFbG/cuLH8fr8CgYAiIs7fSfPy8uTz%2BULGvN76iomJsZrbbbzeb9/nIyMjQv4Ld7uYY%2BFs3HqMuC232/LWdpfivnY%2BHCMn1fqC9eGHH2rSpEmaPn26kpKStGHDhjPu5/F4qj1nRkaG0tPTQ8ZSU1M1ZcqUi8rqdk2aNLjoOaKirrCQBE67bfG7Tke4IDt%2BMeCS34bbjm235a2tbDzuflu1/Rip1QVr27ZtmjlzpubOnavBgwdLkqKjo7V///6Q/fx%2Bvxo3blyts1eSlJKSoj59%2BoSMeb31VVhYbCW3W13M7x8ZGaGoqCt05EipKioCFlMB53cp77tuO7bdlre2c%2BJ5J9yOEadKZq0tWDt37lRaWpqWLl2q7t27B8fj4uK0atUqlZeXy%2Bs9uTxZWVnq0KFDteeOiYmpcjnQ5zuq8nLnDzQn2fj9KyoCtX4dcfldjmPObce22/LWVk7%2BP6rtx0itvEBaXl6u//u//9OMGTNCypUk9ezZUw0bNtSKFStUWlqqTz75RKtXr9bw4cMdSgsAANymVhasjz/%2BWDk5OXryyScVHx8f8sfn8%2Bk3v/mN/v73v6tbt26aOnWqpk2bpl69ejkdGwAAuEStvETYtWtXffbZZ%2BfcZ9WqVZcpDQAAqGlq5RksAACAS4mCBQAAYBkFCwAAwDIKFgAAgGUULAAAAMsoWAAAAJZRsAAAACyjYAEAAFhWKz9oFAAuxMBn33M6wgXZMDXZ6QgIE246dmvaccsZLAAAAMsoWAAAAJZRsAAAACyjYAEAAFhGwQIAALCMggUAAGAZBQsAAMAyChYAAIBlFCwAAADLKFgAAACWUbAAAAAso2ABAABYRsECAACwzOt0ANQebvpWd8DNuK8BzuMMFgAAgGUULAAAAMsoWAAAAJZRsAAAACyjYAEAAFhGwQIAALCMggUAAGAZBQsAAMAyChYAAIBlFCwAAADLKFgAAACWUbAAAAAso2ABAABYRsECAACwjIIFAABgGQULAADAMgoWAACAZRQsAAAAyyhYAAAAllGwAAAALKNgAQAAWEbBAgAAsIyCBQAAYBkFCwAAwDIKFgAAgGUULAAAAMsoWAAAAJZRsAAAACyjYAEAAFhGwQIAALCMggUAAGAZBQsAAMAyChYAAIBlFCwAAADLKFgAAACWUbAAAAAsq7UF691331VSUpKmTZsWMr5mzRq1bdtW8fHxIX8%2B/fRTh5ICAAC38TodwAnPP/%2B8Vq9erRtuuOGM2xMSEvTyyy9f5lQAAKCmqJVnsOrVq3fOggUAAHAxauUZrJEjR55ze25urkaPHq3s7GxFRUVpypQpuueee6o9f15ennw%2BX8iY11tfMTEx3yovAAA1nddbs8751MqCdS7R0dFq2bKlfvrTn6p169Z666239OijjyomJka33HJLtebIyMhQenp6yFhqaqqmTJlyKSIDAOB6TZo0cDqCVRSs0/Tq1Uu9evUK/n3QoEF66623tGbNmmoXrJSUFPXp0ydkzOutr8LCYptRAQCoMS7Vc6RTxY2CVQ3XXnutsrOzq71/TExMlcuBPt9RlZcHbEcDAKBGqGnPkTXrgqcFq1at0vr160PGcnJy1KJFC4cSAQAAt6FgnebEiRN64oknlJWVpbKyMq1du1bvvPOOhg0b5nQ0AADgErXyEmF8fLwkqby8XJK0ZcsWSVJWVpZGjhyp4uJiPfLII/L5fLruuuu0fPlyxcXFOZYXAAC4i8cYY5wOURv4fEcvybwDn33vkswLAMDltGFq8iWZt1mzKy/JvOfDJUIAAADLKFgAAACWUbAAAAAso2ABAABYRsECAACwjIIFAABgGQULAADAMgoWAACAZa4qWH369FF6erpyc3OdjgIAAHBWripY9913n9avX69%2B/frpwQcf1ObNm4NfdwMAABAuXPlVObt27dLatWu1YcMGlZWVafDgwRoyZIhatWrldLSz4qtyAAA4u5r2VTmuLFiVjDFav3695s2bp6KiIiUlJemRRx7RD37wA6ejVUHBAgDg7GpawXLVJcJKZWVlWr9%2BvcaNG6e0tDQ1b95cs2fP1k033aRRo0bpzTffdDoiAACoxbxOB7gQOTk5Wr16tV5//XUVFxfr9ttv1%2B9%2B9zt16dIluE9CQoLmzZunu%2B66y8GkAACgNnNVwRo0aJBatWqlCRMmaPDgwWrcuHGVfXr27KmCggIH0gEAAJzkqoL1%2B9//Xt26dTvvfp988sllSAMAAHBmrnoNVmxsrCZOnKgtW7YEx377299q3Lhx8vv9DiYDAAD4hqsK1oIFC3T06FG1bt06ONarVy8FAgEtXLjQwWQAAADfcNUlwr/97W9688031aRJk%2BBYy5YttXjxYt15550OJgMAAPiGq85gHTt2TPXq1asyHhERodLSUgcSAQAAVOWqgpWQkKCFCxfq8OHDwbH//e9/mj9/fshHNQAAADjJVZcI58yZozFjxuiWW25Rw4YNFQgEVFxcrBYtWujll192Oh4AAIAklxWsFi1aaN26dXrnnXf01VdfKSIiQq1atVL37t0VGRnpdDwAAABJLitYklS3bl3169fP6RgAAABn5aqCdeDAAS1ZskR79%2B7VsWPHqmzfunWrA6kAAABCuapgzZkzR3l5eerevbvq16/vdBwAAIAzclXBys7O1tatWxUdHe10FAAAgLNy1cc0fPe73%2BXMFQAACHuuKlgTJkxQenq6jDFORwEAADgrV10ifOedd7Rz506tWbNG1113nSIiQvvha6%2B95lAyAACAb7iqYDVs2FC33nqr0zEAAADOyVUFa8GCBU5HAAAAOC9XvQZLkr788kstW7ZMs2fPDo599NFHDiYCAAAI5aqC9Y9//EN33323Nm/erLVr10o6%2BeGjI0eO5ENGAQBA2HBVwXrmmWc0c%2BZMvfnmm/J4PJJOfj/hwoULtXz5cofTAQAAnOSqgvX5559r%2BPDhkhQsWJI0YMAA5eTkOBULAAAghKsK1pVXXnnG7yDMy8tT3bp1HUgEAABQlasKVufOnfXUU0%2BpqKgoOLZv3z6lpaXplltucTAZAADAN1z1MQ2zZ8/WT37yEyUmJqqiokKdO3dWaWmpbrzxRi1cuNDpeAAAAJJcVrCuuuoqrV27VpmZmdq3b5%2B%2B853vqFWrVkpOTg55TRYAAICTXFWwJKlOnTrq16%2Bf0zEAAADOylUFq0%2BfPuc8U8VnYQEAgHDgqoJ1xx13hBSsiooK7du3T1lZWfrJT37iYDIAAIBvuKpgzZgx44zjmzZt0gcffHCZ0wAAAJyZqz6m4Wz69eundevWOR0DAABAUg0pWLt375YxxukYAAAAklx2iXDYsGFVxkpLS5WTk6P%2B/fs7kAgAAKAqVxWsli1bVnkXYb169TRkyBANHTrUoVQAAAChXFWw%2BLR2AADgBq4qWK%2B//nq19x08ePAlTAIAAHB2ripYjz32mAKBQJUXtHs8npAxj8dDwQIAAI5xVcF64YUX9OKLL2rixImKjY2VMUafffaZnn/%2BeY0YMUKJiYlORwQAAHBXwVq4cKFWrlyp5s2bB8e6du2qFi1aaOzYsVq7dq2D6QAAAE5y1edg7d%2B/X40aNaoyHhUVpYMHDzqQCAAAoCpXFaxrr71WCxcuVGFhYXDsyJEjWrJkia6//noHkwEAAHzDVZcI58yZo%2BnTpysjI0MNGjRQRESEioqK9J3vfEfLly93Oh4AAIAklxWs7t27a/v27crMzNShQ4dkjFHz5s3Vo0cPXXnllU7HAwAAkOSygiVJV1xxhfr27atDhw6pRYsWTscBAACowlWvwTp27JjS0tLUqVMnDRw4UNLJ12A9%2BOCDOnLkyAXN9e677yopKUnTpk2rsm39%2BvW666671KlTJ/3whz/U3/72Nyv5AQBA7eCqgrVo0SLt2bNHixcvVkTEN9ErKiq0ePHias/z/PPP68knn9QNN9xQZduePXuUlpamGTNm6P3339eoUaM0efJkHTp0yMrvAAAAaj5XFaxNmzbpV7/6lQYMGBD80ueoqCgtWLBAmzdvrvY89erV0%2BrVq89YsP70pz%2BpZ8%2Be6tmzp%2BrVq6e7775bbdq00RtvvGHt9wAAADWbq16DVVxcrJYtW1YZj46OVklJSbXnGTly5Fm37dq1Sz179gwZa9eunbKysqo9f15ennw%2BX8iY11tfMTEx1Z4DAIDaxOt11Tmf83JVwbr%2B%2Buv1wQcfKDExMeS7Bzdu3KhrrrnGym34/f4qH2baqFEjffHFF9WeIyMjQ%2Bnp6SFjqampmjJlipWMAADUNE2aNHA6glWuKlg/%2BtGP9PDDD%2Bu%2B%2B%2B5TIBDQSy%2B9pOzsbG3atEmPPfaYtds5/cukL1RKSor69OkTMub11ldhYfFFzQsAQE11qZ4jnSpuripYKSkp8nq9euWVVxQZGanf/OY3atWqlRYvXqwBAwZYuY0mTZrI7/eHjPn9fkVHR1d7jpiYmCqXA32%2BoyovD1jJCABATVPTniNdVbAKCgp033336b777rtktxEXF6fs7OyQsaysLA0aNOiS3SYAAKhZXPWKsr59%2B1705bvzuf/%2B%2B/X3v/9d27dv1/Hjx7V69Wrt379fd9999yW9XQAAUHO46gxWYmKiNmzYoDvuuOOi5omPj5cklZeXS5K2bNki6eSZqjZt2mjx4sVasGCBDh48qNatW%2Bu5555Ts2bNLi48AACoNTzmUp8Ssmj%2B/PnavHmzmjVrpuuvv1516tQJ2b5kyRKHkp2fz3f0ksw78Nn3Lsm8AABcThumJl%2BSeZs1c%2Ba7il11BuuLL77Q9773PUlSYWGhw2kAAADOzBUFa9q0aXrmmWf08ssvB8eWL1%2Bu1NRUB1MBAACcmSte5L5t27YqYytXrnQgCQAAwPm5omCd6WViLnrpGAAAqGVcUbAqv9j5fGMAAADhwBUFCwAAwE0oWAAAAJa54l2EZWVlmj59%2BnnHwvlzsAAAQO3hioLVpUsX5eXlnXcMAAAgHLiiYJ36%2BVcAAADhjtdgAQAAWEbBAgAAsIyCBQAAYBkFCwAAwDIKFgAAgGUULAAAAMsoWAAAAJZRsAAAACyjYAEAAFhGwQIAALCMggUAAGAZBQsAAMAyChYAAIBlFCwAAADLKFgAAACWUbAAAAAso2ABAABYRsECAACwjIIFAABgGQULAADAMgoWAACAZRQsAAAAyyhYAAAAllGwAAAALKNgAQAAWEbBAgAAsIyCBQAAYBkFCwAAwDIKFgAAgGUULAAAAMsoWAAAAJZRsAAAACyjYAEAAFhGwQIAALCMggUAAGAZBQsAAMAyChYAAIBlFCwAAADLKFgAAACWUbAAAAAso2ABAABYRsECAACwjIIFAABgGQULAADAMgoWAACAZRQsAAAAyyhYAAAAllGwAAAALPM6HSAcxcbGqk6dOvJ4PMGx%2B%2B%2B/X3PnznUwFQAAcAsK1lls3LhR1113ndMxAACAC3GJEAAAwDIK1lksWbJEvXr1UteuXTV37lwVFxc7HQkAALgElwjPoGPHjkpKStLTTz%2BtAwcOaOrUqZo/f75%2B%2BctfVuvn8/Ly5PP5Qsa83vqKiYm5FHEBAHA9r7dmnfPxGGOM0yHCXWZmpiZNmqSPP/5YdevWPe/%2By5YtU3p6eshYamqqpkyZYj1b18c2Wp8TAIDLbccvBjgdwSrOYFXDddddp4qKCuXn5%2Bvqq68%2B7/4pKSnq06dPyJjXW1%2BFhVxmBADgTC7Vc2STJg0uybznQ8E6ze7du/XGG29o1qxZwbGcnBzVrVu32pf4YmJiquzr8x1VeXnAalYAAGqKmvYcWbMueFrw3e9%2BVxkZGVq5cqVOnDihffv2aenSpUpJSVFkZKTT8QAAgAtQsE7TvHlzrVy5Utu2bVNiYqKGDRumHj16aObMmU5HAwAALsElwjNISEjQa6%2B95nQMAADgUpzBAgAAsIyCBQAAYBkFCwAAwDIKFgAAgGUULAAAAMsoWAAAAJZRsAAAACyjYAEAAFhGwQIAALCMggUAAGAZBQsAAMAyChYAAIBlFCwAAADLKFgAAACWUbAAAAAso2ABAABYRsECAACwjIIFAABgGQULAADAMgoWAACAZRQsAAAAyyhYAAAAllGwAAAALKNgAQAAWEbBAgAAsIyCBQAAYBkFCwAAwDIKFgAAgGUULAAAAMsoWAAAAJZRsAAAACyjYAEAAFhGwQIAALCMggUAAGAZBQsAAMAyChYAAIBlFCwAAADLKFgAAACWUbAAAAAso2ABAABYRsECAACwjIIFAABgGQULAADAMgoWAACAZRQsAAAAyyhYAAAAllGwAAAALKNgAQAAWEbBAgAAsIyCBQAAYBkFCwAAwDIKFgAAgGUULAAAAMsoWAAAAJZRsAAAACyjYAEAAFhGwQIAALCMggUAAGAZBQsAAMAyCtYZHDx4UOPHj1diYqJ69%2B6tRYsWKRAIOB0LAAC4hNfpAOHo4YcfVvv27bVlyxbl5%2BdrwoQJatq0qUaPHu10NAAA4AKcwTpNVlaW/v3vf2vGjBm68sor1bJlS40aNUoZGRlORwMAAC7BGazT7Nq1S9dee60aNWoUHGvfvr327dunoqIiNWzY8Lxz5OXlyefzhYx5vfUVExNjPS8AADWB11uzzvlQsE7j9/sVFRUVMlZZtgoLC6tVsDIyMpSenh4yNnnyZD388MP2gv5/O34x4Fv9XF5enjIyMpSSkuKK4ue2vJXcmNuNmSVyXy5uy1vJjbndmFlyb27balZdtMQYc1E/n5KSojVr1oT8SUlJsZTODp/Pp/T09Cpn2sKV2/JWcmNuN2aWyH25uC1vJTfmdmNmyb25beMM1mmio6Pl9/tDxvx%2Bvzwej6Kjo6s1R0xMTK1u7QAA1HacwTpNXFyccnNzVVBQEBzLyspS69at1aBBAweTAQAAt6BgnaZdu3aKj4/XkiVLVFRUpJycHL300ksaPny409EAAIBLRM6bN2%2Be0yHCTY8ePbR27Vo98cQTWrdunYYMGaKxY8fK4/E4Hc2qBg0aqFu3bq45M%2Be2vJXcmNuNmSVyXy5uy1vJjbndmFlyb26bPOZiX9ENAACAEFwiBAAAsIyCBQAAYBkFCwAAwDIKFgAAgGUULAAAAMsoWAAAAJZRsAAAACyjYAEAAFhGwQIAALCMghXGDh48qNTUVCUmJiopKUmzZs3SkSNHJEl79uzRiBEj1KVLF/Xv318vvvhiyM%2BWlZXp6aefVtu2bfXOO%2B%2BEbPv66681Y8YMJScnq2vXrpo9e7aOHTt2ziy///3vdfvtt6tz584aPny4srOzz5j3/vvvV2xsrBISEsI27wMPPKD27dsrPj5e8fHxiouLU5cuXVyxzlu3btXAgQMVHx%2Bvzp07q3PnzmGduXKNT13r2NhYdenSJaxzFxQUaObMmUpKSlJCQoJSUlL0wAMPhP0xcup8nTt3Vq9evdStWzfHMxcXF2vGjBmKjY1VTk5OyDa/36%2BpU6cqKSlJ3bt319SpUzVx4sSwWOtz5ZakrKws9e7dWwkJCWGft7CwUGlpaUpOTlZiYqLGjh2rsWPHfqvcmzdv1t13361OnTrp9ttv1x//%2BMeQ7dV5vjjVxaxTWDMIW3feeaeZNWuWKSoqMrm5ueaHP/yhmTNnjiktLTU9evQwy5YtM8XFxSY7O9t069bNbNq0yRhjTHFxsRkyZIiZNWuWadOmjcnMzAyZd%2BTIkWbMmDHG5/OZ/Px8M3bsWDNv3ryz5ti6davp2rWr%2Bfjjj01paal57rnnTHJysikuLg7Zb9CgQaZjx46mQ4cOZv369WGbd8SIEebPf/6z69Z59%2B7dJiEhwWRmZppBgwaZYcOGmSFDhpivvvoqbDOfrm/fvqZjx44mPz8/rNd6ypQpZvTo0aagoMAcP37c3HzzzSY%2BPt4cPnw4rHOfOt/AgQNNjx49zGOPPeZo5kOHDpn%2B/fubRx991LRp08Z88cUXIdsnT55sxo8fb/Lz882hQ4fMD37wAzNw4EDH74/ny/3Xv/7V9OzZ03Ts2NEkJiaGfd4JEyaYMWPGmPz8fFNYWGg6depkkpOTLzj3J598YuLj481bb71lysrKzPbt20379u3Nv/71L2PMhT8mXOw6hTMKVpg6fPiwmTVrlvH5fMGxl19%2B2fTv399s2LDB3Hzzzaa8vDy4bdGiRWbMmDHGGGN8Pp9ZtWqVMcZUOSCLiopMbGxs8M5gjDF79%2B41HTt2NMePHz9jlvHjx5unnnoq%2BPeKigqTnJxs1q5dG5J30KBBZvr06aZ3797m/fffD9u8pxYsN63zrFmzzBNPPOGqzKcqKCgwCQkJJiMjI%2Bxz9%2B3b1/zhD38wxpw8RlJTU02bNm1Mbm5u2OY%2Bdb7KY%2BSf//xncD6nMu/Zs8e89dZb5sCBA1We%2BH0%2Bn2nbtq3Zs2dPcK1Hjx5tOnToYE6cOOHoWp8rtzHG/PGPfzR79%2B4199xzjxk8eHBwPBzzBgIB87Of/cx89tlnwXUeNWqUad%2B%2BvQkEAheUOzMz06Snp4fc9r333mtWrFhhjLmwxwRjzEWtU7jjEmGYioqK0oIFC9S0adPgWG5urmJiYrRr1y7FxsYqMjIyuK1du3bB07BNmzbVsGHDzjm/x%2BMJua2SkhIdOHDgjPvu2rVL7dq1C/49IiJCN910k7KyskKyFRYWas6cOa7Iu379et1xxx3q2bOncnNzVVJSEva5P/zwQzVu3FipqanavHmzJk%2BerF27doV15lNt27ZNN9xwg%2B6///7gWLjm7tWrl9atW6e8vDx5vV61atVKN910k5o3bx7WuSvnq3z8uOGGG4LzOZW5bdu26tev3xm37dmzR5GRkYqNjQ3OtWjRIpWWlurLL7%2BU5Nxanyu3JA0dOlStW7dW3759VadOneB4OOb1eDyaP3%2B%2B2rRpE5zrtttuU0xMTPA2qpv71ltvVWpqanBbeXm5fD5f8L5xIY8Jlftf7DqFKwqWS2RlZemVV17RpEmT5Pf7FRUVFbK9cePG8vv9CgQC55ynQYMGSkhI0PLly5Wfn6/Dhw9r2bJl8nq98vv9Z/wZv9%2BvRo0ahYw1atRIhYWFkiRjjB5//HE98sgjio6OliR9%2BeWXYZv3%2B9//vm688Ua9%2Buqr2rp1q6Kjo/Xggw/qxIkTYb3Ohw4d0po1a5SWlqbMzEy1bdtWEydO1I4dO8I2c6VAIKCVK1dqwoQJwbFwXutHH31UdevWVY8ePdSpUyetW7dOS5YskcfjCdvc55pv586djmU%2BF7/fr4YNG4YUicrfr7Cw0NG1/jbckvc///mPli5dqkmTJl107sWLF6t%2B/fq64447JFX/MaHSxaxTuKNgucCHH36osWPHavr06UpKSjrrfqc%2BSJ3LL3/5S9WrV08DBgzQ0KFDlZiYqDp16sjr9Z71Z4wxZ932pz/9ScYYDR06VJJ0/PhxLVq0KGzzzps3T2lpaWrcuLGio6P185//XAcPHtRrr70W1utsjNE999yjuLg4NWzYUDNnzlR%2Bfr7GjRsXtpkrZWZmqqysTH379pUU/sf0/PnzJUnbt2/Xhx9%2BqCFDhmjs2LF67733wjr3meaLiIjQggULHM18Lmf7fT7//HPH1/pChMMxXR05OTkaMWKE7r33Xg0dOvRb5zbGaNGiRVq7dq1WrFihevXqhWy7WNVdp3Bm58jCJdxjpfwAAAWNSURBVLNt2zbNnDlTc%2BfO1eDBgyVJ0dHR2r9/f8h%2Bfr9fjRs3VkTE%2BTvz1VdfrRUrVgT/XlhYqNLSUjVv3ly//vWvg9uuueYabdq0SU2aNKnyrya/368bb7xRBQUFWrp0qV544QV5PB5t27Yt%2BKQ/cuTIsMt7Jg0bNtQVV1yhxYsX6%2Bc//3lYrrMkNWvWLORfeh988IECgYDuvPPOsF/rjRs3qnfv3sFjJJyP6ZKSEv35z3/Wq6%2B%2BqquvvlqSNGnSJD3//PN66KGHNH/%2B/LDMfab53njjDZ04cULTp0937Bg5l%2BjoaBUVFamioiJ4iajy93vmmWf0%2BOOPO7bWF%2BLw4cMaP368o8d0dXz66acaN26cxowZowkTJnzr%2B2IgENDs2bP16aefatWqVWrRokVw33MdowcPHtSAAQOC4y%2B%2B%2BOJFr1M4c3f6Gm7nzp1KS0vT0qVLgwe/JMXFxemzzz5TeXl5cCwrK0sdOnSo1rzbt28PeQvve%2B%2B9p2uuuUZXXXWVHnroIWVlZSkrKyt4p42Liwu%2B1keSKioqtHv3bnXo0EGZmZny%2B/0aNWqUunTpooceekiS9Oqrr%2BqJJ54Iu7xFRUWaN2%2Be/ve//4XMf/ToUU2bNi1s11k6eWlzz549kk4eG48%2B%2Bqg8Ho/uuuuusM0snfzX7Ntvv63k5GRXHNOBQEDGmJDLEzt37lRJSYnGjBkTtrlPn2/nzp362c9%2BpujoaI0aNcqxzOdy0003yRijf//738Gx119/XZL07LPPOrrW1ZWbm6sDBw44fkyfz/79%2BzV%2B/HilpaVpwoQJF3VffOqpp7R3794q5ary5892jF577bXB3FlZWUpISLjodQprDrywHtVQVlZmBg4caF577bUq244fP2569%2B5tfvWrX5mSkhLz8ccfm65du5q33367yr5netdFWlqaeeCBB8zRo0fNV199Zfr27Wt%2B97vfnTVLZmam6dKli/noo49MSUmJWbZsmenZs6cpLS01JSUlJjc31xw4cMDcdttt5rnnnjO33nqrWb9%2BvfH7/WGX1xhjBg8ebCZPnmwKCwvN119/bTp16mRuvfVWU1FREbbrbIwxW7ZsMXFxcWbbtm1mwIAB5oEHHjD9%2B/c3ZWVlYZvZGGO%2B%2Buor06ZNG7N7925XHNPGnHynaeVb5I8ePWpuvvlm06FDB1NQUBDWuSvnKywsNP369TOJiYlV5rvcmSud7d14U6dONQ8%2B%2BKDJz883Bw4cMPHx8WbUqFFVfj7cchtz8nE6MTHR9OnTJ%2Bzzjh492ixZsiSY%2B9veF3fs2GESEhJC3sV8quo8JlzI7Z3Kbe8i9Bhj4WIprNuxY4d%2B/OMfq27dulW2bdy4UcXFxXr88ceVnZ2tpk2baty4cfrRj34k6eS/AOfOnStJOnHihOrUqSOPx6N77rlHTz75pAoLCzVr1iz985//VP369TV8%2BHClpqae85r3q6%2B%2BqpUrVyo/P1/x8fGaN29e8B0pp%2Bc99TbDMe9///tfPfXUU/rXv/6l0tJSHT9%2B3DXr/Ic//CH4wlePxyOv1xsyXzhm/uijjzRs2DCtWLFCkyZNcsVaf/3111q4cKHef/99FRcXq6SkJOSYDtfclfP94x//0PHjxxUZGRny7iwnMldezjLGqKysLDjfpEmT9NBDD%2Bno0aN6/PHH9fbbb8vj8ai4uDgsjpHz5b799tv1n//8J%2BTMi6TgfuGU995771WvXr2CY4FAIJj79OP6fLnnzJmjv/zlL1VeC5aQkBD8gNDzPSac7vPPP//W6xTOKFgAAACW8RosAAAAyyhYAAAAllGwAAAALKNgAQAAWEbBAgAAsIyCBQAAYBkFCwAAwDIKFgAAgGUULAAAAMsoWAAAAJZRsAAAACyjYAEAAFhGwQIAALDs/wECZ3mYVjUfGQAAAABJRU5ErkJggg%3D%3D\">\n",
              "</div>\n",
              "</div><div class=\"row variablerow\">\n",
              "    <div class=\"col-md-3 namecol\">\n",
              "        <p class=\"h4 pp-anchor\" id=\"pp_var_close\">close<br/>\n",
              "            <small>Numeric</small>\n",
              "        </p>\n",
              "    </div><div class=\"col-md-6\">\n",
              "    <div class=\"row\">\n",
              "        <div class=\"col-sm-6\">\n",
              "            <table class=\"stats \">\n",
              "                <tr>\n",
              "                    <th>Distinct count</th>\n",
              "                    <td>135</td>\n",
              "                </tr>\n",
              "                <tr>\n",
              "                    <th>Unique (%)</th>\n",
              "                    <td>67.5%</td>\n",
              "                </tr>\n",
              "                <tr class=\"ignore\">\n",
              "                    <th>Missing (%)</th>\n",
              "                    <td>0.0%</td>\n",
              "                </tr>\n",
              "                <tr class=\"ignore\">\n",
              "                    <th>Missing (n)</th>\n",
              "                    <td>0</td>\n",
              "                </tr>\n",
              "                <tr class=\"ignore\">\n",
              "                    <th>Infinite (%)</th>\n",
              "                    <td>0.0%</td>\n",
              "                </tr>\n",
              "                <tr class=\"ignore\">\n",
              "                    <th>Infinite (n)</th>\n",
              "                    <td>0</td>\n",
              "                </tr>\n",
              "            </table>\n",
              "\n",
              "        </div>\n",
              "        <div class=\"col-sm-6\">\n",
              "            <table class=\"stats \">\n",
              "\n",
              "                <tr>\n",
              "                    <th>Mean</th>\n",
              "                    <td>47674</td>\n",
              "                </tr>\n",
              "                <tr>\n",
              "                    <th>Minimum</th>\n",
              "                    <td>41200</td>\n",
              "                </tr>\n",
              "                <tr>\n",
              "                    <th>Maximum</th>\n",
              "                    <td>59500</td>\n",
              "                </tr>\n",
              "                <tr class=\"ignore\">\n",
              "                    <th>Zeros (%)</th>\n",
              "                    <td>0.0%</td>\n",
              "                </tr>\n",
              "            </table>\n",
              "        </div>\n",
              "    </div>\n",
              "</div>\n",
              "<div class=\"col-md-3 collapse in\" id=\"minihistogram4432605748325720348\">\n",
              "    <img src=\"data:image/png;base64,iVBORw0KGgoAAAANSUhEUgAAAMgAAABLCAYAAAA1fMjoAAAABHNCSVQICAgIfAhkiAAAAAlwSFlzAAAPYQAAD2EBqD%2BnaQAAADh0RVh0U29mdHdhcmUAbWF0cGxvdGxpYiB2ZXJzaW9uMy4xLjIsIGh0dHA6Ly9tYXRwbG90bGliLm9yZy8li6FKAAABN0lEQVR4nO3cwW2DQBBAUdtKSSkiPeXsnlxEelo3YH2BJcwG3rsj7eVrdiTgOsYYF%2BCl294HgJl97X2AvXz/PlY/83f/2eAkzMwEgSAQCIe4Yr1zXYIlTBAIAoEgEAgCgSAQCAKBIBAIAoEgEAgCgSAQCAKBIBAIAoEgEAgCgSAQCAKBcIhPbj9l7ae97/wFxd9W5mKCQBAIBIFAEAgES/qG/K/r/zNBIAgEwnRXLNcSZmKCQBAIBIFAmG4HYb1PvCN2ViYIBBPkhLwxvJwJAkEgEAQCQSAQLOksctbF3gSBIBAIAoFgB2EzR9hbTBAI1zHG2PsQMCsTBIJAIAgEgkAgCASCQCAIBIJAIAgEgkAgCASCQCAIBIJAIAgEgkAgCASCQCAIBIJAIAgEgkAgCASCQCAIBMITs%2B0h1Np51/EAAAAASUVORK5CYII%3D\">\n",
              "\n",
              "</div>\n",
              "<div class=\"col-md-12 text-right\">\n",
              "    <a role=\"button\" data-toggle=\"collapse\" data-target=\"#descriptives4432605748325720348,#minihistogram4432605748325720348\"\n",
              "       aria-expanded=\"false\" aria-controls=\"collapseExample\">\n",
              "        Toggle details\n",
              "    </a>\n",
              "</div>\n",
              "<div class=\"row collapse col-md-12\" id=\"descriptives4432605748325720348\">\n",
              "    <ul class=\"nav nav-tabs\" role=\"tablist\">\n",
              "        <li role=\"presentation\" class=\"active\"><a href=\"#quantiles4432605748325720348\"\n",
              "                                                  aria-controls=\"quantiles4432605748325720348\" role=\"tab\"\n",
              "                                                  data-toggle=\"tab\">Statistics</a></li>\n",
              "        <li role=\"presentation\"><a href=\"#histogram4432605748325720348\" aria-controls=\"histogram4432605748325720348\"\n",
              "                                   role=\"tab\" data-toggle=\"tab\">Histogram</a></li>\n",
              "        <li role=\"presentation\"><a href=\"#common4432605748325720348\" aria-controls=\"common4432605748325720348\"\n",
              "                                   role=\"tab\" data-toggle=\"tab\">Common Values</a></li>\n",
              "        <li role=\"presentation\"><a href=\"#extreme4432605748325720348\" aria-controls=\"extreme4432605748325720348\"\n",
              "                                   role=\"tab\" data-toggle=\"tab\">Extreme Values</a></li>\n",
              "\n",
              "    </ul>\n",
              "\n",
              "    <div class=\"tab-content\">\n",
              "        <div role=\"tabpanel\" class=\"tab-pane active row\" id=\"quantiles4432605748325720348\">\n",
              "            <div class=\"col-md-4 col-md-offset-1\">\n",
              "                <p class=\"h4\">Quantile statistics</p>\n",
              "                <table class=\"stats indent\">\n",
              "                    <tr>\n",
              "                        <th>Minimum</th>\n",
              "                        <td>41200</td>\n",
              "                    </tr>\n",
              "                    <tr>\n",
              "                        <th>5-th percentile</th>\n",
              "                        <td>42650</td>\n",
              "                    </tr>\n",
              "                    <tr>\n",
              "                        <th>Q1</th>\n",
              "                        <td>44638</td>\n",
              "                    </tr>\n",
              "                    <tr>\n",
              "                        <th>Median</th>\n",
              "                        <td>46600</td>\n",
              "                    </tr>\n",
              "                    <tr>\n",
              "                        <th>Q3</th>\n",
              "                        <td>50425</td>\n",
              "                    </tr>\n",
              "                    <tr>\n",
              "                        <th>95-th percentile</th>\n",
              "                        <td>55515</td>\n",
              "                    </tr>\n",
              "                    <tr>\n",
              "                        <th>Maximum</th>\n",
              "                        <td>59500</td>\n",
              "                    </tr>\n",
              "                    <tr>\n",
              "                        <th>Range</th>\n",
              "                        <td>18300</td>\n",
              "                    </tr>\n",
              "                    <tr>\n",
              "                        <th>Interquartile range</th>\n",
              "                        <td>5787.5</td>\n",
              "                    </tr>\n",
              "                </table>\n",
              "            </div>\n",
              "            <div class=\"col-md-4 col-md-offset-2\">\n",
              "                <p class=\"h4\">Descriptive statistics</p>\n",
              "                <table class=\"stats indent\">\n",
              "                    <tr>\n",
              "                        <th>Standard deviation</th>\n",
              "                        <td>4004.2</td>\n",
              "                    </tr>\n",
              "                    <tr>\n",
              "                        <th>Coef of variation</th>\n",
              "                        <td>0.08399</td>\n",
              "                    </tr>\n",
              "                    <tr>\n",
              "                        <th>Kurtosis</th>\n",
              "                        <td>-0.24059</td>\n",
              "                    </tr>\n",
              "                    <tr>\n",
              "                        <th>Mean</th>\n",
              "                        <td>47674</td>\n",
              "                    </tr>\n",
              "                    <tr>\n",
              "                        <th>MAD</th>\n",
              "                        <td>3331.1</td>\n",
              "                    </tr>\n",
              "                    <tr class=\"\">\n",
              "                        <th>Skewness</th>\n",
              "                        <td>0.75422</td>\n",
              "                    </tr>\n",
              "                    <tr>\n",
              "                        <th>Sum</th>\n",
              "                        <td>9534900</td>\n",
              "                    </tr>\n",
              "                    <tr>\n",
              "                        <th>Variance</th>\n",
              "                        <td>16033000</td>\n",
              "                    </tr>\n",
              "                    <tr>\n",
              "                        <th>Memory size</th>\n",
              "                        <td>1.7 KiB</td>\n",
              "                    </tr>\n",
              "                </table>\n",
              "            </div>\n",
              "        </div>\n",
              "        <div role=\"tabpanel\" class=\"tab-pane col-md-8 col-md-offset-2\" id=\"histogram4432605748325720348\">\n",
              "            <img src=\"data:image/png;base64,iVBORw0KGgoAAAANSUhEUgAAAlgAAAGQCAYAAAByNR6YAAAABHNCSVQICAgIfAhkiAAAAAlwSFlzAAAPYQAAD2EBqD%2BnaQAAADh0RVh0U29mdHdhcmUAbWF0cGxvdGxpYiB2ZXJzaW9uMy4xLjIsIGh0dHA6Ly9tYXRwbG90bGliLm9yZy8li6FKAAAgAElEQVR4nO3df1RXdZ7H8Rc/kkwEpQbdNUt3TBIQSVQKbRAs/LV6yh%2Bhe9rJKcsa0tWxxtKcdCxxjrpWkmXT5pRORTZuKkq25eaYyzRnJ0sgc/JHqzEYqBBqoAKf/cPxW18Bxfro5X7v83GOx8PnXq7vF/d78eX9fvkaZIwxAgAAgDXBTg8AAAAQaChYAAAAllGwAAAALKNgAQAAWEbBAgAAsIyCBQAAYBkFCwAAwDIKFgAAgGUULAAAAMsoWAAAAJZRsAAAACyjYAEAAFhGwQIAALCMggUAAGAZBQsAAMAyChYAAIBlFCwAAADLKFgAAACWUbAAAAAso2ABAABYRsECAACwjIIFAABgGQULAADAMgoWAACAZRQsAAAAyyhYAAAAllGwAAAALKNgAQAAWEbBAgAAsIyCBQAAYBkFCwAAwDIKFgAAgGUULAAAAMsoWAAAAJZRsAAAACyjYAEAAFhGwQIAALCMggUAAGAZBQsAAMCyUKcH8Iry8qNOj2BVcHCQoqLa6MiR46qvN06Pc1F5KatE3kDmpaySt/J6Kat0YXl/9KO2l2gqf9zBwvcSHBykoKAgBQcHOT3KReelrBJ5A5mXskreyuulrJI78lKwAAAALKNgAQAAWEbBAgAAsIyCBQAAYBkFCwAAwDIKFgAAgGUULAAAAMsoWAAAAJZRsAAAACyjYAEAAFhGwQIAALCMggUAAGAZBQsAAMCyUKcHAFqqoU9tc3qEC5I/tb/TIwAA/o47WAAAAJZRsAAAACyjYAEAAFhGwQIAALCMggUAAGAZBQsAAMAyChYAAIBlFCwAAADLKFgAAACWUbAAAAAso2ABAABYRsECAACwjIIFAABgGQULAADAMgoWAACAZRQsAAAAyyhYAAAAllGwAAAALKNgAQAAWEbBAgAAsCzU6QHgHUOf2ub0CAAAXBLcwQIAALCMggUAAGAZBQsAAMAyChYAAIBlFCwAAADLKFgAAACWUbAAAAAso2ABAABY5vmCNX/%2BfMXExPg%2BLigo0JgxY9S7d28NHz5c69atc3A6AADgRp5%2BJ/edO3dq7dq1vo/Lysr085//XLNmzdKIESP0l7/8RQ888IC6du2qnj17OjgpAABwE8/ewaqvr9fjjz%2BuCRMm%2BNbWr1%2BvLl26aMyYMQoLC1NKSorS09O1evVq5wYFAACu49k7WK%2B//rrCwsI0YsQIPfXUU5Kk4uJixcbG%2Bu0XGxur/Pz8Czp2WVmZysvL/dZCQ69QdHT0Dxu6BQkJCfb7Hc4LDbVzLrx2br2U10tZJW/l9VJWyR15PVmwDh06pKVLl2rlypV%2B65WVlerQoYPfWrt27VRRUXFBx8/NzVVOTo7fWlZWlqZMmfL9Bm7BIiJaOz0C/q59%2BzZWj%2Be1c%2BulvF7KKnkrr5eySi07rycLVnZ2tkaNGqVu3brpyy%2B/tH78zMxMpaen%2B62Fhl6hiorj1v8sp4SEBCsiorWqqqpVV1fv9DiQrD2%2BvHZuvZTXS1klb%2BX1UlbpwvLa/sdnc3muYBUUFGj79u3Ky8trsK19%2B/aqrKz0W6uoqFBUVNQF/RnR0dENng4sLz%2Bq2trAe9DX1dUHZC43sn0evHZuvZTXS1klb%2BX1UlapZef1XMFat26dDh8%2BrLS0NEmSMUaSlJycrLvvvrtB8SoqKlKvXr0u%2BZwAAMC9PFewHnnkEf3bv/2b7%2BODBw8qMzNTa9euVX19vZYvX67Vq1dr5MiR%2BtOf/qQtW7YoNzfXwYkBAIDbeK5gRUZGKjIy0vdxbW2tJKljx46SpOXLl%2BuJJ57Q3Llz1alTJy1cuFDXX3%2B9I7MCAAB38lzBOtvVV1%2BtXbt2%2BT7u27ev35uPAgAAXKiW%2BwYSAAAALkXBAgAAsIyCBQAAYBkFCwAAwDIKFgAAgGUULAAAAMsoWAAAAJZRsAAAACyjYAEAAFhGwQIAALCMggUAAGAZBQsAAMAyChYAAIBlFCwAAADLKFgAAACWUbAAAAAso2ABAABYRsECAACwjIIFAABgGQULAADAMgoWAACAZRQsAAAAyyhYAAAAllGwAAAALKNgAQAAWEbBAgAAsIyCBQAAYBkFCwAAwDIKFgAAgGUULAAAAMsoWAAAAJZRsAAAACyjYAEAAFhGwQIAALCMggUAAGAZBQsAAMAyChYAAIBlFCwAAADLKFgAAACWUbAAAAAso2ABAABYRsECAACwjIIFAABgGQULAADAMgoWAACAZRQsAAAAyyhYAAAAllGwAAAALKNgAQAAWEbBAgAAsIyCBQAAYBkFCwAAwDIKFgAAgGUULAAAAMsoWAAAAJZRsAAAACzzbMH67LPPdNdddykpKUkpKSmaOnWqysvLJUkFBQUaM2aMevfureHDh2vdunUOTwsAANzEkwXr5MmTuvvuu9WvXz8VFBQoLy9Phw8f1pw5c1RWVqaf//znGjdunAoKCjRr1izNnj1bhYWFTo8NAABcwpMFq7q6WtOmTdOkSZPUqlUrRUVF6dZbb9Xnn3%2Bu9evXq0uXLhozZozCwsKUkpKi9PR0rV692umxAQCAS3iyYEVGRmrs2LEKDQ2VJO3du1f/%2BZ//qaFDh6q4uFixsbF%2B%2B8fGxqqoqMiJUQEAgAuFOj2Ak0pKSjR48GDV1tbqjjvu0JQpU3TvvfeqQ4cOfvu1a9dOFRUVzT5uWVmZ7/VcZ4SGXqHo6Ggrc7cEISHBfr/DeaGhds6F186tl/J6Kavkrbxeyiq5I6%2BnC1anTp1UWFio//u//9OvfvUr/fKXv7Ry3NzcXOXk5PitZWVlacqUKVaO35JERLR2egT8Xfv2bawez2vn1kt5vZRV8lZeL2WVWnZeTxcsSQoKClKXLl00bdo0jRs3TqmpqaqsrPTbp6KiQlFRUc0%2BZmZmptLT0/3WQkOvUEXFcSsztwQhIcGKiGitqqpq1dXVOz0OJGuPL6%2BdWy/l9VJWyVt5vZRVurC8tv/x2VyeLFgFBQWaM2eO8vPzFRx8%2Bvbimd8TEhK0adMmv/2LiorUq1evZh8/Ojq6wdOB5eVHVVsbeA/6urr6gMzlRrbPg9fOrZfyeimr5K28Xsoqtey8LffJy4soPj5ex44d08KFC1VdXa0jR45o6dKl6tOnj8aPH6%2BSkhKtXr1aJ06c0JYtW7RlyxbdcccdTo8NAABcwpMFq23btnrppZdUVFSkG2%2B8UcOHD1fbtm317//%2B77ryyiu1fPlyrVq1SklJSZo/f74WLlyo66%2B/3umxAQCAS3jyKUJJiomJ0cqVKxvd1rdvX61du/YSTwQAAAKFJ%2B9gAQAAXEwULAAAAMsoWAAAAJZRsAAAACxzVcFKT09XTk6OSktLnR4FAACgSa4qWKNHj9bGjRt1yy23aOLEiXrnnXdUW1vr9FgAAAB%2BXFWwsrKytHHjRr3xxhu67rrrNH/%2BfKWmpmrhwoXat2%2Bf0%2BMBAABIclnBOiMuLk4zZszQf//3f2vmzJl64403NGzYMN1zzz3asWOH0%2BMBAACPc2XBOnXqlDZu3Kh7771XM2bMUIcOHfToo4%2BqR48emjBhgtavX%2B/0iAAAwMNc9U7ue/bs0Ztvvqm33npLx48f1%2BDBg/Xyyy8rKSnJt0/fvn01Z84cjRgxwsFJAQCAl7mqYA0fPlxdu3bVpEmTdNttt6ldu3YN9klNTdWRI0ccmA4AAOA0VxWsV155Rf369Tvvfp988sklmAYAAKBxrnoNVkxMjO6//369%2B%2B67vrXf/e53uvfee1VZWengZAAAAN9yVcHKzs7W0aNH1a1bN9/awIEDVV9frwULFjg4GQAAwLdc9RThBx98oPXr16t9%2B/a%2BtS5dumjRokX653/%2BZwcnAwAA%2BJar7mDV1NQoLCyswXpwcLCqq6sdmAgAAKAhVxWsvn37asGCBfr66699a1999ZXmzp3r91YNAAAATnLVU4QzZ87U3XffrZtuuknh4eGqr6/X8ePH1blzZ61cudLp8QAAACS5rGB17txZGzZs0B//%2BEft379fwcHB6tq1qwYMGKCQkBCnxwMAAJDksoIlSa1atdItt9zi9BgAAABNclXBOnDggBYvXqzPP/9cNTU1Dba/9957DkwFAADgz1UFa%2BbMmSorK9OAAQN0xRVXOD0OAABAo1xVsIqKivTee%2B8pKirK6VEAAACa5Kq3abjyyiu5cwUAAFo8VxWsSZMmKScnR8YYp0cBAABokqueIvzjH/%2Bojz76SGvWrNHVV1%2Bt4GD/fvj66687NBkAAMC3XFWwwsPD9ZOf/MTpMQAAAM7JVQUrOzvb6REAAADOy1WvwZKkvXv3aunSpXr00Ud9a9u3b3dwIgAAAH%2BuKlgFBQUaOXKk3nnnHeXl5Uk6/eajP/3pT3mTUQAA0GK4qmAtWbJEDz/8sNavX6%2BgoCBJp/9/wgULFujZZ591eDoAAIDTXFWw/vrXv2r8%2BPGS5CtYkjRkyBDt2bPHqbEAAAD8uKpgtW3bttH/g7CsrEytWrVyYCIAAICGXFWwevfurfnz5%2BvYsWO%2BtX379mnGjBm66aabHJwMAADgW656m4ZHH31Ud911l5KTk1VXV6fevXururpa1113nRYsWOD0eICjhj61zekRmi1/an%2BnR7ggbvraSu77%2BgKByFUFq2PHjsrLy9OWLVu0b98%2BXX755eratav69%2B/v95osAAAAJ7mqYEnSZZddpltuucXpMQAAAJrkqoKVnp5%2BzjtVvBcWAABoCVxVsIYNG%2BZXsOrq6rRv3z4VFhbqrrvucnAyAACAb7mqYD300EONrm/atEkffvjhJZ4GAACgca56m4am3HLLLdqwYYPTYwAAAEgKkIL16aefyhjj9BgAAACSXPYU4bhx4xqsVVdXa8%2BePcrIyHBgIgAAgIZcVbC6dOnS4KcIw8LCNGbMGI0dO9ahqQAAAPy5qmDxbu0AAMANXFWw3nrrrWbve9ttt13ESQAAAJrmqoI1a9Ys1dfXN3hBe1BQkN9aUFAQBQsAADjGVQXrxRdf1EsvvaT7779fMTExMsZo165d%2Bu1vf6s777xTycnJTo8IAADgroK1YMECvfDCC%2BrQoYNvrU%2BfPurcubPuuece5eXlOTgdAADAaa56H6wvvvhCkZGRDdYjIiJUUlLiwEQAAAANuapgderUSQsWLFBFRYVvraqqSosXL9Y111zj4GQAAADfctVThDNnztT06dOVm5urNm3aKDg4WMeOHdPll1%2BuZ5991unxAAAAJLmsYA0YMEDvv/%2B%2BtmzZooMHD8oYow4dOujmm29W27ZtnR4PAABAkssKliS1bt1agwYN0sGDB9W5c2enxwEAAGjAVa/Bqqmp0YwZM3TDDTdo6NChkk6/BmvixImqqqpyeDoAAIDTXFWwFi5cqJ07d2rRokUKDv529Lq6Oi1atMjByQAAAL7lqoK1adMmPfPMMxoyZIjvP32OiIhQdna23nnnHYenAwAAOM1VBev48ePq0qVLg/WoqCh98803F3SskpISZWVlKTk5WSkpKXrkkUd8TzPu3LlTd955p5KSkpSRkaGXXnrJxvgAAMAjXFWwrrnmGn344YeS5Pd/D7799tv6x3/8xws61v3336%2BIiAht3rxZa9as0eeff67f/OY3qqmp0aRJk3TjjTdq69atWrJkiZYvX84dMgAA0Gyu%2BinCf/mXf9HkyZM1evRo1dfXa8WKFSoqKtKmTZs0a9asZh%2BnqqpK8fHxmj59utq0aaM2bdro9ttv18qVK/X%2B%2B%2B/r1KlTeuCBBxQSEqK4uDiNHTtWubm5ysjIuIjpAABAoHBVwcrMzFRoaKhWrVqlkJAQPf/88%2BratasWLVqkIUOGNPs4Z1639V2lpaWKjo5WcXGxYmJiFBIS4tsWGxur1atXW8sBAAACm6sK1pEjRzR69GiNHj3a6nELCwu1atUqPffcc8rPz1dERITf9nbt2qmyslL19fV%2BP73YlLKyMpWXl/uthYZeoejoaKtzOykkJNjvd%2BBChIa2nMdNID6Wm/r6BmLWc/FSXi9lldyR11UFa9CgQfroo498P0Fow1/%2B8hc98MADmj59ulJSUpSfn9/ofhfyZ%2Bbm5ionJ8dvLSsrS1OmTPlBs7ZEERGtnR4BLtS%2BfRunR2ggkB7L5/v6BlLW5vBSXi9llVp2XlcVrOTkZOXn52vYsGFWjrd582Y9/PDDmj17tm677TZJp38i8YsvvvDbr7KyUu3atWvW3Svp9FOZ6enpfmuhoVeoouK4lblbgpCQYEVEtFZVVbXq6uqdHgcu05KuhUB8LDf19Q3ErOfipbxeyipdWF6n/kHnqoL1D//wD3ryySf1wgsv6JprrtFll13mt33x4sXNPtZHH32kGTNm6Omnn9aAAQN86/Hx8XrttddUW1ur0NDTX57CwkL16tWr2ceOjo5u8HRgeflR1dYG3oO%2Brq4%2BIHPh4mqJj5lAeiyfL0cgZW0OL%2BX1UlapZedtuU9eNmL37t36p3/6J7Vt21YVFRUqKyvz%2B9VctbW1euyxx/TQQw/5lStJSk1NVXh4uJ577jlVV1frk08%2B0Ztvvqnx48fbjgMAAAKUK%2B5gTZs2TUuWLNHKlSt9a88%2B%2B6yysrK%2B1/E%2B/vhj7dmzR0888YSeeOIJv21vv/22nn/%2BeT3%2B%2BON64YUXdNVVV2natGkaOHDgD4kAAAA8xBUFa/PmzQ3WXnjhhe9dsPr06aNdu3adc5/XXnvtex0bAADAFQXru%2B/afq41AO4w9KltTo8AABeVK16D1dhbJNh8qwYAAACbXFGwAAAA3ISCBQAAYJkrXoN16tQpTZ8%2B/bxrF/I%2BWAAAABeLKwpWUlJSg/e5amwNAACgJXBFwfru%2B18BAAC0dLwGCwAAwDIKFgAAgGUULAAAAMsoWAAAAJZRsAAAACyjYAEAAFhGwQIAALCMggUAAGAZBQsAAMAyChYAAIBlFCwAAADLKFgAAACWUbAAAAAso2ABAABYFur0APhhhj61zekRAADAWbiDBQAAYBkFCwAAwDIKFgAAgGUULAAAAMsoWAAAAJZRsAAAACyjYAEAAFhGwQIAALCMggUAAGAZBQsAAMAyChYAAIBlFCwAAADLKFgAAACWUbAAAAAso2ABAABYRsECAACwjIIFAABgGQULAADAMgoWAACAZRQsAAAAyyhYAAAAllGwAAAALKNgAQAAWEbBAgAAsIyCBQAAYBkFCwAAwLJQpwcAANg19KltTo/QbPlT%2Bzs9AnBRcAcLAADAMgoWAACAZRQsAAAAyyhYAAAAllGwAAAALKNgAQAAWEbBAgAAsIyCBQAAYJlnC9bWrVuVkpKiadOmNdi2ceNGjRgxQjfccINGjRqlDz74wIEJAQCAW3nyndx/%2B9vf6s0339S1117bYNvOnTs1Y8YM5eTk6MYbb9SmTZv04IMP6u2331bHjh0dmBYAALiNJ%2B9ghYWFNVmwVq9erdTUVKWmpiosLEwjR45U9%2B7dtW7dOgcmBQAAbuTJO1g//elPm9xWXFys1NRUv7XY2FgVFhY2%2B/hlZWUqLy/3WwsNvULR0dEXNigABLjQ0Iv37/yQkGC/3wOZl7JK7sjryYJ1LpWVlYqMjPRbi4yM1O7du5t9jNzcXOXk5PitZWVlacqUKVZmBIBAceuirU6PcEH%2B98khTo9wThERrZ0e4ZJqyXkpWI0wxvygz8/MzFR6errfWmjoFaqoOP6DjgsAcFZL/T4eEhKsiIjWqqqqVl1dvdPjXHQXkrd9%2BzaXaCp/FKyztG/fXpWVlX5rlZWVioqKavYxoqOjGzwdWF5%2BVLW1gf%2BgB4BA1tK/j9fV1bf4GW1qyXlb7pOXDomPj1dRUZHfWmFhoXr16uXQRAAAwG0oWGe544479D//8z96//33deLECb355pv64osvNHLkSKdHAwAALuHJpwh79uwpSaqtrZUkvfvuu5JO36nq3r27Fi1apOzsbJWUlKhbt25avny5fvSjHzk2LwAAcBdPFqzzveVCRkaGMjIyLtE0AAAg0PAUIQAAgGUULAAAAMsoWAAAAJZRsAAAACyjYAEAAFhGwQIAALCMggUAAGAZBQsAAMAyChYAAIBlFCwAAADLKFgAAACWUbAAAAAso2ABAABYRsECAACwjIIFAABgGQULAADAMgoWAACAZRQsAAAAyyhYAAAAllGwAAAALAt1egAAANxi6FPbnB7hguRP7e/0CJ7FHSwAAADLKFgAAACWUbAAAAAso2ABAABYRsECAACwjIIFAABgGQULAADAMgoWAACAZRQsAAAAyyhYAAAAllGwAAAALKNgAQAAWEbBAgAAsIyCBQAAYBkFCwAAwDIKFgAAgGUULAAAAMsoWAAAAJZRsAAAACyjYAEAAFhGwQIAALCMggUAAGAZBQsAAMAyChYAAIBlFCwAAADLKFgAAACWhTo9AAAAuDiGPrXN6RGaLX9qf6dHsIo7WAAAAJZRsAAAACyjYAEAAFhGwQIAALCMggUAAGAZBQsAAMAyChYAAIBlFCwAAADLKFgAAACWUbAaUVJSovvuu0/JyclKS0vTwoULVV9f7/RYAADAJfivchoxefJkxcXF6d1339Xhw4c1adIkXXXVVfrZz37m9GgAAMAFuIN1lsLCQn322Wd66KGH1LZtW3Xp0kUTJkxQbm6u06MBAACX4A7WWYqLi9WpUydFRkb61uLi4rRv3z4dO3ZM4eHh5z1GWVmZysvL/dZCQ69QdHS09XkBAAgEoaHNv%2BcTEhLs93tLRME6S2VlpSIiIvzWzpStioqKZhWs3Nxc5eTk%2BK09%2BOCDmjx5sr1B/%2B5/nxxi/ZjNUVZWptzcXGVmZgZ8cfRSVom8gcxLWSVv5fVSVul03pdffrFF52251c9Bxpgf9PmZmZlas2aN36/MzExL07UM5eXlysnJaXCnLhB5KatE3kDmpaySt/J6KavkjrzcwTpLVFSUKisr/dYqKysVFBSkqKioZh0jOjq6xTZqAABw8XEH6yzx8fEqLS3VkSNHfGuFhYXq1q2b2rRp4%2BBkAADALShYZ4mNjVXPnj21ePFiHTt2THv27NGKFSs0fvx4p0cDAAAuETJnzpw5Tg/R0tx8883Ky8vTvHnztGHDBo0ZM0b33HOPgoKCnB6tRWnTpo369evniTt7XsoqkTeQeSmr5K28Xsoqtfy8QeaHvqIbAAAAfniKEAAAwDIKFgAAgGUULAAAAMsoWAAAAJZRsAAAACyjYAEAAFhGwQIAALCMggUAAGAZBQsAAMAyCpbHzZ8/XzExMb6P//znPyszM1O9e/dWenq6li1b5tu2Zs0aXX/99erZs6ffrx07dkiS6uvrtWTJEg0aNEh9%2B/bVPffcowMHDvg%2Bv7KyUlOnTlVKSooGDBigWbNmqaamxpGsH374oWJiYhpkyc/P9%2B3/yiuvaPDgwerdu7fGjx%2BvoqIi37YTJ07oV7/6lX7yk58oOTlZU6ZMUUVFhW97SUmJ7rvvPiUnJystLU0LFy5UfX39Jcsq%2BeddtmxZg6xxcXH613/9V0nS0qVL1aNHjwb7HDp0qEXnjYmJUXx8vN/M8%2BbNkyQVFBRozJgx6t27t4YPH65169b5fa7bzu%2B5sgbiddtU3kC9dpvKG6jX7nPPPacBAwYoMTFREyZM0JdffikpwK5bA8/69NNPTb9%2B/Uz37t2NMcaUlJSYxMRE8%2Bqrr5qTJ0%2BaTz75xCQlJZm33nrLGGPMH/7wB3PnnXc2ebxXXnnFpKWlmd27d5ujR4%2BaX//612bEiBGmvr7eGGPMgw8%2BaO677z5z%2BPBhc/DgQZOZmWnmzZt38YOahln/9Kc/mbS0tCb3f%2B%2B990yfPn3Mxx9/bKqrq83y5ctN//79zfHjx40xxmRnZ5tRo0aZv/3tb6aiosI8%2BOCDZtKkSb7Pv/32281jjz1mqqqqzL59%2B0xGRoZ56aWXLm7I7zg7b2Puvvtu8/vf/94YY8wzzzxjZsyY0eS%2BLTVv9%2B7dzYEDBxqsf/XVVyYxMdGsXr3a1NTUmG3btpmEhASzY8cOY4w7z29TWQP1um0qb6Beu03lbYzbr91Vq1aZIUOGmD179pijR4%2BaefPmmXnz5gXcdUvB8qi6ujozduxYs2zZMt9fwp988ol54okn/PabPHmyeeyxx4wx5/9GPXz4cPPyyy/7Pj569KiJjY0127dvN%2BXl5eb66683O3fu9G3fsmWLSUxMNCdPnrQZrYHGsp7vm/R9991n5s%2Bf73eM/v37m7y8PHPq1CmTlJRk3n33Xd/23bt3m5iYGHPw4EGzY8cO06NHD1NZWenb/uqrr5rBgwdfhHQNNZb3bPn5%2BWbEiBGmtrbWGHPub9ItOW9Tfym9%2BOKL5rbbbvNbmzp1qpk9e7Yxxp3nt6msgXrdft%2BC5cZza0zzC1YgXLvp6elm06ZNDdYD7brlKUKPev311xUWFqYRI0b41hISEjRr1iy//UpLS9WhQwe/j3/2s5%2Bpb9%2B%2BGjRokNauXStJqqmp0e7duxUbG%2BvbNzw8XNdee60KCwu1c%2BdOhYSE%2BD0dGRcXp2%2B%2B%2BUZ79%2B69WDElNZ5Vko4fP66srCwlJyfr5ptv1ooVK2T%2B/n%2BfFxcX%2B2UJDg5Wjx49VFhYqP379%2Bvo0aOKi4vzbf/xj3%2Bsyy%2B/XMXFxSouLlanTp0UGRnpl3Xfvn06duzYRc0qNZ33jLq6Oi1atEjTp09XSEiIb33Xrl0aN26c79b8Bx98IEktPu/ixYs1cOBA9enTR7Nnz9bx48cbnD9Jio2N9T2d4Nbz21jWQL1upcbzSoF77TaV94xAuHa/%2Buorffnll/r66681bNgw31N5R44cCbjrloLlQYcOHdLSpUv1%2BOOPn3O/lStXav/%2B/Ro3bpwkKSoqSl26dNHDDz%2Bsbdu26Re/%2BIVmzpypgoICff311zLG%2BD14JSkyMlIVFRWqrKxUeHi4goKC/LZJ8nuO3LamsoaHh6t79%2B666667tHXrVmVnZysnJ0d/%2BLrZe9cAAAaUSURBVMMfJJ1%2B3cm5skhSRESE3/aIiAjf9rO3XYqsUvPObV5ensLDw5Wamupb69ixozp37qzf/OY32rZtm8aOHav7779fe/fubdF5ExMTlZKSonfeeUe5ubn6%2BOOPNXfu3EZnateunW8eN57fprKeLRCuW6npvIF67Tbn/AbCtXvw4EFJ0ttvv60VK1Zo7dq1OnjwoB577LGAu24pWB6UnZ2tUaNGqVu3bk3us2rVKj399NNatmyZrrrqKknSwIED9eKLLyo2NlatWrXS8OHDdeutt2rNmjW%2Bzzvzr8jGnGvbxdJU1ri4OK1cuVL9%2BvVTq1atNGDAAI0bN67ZWc633YmsUvPO7csvv%2Bx7gewZY8eO1TPPPKNrr71WrVu31oQJE9SjRw%2B/F5i2xLy5ubkaO3asWrVqpR//%2BMd66KGHlJeXp1OnTp33c912fpvKevLkSd8%2BgXLdSk3nve666wLy2m3O%2BQ2Ea/fMnzdx4kR16NBBHTt21OTJk7V58%2BYL%2Bvzvs/1SZ6VgeUxBQYG2b9%2BurKysJvdZsmSJnn/%2Beb3yyitKSko65/E6deqksrIytWvXTsHBwb5/RZxRWVmpK6%2B8UlFRUTp27Jjq6ur8tknSlVde%2BQMSNa05Wb/rTBZJat%2B%2BfaNZoqKiFBUV5fv4u77%2B%2Bmtf1sY%2BNygoyPe5F0Nz8h44cEA7d%2B5UWlraeY935uvRUvM25uqrr1ZdXV2jj8WKigrfPG48v2c7k/Xw4cOSAue6bcrZeb/L7dduY87OGyjX7pni/927SZ06dZIxRqdOnQqo65aC5THr1q3T4cOHlZaWpuTkZI0aNUqSlJycrA0bNmjFihXKy8tTbm5ug%2BfCX3vtNW3cuNFvbc%2BePercubPCwsJ03XXXqbi42LetqqpK%2B/fvV0JCgnr06CFjjD777DPf9sLCQkVERKhr166XPOtbb72lV1991W//vXv3qnPnzpKk%2BPh4vyx1dXX69NNP1atXL3Xu3FmRkZF%2B2//617/q5MmTio%2BPV3x8vEpLS3XkyBG/rN26dVObNm0uStbz5d2wYYMk6b333lOPHj0afENZtmyZCgoK/NbOnNuWmvfTTz/VggULGszcqlUrpaam%2Bv34tiQVFRWpV69ektx3fs%2BVNTo6OqCuW%2Bncebdv3x5w1%2B75zq8UONdux44dFR4erp07d/rWSkpKdNlllwXcdctPEXpMZWWlKS0t9f3avn276d69uyktLTWff/65SUxMNLt27Wr0c3/3u9%2BZG2%2B80ezYscOcPHnSrF%2B/3vTo0cMUFhYaY07/RMbAgQN9P%2B49e/ZsM3r0aN/nT5061UycONEcPnzYlJaWmtGjR5sFCxY4kvW//uu/TEJCgtm6das5efKk%2BeCDD0xiYqLvJ1u2bNlikpKSzPbt280333xjli5dalJTU011dbUxxpiFCxea22%2B/3fztb38zR44cMZMmTTKTJ0/2/dljx441M2fONEePHjW7d%2B826enpZtWqVRct6/nyfvPNN8YYY375y1/6zXnGk08%2BaQYPHmz27NljampqzH/8x3%2BYhIQEU1pa2mLzHjx40CQmJprly5ebEydOmL1795phw4aZefPmmUOHDpkbbrjBvPHGG6ampsa8//77JiEhwffTcG47v%2BfKun///oC6bs%2BXNxCv3XPlPSOQrt358%2BebQYMGmS%2B%2B%2BMIcOnTIZGZmmkceeSTgrlsKlscdOHDA96P8OTk5JiYmxsTHx/v9ysjIMMYYU19fb5599lmTlpZm4uPjzZAhQ8zmzZt9x6qvrzdPP/20uemmm0xCQoK59957fRe5McZUVVWZadOmmcTERNO3b18zd%2B5cc%2BLECUeyGmPM66%2B/bjIyMkzPnj1NWlqaeeONN/z2//3vf29SU1NNfHy8GT9%2BvN9fYCdOnDBz5swxffv2NTfccIP5xS9%2BYaqqqnzbS0tLzcSJE01CQoJJSUkxzzzzjO99hS6Vs/Mac/r9c%2BbOndtg35qaGvPkk0%2Bam2%2B%2B2fTs2dPcfvvt5qOPPvJtb6l5//znP5vMzEyTmJho%2BvXrZ7Kzs01NTY1v28iRI01cXJzJyMho8GPhbju/TWUN1Ov2XOc2EK/dc%2BU1JrCu3e/OlJiYaGbMmGGOHTtmjAms6zbIGIde0QcAABCgeA0WAACAZRQsAAAAyyhYAAAAllGwAAAALKNgAQAAWEbBAgAAsIyCBQAAYBkFCwAAwDIKFgAAgGUULAAAAMsoWAAAAJZRsAAAACyjYAEAAFj2/yqhbbyycSIBAAAAAElFTkSuQmCC\"/>\n",
              "        </div>\n",
              "        <div role=\"tabpanel\" class=\"tab-pane col-md-12\" id=\"common4432605748325720348\">\n",
              "            \n",
              "<table class=\"freq table table-hover\">\n",
              "    <thead>\n",
              "    <tr>\n",
              "        <td class=\"fillremaining\">Value</td>\n",
              "        <td class=\"number\">Count</td>\n",
              "        <td class=\"number\">Frequency (%)</td>\n",
              "        <td style=\"min-width:200px\">&nbsp;</td>\n",
              "    </tr>\n",
              "    </thead>\n",
              "    <tr class=\"\">\n",
              "        <td class=\"fillremaining\">50400.0</td>\n",
              "        <td class=\"number\">4</td>\n",
              "        <td class=\"number\">2.0%</td>\n",
              "        <td>\n",
              "            <div class=\"bar\" style=\"width:3%\">&nbsp;</div>\n",
              "        </td>\n",
              "</tr><tr class=\"\">\n",
              "        <td class=\"fillremaining\">51200.0</td>\n",
              "        <td class=\"number\">4</td>\n",
              "        <td class=\"number\">2.0%</td>\n",
              "        <td>\n",
              "            <div class=\"bar\" style=\"width:3%\">&nbsp;</div>\n",
              "        </td>\n",
              "</tr><tr class=\"\">\n",
              "        <td class=\"fillremaining\">44850.0</td>\n",
              "        <td class=\"number\">4</td>\n",
              "        <td class=\"number\">2.0%</td>\n",
              "        <td>\n",
              "            <div class=\"bar\" style=\"width:3%\">&nbsp;</div>\n",
              "        </td>\n",
              "</tr><tr class=\"\">\n",
              "        <td class=\"fillremaining\">45350.0</td>\n",
              "        <td class=\"number\">4</td>\n",
              "        <td class=\"number\">2.0%</td>\n",
              "        <td>\n",
              "            <div class=\"bar\" style=\"width:3%\">&nbsp;</div>\n",
              "        </td>\n",
              "</tr><tr class=\"\">\n",
              "        <td class=\"fillremaining\">42650.0</td>\n",
              "        <td class=\"number\">4</td>\n",
              "        <td class=\"number\">2.0%</td>\n",
              "        <td>\n",
              "            <div class=\"bar\" style=\"width:3%\">&nbsp;</div>\n",
              "        </td>\n",
              "</tr><tr class=\"\">\n",
              "        <td class=\"fillremaining\">45700.0</td>\n",
              "        <td class=\"number\">3</td>\n",
              "        <td class=\"number\">1.5%</td>\n",
              "        <td>\n",
              "            <div class=\"bar\" style=\"width:2%\">&nbsp;</div>\n",
              "        </td>\n",
              "</tr><tr class=\"\">\n",
              "        <td class=\"fillremaining\">45500.0</td>\n",
              "        <td class=\"number\">3</td>\n",
              "        <td class=\"number\">1.5%</td>\n",
              "        <td>\n",
              "            <div class=\"bar\" style=\"width:2%\">&nbsp;</div>\n",
              "        </td>\n",
              "</tr><tr class=\"\">\n",
              "        <td class=\"fillremaining\">55500.0</td>\n",
              "        <td class=\"number\">3</td>\n",
              "        <td class=\"number\">1.5%</td>\n",
              "        <td>\n",
              "            <div class=\"bar\" style=\"width:2%\">&nbsp;</div>\n",
              "        </td>\n",
              "</tr><tr class=\"\">\n",
              "        <td class=\"fillremaining\">43900.0</td>\n",
              "        <td class=\"number\">3</td>\n",
              "        <td class=\"number\">1.5%</td>\n",
              "        <td>\n",
              "            <div class=\"bar\" style=\"width:2%\">&nbsp;</div>\n",
              "        </td>\n",
              "</tr><tr class=\"\">\n",
              "        <td class=\"fillremaining\">42550.0</td>\n",
              "        <td class=\"number\">3</td>\n",
              "        <td class=\"number\">1.5%</td>\n",
              "        <td>\n",
              "            <div class=\"bar\" style=\"width:2%\">&nbsp;</div>\n",
              "        </td>\n",
              "</tr><tr class=\"other\">\n",
              "        <td class=\"fillremaining\">Other values (125)</td>\n",
              "        <td class=\"number\">165</td>\n",
              "        <td class=\"number\">82.5%</td>\n",
              "        <td>\n",
              "            <div class=\"bar\" style=\"width:100%\">&nbsp;</div>\n",
              "        </td>\n",
              "</tr>\n",
              "</table>\n",
              "        </div>\n",
              "        <div role=\"tabpanel\" class=\"tab-pane col-md-12\"  id=\"extreme4432605748325720348\">\n",
              "            <p class=\"h4\">Minimum 5 values</p>\n",
              "            \n",
              "<table class=\"freq table table-hover\">\n",
              "    <thead>\n",
              "    <tr>\n",
              "        <td class=\"fillremaining\">Value</td>\n",
              "        <td class=\"number\">Count</td>\n",
              "        <td class=\"number\">Frequency (%)</td>\n",
              "        <td style=\"min-width:200px\">&nbsp;</td>\n",
              "    </tr>\n",
              "    </thead>\n",
              "    <tr class=\"\">\n",
              "        <td class=\"fillremaining\">41200.0</td>\n",
              "        <td class=\"number\">1</td>\n",
              "        <td class=\"number\">0.5%</td>\n",
              "        <td>\n",
              "            <div class=\"bar\" style=\"width:100%\">&nbsp;</div>\n",
              "        </td>\n",
              "</tr><tr class=\"\">\n",
              "        <td class=\"fillremaining\">41550.0</td>\n",
              "        <td class=\"number\">1</td>\n",
              "        <td class=\"number\">0.5%</td>\n",
              "        <td>\n",
              "            <div class=\"bar\" style=\"width:100%\">&nbsp;</div>\n",
              "        </td>\n",
              "</tr><tr class=\"\">\n",
              "        <td class=\"fillremaining\">41800.0</td>\n",
              "        <td class=\"number\">1</td>\n",
              "        <td class=\"number\">0.5%</td>\n",
              "        <td>\n",
              "            <div class=\"bar\" style=\"width:100%\">&nbsp;</div>\n",
              "        </td>\n",
              "</tr><tr class=\"\">\n",
              "        <td class=\"fillremaining\">42000.0</td>\n",
              "        <td class=\"number\">1</td>\n",
              "        <td class=\"number\">0.5%</td>\n",
              "        <td>\n",
              "            <div class=\"bar\" style=\"width:100%\">&nbsp;</div>\n",
              "        </td>\n",
              "</tr><tr class=\"\">\n",
              "        <td class=\"fillremaining\">42450.0</td>\n",
              "        <td class=\"number\">1</td>\n",
              "        <td class=\"number\">0.5%</td>\n",
              "        <td>\n",
              "            <div class=\"bar\" style=\"width:100%\">&nbsp;</div>\n",
              "        </td>\n",
              "</tr>\n",
              "</table>\n",
              "            <p class=\"h4\">Maximum 5 values</p>\n",
              "            \n",
              "<table class=\"freq table table-hover\">\n",
              "    <thead>\n",
              "    <tr>\n",
              "        <td class=\"fillremaining\">Value</td>\n",
              "        <td class=\"number\">Count</td>\n",
              "        <td class=\"number\">Frequency (%)</td>\n",
              "        <td style=\"min-width:200px\">&nbsp;</td>\n",
              "    </tr>\n",
              "    </thead>\n",
              "    <tr class=\"\">\n",
              "        <td class=\"fillremaining\">56500.0</td>\n",
              "        <td class=\"number\">1</td>\n",
              "        <td class=\"number\">0.5%</td>\n",
              "        <td>\n",
              "            <div class=\"bar\" style=\"width:100%\">&nbsp;</div>\n",
              "        </td>\n",
              "</tr><tr class=\"\">\n",
              "        <td class=\"fillremaining\">56700.0</td>\n",
              "        <td class=\"number\">1</td>\n",
              "        <td class=\"number\">0.5%</td>\n",
              "        <td>\n",
              "            <div class=\"bar\" style=\"width:100%\">&nbsp;</div>\n",
              "        </td>\n",
              "</tr><tr class=\"\">\n",
              "        <td class=\"fillremaining\">56800.0</td>\n",
              "        <td class=\"number\">1</td>\n",
              "        <td class=\"number\">0.5%</td>\n",
              "        <td>\n",
              "            <div class=\"bar\" style=\"width:100%\">&nbsp;</div>\n",
              "        </td>\n",
              "</tr><tr class=\"\">\n",
              "        <td class=\"fillremaining\">58600.0</td>\n",
              "        <td class=\"number\">1</td>\n",
              "        <td class=\"number\">0.5%</td>\n",
              "        <td>\n",
              "            <div class=\"bar\" style=\"width:100%\">&nbsp;</div>\n",
              "        </td>\n",
              "</tr><tr class=\"\">\n",
              "        <td class=\"fillremaining\">59500.0</td>\n",
              "        <td class=\"number\">1</td>\n",
              "        <td class=\"number\">0.5%</td>\n",
              "        <td>\n",
              "            <div class=\"bar\" style=\"width:100%\">&nbsp;</div>\n",
              "        </td>\n",
              "</tr>\n",
              "</table>\n",
              "        </div>\n",
              "    </div>\n",
              "</div>\n",
              "</div><div class=\"row variablerow\">\n",
              "    <div class=\"col-md-3 namecol\">\n",
              "        <p class=\"h4 pp-anchor\" id=\"pp_var_diff\">diff<br/>\n",
              "            <small>Categorical</small>\n",
              "        </p>\n",
              "    </div><div class=\"col-md-3\">\n",
              "    <table class=\"stats \">\n",
              "        <tr class=\"\">\n",
              "            <th>Distinct count</th>\n",
              "            <td>32</td>\n",
              "        </tr>\n",
              "        <tr>\n",
              "            <th>Unique (%)</th>\n",
              "            <td>16.0%</td>\n",
              "        </tr>\n",
              "        <tr class=\"ignore\">\n",
              "            <th>Missing (%)</th>\n",
              "            <td>0.0%</td>\n",
              "        </tr>\n",
              "        <tr class=\"ignore\">\n",
              "            <th>Missing (n)</th>\n",
              "            <td>0</td>\n",
              "        </tr>\n",
              "    </table>\n",
              "</div>\n",
              "<div class=\"col-md-6 collapse in\" id=\"minifreqtable-5747916715956169392\">\n",
              "    <table class=\"mini freq\">\n",
              "        <tr class=\"\">\n",
              "    <th>200</th>\n",
              "    <td>\n",
              "        <div class=\"bar\" style=\"width:12%\" data-toggle=\"tooltip\" data-placement=\"right\" data-html=\"true\"\n",
              "             data-delay=500 title=\"Percentage: 9.0%\">\n",
              "            &nbsp;\n",
              "        </div>\n",
              "        18\n",
              "    </td>\n",
              "</tr><tr class=\"\">\n",
              "    <th>100</th>\n",
              "    <td>\n",
              "        <div class=\"bar\" style=\"width:12%\" data-toggle=\"tooltip\" data-placement=\"right\" data-html=\"true\"\n",
              "             data-delay=500 title=\"Percentage: 8.5%\">\n",
              "            &nbsp;\n",
              "        </div>\n",
              "        17\n",
              "    </td>\n",
              "</tr><tr class=\"\">\n",
              "    <th>600</th>\n",
              "    <td>\n",
              "        <div class=\"bar\" style=\"width:10%\" data-toggle=\"tooltip\" data-placement=\"right\" data-html=\"true\"\n",
              "             data-delay=500 title=\"Percentage: 7.5%\">\n",
              "            &nbsp;\n",
              "        </div>\n",
              "        15\n",
              "    </td>\n",
              "</tr><tr class=\"other\">\n",
              "    <th>Other values (29)</th>\n",
              "    <td>\n",
              "        <div class=\"bar\" style=\"width:100%\" data-toggle=\"tooltip\" data-placement=\"right\" data-html=\"true\"\n",
              "             data-delay=500 title=\"Percentage: 75.0%\">\n",
              "            150\n",
              "        </div>\n",
              "        \n",
              "    </td>\n",
              "</tr>\n",
              "    </table>\n",
              "</div>\n",
              "<div class=\"col-md-12 text-right\">\n",
              "    <a role=\"button\" data-toggle=\"collapse\" data-target=\"#freqtable-5747916715956169392, #minifreqtable-5747916715956169392\"\n",
              "       aria-expanded=\"true\" aria-controls=\"collapseExample\">\n",
              "        Toggle details\n",
              "    </a>\n",
              "</div>\n",
              "<div class=\"col-md-12 extrapadding collapse\" id=\"freqtable-5747916715956169392\">\n",
              "    \n",
              "<table class=\"freq table table-hover\">\n",
              "    <thead>\n",
              "    <tr>\n",
              "        <td class=\"fillremaining\">Value</td>\n",
              "        <td class=\"number\">Count</td>\n",
              "        <td class=\"number\">Frequency (%)</td>\n",
              "        <td style=\"min-width:200px\">&nbsp;</td>\n",
              "    </tr>\n",
              "    </thead>\n",
              "    <tr class=\"\">\n",
              "        <td class=\"fillremaining\">200</td>\n",
              "        <td class=\"number\">18</td>\n",
              "        <td class=\"number\">9.0%</td>\n",
              "        <td>\n",
              "            <div class=\"bar\" style=\"width:24%\">&nbsp;</div>\n",
              "        </td>\n",
              "</tr><tr class=\"\">\n",
              "        <td class=\"fillremaining\">100</td>\n",
              "        <td class=\"number\">17</td>\n",
              "        <td class=\"number\">8.5%</td>\n",
              "        <td>\n",
              "            <div class=\"bar\" style=\"width:23%\">&nbsp;</div>\n",
              "        </td>\n",
              "</tr><tr class=\"\">\n",
              "        <td class=\"fillremaining\">600</td>\n",
              "        <td class=\"number\">15</td>\n",
              "        <td class=\"number\">7.5%</td>\n",
              "        <td>\n",
              "            <div class=\"bar\" style=\"width:20%\">&nbsp;</div>\n",
              "        </td>\n",
              "</tr><tr class=\"\">\n",
              "        <td class=\"fillremaining\">400</td>\n",
              "        <td class=\"number\">13</td>\n",
              "        <td class=\"number\">6.5%</td>\n",
              "        <td>\n",
              "            <div class=\"bar\" style=\"width:18%\">&nbsp;</div>\n",
              "        </td>\n",
              "</tr><tr class=\"\">\n",
              "        <td class=\"fillremaining\">450</td>\n",
              "        <td class=\"number\">12</td>\n",
              "        <td class=\"number\">6.0%</td>\n",
              "        <td>\n",
              "            <div class=\"bar\" style=\"width:16%\">&nbsp;</div>\n",
              "        </td>\n",
              "</tr><tr class=\"\">\n",
              "        <td class=\"fillremaining\">50</td>\n",
              "        <td class=\"number\">12</td>\n",
              "        <td class=\"number\">6.0%</td>\n",
              "        <td>\n",
              "            <div class=\"bar\" style=\"width:16%\">&nbsp;</div>\n",
              "        </td>\n",
              "</tr><tr class=\"\">\n",
              "        <td class=\"fillremaining\">300</td>\n",
              "        <td class=\"number\">11</td>\n",
              "        <td class=\"number\">5.5%</td>\n",
              "        <td>\n",
              "            <div class=\"bar\" style=\"width:15%\">&nbsp;</div>\n",
              "        </td>\n",
              "</tr><tr class=\"\">\n",
              "        <td class=\"fillremaining\">800</td>\n",
              "        <td class=\"number\">9</td>\n",
              "        <td class=\"number\">4.5%</td>\n",
              "        <td>\n",
              "            <div class=\"bar\" style=\"width:12%\">&nbsp;</div>\n",
              "        </td>\n",
              "</tr><tr class=\"\">\n",
              "        <td class=\"fillremaining\">0</td>\n",
              "        <td class=\"number\">9</td>\n",
              "        <td class=\"number\">4.5%</td>\n",
              "        <td>\n",
              "            <div class=\"bar\" style=\"width:12%\">&nbsp;</div>\n",
              "        </td>\n",
              "</tr><tr class=\"\">\n",
              "        <td class=\"fillremaining\">350</td>\n",
              "        <td class=\"number\">9</td>\n",
              "        <td class=\"number\">4.5%</td>\n",
              "        <td>\n",
              "            <div class=\"bar\" style=\"width:12%\">&nbsp;</div>\n",
              "        </td>\n",
              "</tr><tr class=\"other\">\n",
              "        <td class=\"fillremaining\">Other values (22)</td>\n",
              "        <td class=\"number\">75</td>\n",
              "        <td class=\"number\">37.5%</td>\n",
              "        <td>\n",
              "            <div class=\"bar\" style=\"width:100%\">&nbsp;</div>\n",
              "        </td>\n",
              "</tr>\n",
              "</table>\n",
              "</div>\n",
              "</div><div class=\"row variablerow\">\n",
              "    <div class=\"col-md-3 namecol\">\n",
              "        <p class=\"h4 pp-anchor\" id=\"pp_var_open\">open<br/>\n",
              "            <small>Categorical</small>\n",
              "        </p>\n",
              "    </div><div class=\"col-md-3\">\n",
              "    <table class=\"stats \">\n",
              "        <tr class=\"alert\">\n",
              "            <th>Distinct count</th>\n",
              "            <td>128</td>\n",
              "        </tr>\n",
              "        <tr>\n",
              "            <th>Unique (%)</th>\n",
              "            <td>64.0%</td>\n",
              "        </tr>\n",
              "        <tr class=\"ignore\">\n",
              "            <th>Missing (%)</th>\n",
              "            <td>0.0%</td>\n",
              "        </tr>\n",
              "        <tr class=\"ignore\">\n",
              "            <th>Missing (n)</th>\n",
              "            <td>0</td>\n",
              "        </tr>\n",
              "    </table>\n",
              "</div>\n",
              "<div class=\"col-md-6 collapse in\" id=\"minifreqtable3602222047728822336\">\n",
              "    <table class=\"mini freq\">\n",
              "        <tr class=\"\">\n",
              "    <th>43,750</th>\n",
              "    <td>\n",
              "        <div class=\"bar\" style=\"width:3%\" data-toggle=\"tooltip\" data-placement=\"right\" data-html=\"true\"\n",
              "             data-delay=500 title=\"Percentage: 2.0%\">\n",
              "            &nbsp;\n",
              "        </div>\n",
              "        4\n",
              "    </td>\n",
              "</tr><tr class=\"\">\n",
              "    <th>43,800</th>\n",
              "    <td>\n",
              "        <div class=\"bar\" style=\"width:2%\" data-toggle=\"tooltip\" data-placement=\"right\" data-html=\"true\"\n",
              "             data-delay=500 title=\"Percentage: 1.5%\">\n",
              "            &nbsp;\n",
              "        </div>\n",
              "        3\n",
              "    </td>\n",
              "</tr><tr class=\"\">\n",
              "    <th>44,850</th>\n",
              "    <td>\n",
              "        <div class=\"bar\" style=\"width:2%\" data-toggle=\"tooltip\" data-placement=\"right\" data-html=\"true\"\n",
              "             data-delay=500 title=\"Percentage: 1.5%\">\n",
              "            &nbsp;\n",
              "        </div>\n",
              "        3\n",
              "    </td>\n",
              "</tr><tr class=\"other\">\n",
              "    <th>Other values (125)</th>\n",
              "    <td>\n",
              "        <div class=\"bar\" style=\"width:100%\" data-toggle=\"tooltip\" data-placement=\"right\" data-html=\"true\"\n",
              "             data-delay=500 title=\"Percentage: 95.0%\">\n",
              "            190\n",
              "        </div>\n",
              "        \n",
              "    </td>\n",
              "</tr>\n",
              "    </table>\n",
              "</div>\n",
              "<div class=\"col-md-12 text-right\">\n",
              "    <a role=\"button\" data-toggle=\"collapse\" data-target=\"#freqtable3602222047728822336, #minifreqtable3602222047728822336\"\n",
              "       aria-expanded=\"true\" aria-controls=\"collapseExample\">\n",
              "        Toggle details\n",
              "    </a>\n",
              "</div>\n",
              "<div class=\"col-md-12 extrapadding collapse\" id=\"freqtable3602222047728822336\">\n",
              "    \n",
              "<table class=\"freq table table-hover\">\n",
              "    <thead>\n",
              "    <tr>\n",
              "        <td class=\"fillremaining\">Value</td>\n",
              "        <td class=\"number\">Count</td>\n",
              "        <td class=\"number\">Frequency (%)</td>\n",
              "        <td style=\"min-width:200px\">&nbsp;</td>\n",
              "    </tr>\n",
              "    </thead>\n",
              "    <tr class=\"\">\n",
              "        <td class=\"fillremaining\">43,750</td>\n",
              "        <td class=\"number\">4</td>\n",
              "        <td class=\"number\">2.0%</td>\n",
              "        <td>\n",
              "            <div class=\"bar\" style=\"width:3%\">&nbsp;</div>\n",
              "        </td>\n",
              "</tr><tr class=\"\">\n",
              "        <td class=\"fillremaining\">43,800</td>\n",
              "        <td class=\"number\">3</td>\n",
              "        <td class=\"number\">1.5%</td>\n",
              "        <td>\n",
              "            <div class=\"bar\" style=\"width:2%\">&nbsp;</div>\n",
              "        </td>\n",
              "</tr><tr class=\"\">\n",
              "        <td class=\"fillremaining\">44,850</td>\n",
              "        <td class=\"number\">3</td>\n",
              "        <td class=\"number\">1.5%</td>\n",
              "        <td>\n",
              "            <div class=\"bar\" style=\"width:2%\">&nbsp;</div>\n",
              "        </td>\n",
              "</tr><tr class=\"\">\n",
              "        <td class=\"fillremaining\">45,200</td>\n",
              "        <td class=\"number\">3</td>\n",
              "        <td class=\"number\">1.5%</td>\n",
              "        <td>\n",
              "            <div class=\"bar\" style=\"width:2%\">&nbsp;</div>\n",
              "        </td>\n",
              "</tr><tr class=\"\">\n",
              "        <td class=\"fillremaining\">43,250</td>\n",
              "        <td class=\"number\">3</td>\n",
              "        <td class=\"number\">1.5%</td>\n",
              "        <td>\n",
              "            <div class=\"bar\" style=\"width:2%\">&nbsp;</div>\n",
              "        </td>\n",
              "</tr><tr class=\"\">\n",
              "        <td class=\"fillremaining\">47,000</td>\n",
              "        <td class=\"number\">3</td>\n",
              "        <td class=\"number\">1.5%</td>\n",
              "        <td>\n",
              "            <div class=\"bar\" style=\"width:2%\">&nbsp;</div>\n",
              "        </td>\n",
              "</tr><tr class=\"\">\n",
              "        <td class=\"fillremaining\">45,750</td>\n",
              "        <td class=\"number\">3</td>\n",
              "        <td class=\"number\">1.5%</td>\n",
              "        <td>\n",
              "            <div class=\"bar\" style=\"width:2%\">&nbsp;</div>\n",
              "        </td>\n",
              "</tr><tr class=\"\">\n",
              "        <td class=\"fillremaining\">42,600</td>\n",
              "        <td class=\"number\">3</td>\n",
              "        <td class=\"number\">1.5%</td>\n",
              "        <td>\n",
              "            <div class=\"bar\" style=\"width:2%\">&nbsp;</div>\n",
              "        </td>\n",
              "</tr><tr class=\"\">\n",
              "        <td class=\"fillremaining\">44,200</td>\n",
              "        <td class=\"number\">3</td>\n",
              "        <td class=\"number\">1.5%</td>\n",
              "        <td>\n",
              "            <div class=\"bar\" style=\"width:2%\">&nbsp;</div>\n",
              "        </td>\n",
              "</tr><tr class=\"\">\n",
              "        <td class=\"fillremaining\">51,000</td>\n",
              "        <td class=\"number\">3</td>\n",
              "        <td class=\"number\">1.5%</td>\n",
              "        <td>\n",
              "            <div class=\"bar\" style=\"width:2%\">&nbsp;</div>\n",
              "        </td>\n",
              "</tr><tr class=\"other\">\n",
              "        <td class=\"fillremaining\">Other values (118)</td>\n",
              "        <td class=\"number\">169</td>\n",
              "        <td class=\"number\">84.5%</td>\n",
              "        <td>\n",
              "            <div class=\"bar\" style=\"width:100%\">&nbsp;</div>\n",
              "        </td>\n",
              "</tr>\n",
              "</table>\n",
              "</div>\n",
              "</div><div class=\"row variablerow\">\n",
              "    <div class=\"col-md-3 namecol\">\n",
              "        <p class=\"h4 pp-anchor\" id=\"pp_var_high\">high<br/>\n",
              "            <small>Categorical</small>\n",
              "        </p>\n",
              "    </div><div class=\"col-md-3\">\n",
              "    <table class=\"stats \">\n",
              "        <tr class=\"alert\">\n",
              "            <th>Distinct count</th>\n",
              "            <td>130</td>\n",
              "        </tr>\n",
              "        <tr>\n",
              "            <th>Unique (%)</th>\n",
              "            <td>65.0%</td>\n",
              "        </tr>\n",
              "        <tr class=\"ignore\">\n",
              "            <th>Missing (%)</th>\n",
              "            <td>0.0%</td>\n",
              "        </tr>\n",
              "        <tr class=\"ignore\">\n",
              "            <th>Missing (n)</th>\n",
              "            <td>0</td>\n",
              "        </tr>\n",
              "    </table>\n",
              "</div>\n",
              "<div class=\"col-md-6 collapse in\" id=\"minifreqtable-625702603015672723\">\n",
              "    <table class=\"mini freq\">\n",
              "        <tr class=\"\">\n",
              "    <th>43,800</th>\n",
              "    <td>\n",
              "        <div class=\"bar\" style=\"width:3%\" data-toggle=\"tooltip\" data-placement=\"right\" data-html=\"true\"\n",
              "             data-delay=500 title=\"Percentage: 2.0%\">\n",
              "            &nbsp;\n",
              "        </div>\n",
              "        4\n",
              "    </td>\n",
              "</tr><tr class=\"\">\n",
              "    <th>45,500</th>\n",
              "    <td>\n",
              "        <div class=\"bar\" style=\"width:3%\" data-toggle=\"tooltip\" data-placement=\"right\" data-html=\"true\"\n",
              "             data-delay=500 title=\"Percentage: 2.0%\">\n",
              "            &nbsp;\n",
              "        </div>\n",
              "        4\n",
              "    </td>\n",
              "</tr><tr class=\"\">\n",
              "    <th>44,200</th>\n",
              "    <td>\n",
              "        <div class=\"bar\" style=\"width:3%\" data-toggle=\"tooltip\" data-placement=\"right\" data-html=\"true\"\n",
              "             data-delay=500 title=\"Percentage: 2.0%\">\n",
              "            &nbsp;\n",
              "        </div>\n",
              "        4\n",
              "    </td>\n",
              "</tr><tr class=\"other\">\n",
              "    <th>Other values (127)</th>\n",
              "    <td>\n",
              "        <div class=\"bar\" style=\"width:100%\" data-toggle=\"tooltip\" data-placement=\"right\" data-html=\"true\"\n",
              "             data-delay=500 title=\"Percentage: 94.0%\">\n",
              "            188\n",
              "        </div>\n",
              "        \n",
              "    </td>\n",
              "</tr>\n",
              "    </table>\n",
              "</div>\n",
              "<div class=\"col-md-12 text-right\">\n",
              "    <a role=\"button\" data-toggle=\"collapse\" data-target=\"#freqtable-625702603015672723, #minifreqtable-625702603015672723\"\n",
              "       aria-expanded=\"true\" aria-controls=\"collapseExample\">\n",
              "        Toggle details\n",
              "    </a>\n",
              "</div>\n",
              "<div class=\"col-md-12 extrapadding collapse\" id=\"freqtable-625702603015672723\">\n",
              "    \n",
              "<table class=\"freq table table-hover\">\n",
              "    <thead>\n",
              "    <tr>\n",
              "        <td class=\"fillremaining\">Value</td>\n",
              "        <td class=\"number\">Count</td>\n",
              "        <td class=\"number\">Frequency (%)</td>\n",
              "        <td style=\"min-width:200px\">&nbsp;</td>\n",
              "    </tr>\n",
              "    </thead>\n",
              "    <tr class=\"\">\n",
              "        <td class=\"fillremaining\">43,800</td>\n",
              "        <td class=\"number\">4</td>\n",
              "        <td class=\"number\">2.0%</td>\n",
              "        <td>\n",
              "            <div class=\"bar\" style=\"width:3%\">&nbsp;</div>\n",
              "        </td>\n",
              "</tr><tr class=\"\">\n",
              "        <td class=\"fillremaining\">45,500</td>\n",
              "        <td class=\"number\">4</td>\n",
              "        <td class=\"number\">2.0%</td>\n",
              "        <td>\n",
              "            <div class=\"bar\" style=\"width:3%\">&nbsp;</div>\n",
              "        </td>\n",
              "</tr><tr class=\"\">\n",
              "        <td class=\"fillremaining\">44,200</td>\n",
              "        <td class=\"number\">4</td>\n",
              "        <td class=\"number\">2.0%</td>\n",
              "        <td>\n",
              "            <div class=\"bar\" style=\"width:3%\">&nbsp;</div>\n",
              "        </td>\n",
              "</tr><tr class=\"\">\n",
              "        <td class=\"fillremaining\">47,400</td>\n",
              "        <td class=\"number\">3</td>\n",
              "        <td class=\"number\">1.5%</td>\n",
              "        <td>\n",
              "            <div class=\"bar\" style=\"width:2%\">&nbsp;</div>\n",
              "        </td>\n",
              "</tr><tr class=\"\">\n",
              "        <td class=\"fillremaining\">46,150</td>\n",
              "        <td class=\"number\">3</td>\n",
              "        <td class=\"number\">1.5%</td>\n",
              "        <td>\n",
              "            <div class=\"bar\" style=\"width:2%\">&nbsp;</div>\n",
              "        </td>\n",
              "</tr><tr class=\"\">\n",
              "        <td class=\"fillremaining\">43,900</td>\n",
              "        <td class=\"number\">3</td>\n",
              "        <td class=\"number\">1.5%</td>\n",
              "        <td>\n",
              "            <div class=\"bar\" style=\"width:2%\">&nbsp;</div>\n",
              "        </td>\n",
              "</tr><tr class=\"\">\n",
              "        <td class=\"fillremaining\">45,450</td>\n",
              "        <td class=\"number\">3</td>\n",
              "        <td class=\"number\">1.5%</td>\n",
              "        <td>\n",
              "            <div class=\"bar\" style=\"width:2%\">&nbsp;</div>\n",
              "        </td>\n",
              "</tr><tr class=\"\">\n",
              "        <td class=\"fillremaining\">45,000</td>\n",
              "        <td class=\"number\">3</td>\n",
              "        <td class=\"number\">1.5%</td>\n",
              "        <td>\n",
              "            <div class=\"bar\" style=\"width:2%\">&nbsp;</div>\n",
              "        </td>\n",
              "</tr><tr class=\"\">\n",
              "        <td class=\"fillremaining\">45,800</td>\n",
              "        <td class=\"number\">3</td>\n",
              "        <td class=\"number\">1.5%</td>\n",
              "        <td>\n",
              "            <div class=\"bar\" style=\"width:2%\">&nbsp;</div>\n",
              "        </td>\n",
              "</tr><tr class=\"\">\n",
              "        <td class=\"fillremaining\">44,850</td>\n",
              "        <td class=\"number\">3</td>\n",
              "        <td class=\"number\">1.5%</td>\n",
              "        <td>\n",
              "            <div class=\"bar\" style=\"width:2%\">&nbsp;</div>\n",
              "        </td>\n",
              "</tr><tr class=\"other\">\n",
              "        <td class=\"fillremaining\">Other values (120)</td>\n",
              "        <td class=\"number\">167</td>\n",
              "        <td class=\"number\">83.5%</td>\n",
              "        <td>\n",
              "            <div class=\"bar\" style=\"width:100%\">&nbsp;</div>\n",
              "        </td>\n",
              "</tr>\n",
              "</table>\n",
              "</div>\n",
              "</div><div class=\"row variablerow\">\n",
              "    <div class=\"col-md-3 namecol\">\n",
              "        <p class=\"h4 pp-anchor\" id=\"pp_var_low\">low<br/>\n",
              "            <small>Categorical</small>\n",
              "        </p>\n",
              "    </div><div class=\"col-md-3\">\n",
              "    <table class=\"stats \">\n",
              "        <tr class=\"alert\">\n",
              "            <th>Distinct count</th>\n",
              "            <td>124</td>\n",
              "        </tr>\n",
              "        <tr>\n",
              "            <th>Unique (%)</th>\n",
              "            <td>62.0%</td>\n",
              "        </tr>\n",
              "        <tr class=\"ignore\">\n",
              "            <th>Missing (%)</th>\n",
              "            <td>0.0%</td>\n",
              "        </tr>\n",
              "        <tr class=\"ignore\">\n",
              "            <th>Missing (n)</th>\n",
              "            <td>0</td>\n",
              "        </tr>\n",
              "    </table>\n",
              "</div>\n",
              "<div class=\"col-md-6 collapse in\" id=\"minifreqtable2744363924594319414\">\n",
              "    <table class=\"mini freq\">\n",
              "        <tr class=\"\">\n",
              "    <th>46,800</th>\n",
              "    <td>\n",
              "        <div class=\"bar\" style=\"width:3%\" data-toggle=\"tooltip\" data-placement=\"right\" data-html=\"true\"\n",
              "             data-delay=500 title=\"Percentage: 2.0%\">\n",
              "            &nbsp;\n",
              "        </div>\n",
              "        4\n",
              "    </td>\n",
              "</tr><tr class=\"\">\n",
              "    <th>46,150</th>\n",
              "    <td>\n",
              "        <div class=\"bar\" style=\"width:3%\" data-toggle=\"tooltip\" data-placement=\"right\" data-html=\"true\"\n",
              "             data-delay=500 title=\"Percentage: 2.0%\">\n",
              "            &nbsp;\n",
              "        </div>\n",
              "        4\n",
              "    </td>\n",
              "</tr><tr class=\"\">\n",
              "    <th>45,200</th>\n",
              "    <td>\n",
              "        <div class=\"bar\" style=\"width:3%\" data-toggle=\"tooltip\" data-placement=\"right\" data-html=\"true\"\n",
              "             data-delay=500 title=\"Percentage: 2.0%\">\n",
              "            &nbsp;\n",
              "        </div>\n",
              "        4\n",
              "    </td>\n",
              "</tr><tr class=\"other\">\n",
              "    <th>Other values (121)</th>\n",
              "    <td>\n",
              "        <div class=\"bar\" style=\"width:100%\" data-toggle=\"tooltip\" data-placement=\"right\" data-html=\"true\"\n",
              "             data-delay=500 title=\"Percentage: 94.0%\">\n",
              "            188\n",
              "        </div>\n",
              "        \n",
              "    </td>\n",
              "</tr>\n",
              "    </table>\n",
              "</div>\n",
              "<div class=\"col-md-12 text-right\">\n",
              "    <a role=\"button\" data-toggle=\"collapse\" data-target=\"#freqtable2744363924594319414, #minifreqtable2744363924594319414\"\n",
              "       aria-expanded=\"true\" aria-controls=\"collapseExample\">\n",
              "        Toggle details\n",
              "    </a>\n",
              "</div>\n",
              "<div class=\"col-md-12 extrapadding collapse\" id=\"freqtable2744363924594319414\">\n",
              "    \n",
              "<table class=\"freq table table-hover\">\n",
              "    <thead>\n",
              "    <tr>\n",
              "        <td class=\"fillremaining\">Value</td>\n",
              "        <td class=\"number\">Count</td>\n",
              "        <td class=\"number\">Frequency (%)</td>\n",
              "        <td style=\"min-width:200px\">&nbsp;</td>\n",
              "    </tr>\n",
              "    </thead>\n",
              "    <tr class=\"\">\n",
              "        <td class=\"fillremaining\">46,800</td>\n",
              "        <td class=\"number\">4</td>\n",
              "        <td class=\"number\">2.0%</td>\n",
              "        <td>\n",
              "            <div class=\"bar\" style=\"width:3%\">&nbsp;</div>\n",
              "        </td>\n",
              "</tr><tr class=\"\">\n",
              "        <td class=\"fillremaining\">46,150</td>\n",
              "        <td class=\"number\">4</td>\n",
              "        <td class=\"number\">2.0%</td>\n",
              "        <td>\n",
              "            <div class=\"bar\" style=\"width:3%\">&nbsp;</div>\n",
              "        </td>\n",
              "</tr><tr class=\"\">\n",
              "        <td class=\"fillremaining\">45,200</td>\n",
              "        <td class=\"number\">4</td>\n",
              "        <td class=\"number\">2.0%</td>\n",
              "        <td>\n",
              "            <div class=\"bar\" style=\"width:3%\">&nbsp;</div>\n",
              "        </td>\n",
              "</tr><tr class=\"\">\n",
              "        <td class=\"fillremaining\">50,700</td>\n",
              "        <td class=\"number\">4</td>\n",
              "        <td class=\"number\">2.0%</td>\n",
              "        <td>\n",
              "            <div class=\"bar\" style=\"width:3%\">&nbsp;</div>\n",
              "        </td>\n",
              "</tr><tr class=\"\">\n",
              "        <td class=\"fillremaining\">46,600</td>\n",
              "        <td class=\"number\">4</td>\n",
              "        <td class=\"number\">2.0%</td>\n",
              "        <td>\n",
              "            <div class=\"bar\" style=\"width:3%\">&nbsp;</div>\n",
              "        </td>\n",
              "</tr><tr class=\"\">\n",
              "        <td class=\"fillremaining\">52,700</td>\n",
              "        <td class=\"number\">3</td>\n",
              "        <td class=\"number\">1.5%</td>\n",
              "        <td>\n",
              "            <div class=\"bar\" style=\"width:2%\">&nbsp;</div>\n",
              "        </td>\n",
              "</tr><tr class=\"\">\n",
              "        <td class=\"fillremaining\">52,000</td>\n",
              "        <td class=\"number\">3</td>\n",
              "        <td class=\"number\">1.5%</td>\n",
              "        <td>\n",
              "            <div class=\"bar\" style=\"width:2%\">&nbsp;</div>\n",
              "        </td>\n",
              "</tr><tr class=\"\">\n",
              "        <td class=\"fillremaining\">44,300</td>\n",
              "        <td class=\"number\">3</td>\n",
              "        <td class=\"number\">1.5%</td>\n",
              "        <td>\n",
              "            <div class=\"bar\" style=\"width:2%\">&nbsp;</div>\n",
              "        </td>\n",
              "</tr><tr class=\"\">\n",
              "        <td class=\"fillremaining\">50,400</td>\n",
              "        <td class=\"number\">3</td>\n",
              "        <td class=\"number\">1.5%</td>\n",
              "        <td>\n",
              "            <div class=\"bar\" style=\"width:2%\">&nbsp;</div>\n",
              "        </td>\n",
              "</tr><tr class=\"\">\n",
              "        <td class=\"fillremaining\">45,250</td>\n",
              "        <td class=\"number\">3</td>\n",
              "        <td class=\"number\">1.5%</td>\n",
              "        <td>\n",
              "            <div class=\"bar\" style=\"width:2%\">&nbsp;</div>\n",
              "        </td>\n",
              "</tr><tr class=\"other\">\n",
              "        <td class=\"fillremaining\">Other values (114)</td>\n",
              "        <td class=\"number\">165</td>\n",
              "        <td class=\"number\">82.5%</td>\n",
              "        <td>\n",
              "            <div class=\"bar\" style=\"width:100%\">&nbsp;</div>\n",
              "        </td>\n",
              "</tr>\n",
              "</table>\n",
              "</div>\n",
              "</div><div class=\"row variablerow\">\n",
              "    <div class=\"col-md-3 namecol\">\n",
              "        <p class=\"h4 pp-anchor\" id=\"pp_var_volume\">volume<br/>\n",
              "            <small>Categorical, Unique</small>\n",
              "        </p>\n",
              "    </div><div class=\"col-md-3 collapse in\" id=\"minivalues-5966301614788435070\"><table border=\"1\" class=\"dataframe example_values\">\n",
              "  <thead>\n",
              "    <tr style=\"text-align: right;\">\n",
              "      <th>First 3 values</th>\n",
              "    </tr>\n",
              "  </thead>\n",
              "  <tbody>\n",
              "    <tr>\n",
              "      <td>7,783,275</td>\n",
              "    </tr>\n",
              "    <tr>\n",
              "      <td>5,017,381</td>\n",
              "    </tr>\n",
              "    <tr>\n",
              "      <td>8,777,517</td>\n",
              "    </tr>\n",
              "  </tbody>\n",
              "</table></div>\n",
              "<div class=\"col-md-6 collapse in\" id=\"minivalues-5966301614788435070\"><table border=\"1\" class=\"dataframe example_values\">\n",
              "  <thead>\n",
              "    <tr style=\"text-align: right;\">\n",
              "      <th>Last 3 values</th>\n",
              "    </tr>\n",
              "  </thead>\n",
              "  <tbody>\n",
              "    <tr>\n",
              "      <td>9,729,811</td>\n",
              "    </tr>\n",
              "    <tr>\n",
              "      <td>13,966,305</td>\n",
              "    </tr>\n",
              "    <tr>\n",
              "      <td>7,235,395</td>\n",
              "    </tr>\n",
              "  </tbody>\n",
              "</table></div>\n",
              "<div class=\"col-md-12 text-right\">\n",
              "    <a role=\"button\" data-toggle=\"collapse\" data-target=\"#values-5966301614788435070,#minivalues-5966301614788435070\" aria-expanded=\"false\"\n",
              "       aria-controls=\"collapseExample\">\n",
              "        Toggle details\n",
              "    </a>\n",
              "</div>\n",
              "<div class=\"col-md-12 collapse\" id=\"values-5966301614788435070\">\n",
              "    <p class=\"h4\">First 10 values</p>\n",
              "    \n",
              "<table class=\"freq table table-hover\">\n",
              "    <thead>\n",
              "    <tr>\n",
              "        <td class=\"fillremaining\">Value</td>\n",
              "        <td class=\"number\">Count</td>\n",
              "        <td class=\"number\">Frequency (%)</td>\n",
              "        <td style=\"min-width:200px\">&nbsp;</td>\n",
              "    </tr>\n",
              "    </thead>\n",
              "    <tr class=\"\">\n",
              "        <td class=\"fillremaining\">10,002,533</td>\n",
              "        <td class=\"number\">1</td>\n",
              "        <td class=\"number\">0.5%</td>\n",
              "        <td>\n",
              "            <div class=\"bar\" style=\"width:100%\">&nbsp;</div>\n",
              "        </td>\n",
              "</tr><tr class=\"\">\n",
              "        <td class=\"fillremaining\">10,009,778</td>\n",
              "        <td class=\"number\">1</td>\n",
              "        <td class=\"number\">0.5%</td>\n",
              "        <td>\n",
              "            <div class=\"bar\" style=\"width:100%\">&nbsp;</div>\n",
              "        </td>\n",
              "</tr><tr class=\"\">\n",
              "        <td class=\"fillremaining\">10,278,951</td>\n",
              "        <td class=\"number\">1</td>\n",
              "        <td class=\"number\">0.5%</td>\n",
              "        <td>\n",
              "            <div class=\"bar\" style=\"width:100%\">&nbsp;</div>\n",
              "        </td>\n",
              "</tr><tr class=\"\">\n",
              "        <td class=\"fillremaining\">10,304,777</td>\n",
              "        <td class=\"number\">1</td>\n",
              "        <td class=\"number\">0.5%</td>\n",
              "        <td>\n",
              "            <div class=\"bar\" style=\"width:100%\">&nbsp;</div>\n",
              "        </td>\n",
              "</tr><tr class=\"\">\n",
              "        <td class=\"fillremaining\">10,398,754</td>\n",
              "        <td class=\"number\">1</td>\n",
              "        <td class=\"number\">0.5%</td>\n",
              "        <td>\n",
              "            <div class=\"bar\" style=\"width:100%\">&nbsp;</div>\n",
              "        </td>\n",
              "</tr>\n",
              "</table>\n",
              "    <p class=\"h4\">Last 10 values</p>\n",
              "    \n",
              "<table class=\"freq table table-hover\">\n",
              "    <thead>\n",
              "    <tr>\n",
              "        <td class=\"fillremaining\">Value</td>\n",
              "        <td class=\"number\">Count</td>\n",
              "        <td class=\"number\">Frequency (%)</td>\n",
              "        <td style=\"min-width:200px\">&nbsp;</td>\n",
              "    </tr>\n",
              "    </thead>\n",
              "    <tr class=\"\">\n",
              "        <td class=\"fillremaining\">9,774,941</td>\n",
              "        <td class=\"number\">1</td>\n",
              "        <td class=\"number\">0.5%</td>\n",
              "        <td>\n",
              "            <div class=\"bar\" style=\"width:100%\">&nbsp;</div>\n",
              "        </td>\n",
              "</tr><tr class=\"\">\n",
              "        <td class=\"fillremaining\">9,839,252</td>\n",
              "        <td class=\"number\">1</td>\n",
              "        <td class=\"number\">0.5%</td>\n",
              "        <td>\n",
              "            <div class=\"bar\" style=\"width:100%\">&nbsp;</div>\n",
              "        </td>\n",
              "</tr><tr class=\"\">\n",
              "        <td class=\"fillremaining\">9,896,562</td>\n",
              "        <td class=\"number\">1</td>\n",
              "        <td class=\"number\">0.5%</td>\n",
              "        <td>\n",
              "            <div class=\"bar\" style=\"width:100%\">&nbsp;</div>\n",
              "        </td>\n",
              "</tr><tr class=\"\">\n",
              "        <td class=\"fillremaining\">9,899,073</td>\n",
              "        <td class=\"number\">1</td>\n",
              "        <td class=\"number\">0.5%</td>\n",
              "        <td>\n",
              "            <div class=\"bar\" style=\"width:100%\">&nbsp;</div>\n",
              "        </td>\n",
              "</tr><tr class=\"\">\n",
              "        <td class=\"fillremaining\">9,913,497</td>\n",
              "        <td class=\"number\">1</td>\n",
              "        <td class=\"number\">0.5%</td>\n",
              "        <td>\n",
              "            <div class=\"bar\" style=\"width:100%\">&nbsp;</div>\n",
              "        </td>\n",
              "</tr>\n",
              "</table>\n",
              "</div>\n",
              "</div>\n",
              "    <div class=\"row headerrow highlight\">\n",
              "        <h1>Correlations</h1>\n",
              "    </div>\n",
              "    <div class=\"row variablerow\">\n",
              "    <img src=\"data:image/png;base64,iVBORw0KGgoAAAANSUhEUgAAAlEAAAIGCAYAAAB099qRAAAABHNCSVQICAgIfAhkiAAAAAlwSFlzAAAPYQAAD2EBqD%2BnaQAAADh0RVh0U29mdHdhcmUAbWF0cGxvdGxpYiB2ZXJzaW9uMy4xLjIsIGh0dHA6Ly9tYXRwbG90bGliLm9yZy8li6FKAAAgAElEQVR4nOzde1iUdf7/8RfggRRBQQbN8JCKIqBhqWXmATNMaynLEHdLs7JSMdGyzNy0LDcX0zxltqvp1rr01VIj92ti1lbab3M9jSRaeMYDqIwKHhCY3x9%2BnW0SFe4bGvB%2BPq5rruBzH%2BY9ny7g7etzzz1eTqfTKQAAAJSJt6cLAAAAqIpoogAAAAygiQIAADCAJgoAAMAAmigAAAADaKIAAAAMoIkCAAAwgCYKAADAAJooAAAAA2iiAAAADKjm6QIAq2vVqtUVt1WvXl1169ZVZGSkHnjgAcXGxsrLy%2Bs3rA4AcCVefHYe4FmXmqi2bdsqODjYbdv58%2Be1e/duHTp0SJLUo0cPzZw5UzVq1PjN6wQAuKOJAjzsUhM1Z84c3X333SXuk5aWphdeeEFnzpzRkCFD9OKLL/6WJQIASsA1UUAVcPfdd2vMmDGSpCVLluj8%2BfMerggAwDVRQBVxzz336PXXX9fZs2f1448/Kjo62m37hg0b9NFHH2nLli1yOBzy8/NT69at9dBDD%2Bn%2B%2B%2B8v8ZwOh0MLFy7U119/rX379qmgoEABAQFq27atHn/8cXXq1OmyY2JiYpSVlaX3339f58%2Bf1/Tp03XgwAF98MEHuvXWWyVJu3bt0oIFC7Rx40YdPXpU1apVk81mU8eOHfWHP/yhxOvATp8%2BrUWLFmnt2rXat2%2BfLly4oPr166t9%2B/YaPHiwoqKi3PY/ePCgevbsKUnatm2bMjMz9e6772rz5s1yOByy2Wzq2bOnkpKSVKtWLUNzDgBXQxIFVBF169Z1fX3q1Cm3bdOnT9fgwYO1Zs0a%2Bfn5qVOnTgoMDNSGDRv0/PPPa9SoUSoqKnI7JicnR/369dO8efO0e/dutWnTRrfffrtq1KihdevWadCgQVq2bNkV69m9e7eSkpJUvXp13X777fL19ZUk/fvf/9ZDDz2kTz/9VOfPn9ett96q6Oho5eXl6eOPP9YjjzyiDRs2uJ0rKytLDz74oGbNmqWff/5ZrVu31u233y6n06nU1FQ98sgjWrp06RVr2bRpkwYOHKj09HS1bt1azZo1U1ZWlhYvXqzExMRSzzEAlIkTgEeFhYU5w8LCnGvWrLnqfpmZma59t23b5hr/4osvnGFhYc4OHTo4/9//%2B39ux/z73/92du7c2RkWFuZcuHCh27bJkyc7w8LCnLGxsc5jx465xgsLC51vvPGGMywszHnrrbc68/Ly3I7r0aOHMywszBkTE%2BN89913L6uzf//%2BzrCwMOef/vQnZ1FRkdt5p0%2Bf7gwLC3Ped999bscMHDjQGRYW5uzXr5/z6NGjrvGioiLnrFmznGFhYc7IyEjn7t27XdsOHDjgmo/u3bs758%2Bf7ywuLnZt//TTT13bd%2BzYcbWpBQBDSKKAKuKLL76QJAUEBCg8PNw1/u6770qSXnzxRXXs2NHtmA4dOmjs2LGSpEWLFrlts9ls6tu3r0aMGKGgoCDXuI%2BPj5KSkuTt7a3Tp09ry5YtJdZTXFysoUOHXja%2BY8cOSVK/fv3k7f3fXzE%2BPj4aOXKkRo4cqUcffVQFBQWSpK1bt2rjxo2SpKlTp8pms7mO8fb21ogRIxQREaGCggL94x//KLGWli1b6qmnnnK7/UNcXJwCAwNdzwEA5Y1rooAq4Ouvv9Z7770nSXryySdVrdrFH92jR48qPT1dktSrV68Sj7377rvl5eWlQ4cOac%2BePWrWrJkk6amnnrri891www0KCgpSTk6OcnJyStzn9ttvd2uSLvH399exY8e0atUqPffcc27bvL29NXz4cLexb775RtLFdyk2b978iq8hPT39smXAS0q65svLy0uhoaE6ceKEcnNzSzwOAMygiQIqiffee0%2BffPKJ21hBQYH27t2rAwcOSLqY7jz55JOu7bt27XJ9/dJLL13x3NWqVdOFCxe0d%2B9eVxN16fxff/21tm/fruzsbJ06dUrO/7vryenTpyVdTJxKEhISUuL4oEGDNG3aNM2dO1fffPON7rvvPt1xxx1XvKnozz//LOlimnQlN998s6SL12GVpHHjxiWO16xZU5J04cKFK54bAIyiiQIqiW3btl025uPjo3r16qlnz56Kj49Xt27d3LafPHnS9fXatWuv%2BRyXGiNJysjI0PDhw3Xw4EFD9QYEBJQ4fmmJ77333pPdbpfdbpckBQcHq3fv3ho0aJBCQ0Mvq8nf3/%2BKz1WnTh1JF5uhc%2BfOuS5iv4SbjwLwBJoooJK42s02r%2BTSNUDVq1eX3W4v9UfCnDt3Ts8%2B%2B6wOHTqkpk2batiwYbrjjjtUr149Va9eXdJ/b2VwrecuydChQzVgwAClpaXp66%2B/1vr165WTk6O//e1vSklJ0dSpU3XvvfeW%2BnU6f3FP4JKWEAHAE2iigCrs0m0PLly4oNzcXNeF1Nfyr3/9S4cOHZKXl5fmz5%2BvJk2aXLbPuXPnTNXm7%2B%2Bvfv36qV%2B/fioqKtL69es1Z84cbd68WePHj9ftt9%2BuevXquRKtX9%2B24ZcubfP19SV1AlBp8E86oAoLCwtzff3TTz%2BV%2Bri9e/dKungtUUkN1P79%2B3X8%2BHHT9V3i4%2BOju%2B66S4sXL1ZISIjy8/Ndy5eXroX65fVdv3Zp29WumwKA3xpNFFCFBQcHKyIiQpL08ccfl7jPnj17FBcX57oVgvTfa4yu9PExc%2BbMcX3965t0Xs3WrVv18ssva8GCBSVur1GjhurXry/pv0nXpeu8du3aVWIjVVxc7Lq9w1133VXqWgCgotFEAVXcM888I0lKTU3VBx984Hb90L59%2BzRy5EhlZGTo8OHDrvHWrVtLko4cOaK0tDTX%2BNmzZzV58mTZ7XbXx8pc6R1xJfHx8dGyZcs0c%2BZMffXVV5dtX7NmjXbs2KHq1aurffv2kqQ2bdqoS5cukqSXX35ZJ06ccO1fWFioP//5z8rMzFSdOnU0YMCAUtcCABWNa6KAKu6ee%2B7R0KFDNX/%2BfE2ZMkWLFy/WzTffrNzcXO3YsUNFRUVq06aNnn/%2Bedcx0dHR6tKli7799lslJiaqXbt2qlmzprZv365q1app4cKF%2Bvzzz7V582YtXrxYO3fu1LPPPqsOHTpctZbIyEgNGTJECxYs0NNPP61GjRqpSZMm8vb21sGDB13LiOPHj1dwcLDruDfffFODBg2S3W5XTEyMwsLCVLNmTf3000/Kzc2Vr6%2Bvpk2bdsXbKgCAJ9BEAdeBMWPGqHPnzvrwww%2B1ZcsWbdiwQTVr1lRkZKT69OmjgQMHXnZB9owZM5ScnKy1a9dq%2B/btstlsio2N1TPPPKPGjRurQYMG%2BvHHH7Vp0yb99NNPpX7n34svvqgOHTpo%2BfLl2r59uzZv3qzCwkIFBwfrvvvu0x/%2B8IfLPjw5JCRES5cu1QcffKA1a9bop59%2BUmFhoUJCQnTPPffoiSeeKPHaLQDwJC/nL7N/AAAAlArXRAEAABhAEwUAAGAATRQAAIABNFEAAKDS%2BOabb9S5c2clJSVddb/i4mJNnz5dPXv2VIcOHfTEE0%2B4PqxdkhwOh0aNGqXOnTurS5cuGj9%2BvOlPYvg1migAAFApvP/%2B%2B5o8eXKp3o370Ucf6bPPPtP8%2BfO1bt06NW3aVMOHD3fdK2/ChAk6e/asUlNTtWzZMmVmZio5Oblc66WJAgAAlULNmjW1dOnSUjVRKSkpGjx4sJo3by4/Pz8lJSUpMzNTW7du1bFjx5SWlqakpCQFBgYqJCREw4YN07Jly3ThwoVyq5f7RAEAgHKTnZ2tnJwct7Hg4GDZbLZrHvvYY4%2BV6jnOnTunn3/%2BWW3atHGN%2Bfn5qUmTJrLb7Tp9%2BrR8fHzUqlUr1/aIiAidOXNGu3fvdhs3wzpNVClvFAgPatZM%2BuknqWVLac8eT1eDq4i%2BhdvLVXaNGkkrVkhxcVJWlqerwdVs3uyhJ66gv4spM2dq9uzZbmMjRoxQYmJiuT3HyZMn5XQ6FRAQ4DYeEBCg3Nxc1a1bV35%2Bfm43Cb60b25ubrnVYZ0mCpVf3bqSj8/F/wIwpU6diz9O//dZ08BvJj4%2BXjExMW5jv/yYp/J0tfuF/xb3EqeJAgDAirwr5rJom81WqqU7M%2BrWrStvb285HA63cYfDoaCgIAUGBiovL09FRUXy8fFxbZOkoKCgcquDC8sBALAib%2B%2BKefwGatasqZYtWyo9Pd01durUKe3fv19t27ZVeHi4nE6nMjIyXNvtdrv8/f3VrFmzcquDJgoAAFR6R48eVe/evV33gkpISNDixYuVmZmpvLw8JScnKzw8XFFRUQoMDFRsbKxmzJihEydO6MiRI5ozZ44efvhhVatWfotwLOcBAGBFv1FqVBZRUVGSpMLCQklSWlqapIsp0oULF7Rnzx4VFBRIkgYMGKCcnBw9%2Buijys/PV6dOndwuaH/ttdf06quvqmfPnqpevbruu%2B%2B%2Ba97As6y8nL/FlVeVAe/Oq/yio6VNm6T27T34dhWUBu/Oq/xat5aWLJESEqRfrGigEvLYr7uaNSvmvOfPV8x5KyGSKAAArKgSJlFVDU0UAABWRBNlGjMIAABgAEkUAABWRBJlGjMIAABgAEkUAABWRBJlGk0UAABWRBNlGjMIAABgAEkUAABWRBJlGjMIAABgAEkUAABWRBJlGk0UAABWRBNlGjMIAABgAEkUAABWRBJlGjMIAABgAEkUAABWRBJlGk0UAABWRBNlGjMIAABgAEkUAABWRBJlGjMIAABgAEkUAABWRBJlGk0UAABWRBNlGjMIAABgAEkUAABWRBJlGk0UAABWRBNlGjMIAABgAEkUAABWRBJlGjMIAABgAEkUAABWRBJlGk0UAABWRBNlGjMIAABgAEkUAABWRBJlGjMIAABgAEkUAABWRBJlGk0UAABWRBNlGjMIAABgAEkUAABWRBJlGjMIAABgAEkUAABWRBJlGk0UAABWRBNlGjMIAABgAEkUAABWRBJlGk0UAACoNLKysjRp0iRt3bpVtWrVUp8%2BfTRmzBh5/6rpGzJkiH744Qe3scLCQg0fPlwjRozQo48%2Bqk2bNrkd16xZM61cubLcaqWJAgDAiippEpWYmKiIiAilpaXp%2BPHjevrpp1W/fn09/vjjbvstWLDA7ftTp06pT58%2B6tWrl2vs9ddfV79%2B/SqsVpooAACsqIKaqOzsbOXk5LiNBQcHy2azXfNYu92ujIwMLVy4UHXq1FGdOnU0ePBgLVq06LIm6tdmzJihXr16qVWrVqbqLwuaKAAAUG5SUlI0e/Zst7ERI0YoMTHxmsemp6erUaNGCggIcI1FRERoz549ysvLk5%2BfX4nH7du3T8uXL1daWprb%2BKpVq/SXv/xFhw8fVrt27fTaa6%2BpcePGBl5VyWiiAACwogpKouLj4xUTE%2BM2FhwcXKpjHQ6H/P393cYuNVS5ublXbKLmz5%2Bvhx56SIGBga6x5s2b64YbblBycrKKi4s1efJkPfnkk0pNTVWNGjXK8pKuiCYKAACUG5vNVqqluytxOp1l2t/hcGjFihX65z//6TY%2BceJEt%2B9fe%2B01derUSf/5z390xx13GK7vl2iiAACwokp4YXlgYKAcDofbmMPhkJeXl1vK9Etr165Vs2bNFBoaetVz%2B/n5KSAgQEePHi23eivfDAIAgIrn7V0xDxMiIyN1%2BPBhnThxwjVmt9vVokUL1a5du8Rj1q5dqzvvvNNtLC8vTxMnTnRrmE6cOKETJ05cs9kqC5ooAABQKbRp00ZRUVGaNm2a8vLylJmZqYULFyohIUGS1Lt3b23cuNHtmB07duimm25yG/Pz89PWrVs1efJkORwOnTx5UpMmTVKrVq0UHR1dbvXSRAEAYEWVMImSpJkzZyo7O1t33nmnHnvsMT3wwAMaOHCgJGnPnj06c%2BaM2/45OTmqX7/%2BZeeZM2eOnE6nYmNj1b17d124cEHz58%2B/7KadZnBNFAAAqDQaNGig999/v8RtO3fuvGxs%2B/btJe574403XnarhfJGEwUAgBVVwgvLqxqaKAAArIgmyjRmEAAAwACSKAAArIgkyjRmEAAAwACSKAAArIgkyjSaKAAArIgmyjRmEAAAwACSKAAArIgkyjRmEAAAwACSKAAArIgkyjSaKAAArIgmyjRmEAAAwACSKAAArIgkyjSaKAAArIgmyjRmEAAAwACSKAAArIgkyjRmEAAAwACSKAAArIgkyjSaKAAArIgmyjRmEAAAwACSKAAArIgkyjRmEAAAwACSKAAArIgkyjSaKAAArIgmyjRmEAAAwACSKAAArIgkyjRmEAAAwACSKAAArIgkyjSaKAAArIgmyjRmEAAAwACSKAAArIgkyjRmEAAAwACSKAAArIgkyjSaKAAArIgmyjRmEAAAwACSKAAArIgkyjRmEAAAwACSKAAArIgkyjSaKAAArIgmyjRmEAAAwIAyNVFZWVmKiorSnj17yvxEycnJevTRR8t8HAAAqADe3hXzsJAyLec1atRIdru9omoBAAAWl5WVpUmTJmnr1q2qVauW%2BvTpozFjxsj7Vw3arFmzNHfuXFWr5t7KrFu3TvXr19f58%2Bf1xhtv6KuvvtL58%2BfVqVMnTZo0SfXq1Su3Wq3VMgIAgIsqaRKVmJiokJAQpaWlaeHChUpLS9OiRYtK3DcuLk52u93tUb9%2BfUnS9OnTlZ6erpSUFK1evVpOp1Pjxo0zXd8vlSmJOnjwoHr27KlVq1bpqaee0rPPPqs1a9bohx9%2BUFBQkCZOnKguXbpIkr788ku99dZbys7OVrdu3Vwv6pJVq1bpvffe0759%2BxQUFKShQ4cqPj5ex44dU58%2BfTR16lR1795dkjR69GidPXtW7777bqnqzM7OVk5OjttYcLNmstWtW5aXi99a69bu/0Wl1bqVpyvAtTRt6v5fVE4ZGR588gpaeivxb3BwsGw22zWPtdvtysjI0MKFC1WnTh3VqVNHgwcP1qJFi/T444%2BXuobCwkItXbpUb731lho2bChJGjVqlPr27aujR48qJCSkbC/qCky9O%2B%2Bvf/2rpk6dqtatW2vixIl68803tWrVKp06dUpJSUl6/vnnFR8frw0bNmjMmDEKDw%2BXdHGSxo8fr1mzZumOO%2B7Q5s2b9dRTT6lly5Zq3769XnjhBU2ZMkWdO3fWtm3b9K9//Uuff/55qetKSUnR7Nmz3cZGPPecEp97zszLxW/l73/3dAW4hiWeLgClNmWKpyvA1URHe7qC8lfi3%2BARI5SYmHjNY9PT09WoUSMFBAS4xiIiIrRnzx7l5eXJz8/Pbf%2BdO3dqwIAB2rVrlxo2bKhx48apS5cu2r9/v06fPq2IiAjXvs2bN5evr6/S09MrRxPVo0cPtW3bVpIUGxur5cuXq7i4WN9%2B%2B61q1aql3//%2B9/L29la3bt102223KT8/X5L0ySefqHv37q7U6rbbbtO9996rFStWqH379nr44Ye1cuVKLViwQKtXr9YLL7xQphccHx%2BvmJgYt7Hg%2B%2B%2BXrhAHopJo3fpiAzVwoIf/eYZrSWi1ydMl4BqaNr3YQI0bJ%2B3d6%2BlqUClVUBJV4t/g4OBSHetwOOTv7%2B82dqmhys3NdWuiGjRooNDQUI0ZM0Y2m00pKSl65plntHLlSjkcDkm67Fz%2B/v7Kzc0t82u6ElNN1E033eT62tfXV0VFRbpw4YKOHDmihg0bul0E1rRpU6Wnp0uS9u/frw0bNigqKsq13el0upoqLy8vTZ48Wffff78iIyP1yCOPlKkum812eWxo4B2F8JCMDGnzZk9XgavIcHq6ApTW3r38mwS/rRL/BpeB01m6XzD9%2B/dX//79Xd8PHjxYn3/%2BuVauXKmuXbuW6VxGmWqifn2l/CUFBQUqKipyGysuLnZ97evrq4SEBE2YMOGK5z5y5IiqVaumI0eO6OzZs6pVq5aZUgEAwC9VwtsRBAYGulKkSxwOh7y8vBQYGHjN4xs1aqTs7GzXvg6HQ7Vr13ZtP3nypIKCgsqt3gqZQZvNpqNHj7p1gJmZma6vGzdurJ07d7odc%2BTIEVfjVVBQoD/%2B8Y%2BaNGmSWrZsqRkzZlREmQAAWFclfHdeZGSkDh8%2BrBMnTrjG7Ha7WrRo4dYMSdLcuXO1YcMGt7HMzEyFhoYqNDRUAQEBrhUwSdq1a5cKCgoUGRlpqsZfqpAmqnPnzsrLy9M//vEPFRQUKC0tTVu3bnVtf/jhh7Vp0yYtW7ZMBQUF2rFjh/r376/Vq1dLkubMmSObzab7779f48eP18cff%2Bx2PAAAuP60adNGUVFRmjZtmvLy8pSZmamFCxcqISFBktS7d29t3LhR0sWUadKkSdq9e7fOnz%2BvBQsWaP/%2B/XrwwQfl4%2BOjRx55RPPmzdPhw4eVm5urt99%2BW7169brsbgFmVMhn5zVo0EDTpk1TcnKy3nrrLXXt2lUDBw7U5v%2B7zqV58%2BaaNm2aZs6cqUmTJslms%2BmJJ55Qnz59tGvXLi1atEhLly6VdDG1GjJkiF555RV98sknql69ekWUDACAtVTC5TxJmjlzpiZMmKA777xTfn5%2BGjBggAYOHChJ2rNnj86cOSNJGjNmjKSL10I5HA61aNFCH3zwgRo0aCBJGjlypPLz8xUXF6fCwkL16NFDEydOLNdavZwVfdVVZeHl5ekKcC3R0dKmTVL79lxYXslF32KNXxtVWevW0pIlUkICF5ZXdh77dVdR978o5xtaVmYVkkQBAIBKrpImUVUJTRQAAFZEE2UaMwgAAGAASRQAAFZEEmUaTRQAAFZEE2UaMwgAAGAASRQAAFZEEmUaMwgAAGAASRQAAFZEEmUaTRQAAFZEE2UaMwgAAGAASRQAAFZEEmUaMwgAAGAASRQAAFZEEmUaTRQAAFZEE2UaMwgAAGAASRQAAFZEEmUaMwgAAGAASRQAAFZEEmUaTRQAAFZEE2UaMwgAAGAASRQAAFZEEmUaMwgAAGAASRQAAFZEEmUaTRQAAFZEE2UaMwgAAGAASRQAAFZEEmUaMwgAAGAASRQAAFZEEmUaTRQAAFZEE2UaMwgAAGAASRQAAFZEEmUaMwgAAGAASRQAAFZEEmUaTRQAAFZEE2UaMwgAAGAASRQAAFZEEmUaMwgAAGAASRQAAFZEEmUaTRQAAFZEE2UaMwgAAGAASRQAAFZEEmUaMwgAACqNrKwsDR06VJ06dVKPHj305z//WcXFxSXuu2TJEsXGxio6OlpxcXFKS0tzbXvppZfUpk0bRUVFuR633XZbudZKEgUAgBVV0iQqMTFRERERSktL0/Hjx/X000%2Brfv36evzxx932W716taZNm6b33ntPbdu21fLlyzVq1Cj985//VGhoqCTp2WefVWJiYoXVWjlnEAAAVCxv7wp5ZGdnKz093e2RnZ1dqpLsdrsyMjL0/PPPq06dOmratKkGDx6slJSUy/Y9d%2B6cRo8erVtvvVXVq1dX//79Vbt2bW3ZsqW8Z%2BqKSKIAAEC5SUlJ0ezZs93GRowYUapEKD09XY0aNVJAQIBrLCIiQnv27FFeXp78/Pxc43FxcW7Hnjp1Svn5%2BQoJCXGNff/991q7dq327dun5s2ba%2BLEiYqMjDT60i5DEwUAgBVV0HJefHy8YmJi3MaCg4NLdazD4ZC/v7/b2KWGKjc3162J%2BiWn06lXXnlF7dq1U8eOHSVJoaGh8vb21nPPPafatWtr9uzZGjJkiFavXq169eqV9WWViCYKAACUG5vNJpvNZvh4p9NZpv0vXLigl156ST///LMWL17sGh8%2BfLjbfi%2B88IJSU1OVlpam/v37G67vl2iiAACwokp4YXlgYKAcDofbmMPhkJeXlwIDAy/b/9y5cxo2bJjOnj2rjz766KoJk4%2BPjxo2bFjq67NKo/LNIAAAqHgVdGG5GZGRkTp8%2BLBOnDjhGrPb7WrRooVq167ttq/T6VRSUpKqVaumDz74wK2BcjqdmjJlijIyMlxjBQUF2r9/v%2Bude%2BWBJgoAAFQKl%2B7rNG3aNOXl5SkzM1MLFy5UQkKCJKl3797auHGjJOmzzz7Tzz//rHfeeUc1a9Z0O4%2BXl5cOHjyoSZMm6ejRo8rPz1dycrKqV6%2Buu%2B%2B%2Bu9zqZTkPAAArqoTLeZI0c%2BZMTZgwQXfeeaf8/Pw0YMAADRw4UJK0Z88enTlzRpK0bNkyZWVluS4kvyQuLk6TJ0/WG2%2B8obfeekv9%2BvVTXl6e2rZtq0WLFqlWrVrlVitNFAAAVlRJm6gGDRro/fffL3Hbzp07XV8vWrToquepW7eupkyZUq61/VrlnEEAAIBKjiQKAAArqqRJVFXCDAIAABhAEgUAgBWRRJlGEwUAgBXRRJnGDAIAABhAEgUAgBWRRJnGDAIAABhAEgUAgBWRRJlGEwUAgBXRRJnGDAIAABhAEgUAgBWRRJnGDAIAABhAEgUAgBWRRJlGEwUAgBXRRJnGDAIAABhAEgUAgBWRRJnGDAIAABhAEgUAgBWRRJlGEwUAgBXRRJnGDAIAABhAEgUAgBWRRJnGDAIAABhAEgUAgBWRRJlGEwUAgBXRRJnGDAIAABhAEgUAgBWRRJnGDAIAABhAEgUAgBWRRJlGEwUAgBXRRJnGDAIAABhAEgUAgBWRRJnGDAIAABhAEgUAgBWRRJlGEwUAgBXRRJnGDAIAABhAEgUAgBWRRJnGDAIAABhAEgUAgBWRRJlGEwUAgBXRRJnGDAIAABhAEgUAgBWRRJnGDAIAYEXe3hXzMCkrK0tDhw5Vp06d1KNHD/35z39WcXFxifsuXrxYsbGxat%2B%2BvRISErR9%2B3bXtvPnz%2BuPf/yjunbtqk6dOmnkyJHKzc01Xd8v0UQBAIBKIzExUSEhIUpLS9PChQuVlpamRYsWXbbfl19%2BqVmzZmnq1Klav369evTooWeeeUZnzpyRJE2fPl3p6elKSUnR6tWr5XQ6NW7cuHKtlSYKAAArqqAkKjs7W%2Bnp6W6P7OzsUpVkt9uVkZGh559/XnXq1PPzU6UAACAASURBVFHTpk01ePBgpaSkXLZvSkqK%2BvXrp3bt2snX11dPPvmkJGndunUqLCzU0qVLNWzYMDVs2FB169bVqFGj9NVXX%2Bno0aPlNoWWuSYq%2Bhanp0vANbRuJS2RlNBqkzL431Wpbd7i5ekScC1e0ZI2acnO9tKWzZ6uBld1ff3CS0lJ0ezZs93GRowYocTExGsem56erkaNGikgIMA1FhERoT179igvL09%2Bfn5u%2B/bp08f1vbe3t8LDw2W32xUeHq7Tp08rIiLCtb158%2Bby9fVVenq6QkJCzLxEF8s0UQAA4L%2Bcqph/DMXHxysmJsZtLDg4uFTHOhwO%2Bfv7u41daqhyc3PdmiiHw%2BHWbF3aNzc3Vw6HQ5IuO5e/v3%2B5XhdFEwUAgAVd4Vpt02w2m2w2m%2BHjnc7SJ3PX2rcs5zKCa6IAAEClEBgY6EqRLnE4HPLy8lJgYKDbeL169UrcNzAw0LXvr7efPHlSQUFB5VYvTRQAABZUXFwxDzMiIyN1%2BPBhnThxwjVmt9vVokUL1a5d%2B7J909PTXd8XFRXpxx9/VLt27RQaGqqAgAC37bt27VJBQYEiIyPNFfkLNFEAAKBSaNOmjaKiojRt2jTl5eUpMzNTCxcuVEJCgiSpd%2B/e2rhxoyQpISFBy5cv15YtW3T27Fm9%2B%2B67qlGjhrp37y4fHx898sgjmjdvng4fPqzc3Fy9/fbb6tWrl%2BrXr19u9XJNFAAAFlRR10SZNXPmTE2YMEF33nmn/Pz8NGDAAA0cOFCStGfPHtd9oLp27arRo0dr1KhROn78uKKiojR//nz5%2BvpKkkaOHKn8/HzFxcWpsLBQPXr00MSJE8u1Vi9nRV91VUlER3u6AlxL69bSkiVSQoKUkeHpanA13OKgCoiOljZtktq3lzZzi4NKzUN/hs%2BerZjz3nBDxZy3MmI5DwAAwACW8wAAsKDKupxXlZBEAQAAGEASBQCABZFEmUcTBQCABdFEmcdyHgAAgAEkUQAAWBBJlHkkUQAAAAaQRAEAYEEkUebRRAEAYEE0UeaxnAcAAGAASRQAABZEEmUeSRQAAIABJFEAAFgQSZR5NFEAAFgQTZR5LOcBAAAYQBIFAIAFkUSZRxIFAABgAEkUAAAWRBJlHk0UAAAWRBNlHst5AAAABpBEAQBgQSRR5pFEAQAAGEASBQCABZFEmUcTBQCABdFEmcdyHgAAgAEkUQAAWBBJlHkkUQAAAAaQRAEAYEEkUebRRAEAYEE0UeaxnAcAAGAASRQAABZEEmUeTRQAABZEE2Uey3kAAAAGkEQBAGBBJFHmkUQBAAAYQBIFAIAFkUSZRxMFAIAF0USZx3IeAACAASRRAABYEEmUeSRRAAAABpBEAQBgQSRR5pFEAQBgQcXFFfOoSA6HQ6NGjVLnzp3VpUsXjR8/XufOnbvi/l988YV%2B97vfKTo6WrGxsfr4449d22bNmqXw8HBFRUW5PY4dO1bqemiiAABAlTBhwgSdPXtWqampWrZsmTIzM5WcnFzivtu2bdPzzz%2BvkSNH6ocfftDLL7%2Bs1157TRs3bnTtExcXJ7vd7vaoX79%2BqethOQ8AAAuqqNQoOztbOTk5bmPBwcGy2Wymznvs2DGlpaXp008/VWBgoCRp2LBheu655/Tiiy%2BqevXqbvs7HA49/fTTuvvuuyVJ3bp1U1hYmDZu3KjbbrvNVC2X0EQBAIByk5KSotmzZ7uNjRgxQomJiabOu2PHDvn4%2BKhVq1ausYiICJ05c0a7d%2B92G5ekrl27qmvXrq7vCwsLlZOTo5CQENfYzp07NWDAAO3atUsNGzbUuHHj1KVLl1LXRBMFAIAFVVQSFR8fr5iYGLex4OBg0%2Bd1OBzy8/OTl5eXaywgIECSlJube83jk5OTVatWLfXp00eS1KBBA4WGhmrMmDGy2WxKSUnRM888o5UrV%2Brmm28uVU00UQAAWFBFNVE2m83w0t2KFSs0duzYErclJSXJ6XSW%2BZxOp1PJyclKTU3V4sWLVbNmTUlS//791b9/f9d%2BgwcP1ueff66VK1dq1KhRpTo3TRQAAKgU4uLiFBcXV%2BK27777Tnl5eSoqKpKPj4%2Bki%2BmUJAUFBZV4THFxscaNG6dt27ZpyZIlCg0NverzN2rUSNnZ2aWul3fnAQBgQVXtFgfh4eFyOp3KyMhwjdntdvn7%2B6tZs2YlHvPmm2/qp59%2BKrGBmjt3rjZs2OA2lpmZec1G65doogAAQKUXGBio2NhYzZgxQydOnNCRI0c0Z84cPfzww6pW7eLC2qBBg7Rq1SpJ0n/%2B8x%2BtXLlS8%2BfPV926dS87n8Ph0KRJk7R7926dP39eCxYs0P79%2B/Xggw%2BWuiaW8wAAsKCqeMfy1157Ta%2B%2B%2Bqp69uyp6tWr67777lNSUpJr%2B4EDB3Ty5ElJ0rJly3T69Gn16NHD7RwdOnTQggULNGbMGEkXr4VyOBxq0aKFPvjgAzVo0KDU9Xg5jVylVQVFR3u6AlxL69bSkiVSQoL0i7QWldDmLV7X3gmeFR0tbdoktW8vbd7s6WpwNR76M/zPf1bMee%2B9t2LOWxmxnAcAAGAAy3kAAFhQVVzOq2xIogAAAAwgiQIAwIJIosyjiQIAwIJoosxjOQ8AAMAAkigAACyIJMo8kigAAAADSKIAALAgkijzaKIAALAgmijzWM4DAAAwgCQKAAALIokyjyQKAADAAJIoAAAsiCTKPJooAAAsiCbKPJbzAAAADCCJAgDAgkiizCOJAgAAMIAkCgAACyKJMo8mCgAAC6KJMo/lPAAAAANIogAAsCCSKPNIogAAAAwgiQIAwIJIosyjiQIAwIJoosxjOQ8AAMAAkigAACyIJMo8migAACyIJso8lvMAAAAMIIkCAMCCSKLMI4kCAAAwgCQKAAALIokyjyYKAAALookyj%2BU8AAAAA0iiAACwIJIo80iiAAAADCCJAgDAgkiizKOJAgDAgmiizGM5DwAAwACSKAAALIgkyrxyS6IOHjyoVq1aKTMzs7xOCQAAUGmxnAcAgAUVF1fMoyI5HA6NGjVKnTt3VpcuXTR%2B/HidO3euxH0/%2BeQTtW7dWlFRUW6Pbdu2/d/rL9b06dPVs2dPdejQQU888YQOHDhQpnpoogAAsKCq2ERNmDBBZ8%2BeVWpqqpYtW6bMzEwlJydfcf8OHTrIbre7Pdq2bStJ%2Buijj/TZZ59p/vz5WrdunZo2barhw4fL6XSWuh5DTdSBAwc0ZMgQRUdHq0ePHlq8ePFl%2B5w8eVJjx45Vly5dFB0draFDh%2BrgwYOSLnZ/f/rTn9SlSxfdcsst%2Bt3vfqdvvvnGdeyGDRsUHx%2Bv6Oho3XXXXZozZ46RMgEAwHXi2LFjSktLU1JSkgIDAxUSEqJhw4Zp2bJlunDhQpnPl5KSosGDB6t58%2Bby8/NTUlKSMjMztXXr1lKfw9CF5SNGjFDHjh01Z84c7d27V7///e/l6%2Bvrts8rr7yivLw8rVy5UjVq1NDLL7%2BsUaNGaenSpfr888%2B1fv16rVy5UgEBAVq%2BfLlefPFFff311zp%2B/LiGDRumV199Vffff79%2B/vlnPfnkk2rcuLHuv//%2BUtWXnZ2tnJwct7GQkGDVq2cz8nLxG2na1P2/qMS8oj1dAa6ldWv3/6Jy2rzZY09dUalRSX%2BDg4ODZbOZ%2Bxu8Y8cO%2Bfj4qFWrVq6xiIgInTlzRrt373Ybv%2BTw4cN6/PHHtX37dvn7%2B2vkyJGKi4vTuXPn9PPPP6tNmzauff38/NSkSRPZ7XbdcsstpaqpzE3Ujz/%2BqJ07d2rRokW64YYbFB4ertmzZyskJMS1j8Ph0Jo1a5SSkqLAwEBJ0siRI9W3b18dOHBAp06dUrVq1XTDDTfIx8dHDz30kB588EF5e3srNTVVLVu21AMPPCBJatWqlQYMGKAVK1aUuolKSUnR7Nmz3caGDRuh555LLOvLhQdMmeLpCnBtmzxdAErr73/3dAW4Gi8vT1dQ7kr6GzxixAglJpr7G%2BxwOOTn5yevX8xZQECAJCk3N/ey/QMDA9W0aVONHj1aLVq00Jo1azR27FjZbDbdfPPNcjqdruN/eb6SznUlZW6i9u/fLz8/P9WtW9c11rlzZ9dSnSQdOnRITqdTzZs3d401btxYkpSVlaW%2BfftqxYoV6tq1q%2B688051795dffv2lbe3t/bv3y%2B73a6oqCjXsU6nU82aNSt1jfHx8YqJiXEbGzMmWN9/X9ZXi99S06YXG6hx46S9ez1dDa5myc72ni4B19K69cUGauBAKSPD09WgEqqoJKqkv8HBwcGlOnbFihUaO3ZsiduSkpLKdL1S9%2B7d1b17d9f3ffv21Zo1a/TJJ5/o%2Beefl6Qyna8kZW6ivL29VXyNmS8oKLjiNi8vL9WtW1cff/yxNm3apHXr1mnmzJlasmSJPvroI/n6%2Bqpbt26aN29eWUtzsdlsl8WGR49efKDy27uX3/mV3hbPLUGgjDIyPLpkhMqropqokv4Gl1ZcXJzi4uJK3Pbdd98pLy9PRUVF8vHxkXQxnZKkoKCgUp2/UaNG2r59u%2BrWrStvb2/X8Zc4HI5Sn0sycGF5aGio8vPzlZ2d7RpLS0vToUOH3PaRpN27d7vGLn3duHFjnT9/XmfPnlX79u01ZswYpaamateuXcrIyFDjxo21a9cut%2B4wJyfnqo0ZAAC4voWHh8vpdCrjF//Kttvt8vf3L3G1asmSJVq1apXbWGZmpkJDQ1WzZk21bNlS6enprm2nTp3S/v37Xe/eK40yN1Hh4eFq06aNZsyYofz8fO3atUvjx493u8lmUFCQunTponfeeUcOh0MnT57UjBkz1KlTJzVs2FBvvPGGXnzxRZ04cUJOp1Pp6ekqLi7WjTfeqL59%2B8rhcGju3Lk6d%2B6c652AixYtKmupAADgCqraLQ4CAwMVGxurGTNm6MSJEzpy5IjmzJmjhx9%2BWNWqXVxYGzRokKtxKigo0Ouvvy673a4LFy4oNTVV//rXvzRgwABJUkJCghYvXqzMzEzl5eUpOTlZ4eHhbpcTXYuhd%2BfNmzdPY8eOVefOnRUUFKRhw4bprrvuctvnrbfe0qRJk3TvvffK29tbd9xxh6b83xXDY8aM0auvvqrY2FgVFhaqSZMmmjZtmusi9Llz52rq1KmaN2%2BeAgMDFRcXpyFDhhgpFQAAXCdee%2B01vfrqq%2BrZs6eqV6%2Bu%2B%2B67T0lJSa7tBw4c0MmTJyVJjz32mPLz8/Xcc88pJydHN910k%2BbMmaPIyEhJ0oABA5STk6NHH31U%2Bfn56tSp02UXxF%2BLl9PsVVVVRDTvyK70WreWliyREhK4Jqqy27zl%2BntH0XUnOlratElq355roio7D/0ZHjeuYs5rpXdY8wHEAABYEB9AbB4f%2BwIAAGAASRQAABZEEmUeSRQAAIABJFEAAFgQSZR5NFEAAFgQTZR5LOcBAAAYQBIFAIAFkUSZRxIFAABgAEkUAAAWRBJlHk0UAAAWRBNlHst5AAAABpBEAQBgQSRR5pFEAQAAGEASBQCABZFEmUcTBQCABdFEmcdyHgAAgAEkUQAAWBBJlHk0UQAAWBBNlHks5wEAABhAEgUAgAWRRJlHEgUAAGAASRQAABZEEmUeTRQAABZEE2Uey3kAAAAGkEQBAGBBJFHmkUQBAAAYQBIFAIAFkUSZRxMFAIAF0USZx3IeAACAASRRAABYEEmUeSRRAAAABpBEAQBgQSRR5tFEAQBgQTRR5rGcBwAAYABJFAAAFkQSZR5JFAAAgAEkUQAAWBBJlHk0UQAAWBBNlHks5wEAABhAEgUAgAWRRJlHEgUAAGAASRQAABZUFZMoh8OhiRMn6t///re8vb3VrVs3TZgwQb6%2Bvpft%2B8orr2jFihVuY0VFRYqLi9OUKVP00ksvaeXKlfLx8XFtr1mzpjZu3FjqekiiAACwoOLiinlUpAkTJujs2bNKTU3VsmXLlJmZqeTk5BL3nTx5sux2u%2BuxefNm3Xzzzerdu7drn2effdZtn7I0UBJNFAAAqAKOHTumtLQ0JSUlKTAwUCEhIRo2bJiWLVumCxcuXPP4RYsW6cYbb1S3bt3KrSaW8wAAsKCKSo2ys7OVk5PjNhYcHCybzWbqvDt27JCPj49atWrlGouIiNCZM2e0e/dut/FfO3XqlObNm6e///3vbuPff/%2B91q5dq3379ql58%2BaaOHGiIiMjS10TTRQAACg3KSkpmj17ttvYiBEjlJiYaOq8DodDfn5%2B8vLyco0FBARIknJzc6967IcffqgOHTqoZcuWrrHQ0FB5e3vrueeeU%2B3atTV79mwNGTJEq1evVr169UpVE00UAAAWVFFJVHx8vGJiYtzGgoODS3XsihUrNHbs2BK3JSUlyel0lrmeoqIiffTRR5o2bZrb%2BPDhw92%2Bf%2BGFF5Samqq0tDT179%2B/VOemiQIAwIIqqomy2WyGl%2B7i4uIUFxdX4rbvvvtOeXl5Kioqcr2jzuFwSJKCgoKueM4ffvhBBQUFuu2226763D4%2BPmrYsKGys7NLXS8XlgMAgEovPDxcTqdTGRkZrjG73S5/f381a9bsisetXbtWt99%2Bu6pV%2B29u5HQ6NWXKFLdzFRQUaP/%2B/QoNDS11TTRRAABYUFW7xUFgYKBiY2M1Y8YMnThxQkeOHNGcOXP08MMPuxqkQYMGadWqVW7H7dixQzfddJPbmJeXlw4ePKhJkybp6NGjys/PV3JysqpXr66777671DXRRAEAgCrhtddeU506ddSzZ0/97ne/U9u2bZWUlOTafuDAAZ08edLtmJycHNWvX/%2Byc73xxhtq2rSp%2BvXrp86dO2vHjh1atGiRatWqVep6uCYKAAALqop3LK9Tp47efvvtK27/8ssvLxtbvXp1ifvWrVtXU6ZMMVUPTRQAABZUFZuoyoblPAAAAANIogAAsCCSKPNIogAAAAwgiQIAwIJIosyjiQIAwIJoosxjOQ8AAMAAkigAACyIJMo8migAACyIJso8lvMAAAAMIIkCAMCCSKLMI4kCAAAwgCQKAAALIokyjyYKAAALookyj%2BU8AAAAA0iiAACwIJIo80iiAAAADCCJAgDAgkiizKOJAgDAgmiizGM5DwAAwACSKAAALIgkyjySKAAAAANIogAAsCCSKPNoogAAsCCaKPNYzgMAADCAJAoAAAsiiTKPJAoAAMAAkigAACyIJMo8migAACyIJso8lvMAAAAMIIkCAMCCSKLMI4kCAAAwgCQKAAALIokyjyYKAAALookyj%2BU8AAAAA0iiAACwIJIo80iiAAAADCCJAgDAgkiizKOJAgDAgmiizGM5DwAAwACSKAAALIgkyjySKAAAAANoogAAsKDi4op5VDS73a5evXrpkUceuea%2BixcvVmxsrNq3b6%2BEhARt377dte38%2BfP64x//qK5du6pTp04aOXKkcnNzy1QLTRQAABZUFZuolStXKjExUU2aNLnmvl9%2B%2BaVmzZqlqVOnav369erRo4eeeeYZnTlzRpI0ffp0paenKyUlRatXr5bT6dS4cePKVA9NFAAAqBLOnz%2BvlJQUtWvX7pr7pqSkqF%2B/fmrXrp18fX315JNPSpLWrVunwsJCLV26VMOGDVPDhg1Vt25djRo1Sl999ZWOHj1a6nq4sBwAAAuqqNQoOztbOTk5bmPBwcGy2Wymz92/f/9S75uenq4%2Bffq4vvf29lZ4eLjsdrvCw8N1%2BvRpRUREuLY3b95cvr6%2BSk9PV0hISKmewzJN1ObNnq4A15Kdna1Zs1L0zjvx5fLDhork9HQBuIbs7GylzJql%2BP/9X36eUCJnBf0Yz5qVotmzZ7uNjRgxQomJiRXzhFfgcDgUEBDgNhYQEKDc3Fw5HA5Jkr%2B/v9t2f3//Ml0XZZkmCpVfTk6OZs%2BerZiYGH7pAybx8wRPiY%2BPV0xMjNtYcHBwqY5dsWKFxo4dW%2BK2KVOmqF%2B/fmWqxXmNTvFa26%2BFJgoAAJQbm81muHGPi4tTXFxcudRRr149V%2BJ0icPhUMuWLRUYGOj6vnbt2q7tJ0%2BeVFBQUKmfgwvLAQDAdScyMlLp6emu74uKivTjjz%2BqXbt2Cg0NVUBAgNv2Xbt2qaCgQJGRkaV%2BDpooAABwXejdu7c2btwoSUpISNDy5cu1ZcsWnT17Vu%2B%2B%2B65q1Kih7t27y8fHR4888ojmzZunw4cPKzc3V2%2B//bZ69eql%2BvXrl/r5WM5DpREcHKwRI0aUeu0cwJXx84TrUWxsrA4dOqSioiIVFxcrKipKkvS///u/atSokfbs2eO6D1TXrl01evRojRo1SsePH1dUVJTmz58vX19fSdLIkSOVn5%2BvuLg4FRYWqkePHpo4cWKZ6vFymr2qCgAAwIJYzgMAADCAJgoAAMAAmigAAAADaKIAAAAMoIkCAAAwgCYKAADAAJooAAAAA2iiAAAADKCJAgAAMIAmCgAAwACaKFRaRUVFni4BAIAroomCRw0fPlzHjh27bHzbtm168MEHPVARUHV9/vnneuqpp/TAAw9IkgoKCvTXv/5VfEQqUDFoouBRNWvWVJ8%2BffQ///M/kqRz585pypQpGjRokHr16uXh6oCqY%2B7cuZo6daqio6O1e/duSdKpU6e0fPlyvfPOOx6uDrg%2BeTn5Jwo8bOPGjXrzzTdVq1YtHTlyRC1atND48eMVGhrq6dKAKqNbt276y1/%2BopYtW6pdu3baunWrJOnAgQN67LHHtG7dOg9XCFx/SKLgcbfccotiY2Nlt9uVm5ur%2B%2B%2B/nwYKKKPTp0%2BrZcuWl43bbDadOHHCAxUB1z%2BaKHjU119/rb59%2B2r9%2BvX67LPPNHfuXM2aNUuDBg1yLUkAuLawsDCtXLnysvEFCxaoefPmHqgIuP6xnAeP6tSpk1544QU9/PDDrrGCggLNmTNHixcv1ubNmz1YHVB1bNiwQcOHD1dYWJi2bdumbt26adeuXTp58qTmzp2rjh07erpE4LpDEwWPOn78uIKCgkrc9tNPP5W4PAGgZEeOHNHnn3%2Bu/fv3y9fXV40bN1bfvn1Vt25dT5cGXJdoouBxW7Zs0YoVK3T06FHNnTtXxcXF%2BuKLL9S7d29PlwZUKUVFRfLx8ZEkFRcXKyMjQw0bNlS9evU8XBlwfeKaKHjUxx9/rCFDhqigoEDffPONJCknJ0dvvvmmFi9e7OHqgKrj22%2B/Vbdu3SRJhYWFGjhwoH7/%2B98rJiaGd%2BYBFYQmCh71/vvv6/3339cbb7whLy8vSVJISIjee%2B89ffjhhx6uDqg6kpOTNXr0aEkXb7p57NgxrV%2B/XvPnz9esWbM8XB1wfaKJgkcdO3ZM7du3lyRXEyVJLVq0UHZ2tqfKAqqcffv2ue7y/9VXX6lv37664YYb1KFDB%2B3du9ezxQHXKZooeFSTJk30/fffXzaempqqG2%2B80QMVAVVT7dq1derUKZ07d07fffedevToIUnKzc1VtWrVPFwdcH3iJwseNXToUA0bNkwxMTEqLCzU5MmTtXPnTm3evFnTpk3zdHlAlXHfffdp0KBB8vHxUbNmzXTLLbfo3LlzevXVV3XnnXd6ujzgusS78%2BBxdrtdn376qett2aGhoerfv79uvvlmT5cGVBlOp1Opqak6ffq0%2Bvbtq4CAABUUFGjy5Ml64YUXVKdOHU%2BXCFx3aKIA4DqSlZWlrKwseXl5qXHjxgoJCfF0ScB1i%2BU8/OYeffRRt4vIr4bbHAClk5WVpaSkJNntdl36t7GXl5duv/12zZgxQwEBAR6uELj%2BcGE5fnO33HKL2rVrp3bt2iksLEw7duxQrVq1FBERofDwcFWvXl07duxQdHS0p0sFqozXX39dDRs2VGpqqux2u2uZvGbNmnrzzTc9XR5wXWI5Dx41evRoPfDAA%2BratavbeFpamlJTUzVjxgwPVQZULe3bt9c333yj2rVru42fPHlSffv21bfffuuhyoDrF0kUPOqrr75S586dLxvv1q2bvv76aw9UBFRNtWrV0oULF0rcVlxc/BtXA1gDTRQ8ymazKSUl5bLxTz75RMHBwR6oCKiaOnfurDFjxshutys/P1/5%2Bfmy2%2B0aM2aMbrvtNk%2BXB1yXWM6DR3355ZcaPXq0ateurYYNG6qoqEhHjx7V6dOn9fbbb6tXr16eLhGoEk6dOqXx48crLS3NNeZ0OtWlSxe99dZbCgoK8mB1wPWJJgoed/r0aX3zzTc6evSoCgoKZLPZ1LlzZ96aDRhw8uRJHTp0SAUFBQoNDVVgYKCnSwKuWzRRqDQKCgouG6tRo4YHKgGqhj179pR632bNmlVgJYA10UTBo9avX68333xTe/fuVVFR0WXbd%2BzY4YGqgKqhdevW8vLycrsvlNPpdLsP26Xv%2BVkCyh9NFDyqV69e6tixo%2B655x7dcMMNl23v2LGjB6oCqoasrCy379evX6/27dvL19dXknTo0CFlZmbqrrvuUqNGjTxRInBd447l8Khjx45p0qRJfMo8YMAvG6O//e1veueddzRr1izdcccdkqSMjAxNnz5dhYWF%2BsMf/uCpMoHrFrc4gEd17NhRGRkZni4DqPIWLlyoDz/80NVASVLPnj31t7/9TQsXLvRgZcD1i3/%2Bw6PuvvtujR07Vj169NBNN90kb2/3vj4%2BPt5DlQFVS25urm6%2B%2BebLxm%2B66SYdP37cAxUB1z%2BuiYJHxcTEXHGbl5eX1q5d%2BxtWA1RdTzzxhFq2bKnhw4erTp06ki4ul8%2BYMUMHDx7UBx984NkCgesQTRR%2Bc/v27VOTJk0kSbt37/7/7dwhboRgFIXRGzQaQYIHw87YD%2BvCkCAhYQdYUtmUmuYXM83knBU8%2BZn7fiyJnsyy4W%2BO48g0Tdm2LXVd577vXNeVYRgyz3Oapnn3ifBxRBQvN45jlmVJ8j3RfjLLhjLrumbf91RVla7r0vf9u0%2BCjyWieLnzPNO2bZLfE%2B0ns2wA/isRBQBQwIsDAIACIgoAoICIAgAoIKIAAAqIrpPAnQAAABNJREFUKACAAiIKAKCAiAIAKPAFbvwkUoxjAFYAAAAASUVORK5CYII%3D\" class=\"center-img\">\n",
              "    <img src=\"data:image/png;base64,iVBORw0KGgoAAAANSUhEUgAAAlEAAAIGCAYAAAB099qRAAAABHNCSVQICAgIfAhkiAAAAAlwSFlzAAAPYQAAD2EBqD%2BnaQAAADh0RVh0U29mdHdhcmUAbWF0cGxvdGxpYiB2ZXJzaW9uMy4xLjIsIGh0dHA6Ly9tYXRwbG90bGliLm9yZy8li6FKAAAgAElEQVR4nOzdfVhUdf7/8RegSYqiIINmmHdgCGRYpqnrDeYP04xqNcXWtDIzBZNMqy1LzXRtMV3vMjVNt7alzTYN3TUpq62szTQdScSQwntQGRW8QWB%2Bf7jOt0lUOAca9Dwf1zWX8jk3855PF83b1%2BfMGS%2Bn0%2BkUAAAAKsTb0wUAAABciWiiAAAADKCJAgAAMIAmCgAAwACaKAAAAANoogAAAAygiQIAADCAJgoAAMAAmigAAAADaKIAAAAMqOHpAoCr2bZt2/T%2B%2B%2B9ry5Yt2rt3r06dOqVatWrJZrMpMjJSffr0UUxMjLy8vDxdKgCggrz47jyg8jmdTr388sv661//Kkny9/dXWFiY/Pz8VFBQoB07dqigoECS1KNHD82ZM0fXXHONJ0sGAFQQTRRQBd5%2B%2B21NmTJFvr6%2Bmjx5svr16ycfHx/X9tOnT%2Bvvf/%2B7ZsyYodLSUo0YMULjxo3zYMUAgIrimiigCrzzzjuSpAcffFD33HOPWwMlSb6%2Bvho2bJgeffRRSdJbb72l06dP/%2BZ1AgCMo4kCqkBOTo4kqXXr1pfcb9iwYVqyZInWr18vX19fSdIzzzyj1q1ba8aMGSosLNT06dMVExOjqKgodezYUQkJCcrMzLzoOTdu3KiEhAR16dJFkZGR6tixo4YNG6YPP/zwosc4HA7NmjVL99xzj6KjoxUREaFOnTpp5MiR%2Buabb8o8JiYmRq1bt9bnn3%2Bu9evXq0%2BfPoqKitJ3330nSZo7d65at26tZ555RkVFRZo7d65iY2N10003qVu3bnrppZd08uRJSdKuXbs0ZswYde7cWVFRUerXr59Wr15d5vOeOnVKixcv1v33369bb71Vbdq0UYcOHfTQQw9p/fr1ZR4zZMgQtW7dWu%2B8844KCws1a9YsVy3t27fXo48%2Bqu3bt190fgCgLDRRQBUICAiQJH3//feX3e93v/udGjZseMG2wsJCDRs2TO%2B8844aNGig9u3bq6SkROvXr9eAAQPKfNOfNWuWhg0bpvXr18vPz08dOnRQQECANm7cqKeeekpjx45VSUmJ2zF5eXm67777tHDhQu3evVtt2rRRx44ddc0112jDhg0aOnSoVq5cedHXsHv3biUlJalmzZrq2LGjqxn8pfHjx2vp0qVq0qSJQkNDlZubq7feektPP/20MjMzFR8fr4yMDN14440KCgpSZmamxo8fr08//dTtPKdOndLgwYOVnJys9PR0tWzZUrfffrv8/f311VdfKSEhQXPnzr1orUVFRRo2bJiWL1%2Buxo0bKyIiQiUlJfr88881ZMgQV/MLAOXiBFDpnn76aWdYWJizdevWzhkzZjgPHTpU4WPbtWvnvOuuu9yOPX78uLN///7OsLAwZ//%2B/d2O%2B%2Bijj5xhYWHO9u3bO7/55hu3bf/973%2BdnTp1coaFhTmXLVvmtm3q1KnOsLAwZ2xsrPPw4cOu8eLiYufLL7/sDAsLc95yyy3OgoICt%2BN69OjhDAsLc8bExDhfe%2B21C17HnDlznGFhYc4uXbo47777bmdeXp5r2/r1613z07t3b%2BfcuXOdpaWlTqfT6SwpKXGOHj3aGRYW5nzkkUfczrls2TJnWFiYs2PHjs7s7Owyt4WHhztzcnLctv3hD39whoWFObt37%2B4cPHiw88iRI65tubm5zs6dOzvDwsKc06ZNu%2BB1AMDFkEQBVWDs2LFq3LixnE6n3njjDXXv3l1/%2BMMfNHv2bH311Vc6derUZc9RUFCgSZMmyWazucbq1q2rZ555RtK52yf89NNPrm2vvfaaJOnpp5/Wbbfd5nau9u3ba8KECZKk5cuXu22z2Wzq27evEhISFBgY6Br38fFRUlKSvL29deLEiYumaucvjL%2BY3NxcTZ482S1tu%2BOOOxQUFCSn06kaNWpo9OjRrts8eHt7a%2BDAgZKkH374we1cderUUb9%2B/TRy5Eg1a9bMbdvQoUMVFBSkkpISbdy4scxa8vLy9Oqrr7qSQkkKCgpSv379JElbt2696OsAgF/jPlFAFWjUqJH%2B8Y9/6M9//rNSU1NVUlKib7/9Vt9%2B%2B61ee%2B011axZUx06dNDdd9%2Btvn37qkaNC38VbTabbrnllgvGo6OjVadOHRUWFur7779Xs2bNdOjQIaWnp0uSevXqVWZNd9xxh7y8vLR//35lZ2erefPmkuS6uL0s1157rQIDA5WXl6e8vLwy9%2BnYsaO8vS/%2B77GgoCDdfPPNF4w3adJEeXl56tGjxwX3yWrSpIkk6dixY27jAwYM0IABA8p8Hi8vL11//fWXrPW2225TcHDwBeNNmzaVJOXn51/0dQDAr9FEAVUkKChIr7zyiiZMmKD169dr48aN2rRpk44cOaKzZ8/qiy%2B%2B0BdffKHFixdrwYIFrjfy88LCwso8r7e3t5o0aaLMzEzt3btXktwuND%2BfVJWlRo0aOnv2rH766SdXEyWdu1bos88%2B0/bt25Wbm6vjx4/L%2Bb%2B7n5w4cULSucSpLGU1Jb90/fXXlzl%2B/r5Y5xumsrYVFxdfsK20tFRffvmltmzZotzcXDkcDldt2dnZl6w1JCSkzPFatWpJks6ePXuplwIAbmiigCrWsGFDxcfHKz4%2BXtK5C7G/%2BeYbrVq1Slu2bNGuXbs0YsQIffjhh6pZs6brOH9//4ues27dupLOXXwuuSc2H3/88WVrOt8YSVJGRoZGjx7tasgq6lJ1SnJ7TUa2/9L%2B/fs1evToC5b5yosbmgKoTDRRwG%2BsRYsWatGiheLj47V8%2BXJNmzZN2dnZWrt2reLi4lz7XWqJ7HzScn6f88thNWvWlN1uL/fXyJw%2BfVqPP/649u/fr2bNmmnUqFG6/fbb1aBBA1dzExMTo3379l30HL/lV9aMGTNGP/zwgxo2bKjExER17dpVDRs2dDVHQ4YM0X//%2B9/frB4A1kYTBXjQ0KFD9dZbbyknJ0e7du1y23b%2Ba2HKcn7b%2BUSqfv36ks4tR%2BXn57tdOH0pn3/%2Bufbv3y8vLy8tWrRIN9xwwwX7VJebgKanp8tut0uSkpOTdfvtt1%2BwT3WpFYA18Ok8oJKtX79eL7zwghYtWlSu/c8vh52/Lue8H3/8scz9S0pKXMnQ%2BWt8fnn91K%2BbsUs5/%2Bm%2Bpk2bltlA5eTk6MiRI%2BU%2BX1X6%2BeefJcl1P6pfKywsvORNSAGgstFEAZXMbrcrJSVFixYt0v79%2By%2B576FDh5SRkSFJF3yCbc%2BePdqxY8cFx3z33XeuO31HR0dLOncRe0REhCTp3XffLfO5srOzFRcX57oVgvR/SdaZM2fKPGb%2B/Pmuv//6Jp2/NT8/P0nnljLLugD8jTfecCVRZV2QDgCVjSYKqGQPPfSQgoKCdOLECQ0dOrTMr01xOp36%2BuuvNXz4cJ09e1Y333yzOnfu7LZP3bp19fzzz7slQQ6HQ3/6058knbu1wHXXXefaNnLkSElSamqq3nzzTden66RzKc6YMWOUkZGhAwcOuMZvvPFGSdLBgweVlpbmGj916pSmTp0qu93uatR2795teE4qQ1hYmHx8fFRSUqK//e1vrvHi4mK9/vrrSklJUY8ePST936f0AKAqcU0UUMkaNGigpUuXKjExUT/99JMefPBBBQUFqUWLFqpdu7YcDof27t3rupfRLbfconnz5l1wIXlMTIz27Nmjnj17KioqSjVr1tTWrVtVUFAgPz8/vfDCC277/7//9/80YsQILVq0SNOnT9eKFSvUokUL5efna8eOHSopKVGbNm301FNPuY6Jjo5Wly5d9MUXXygxMVFt27ZVrVq1tH37dtWoUUPLli3TmjVrtGXLFq1YsUI7d%2B7U448/rvbt21f9RP5Ko0aN1L9/f6WkpGj69OlavXq16tevrx07dqiwsFDz5s3T3r17tWHDBq1bt05DhgzR4MGDdeedd/7mtQKwBpoooAqEhYXpww8/1Jo1a/TJJ58oIyND27ZtU1FRkXx9fRUcHKzbb79dffr0Uffu3cv8hJu3t7eWLl2qBQsW6KOPPtL%2B/ftVp04dxcbGKikpye0%2BT%2BeNGzdOnTp10ltvvaXvv/9eGzduVK1atRQZGak%2Bffpo8ODBF3zMf/bs2UpOTtbHH3%2Bs7du3y2azKTY2ViNHjlTTpk3VqFEj/fDDD9q8ebN27dr1m34a79eef/55%2Bfv7KzU1VZmZmQoMDFSHDh302GOPKTw8XKdPn9Y333yjzz//XLt27XJL4wCgsnk5%2Bb8MUK0888wz%2Buc//6l7773XtXQHAKh%2BuCYKAADAAJooAAAAA2iiAAAADKCJAgAA1cZ//vMfderUSUlJSZfcr7S0VLNmzVLPnj3Vvn17PfLII9qzZ49ru8Ph0NixY9WpUyd16dJFzz33XKV/qwEXlgMAgGph8eLFeu%2B99xQQEKBGjRpp1qxZF933r3/9q5YtW6bFixcrODhYs2bN0rfffqtVq1bJy8tLiYmJKioq0vTp03X27Fk98cQTioyM1PPPP19p9ZJEAQCAaqFWrVp67733yvwaql9LSUnRsGHD1LJlS/n5%2BSkpKUlZWVnaunWrDh8%2BrLS0NCUlJSkgIEDBwcEaNWqUVq5cWeY3HhjFfaIAAEClyc3Ndd1M%2BLygoCDZbLbLHvvggw%2BW6zlOnz6tH3/8UW3atHGN%2Bfn56YYbbpDdbteJEyfk4%2BOj1q1bu7ZHRETo5MmT2r17t9u4GdZpojx4g0CUU/Pm0q5dUmioxNd2VGvdunIVQHXXuLH09tvSAw9Iv/imH1RDn33moSeuovfFlDlzNG/ePLexhIQEJSYmVtpzHDt2TE6n0/UF7uf5%2B/srPz9f9evXl5%2Bfn9vNgc/vm5%2BfX2l1WKeJQvVXv77k43PuTwCm%2BPmd%2B3X63/c2A7%2BZgQMHKiYmxm0sKCioSp7rUpd1/xaXfNNEAQBgRd5Vc1m0zWYr19KdGfXr15e3t7ccDofbuMPhUGBgoAICAlRQUKCSkhL5%2BPi4tklSYGBgpdXBheUAAFiRt3fVPH4DtWrVUmhoqNLT011jx48fV05Ojm666SaFh4fL6XQqIyPDtd1ut6tevXplfu%2BoUTRRAACg2jt06JB69%2B7tuhdUfHy8VqxYoaysLBUUFCg5OVnh4eGKiopSQECAYmNjNXv2bB09elQHDx7U/Pnz1b9/f9WoUXmLcCznAQBgRb9RalQRUVFRkqTi4mJJUlpamqRzKdLZs2eVnZ2toqIiSdKgQYOUl5enIUOGqLCwUB06dHC7oH3KlCl68cUX1bNnT9WsWVN33XXXZW/gWVHWudkmn86r/qKjpc2bpXbtpC1bPF0NLoFP51V/oaHSkiXS8OHnPvSK6stjn86rVatqznvmTNWctxoiiQIAwIqqYRJ1paGJAgDAimiiTGMGAQAADCCJAgDAikiiTGMGAQAADCCJAgDAikiiTKOJAgDAimiiTGMGAQAADCCJAgDAikiiTGMGAQAADCCJAgDAikiiTKOJAgDAimiiTGMGAQAADCCJAgDAikiiTGMGAQAADCCJAgDAikiiTKOJAgDAimiiTGMGAQAADCCJAgDAikiiTGMGAQAADCCJAgDAikiiTKOJAgDAimiiTGMGAQAADCCJAgDAikiiTKOJAgDAimiiTGMGAQAADCCJAgDAikiiTGMGAQAADCCJAgDAikiiTKOJAgDAimiiTGMGAQAADCCJAgDAikiiTGMGAQAADCCJAgDAikiiTKOJAgDAimiiTGMGAQAADCCJAgDAikiiTGMGAQAADCCJAgDAikiiTKOJAgDAimiiTGMGAQAADCCJAgDAikiiTKOJAgAA1ca%2Bffs0efJkbd26VbVr11afPn00btw4ef%2Bq6Xv44Yf17bffuo0VFxdr9OjRSkhI0JAhQ7R582a345o3b67Vq1dXWq00UQAAWFE1TaISExMVERGhtLQ0HTlyRI899pgaNmyohx56yG2/pUuXuv18/Phx9enTR7169XKNvfTSS7rvvvuqrFaaKAAArKiKmqjc3Fzl5eW5jQUFBclms132WLvdroyMDC1btkx169ZV3bp1NWzYMC1fvvyCJurXZs%2BerV69eql169am6q8ImigAAFBpUlJSNG/ePLexhIQEJSYmXvbY9PR0NWnSRP7%2B/q6xiIgIZWdnq6CgQH5%2BfmUe9/PPP%2BuDDz5QWlqa2/jatWu1ZMkSHThwQG3bttWUKVPUtGlTA6%2BqbDRRAABYURUlUQMHDlRMTIzbWFBQULmOdTgcqlevntvY%2BYYqPz//ok3UokWL9Pvf/14BAQGusZYtW%2Braa69VcnKySktLNXXqVA0fPlypqam65pprKvKSLoomCgAAVBqbzVaupbuLcTqdFdrf4XBo1apV%2Bte//uU2PmnSJLefp0yZog4dOui7777T7bffbri%2BX6KJAgDAiqrhheUBAQFyOBxuYw6HQ15eXm4p0y99/PHHat68uUJCQi55bj8/P/n7%2B%2BvQoUOVVm/1m0EAAFD1vL2r5mFCZGSkDhw4oKNHj7rG7Ha7WrVqpTp16pR5zMcff6zOnTu7jRUUFGjSpEluDdPRo0d19OjRyzZbFUETBQAAqoU2bdooKipKM2fOVEFBgbKysrRs2TLFx8dLknr37q1Nmza5HbNjxw5df/31bmN%2Bfn7aunWrpk6dKofDoWPHjmny5Mlq3bq1oqOjK61emigAAKyoGiZRkjRnzhzl5uaqc%2BfOevDBB3XPPfdo8ODBkqTs7GydPHnSbf%2B8vDw1bNjwgvPMnz9fTqdTsbGx6t69u86ePatFixZdcNNOM7gmCgAAVBuNGjXS4sWLy9y2c%2BfOC8a2b99e5r7XXXfdBbdaqGw0UQAAWFE1vLD8SkMTBQCAFdFEmcYMAgAAGEASBQCAFZFEmcYMAgAAGEASBQCAFZFEmUYTBQCAFdFEmcYMAgAAGEASBQCAFZFEmcYMAgAAGEASBQCAFZFEmUYTBQCAFdFEmcYMAgAAGEASBQCAFZFEmUYTBQCAFdFEmcYMAgAAGEASBQCAFZFEmcYMAgAAGEASBQCAFZFEmUYTBQCAFdFEmcYMAgAAGEASBQCAFZFEmcYMAgAAGEASBQCAFZFEmUYTBQCAFdFEmcYMAgAAGEASBQCAFZFEmcYMAgAAGEASBQCAFZFEmUYTBQCAFdFEmcYMAgAAGEASBQCAFZFEmcYMAgAAGEASBQCAFZFEmUYTBQCAFdFEmcYMAgAAGEASBQCAFZFEmcYMAgAAGEASBQCAFZFEmUYTBQCAFdFEmcYMAgAAGFChJmrfvn2KiopSdnZ2hZ8oOTlZQ4YMqfBxAACgCnh7V83DQiq0nNekSRPZ7faqqgUAAFjcvn37NHnyZG3dulW1a9dWnz59NG7cOHn/qkGbO3euFixYoBo13FuZDRs2qGHDhjpz5oxefvllffrppzpz5ow6dOigyZMnq0GDBpVWq7VaRgAAcE41TaISExMVHBystLQ0LVu2TGlpaVq%2BfHmZ%2B8bFxclut7s9GjZsKEmaNWuW0tPTlZKSonXr1snpdOrZZ581Xd8vVSiJ2rt3r3r27Km1a9fq0Ucf1eOPP67169fr22%2B/VWBgoCZNmqQuXbpIkj755BPNmDFDubm56tatm%2BtFnbd27Vq9/vrr%2BvnnnxUYGKgRI0Zo4MCBOnz4sPr06aNXXnlF3bt3lyQ9%2BeSTOnXqlF577bVy1Zmbm6u8vDy3saDmzWWrX78iLxe/tRtvdP8T1VZoqKcrwOU0ber%2BJ6qnXbs8%2BORVtPRW5ntwUJBsNttlj7Xb7crIyNCyZctUt25d1a1bV8OGDdPy5cv10EMPlbuG4uJivffee5oxY4YaN24sSRo7dqz69u2rQ4cOKTg4uGIv6iJMfTrvjTfe0CuvvKIbb7xRkyZN0rRp07R27VodP35cSUlJeuqppzRw4EBt3LhR48aNU3h4uKRzk/Tcc89p7ty5uv3227VlyxY9%2BuijCg0NVbt27TR%2B/HhNnz5dnTp10rZt2/T5559rzZo15a4rJSVF8%2BbNcxtLeOIJJT7xhJmXi9/K3/7m6QpwGUs8XQDK7YUXPF0BLqVbN09XUPnKfA9OSFBiYuJlj01PT1eTJk3k7%2B/vGouIiFB2drYKCgrk5%2Bfntv/OnTs1aNAgZWZmqnHjxnr22WfVpUsX5eTk6MSJE4qIiHDt27JlS/n6%2Bio9Pb16NFE9evTQTTfdJEmKjY3VBx98oNLSUn3xxReqXbu2HnjgAXl7e6tbt2669dZbVVhYKEl6//331b17d1dqdeutt%2BrOO%2B/UqlWr1K5dO/Xv31%2BrV6/W0qVLtW7dOo0fP75CL3jgwIGKiYlxGwvq10%2B6SByIauLGG881UIMHSxkZnq4GlzC83WZPl4DLaNr0XAM1ZYqUk%2BPpalAtVVESVeZ7cFBQuY51OByqV6%2Be29j5hio/P9%2BtiWrUqJFCQkI0btw42Ww2paSkaOTIkVq9erUcDockXXCuevXqKT8/v8Kv6WJMNVHXX3%2B96%2B%2B%2Bvr4qKSnR2bNndfDgQTVu3NjtIrBmzZopPT1dkpSTk6ONGzcqKirKtd3pdLqaKi8vL02dOlX9%2BvVTZGSk7r///grVZbPZLowNDXyiEB6SkSFt2eLpKnAJu%2Bp6ugKUV06Oh5eMYDllvgdXgNPpLNd%2BAwYM0IABA1w/Dxs2TGvWrNHq1avVtWvXCp3LKFNN1K%2BvlD%2BvqKhIJSUlbmOlpaWuv/v6%2Bio%2BPl4TJ0686LkPHjyoGjVq6ODBgzp16pRq165tplQAAPBL1fB2BAEBAa4U6TyHwyEvLy8FBARc9vgmTZooNzfXta/D4VCdOnVc248dO6bAwMBKq7dKZtBms%2BnQoUNuHWBWVpbr702bNtXOnTvdjjl48KCr8SoqKtILL7ygyZMnKzQ0VLNnz66KMgEAsK5q%2BOm8yMhIHThwQEePHnWN2e12tWrVyq0ZkqQFCxZo48aNbmNZWVkKCQlRSEiI/P39XStgkpSZmamioiJFRkaaqvGXqqSJ6tSpkwoKCvT3v/9dRUVFSktL09atW13b%2B/fvr82bN2vlypUqKirSjh07NGDAAK1bt06SNH/%2BfNlsNvXr10/PPfec3n33XbfjAQDA1adNmzaKiorSzJkzVVBQoKysLC1btkzx8fGSpN69e2vTpk2SzqVMkydP1u7du3XmzBktXbpUOTk5uvfee%2BXj46P7779fCxcu1IEDB5Sfn69XX31VvXr1uuBuAWZUyXfnNWrUSDNnzlRycrJmzJihrl27avDgwdryv%2BtcWrZsqZkzZ2rOnDmaPHmybDabHnnkEfXp00eZmZlavny53nvvPUnnUquHH35Yzz//vN5//33VrFmzKkoGAMBaquFyniTNmTNHEydOVOfOneXn56dBgwZp8ODBkqTs7GydPHlSkjRu3DhJ566FcjgcatWqld588001atRIkjRmzBgVFhYqLi5OxcXF6tGjhyZNmlSptXo5q/qqq%2BrCy8vTFeByoqOlzZuldu24sLya69bVGv/buJKFhkpLlkjDh3NheXX32WceeuLp06vmvJV8Q8vqrEqSKAAAUM1V0yTqSkITBQCAFdFEmcYMAgAAGEASBQCAFZFEmUYTBQCAFdFEmcYMAgAAGEASBQCAFZFEmcYMAgAAGEASBQCAFZFEmUYTBQCAFdFEmcYMAgAAGEASBQCAFZFEmcYMAgAAGEASBQCAFZFEmUYTBQCAFdFEmcYMAgAAGEASBQCAFZFEmcYMAgAAGEASBQCAFZFEmUYTBQCAFdFEmcYMAgAAGEASBQCAFZFEmcYMAgAAGEASBQCAFZFEmUYTBQCAFdFEmcYMAgAAGEASBQCAFZFEmcYMAgAAGEASBQCAFZFEmUYTBQCAFdFEmcYMAgAAGEASBQCAFZFEmcYMAgAAGEASBQCAFZFEmUYTBQCAFdFEmcYMAgAAGEASBQCAFZFEmcYMAgAAGEASBQCAFZFEmUYTBQCAFdFEmcYMAgAAGEASBQCAFZFEmcYMAgCAamPfvn0aMWKEOnTooB49eujPf/6zSktLy9z3nXfeUWxsrKKjoxUXF6e0tDTXtmeeeUZt2rRRVFSU63HrrbdWaq0kUQAAWFE1TaISExMVERGhtLQ0HTlyRI899pgaNmyohx56yG2/devWaebMmXr99dd100036YMPPtDYsWP1r3/9SyEhIZKkxx9/XImJiVVWa/WcQQAAULW8vavkkZubq/T0dLdHbm5uuUqy2%2B3KyMjQU089pbp166pZs2YaNmyYUlJSLtj39OnTevLJJ3XLLbeoZs2aGjBggOrUqaPvv/%2B%2BsmfqokiiAABApUlJSdG8efPcxhISEsqVCKWnp6tJkyby9/d3jUVERCg7O1sFBQXy8/NzjcfFxbkde/z4cRUWFio4ONg19vXXX%2Bvjjz/Wzz//rJYtW2rSpEmKjIw0%2BtIuQBMFAIAVVdFy3sCBAxUTE%2BM2FhQUVK5jHQ6H6tWr5zZ2vqHKz893a6J%2Byel06vnnn1fbtm112223SZJCQkLk7e2tJ554QnXq1NG8efP08MMPa926dWrQoEFFX1aZaKIAAEClsdlsstlsho93Op0V2v/s2bN65pln9OOPP2rFihWu8dGjR7vtN378eKWmpiotLU0DBgwwXN8v0UQBAGBF1fDC8oCAADkcDrcxh8MhLy8vBQQEXLD/6dOnNWrUKJ06dUpvv/32JRMmHx8fNW7cuNzXZ5VH9ZtBAABQ9arownIzIiMjdeDAAR09etQ1Zrfb1apVK9WpU8dtX6fTqaSkJNWoUUNvvvmmWwPldDo1ffp0ZWRkuMaKioqUk5Pj%2BuReZaCJAgAA1cL5%2BzrNnDlTBQUFysrK0rJlyxQfHy9J6t27tzZt2iRJ%2BvDDD/Xjjz/qL3/5i2rVquV2Hi8vL%2B3du1eTJ0/WoUOHVFhYqOTkZNWsWVN33HFHpdXLch4AAFZUDZfzJGnOnDmaOHGiOnfuLD8/Pw0aNEiDBw%2BWJGVnZ%2BvkyZOSpJUrVys/AHIAACAASURBVGrfvn2uC8nPi4uL09SpU/Xyyy9rxowZuu%2B%2B%2B1RQUKCbbrpJy5cvV%2B3atSutVpooAACsqJo2UY0aNdLixYvL3LZz507X35cvX37J89SvX1/Tp0%2Bv1Np%2BrXrOIAAAQDVHEgUAgBVV0yTqSsIMAgAAGEASBQCAFZFEmUYTBQCAFdFEmcYMAgAAGEASBQCAFZFEmcYMAgAAGEASBQCAFZFEmUYTBQCAFdFEmcYMAgAAGEASBQCAFZFEmcYMAgAAGEASBQCAFZFEmUYTBQCAFdFEmcYMAgAAGEASBQCAFZFEmcYMAgAAGEASBQCAFZFEmUYTBQCAFdFEmcYMAgAAGEASBQCAFZFEmcYMAgAAGEASBQCAFZFEmUYTBQCAFdFEmcYMAgAAGEASBQCAFZFEmcYMAgAAGEASBQCAFZFEmUYTBQCAFdFEmcYMAgAAGEASBQCAFZFEmcYMAgAAGEASBQCAFZFEmUYTBQCAFdFEmcYMAgAAGEASBQCAFZFEmcYMAgAAGEASBQCAFZFEmUYTBQCAFdFEmcYMAgAAGEASBQCAFZFEmcYMAgBgRd7eVfMwad%2B%2BfRoxYoQ6dOigHj166M9//rNKS0vL3HfFihWKjY1Vu3btFB8fr%2B3bt7u2nTlzRi%2B88IK6du2qDh06aMyYMcrPzzdd3y/RRAEAgGojMTFRwcHBSktL07Jly5SWlqbly5dfsN8nn3yiuXPn6pVXXtFXX32lHj16aOTIkTp58qQkadasWUpPT1dKSorWrVsnp9OpZ599tlJrpYkCAMCKqiiJys3NVXp6utsjNze3XCXZ7XZlZGToqaeeUt26ddWsWTMNGzZMKSkpF%2BybkpKi%2B%2B67T23btpWvr6%2BGDx8uSdqwYYOKi4v13nvvadSoUWrcuLHq16%2BvsWPH6tNPP9WhQ4cqbQotc01Ut65OT5eAywgNlZZIGt5us3bV9XQ1uJTPPvfydAm4nBPRkjZryeZ20pYtnq4Gl3R1vT%2BlpKRo3rx5bmMJCQlKTEy87LHp6elq0qSJ/P39XWMRERHKzs5WQUGB/Pz83Pbt06eP62dvb2%2BFh4fLbrcrPDxcJ06cUEREhGt7y5Yt5evrq/T0dAUHB5t5iS6WaaIAAMD/capq/jE0cOBAxcTEuI0FBQWV61iHw6F69eq5jZ1vqPLz892aKIfD4dZsnd83Pz9fDodDki44V7169Sr1uiiaKAAALOgi12qbZrPZZLPZDB/vdJY/mbvcvhU5lxFcEwUAAKqFgIAAV4p0nsPhkJeXlwICAtzGGzRoUOa%2BAQEBrn1/vf3YsWMKDAystHppogAAsKDS0qp5mBEZGakDBw7o6NGjrjG73a5WrVqpTp06F%2Bybnp7u%2BrmkpEQ//PCD2rZtq5CQEPn7%2B7ttz8zMVFFRkSIjI80V%2BQs0UQAAoFpo06aNoqKiNHPmTBUUFCgrK0vLli1TfHy8JKl3797atGmTJCk%2BPl4ffPCBvv/%2Be506dUqvvfaarrnmGnXv3l0%2BPj66//77tXDhQh04cED5%2Bfl69dVX1atXLzVs2LDS6uWaKAAALKiqrokya86cOZo4caI6d%2B4sPz8/DRo0SIMHD5YkZWdnu%2B4D1bVrVz355JMaO3asjhw5oqioKC1atEi%2Bvr6SpDFjxqiwsFBxcXEqLi5Wjx49NGnSpEqt1ctZ1VddVRPdunm6AlxOaKi0ZIk0fLi0a5enq8GlcIuDK0B0tLR5s9SOWxxUex56Gz51qmrOe%2B21VXPe6ojlPAAAAANYzgMAwIKq63LelYQkCgAAwACSKAAALIgkyjyaKAAALIgmyjyW8wAAAAwgiQIAwIJIoswjiQIAADCAJAoAAAsiiTKPJgoAAAuiiTKP5TwAAAADSKIAALAgkijzSKIAAAAMIIkCAMCCSKLMo4kCAMCCaKLMYzkPAADAAJIoAAAsiCTKPJIoAAAAA0iiAACwIJIo82iiAACwIJoo81jOAwAAMIAkCgAACyKJMo8kCgAAwACSKAAALIgkyjyaKAAALIgmyjyW8wAAAAwgiQIAwIJIoswjiQIAADCAJAoAAAsiiTKPJgoAAAuiiTKP5TwAAAADSKIAALAgkijzaKIAALAgmijzWM4DAAAwgCQKAAALIokyjyQKAADAAJIoAAAsiCTKPJooAAAsiCbKPJbzAAAADCCJAgDAgkiizCOJAgAAMIAkCgAACyKJMo8kCgAACyotrZpHVXI4HBo7dqw6deqkLl266LnnntPp06cvuv9HH32ku%2B%2B%2BW9HR0YqNjdW7777r2jZ37lyFh4crKirK7XH48OFy10MTBQAArggTJ07UqVOnlJqaqpUrVyorK0vJycll7rtt2zY99dRTGjNmjL799lv98Y9/1JQpU7Rp0ybXPnFxcbLb7W6Phg0blrselvMAALCgqkqNcnNzlZeX5zYWFBQkm81m6ryHDx9WWlqa/vnPfyogIECSNGrUKD3xxBN6%2BumnVbNmTbf9HQ6HHnvsMd1xxx2SpG7duiksLEybNm3SrbfeaqqW82iiAABApUlJSdG8efPcxhISEpSYmGjqvDt27JCPj49at27tGouIiNDJkye1e/dut3FJ6tq1q7p27er6ubi4WHl5eQoODnaN7dy5U4MGDVJmZqYaN26sZ599Vl26dCl3TTRRAABYUFUlUQMHDlRMTIzbWFBQkOnzOhwO%2Bfn5ycvLyzXm7%2B8vScrPz7/s8cnJyapdu7b69OkjSWrUqJFCQkI0btw42Ww2paSkaOTIkVq9erVatGhRrppoogAAsKCqaqJsNpvhpbtVq1ZpwoQJZW5LSkqS0%2Bms8DmdTqeSk5OVmpqqFStWqFatWpKkAQMGaMCAAa79hg0bpjVr1mj16tUaO3Zsuc5NEwUAAKqFuLg4xcXFlbntyy%2B/VEFBgUpKSuTj4yPpXDolSYGBgWUeU1paqmeffVbbtm3TO%2B%2B8o5CQkEs%2Bf5MmTZSbm1vuevl0HgAAFnSl3eIgPDxcTqdTGRkZrjG73a569eqpefPmZR4zbdo07dq1q8wGasGCBdq4caPbWFZW1mUbrV%2BiiQIAANVeQECAYmNjNXv2bB09elQHDx7U/Pnz1b9/f9WocW5hbejQoVq7dq0k6bvvvtPq1au1aNEi1a9f/4LzORwOTZ48Wbt379aZM2e0dOlS5eTk6N577y13TSznAQBgQVfiHcunTJmiF198UT179lTNmjV11113KSkpybV9z549OnbsmCRp5cqVOnHihHr06OF2jvbt22vp0qUaN26cpHPXQjkcDrVq1UpvvvmmGjVqVO56vJxGrtK6AnXr5ukKcDmhodKSJdLw4dKuXZ6uBpfy2edel98JnhUdLW3eLLVrJ23Z4ulqcCkeehv%2B17%2Bq5rx33lk1562OWM4DAAAwgOU8AAAs6EpczqtuSKIAAAAMIIkCAMCCSKLMo4kCAMCCaKLMYzkPAADAAJIoAAAsiCTKPJIoAAAAA0iiAACwIJIo82iiAACwIJoo81jOAwAAMIAkCgAACyKJMo8kCgAAwACSKAAALIgkyjyaKAAALIgmyjyW8wAAAAwgiQIAwIJIoswjiQIAADCAJAoAAAsiiTKPJgoAAAuiiTKP5TwAAAADSKIAALAgkijzSKIAAAAMIIkCAMCCSKLMo4kCAMCCaKLMYzkPAADAAJIoAAAsiCTKPJooAAAsiCbKPJbzAAAADCCJAgDAgkiizCOJAgAAMIAkCgAACyKJMo8mCgAAC6KJMo/lPAAAAANIogAAsCCSKPNIogAAAAwgiQIAwIJIosyjiQIAwIJoosxjOQ8AAMAAkigAACyIJMq8Skui9u7dq9atWysrK6uyTgkAAFBtsZwHAIAFlZZWzaMqORwOjR07Vp06dVKXLl303HPP6fTp02Xu%2B/777%2BvGG29UVFSU22Pbtm3/e/2lmjVrlnr27Kn27dvrkUce0Z49eypUD00UAAAWdCU2URMnTtSpU6eUmpqqlStXKisrS8nJyRfdv3379rLb7W6Pm266SZL09ttv68MPP9SiRYu0YcMGNWvWTKNHj5bT6Sx3PYaaqD179ujhhx9WdHS0evTooRUrVlywz7FjxzRhwgR16dJF0dHRGjFihPbu3SvpXPf3pz/9SV26dNHNN9%2Bsu%2B%2B%2BW//5z39cx27cuFEDBw5UdHS0fve732n%2B/PlGygQAAFeJw4cPKy0tTUlJSQoICFBwcLBGjRqllStX6uzZsxU%2BX0pKioYNG6aWLVvKz89PSUlJysrK0tatW8t9DkMXlickJOi2227T/Pnz9dNPP%2BmBBx6Qr6%2Bv2z7PP/%2B8CgoKtHr1al1zzTX64x//qLFjx%2Bq9997TmjVr9NVXX2n16tXy9/fXBx98oKefflqfffaZjhw5olGjRunFF19Uv3799OOPP2r48OFq2rSp%2BvXrV676cnNzlZeX5zbWsGGQGjSwGXm5%2BI00ber%2BJ6qxE9GergCXc%2BON7n%2BietqyxWNPXVWpUVnvwUFBQbLZzL0H79ixQz4%2BPmrdurVrLCIiQidPntTu3bvdxs87cOCAHnroIW3fvl316tXTmDFjFBcXp9OnT%2BvHH39UmzZtXPv6%2BfnphhtukN1u180331yumircRP3www/auXOnli9frmuvvVbh4eGaN2%2BegoODXfs4HA6tX79eKSkpCggIkCSNGTNGffv21Z49e3T8%2BHHVqFFD1157rXx8fPT73/9e9957r7y9vZWamqrQ0FDdc889kqTWrVtr0KBBWrVqVbmbqJSUFM2bN89tbNSoBD3xRGJFXy484IUXPF0BLm%2BzpwtAef3tb56uAJfi5eXpCipdWe/BCQkJSkw09x7scDjk5%2Bcnr1/Mmb%2B/vyQpPz//gv0DAgLUrFkzPfnkk2rVqpXWr1%2BvCRMmyGazqUWLFnI6na7jf3m%2Bss51MRVuonJycuTn56f69eu7xjp16uRaqpOk/fv3y%2Bl0qmXLlq6xpv%2BLF/bt26e%2Bfftq1apV6tq1qzp37qzu3burb9%2B%2B8vb2Vk5Ojux2u6KiolzHOp1ONW/evNw1Dhw4UDExMW5jL7wQJLu9oq8Wv6WmTc81UFOmSDk5nq4Gl7JkcztPl4DLufHGcw3U4MFSRoanq0E1VFVJVFnvwUFBQeU6dtWqVZowYUKZ25KSkip0vVL37t3VvXt31899%2B/bV%2BvXr9f777%2Bupp56SpAqdrywVbqK8vb1VepmZLyoquug2Ly8v1a9fX%2B%2B%2B%2B642b96sDRs2aM6cOXrnnXf09ttvy9fXV926ddPChQsrWpqLzWa7IDY8fPjcA9VfTo60a5enq8AleXAJAhWUkcF/L5Spqpqost6DyysuLk5xcXFlbvvyyy9VUFCgkpIS%2Bfj4SDqXTklSYGBguc7fpEkTbd%2B%2BXfXr15e3t7fr%2BPMcDke5zyUZuLA8JCREhYWFys3NdY2lpaVp//79bvtI0u7du11j5//etGlTnTlzRqdOnVK7du00btw4paamKjMzUxkZGWratKkyMzPdusO8vLxLNmYAAODqFh4eLqfTqYxfJKt2u1316tUrc7XqnXfe0dq1a93GsrKyFBISolq1aik0NFTp6emubcePH1dOTo7r03vlUeEmKjw8XG3atNHs2bNVWFiozMxMPffcc2432QwMDFSXLl30l7/8RQ6HQ8eOHdPs2bPVoUMHNW7cWC%2B//LKefvppHT16VE6nU%2Bnp6SotLdV1112nvn37yuFwaMGCBTp9%2BrTrk4DLly%2BvaKkAAOAirrRbHAQEBCg2NlazZ8/W0aNHdfDgQc2fP1/9%2B/dXjRrnFtaGDh3qapyKior00ksvyW636%2BzZs0pNTdXnn3%2BuQYMGSZLi4%2BO1YsUKZWVlqaCgQMnJyQoPD3e7nOhyDH06b%2BHChZowYYI6deqkwMBAjRo1Sr/73e/c9pkxY4YmT56sO%2B%2B8U97e3rr99ts1ffp0SdK4ceP04osvKjY2VsXFxbrhhhs0c%2BZM10XoCxYs0CuvvKKFCxcqICBAcXFxevjhh42UCgAArhJTpkzRiy%2B%2BqJ49e6pmzZq66667lJSU5Nq%2BZ88eHTt2TJL04IMPqrCwUE888YTy8vJ0/fXXa/78%2BYqMjJQkDRo0SHl5eRoyZIgKCwvVoUOHCy6Ivxwvp9mrqq4Q3bp5ugJcTmiotGSJNHw410RVd599fvV9ouiqEx0tbd4stWvHNVHVnYfehp99tmrO%2B7%2B8xBL4AmIAACyILyA2j699AQAAMIAkCgAACyKJMo8kCgAAwACSKAAALIgkyjyaKAAALIgmyjyW8wAAAAwgiQIAwIJIoswjiQIAADCAJAoAAAsiiTKPJgoAAAuiiTKP5TwAAAADSKIAALAgkijzSKIAAAAMIIkCAMCCSKLMo4kCAMCCaKLMYzkPAADAAJIoAAAsiCTKPJooAAAsiCbKPJbzAAAADCCJAgDAgkiizCOJAgAAMIAkCgAACyKJMo8mCgAAC6KJMo/lPAAAAANIogAAsCCSKPNIogAAAAwgiQIAwIJIosyjiQIAwIJoosxjOQ8AAMAAkigAACyIJMo8kigAAAADSKIAALAgkijzaKIAALAgmijzWM4DAAAwgCQKAAALIokyjyQKAADAAJIoAAAsiCTKPJooAAAsiCbKPJbzAAAADCCJAgDAgkiizCOJAgAAMIAkCgAAC7oSkyiHw6FJkybpv//9r7y9vdWtWzdNnDhRvr6%2BF%2Bz7/PPPa9WqVW5jJSUliouL0/Tp0/XMM89o9erV8vHxcW2vVauWNm3aVO56SKIAALCg0tKqeVSliRMn6tSpU0pNTdXKlSuVlZWl5OTkMvedOnWq7Ha767Flyxa1aNFCvXv3du3z%2BOOPu%2B1TkQZKookCAABXgMOHDystLU1JSUkKCAhQcHCwRo0apZUrV%2Brs2bOXPX758uW67rrr1K1bt0qrieU8AAAsqKpSo9zcXOXl5bmNBQUFyWazmTrvjh075OPjo9atW7vGIiIidPLkSe3evdtt/NeOHz%2BuhQsX6m9/%2B5vb%2BNdff62PP/5YP//8s1q2bKlJkyYpMjKy3DXRRAEAgEqTkpKiefPmuY0lJCQoMTHR1HkdDof8/Pzk5eXlGvP395ck5efnX/LYt956S%2B3bt1doaKhrLCQkRN7e3nriiSdUp04dzZs3Tw8//LDWrVunBg0alKsmmigAACyoqpKogQMHKiYmxm0sKCioXMeuWrVKEyZMKHNbUlKSnE5nhespKSnR22%2B/rZkzZ7qNjx492u3n8ePHKzU1VWlpaRowYEC5zk0TBQCABVVVE2Wz2Qwv3cXFxSkuLq7MbV9%2B%2BaUKCgpUUlLi%2BkSdw%2BGQJAUGBl70nN9%2B%2B62Kiop06623XvK5fXx81LhxY%2BXm5pa7Xi4sBwAA1V54eLicTqcyMjJcY3a7XfXq1VPz5s0vetzHH3%2Bsjh07qkaN/8uNnE6npk%2Bf7nauoqIi5eTkKCQkpNw10UQBAGBBV9otDgICAhQbG6vZs2fr6NGjOnjwoObPn6/%2B/fu7GqShQ4dq7dq1bsft2LFD119/vduYl5eX9u7dq8mTJ%2BvQoUMqLCxUcnKyatasqTvuuKPcNdFEAQCAK8KUKVNUt25d9ezZU3fffbduuukmJSUlubbv2bNHx44dczsmLy9PDRs2vOBcL7/8spo1a6b77rtPnTp10o4dO7R8%2BXLVrl273PVwTRQAABZ0Jd6xvG7dunr11Vcvuv2TTz65YGzdunVl7lu/fn1Nnz7dVD00UQAAWNCV2ERVNyznAQAAGEASBQCABZFEmUcSBQAAYABJFAAAFkQSZR5NFAAAFkQTZR7LeQAAAAaQRAEAYEEkUebRRAEAYEE0UeaxnAcAAGAASRQAABZEEmUeSRQAAIABJFEAAFgQSZR5NFEAAFgQTZR5LOcBAAAYQBIFAIAFkUSZRxIFAABgAEkUAAAWRBJlHk0UAAAWRBNlHst5AAAABpBEAQBgQSRR5pFEAQAAGEASBQCABZFEmUcTBQCABdFEmcdyHgAAgAEkUQAAWBBJlHkkUQAAAAaQRAEAYEEkUebRRAEAYEE0UeaxnAcAAGAASRQAABZEEmUeSRQAAIABJFEAAFgQSZR5NFEAAFgQTZR5LOcBAAAYQBIFAIAFkUSZRxIFAABgAEkUAAAWRBJlHk0UAAAWRBNlHst5AAAABpBEAQBgQSRR5pFEAQAAGEATBQCABZWWVs2jqtntdvXq1Uv333//ZfddsWKFYmNj1a5dO8XHx2v79u2ubWfOnNELL7ygrl27qkOHDhozZozy8/MrVAtNFAAAFnQlNlGrV69WYmKibrjhhsvu%2B8knn2ju3Ll65ZVX9NVXX6lHjx4aOXKkTp48KUmaNWuW0tPTlZKSonXr1snpdOrZZ5%2BtUD00UQAA4Ipw5swZpaSkqG3btpfdNyUlRffdd5/atm0rX19fDR8%2BXJK0YcMGFRcX67333tOoUaPUuHFj1a9fX2PHjtWnn36qQ4cOlbseLiwHAMCCqio1ys3NVV5enttYUFCQbDab6XMPGDCg3Pump6erT58%2Brp%2B9vb0VHh4uu92u8PBwnThxQhEREa7tLVu2lK%2Bvr9LT0xUcHFyu57BME/XZZ56uAJeTm5uruXNTNG3awEr5ZUNVcnq6AFxGbm6uUubO1cB//5vfJ5TJWUW/xnPnpmjevHluYwkJCUpMTKyaJ7wIh8Mhf39/tzF/f3/l5%2BfL4XBIkurVq%2Be2vV69ehW6LsoyTRSqv7y8PM2bN08xMTH8Tx8wid8neMrAgQMVExPjNhYUFFSuY1etWqUJEyaUuW369Om67777KlSL8zKd4uW2Xw5NFAAAqDQ2m81w4x4XF6e4uLhKqaNBgwauxOk8h8Oh0NBQBQQEuH6uU6eOa/uxY8cUGBhY7ufgwnIAAHDViYyMVHp6uuvnkpIS/fDDD2rbtq1CQkLk7%2B/vtj0zM1NFRUWKjIws93PQRAEAgKtC7969tWnTJklSfHy8PvjgA33//fc6deqUXnvtNV1zzTXq3r27fHx8dP/992vhwoU6cOCA8vPz9eqrr6pXr15q2LBhuZ%2BP5TxUG0FBQUpISCj32jmAi%2BP3CVej2NhY7d%2B/XyUlJSotLVVUVJQk6d///reaNGmi7Oxs132gunbtqieffFJjx47VkSNHFBUVpUWLFsnX11eSNGbMGBUWFiouLk7FxcXq0aOHJk2aVKF6vJxmr6oCAACwIJbzAAAADKCJAgAAMIAmCgAAwACaKAAAAANoogAAAAygiQIAADCAJgoAAMAAmigAAAADaKIAAAAMoIkCAAAwgCYK1VZJSYmnSwAA4KJoouBRo0eP1uHDhy8Y37Ztm%2B69914PVARcudasWaNHH31U99xzjySpqKhIb7zxhviKVKBq0ETBo2rVqqU%2BffroH//4hyTp9OnTmj59uoYOHapevXp5uDrgyrFgwQK98sorio6O1u7duyVJx48f1wcffKC//OUvHq4OuDp5OfknCjxs06ZNmjZtmmrXrq2DBw%2BqVatWeu655xQSEuLp0oArRrdu3bRkyRKFhoaqbdu22rp1qyRpz549evDBB7VhwwYPVwhcfUii4HE333yzYmNjZbfblZ%2Bfr379%2BtFAARV04sQJhYaGXjBus9l09OhRD1QEXP1oouBRn332mfr27auvvvpKH374oRYsWKC5c%2Bdq6NChriUJAJcXFham1atXXzC%2BdOlStWzZ0gMVAVc/lvPgUR06dND48ePVv39/11hRUZHmz5%2BvFStWaMuWLR6sDrhybNy4UaNHj1ZYWJi2bdumbt26KTMzU8eOHdOCBQt02223ebpE4KpDEwWPOnLkiAIDA8vctmvXrjKXJwCU7eDBg1qzZo1ycnLk6%2Burpk2bqm/fvqpfv76nSwOuSjRR8Ljvv/9eq1at0qFDh7RgwQKVlpbqo48%2BUu/evT1dGnBFKSkpkY%2BPjySptLRUGRkZaty4sRo0aODhyoCrE9dEwaPeffddPfzwwyoqKtJ//vMfSVJeXp6mTZumFStWeLg64MrxxRdfqFu3bpKk4uJiDR48WA888IBiYmL4ZB5QRWii4FGLFy/W4sWL9fLLL8vLy0uSFBwcrNdff11vvfWWh6sDrhzJycl68sknJZ276ebhw4f11VdfadGiRZo7d66HqwOuTjRR8KjDhw%2BrXbt2kuRqoiSpVatWys3N9VRZwBXn559/dt3l/9NPP1Xfvn117bXXqn379vrpp588WxxwlaKJgkfdcMMN%2Bvrrry8YT01N1XXXXeeBioArU506dXT8%2BHGdPn1aX375pXr06CFJys/PV40aNTxcHXB14jcLHjVixAiNGjVKMTExKi4u1tSpU7Vz505t2bJFM2fO9HR5wBXjrrvu0tChQ%2BXj46PmzZvr5ptv1unTp/Xiiy%2Bqc%2BfOni4PuCrx6Tx4nN1u1z//%2BU/Xx7JDQkI0YMAAtWjRwtOlAVcMp9Op1NRUnThxQn379pW/v7%2BKioo0depUjR8/XnXr1vV0icBVhyYKAK4i%2B/bt0759%2B%2BTl5aWmTZsqODjY0yUBVy2W8/CbGzJkiNtF5JfCbQ6A8tm3b5%2BSkpJkt9t1/t/GXl5e6tixo2bPni1/f38PVwhcfbiwHL%2B5m2%2B%2BWW3btlXbtm0VFhamHTt2qHbt2oqIiFB4eLhq1qypHTt2KDo62tOlAleMl156SY0bN1ZqaqrsdrtrmbxWrVqaNm2ap8sDrkos58GjnnzySd1zzz3q2rWr23ha2v9v7/5dUm3jOI5/dIjKWoqESomCwJYGCSEpoh%2B29Ae0tDVGS0JLU0vQUkZLm4EtLU2NFYXhH5CDEvS7BKEIExdLPcPDc57HPAcON8/TdbzP%2B7Xd13UPn0X46H1/L490eHioSCRiKBlQX/x%2Bv%2BLxuFwuV9V6LpfTzMyMzs/PDSUD7ItfomDU6empgsFgzfrY2JjOzs4MJALqU3Nzs97f33%2B4Vy6XvzgN8GegRMEot9ut/f39mvWDgwN1dHQYHufpjAAAAoFJREFUSATUp2AwqHA4rGQyqUKhoEKhoGQyqXA4rKGhIdPxAFvicR6MOjk50dLSklwulzo7O1UqlZTNZpXP57WxsaFQKGQ6IlAX3t7etLKyoqOjo%2B9rlUpFIyMjWl9fV3t7u8F0gD1RomBcPp9XPB5XNptVsViU2%2B1WMBhkNBuwIJfLKZPJqFgsyuv1qq2tzXQkwLYoUfhtFIvFmrWGhgYDSYD6cHNz88v39vb2/o9JgD8TJQpGJRIJra2t6fb2VqVSqWY/lUoZSAXUB5/PJ4fDUXUuVKVSqTqH7e9rPkvAf48SBaNCoZACgYCmp6fV1NRUsx8IBAykAurD09NT1XUikZDf71djY6MkKZPJ6OrqSqOjo%2Bru7jYREbA1TiyHUc/Pz1pdXeVf5gEL/l2MYrGYtra2tL29reHhYUlSOp3W5uamPj4%2BNDc3ZyomYFsccQCjAoGA0um06RhA3YtGo9rb2/teoCRpcnJSsVhM0WjUYDLAvvj6D6Ompqa0vLys8fFxeTweOZ3VvX52dtZQMqC%2BvL6%2Bqq%2Bvr2bd4/Ho5eXFQCLA/ngnCkZNTEz8dM/hcOj4%2BPgL0wD1a35%2BXv39/VpYWFBra6ukvx6XRyIRPT4%2Band312xAwIYoUfhyd3d36unpkSRdX19XTRJ9xlg28GseHh60uLioy8tLtbS0qFwuq1AoaGBgQDs7O3K73aYjArZDicKXGxwc1MXFhaR/RrQ/YywbsCaVSun%2B/l5Op1Ner1c%2Bn890JMC2KFH4cplMRl1dXZJqR7Q/YywbAPC7okQBAABYwBEHAAAAFlCiAAAALKBEAQAAWECJAgAAsIASBQAAYAElCgAAwAJKFAAAgAXfAFfG%2BSgUhnIXAAAAAElFTkSuQmCC\" class=\"center-img\">\n",
              "</div>\n",
              "    <div class=\"row headerrow highlight\">\n",
              "        <h1>Sample</h1>\n",
              "    </div>\n",
              "    <div class=\"row variablerow\">\n",
              "    <div class=\"col-md-12\" style=\"overflow:scroll; width: 100%%; overflow-y: hidden;\">\n",
              "        <table border=\"1\" class=\"dataframe sample\">\n",
              "  <thead>\n",
              "    <tr style=\"text-align: right;\">\n",
              "      <th></th>\n",
              "      <th>date</th>\n",
              "      <th>close</th>\n",
              "      <th>diff</th>\n",
              "      <th>open</th>\n",
              "      <th>high</th>\n",
              "      <th>low</th>\n",
              "      <th>volume</th>\n",
              "    </tr>\n",
              "  </thead>\n",
              "  <tbody>\n",
              "    <tr>\n",
              "      <th>199</th>\n",
              "      <td>2019-03-22</td>\n",
              "      <td>46550.0</td>\n",
              "      <td>700</td>\n",
              "      <td>46,850</td>\n",
              "      <td>47,000</td>\n",
              "      <td>46,250</td>\n",
              "      <td>12,535,911</td>\n",
              "    </tr>\n",
              "    <tr>\n",
              "      <th>198</th>\n",
              "      <td>2019-03-25</td>\n",
              "      <td>45500.0</td>\n",
              "      <td>1,050</td>\n",
              "      <td>45,300</td>\n",
              "      <td>45,650</td>\n",
              "      <td>44,800</td>\n",
              "      <td>8,699,728</td>\n",
              "    </tr>\n",
              "    <tr>\n",
              "      <th>197</th>\n",
              "      <td>2019-03-26</td>\n",
              "      <td>45250.0</td>\n",
              "      <td>250</td>\n",
              "      <td>45,500</td>\n",
              "      <td>45,700</td>\n",
              "      <td>44,900</td>\n",
              "      <td>9,729,811</td>\n",
              "    </tr>\n",
              "    <tr>\n",
              "      <th>196</th>\n",
              "      <td>2019-03-27</td>\n",
              "      <td>45350.0</td>\n",
              "      <td>100</td>\n",
              "      <td>44,750</td>\n",
              "      <td>45,600</td>\n",
              "      <td>44,250</td>\n",
              "      <td>9,568,081</td>\n",
              "    </tr>\n",
              "    <tr>\n",
              "      <th>195</th>\n",
              "      <td>2019-03-28</td>\n",
              "      <td>44850.0</td>\n",
              "      <td>500</td>\n",
              "      <td>44,950</td>\n",
              "      <td>45,200</td>\n",
              "      <td>44,300</td>\n",
              "      <td>6,821,306</td>\n",
              "    </tr>\n",
              "  </tbody>\n",
              "</table>\n",
              "    </div>\n",
              "</div>\n",
              "</div>"
            ],
            "text/plain": [
              "<pandas_profiling.ProfileReport at 0x7f0d30f521d0>"
            ]
          },
          "metadata": {
            "tags": []
          },
          "execution_count": 112
        }
      ]
    }
  ]
}